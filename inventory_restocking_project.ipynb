{
  "cells": [
    {
      "cell_type": "markdown",
      "metadata": {
        "id": "view-in-github",
        "colab_type": "text"
      },
      "source": [
        "<a href=\"https://colab.research.google.com/github/joeldmott/inventory_project/blob/main/inventory_restocking_project.ipynb\" target=\"_parent\"><img src=\"https://colab.research.google.com/assets/colab-badge.svg\" alt=\"Open In Colab\"/></a>"
      ]
    },
    {
      "cell_type": "code",
      "execution_count": 1,
      "metadata": {
        "id": "CC4jPqddzEY4"
      },
      "outputs": [],
      "source": [
        "#importing packages to read in data from Kaggle host site\n",
        "import json\n",
        "import os\n",
        "from pathlib import Path\n",
        "from google.colab import userdata\n",
        "\n",
        "# api key for importing Kaggle and downloading the datasets\n",
        "os.environ[\"KAGGLE_KEY\"] = userdata.get('KAGGLE_KEY')\n",
        "os.environ[\"KAGGLE_USERNAME\"] = userdata.get('KAGGLE_USERNAME')\n",
        "\n",
        "# api key for the json object below\n",
        "api_key = userdata.get('API_KEY')\n",
        "\n",
        "# using pathlib Path\n",
        "kaggle_path = Path('/root/.kaggle')\n",
        "os.makedirs(kaggle_path, exist_ok=True)\n",
        "\n",
        "# opening file and dumps python dict to json object\n",
        "with open (kaggle_path/'kaggle.json', 'w') as handl:\n",
        "    json.dump(api_key,handl)\n",
        "\n",
        "os.chmod(kaggle_path/'kaggle.json', 600)"
      ]
    },
    {
      "cell_type": "code",
      "execution_count": 2,
      "metadata": {
        "colab": {
          "base_uri": "https://localhost:8080/"
        },
        "id": "akVHqq4j7J7R",
        "outputId": "2826e25a-24a0-46b5-93c1-ea1639d5834e"
      },
      "outputs": [
        {
          "output_type": "stream",
          "name": "stdout",
          "text": [
            "Dataset URL: https://www.kaggle.com/datasets/joelmott/liquor-inventory-dataset\n",
            "License(s): MIT\n",
            "Downloading liquor-inventory-dataset.zip to /content\n",
            " 85% 57.0M/67.1M [00:00<00:00, 98.3MB/s]\n",
            "100% 67.1M/67.1M [00:00<00:00, 103MB/s] \n"
          ]
        }
      ],
      "source": [
        "import kaggle\n",
        "! kaggle datasets download joelmott/liquor-inventory-dataset"
      ]
    },
    {
      "cell_type": "code",
      "execution_count": 3,
      "metadata": {
        "colab": {
          "base_uri": "https://localhost:8080/"
        },
        "id": "qWOWhybu747k",
        "outputId": "aa04af87-1f15-4181-980f-8e505d7e5497"
      },
      "outputs": [
        {
          "output_type": "stream",
          "name": "stdout",
          "text": [
            "Archive:  liquor-inventory-dataset.zip\n",
            "  inflating: liquor sales dataset.csv  \n"
          ]
        }
      ],
      "source": [
        "!unzip liquor-inventory-dataset.zip"
      ]
    },
    {
      "cell_type": "code",
      "execution_count": 4,
      "metadata": {
        "colab": {
          "base_uri": "https://localhost:8080/",
          "height": 498
        },
        "id": "EWFuESJc-7Cw",
        "outputId": "485d3224-5e00-4e64-d691-ab13ffad1a1c"
      },
      "outputs": [
        {
          "output_type": "execute_result",
          "data": {
            "text/plain": [
              "  Invoice/Item Number        Date  Store Number  \\\n",
              "0        S24127700024   2/19/2015          3678   \n",
              "1        S15066200002  10/10/2013          2633   \n",
              "2        S19323500030    6/3/2014          2607   \n",
              "3        S23334500013    1/6/2015          4810   \n",
              "4        S09742200010  12/27/2012          4025   \n",
              "\n",
              "                             Store Name                   Address  \\\n",
              "0                       Smoke Shop, The           1918 SE 14TH ST   \n",
              "1          Hy-Vee #3 / BDI / Des Moines           3221 SE 14TH ST   \n",
              "2  Hy-Vee Wine and Spirits / Shenandoah            520 SO FREMONT   \n",
              "3                Kum & Go #518 / Ankeny  3603 NE OTTERVIEW CIRCLE   \n",
              "4               Karam Kaur Khasriya Llc               702 13TH ST   \n",
              "\n",
              "           City Zip Code                Store Location  County Number  County  \\\n",
              "0    DES MOINES    50320  POINT (-93.597011 41.570844)           77.0    Polk   \n",
              "1    DES MOINES    50320  POINT (-93.596754 41.554101)           77.0    Polk   \n",
              "2    SHENANDOAH    51601  POINT (-95.385111 40.761736)           73.0    Page   \n",
              "3        ANKENY    50021  POINT (-93.572458 41.760989)           77.0    Polk   \n",
              "4  BELLE PLAINE    52208  POINT (-92.277759 41.897052)            6.0  Benton   \n",
              "\n",
              "   ...  Item Number                 Item Description  Pack Bottle Volume (ml)  \\\n",
              "0  ...        41783     Uv Blue Raspberry Vodka Mini     6                500   \n",
              "1  ...       904969  Sabe Premiom Sake Double Barrel     6                750   \n",
              "2  ...        45277              Paramount White Rum    12               1000   \n",
              "3  ...        43121        Bacardi Superior Rum Mini    12                500   \n",
              "4  ...        11298      Crown Royal Canadian Whisky     6               1750   \n",
              "\n",
              "   State Bottle Cost State Bottle Retail  Bottles Sold  Sale (Dollars)  \\\n",
              "0               4.89                7.34             2           14.68   \n",
              "1              14.99               22.49             6          134.94   \n",
              "2               4.34                6.51            12           78.12   \n",
              "3               5.54                8.31             1            8.31   \n",
              "4              31.00               46.49             2           92.98   \n",
              "\n",
              "   Volume Sold (Liters)  Volume Sold (Gallons)  \n",
              "0                   1.0                   0.26  \n",
              "1                   4.5                   1.19  \n",
              "2                  12.0                   3.17  \n",
              "3                   0.5                   0.13  \n",
              "4                   3.5                   0.92  \n",
              "\n",
              "[5 rows x 24 columns]"
            ],
            "text/html": [
              "\n",
              "  <div id=\"df-02564fd0-cfa1-4bad-bb5e-0d25056c4add\" class=\"colab-df-container\">\n",
              "    <div>\n",
              "<style scoped>\n",
              "    .dataframe tbody tr th:only-of-type {\n",
              "        vertical-align: middle;\n",
              "    }\n",
              "\n",
              "    .dataframe tbody tr th {\n",
              "        vertical-align: top;\n",
              "    }\n",
              "\n",
              "    .dataframe thead th {\n",
              "        text-align: right;\n",
              "    }\n",
              "</style>\n",
              "<table border=\"1\" class=\"dataframe\">\n",
              "  <thead>\n",
              "    <tr style=\"text-align: right;\">\n",
              "      <th></th>\n",
              "      <th>Invoice/Item Number</th>\n",
              "      <th>Date</th>\n",
              "      <th>Store Number</th>\n",
              "      <th>Store Name</th>\n",
              "      <th>Address</th>\n",
              "      <th>City</th>\n",
              "      <th>Zip Code</th>\n",
              "      <th>Store Location</th>\n",
              "      <th>County Number</th>\n",
              "      <th>County</th>\n",
              "      <th>...</th>\n",
              "      <th>Item Number</th>\n",
              "      <th>Item Description</th>\n",
              "      <th>Pack</th>\n",
              "      <th>Bottle Volume (ml)</th>\n",
              "      <th>State Bottle Cost</th>\n",
              "      <th>State Bottle Retail</th>\n",
              "      <th>Bottles Sold</th>\n",
              "      <th>Sale (Dollars)</th>\n",
              "      <th>Volume Sold (Liters)</th>\n",
              "      <th>Volume Sold (Gallons)</th>\n",
              "    </tr>\n",
              "  </thead>\n",
              "  <tbody>\n",
              "    <tr>\n",
              "      <th>0</th>\n",
              "      <td>S24127700024</td>\n",
              "      <td>2/19/2015</td>\n",
              "      <td>3678</td>\n",
              "      <td>Smoke Shop, The</td>\n",
              "      <td>1918 SE 14TH ST</td>\n",
              "      <td>DES MOINES</td>\n",
              "      <td>50320</td>\n",
              "      <td>POINT (-93.597011 41.570844)</td>\n",
              "      <td>77.0</td>\n",
              "      <td>Polk</td>\n",
              "      <td>...</td>\n",
              "      <td>41783</td>\n",
              "      <td>Uv Blue Raspberry Vodka Mini</td>\n",
              "      <td>6</td>\n",
              "      <td>500</td>\n",
              "      <td>4.89</td>\n",
              "      <td>7.34</td>\n",
              "      <td>2</td>\n",
              "      <td>14.68</td>\n",
              "      <td>1.0</td>\n",
              "      <td>0.26</td>\n",
              "    </tr>\n",
              "    <tr>\n",
              "      <th>1</th>\n",
              "      <td>S15066200002</td>\n",
              "      <td>10/10/2013</td>\n",
              "      <td>2633</td>\n",
              "      <td>Hy-Vee #3 / BDI / Des Moines</td>\n",
              "      <td>3221 SE 14TH ST</td>\n",
              "      <td>DES MOINES</td>\n",
              "      <td>50320</td>\n",
              "      <td>POINT (-93.596754 41.554101)</td>\n",
              "      <td>77.0</td>\n",
              "      <td>Polk</td>\n",
              "      <td>...</td>\n",
              "      <td>904969</td>\n",
              "      <td>Sabe Premiom Sake Double Barrel</td>\n",
              "      <td>6</td>\n",
              "      <td>750</td>\n",
              "      <td>14.99</td>\n",
              "      <td>22.49</td>\n",
              "      <td>6</td>\n",
              "      <td>134.94</td>\n",
              "      <td>4.5</td>\n",
              "      <td>1.19</td>\n",
              "    </tr>\n",
              "    <tr>\n",
              "      <th>2</th>\n",
              "      <td>S19323500030</td>\n",
              "      <td>6/3/2014</td>\n",
              "      <td>2607</td>\n",
              "      <td>Hy-Vee Wine and Spirits / Shenandoah</td>\n",
              "      <td>520 SO FREMONT</td>\n",
              "      <td>SHENANDOAH</td>\n",
              "      <td>51601</td>\n",
              "      <td>POINT (-95.385111 40.761736)</td>\n",
              "      <td>73.0</td>\n",
              "      <td>Page</td>\n",
              "      <td>...</td>\n",
              "      <td>45277</td>\n",
              "      <td>Paramount White Rum</td>\n",
              "      <td>12</td>\n",
              "      <td>1000</td>\n",
              "      <td>4.34</td>\n",
              "      <td>6.51</td>\n",
              "      <td>12</td>\n",
              "      <td>78.12</td>\n",
              "      <td>12.0</td>\n",
              "      <td>3.17</td>\n",
              "    </tr>\n",
              "    <tr>\n",
              "      <th>3</th>\n",
              "      <td>S23334500013</td>\n",
              "      <td>1/6/2015</td>\n",
              "      <td>4810</td>\n",
              "      <td>Kum &amp; Go #518 / Ankeny</td>\n",
              "      <td>3603 NE OTTERVIEW CIRCLE</td>\n",
              "      <td>ANKENY</td>\n",
              "      <td>50021</td>\n",
              "      <td>POINT (-93.572458 41.760989)</td>\n",
              "      <td>77.0</td>\n",
              "      <td>Polk</td>\n",
              "      <td>...</td>\n",
              "      <td>43121</td>\n",
              "      <td>Bacardi Superior Rum Mini</td>\n",
              "      <td>12</td>\n",
              "      <td>500</td>\n",
              "      <td>5.54</td>\n",
              "      <td>8.31</td>\n",
              "      <td>1</td>\n",
              "      <td>8.31</td>\n",
              "      <td>0.5</td>\n",
              "      <td>0.13</td>\n",
              "    </tr>\n",
              "    <tr>\n",
              "      <th>4</th>\n",
              "      <td>S09742200010</td>\n",
              "      <td>12/27/2012</td>\n",
              "      <td>4025</td>\n",
              "      <td>Karam Kaur Khasriya Llc</td>\n",
              "      <td>702 13TH ST</td>\n",
              "      <td>BELLE PLAINE</td>\n",
              "      <td>52208</td>\n",
              "      <td>POINT (-92.277759 41.897052)</td>\n",
              "      <td>6.0</td>\n",
              "      <td>Benton</td>\n",
              "      <td>...</td>\n",
              "      <td>11298</td>\n",
              "      <td>Crown Royal Canadian Whisky</td>\n",
              "      <td>6</td>\n",
              "      <td>1750</td>\n",
              "      <td>31.00</td>\n",
              "      <td>46.49</td>\n",
              "      <td>2</td>\n",
              "      <td>92.98</td>\n",
              "      <td>3.5</td>\n",
              "      <td>0.92</td>\n",
              "    </tr>\n",
              "  </tbody>\n",
              "</table>\n",
              "<p>5 rows × 24 columns</p>\n",
              "</div>\n",
              "    <div class=\"colab-df-buttons\">\n",
              "\n",
              "  <div class=\"colab-df-container\">\n",
              "    <button class=\"colab-df-convert\" onclick=\"convertToInteractive('df-02564fd0-cfa1-4bad-bb5e-0d25056c4add')\"\n",
              "            title=\"Convert this dataframe to an interactive table.\"\n",
              "            style=\"display:none;\">\n",
              "\n",
              "  <svg xmlns=\"http://www.w3.org/2000/svg\" height=\"24px\" viewBox=\"0 -960 960 960\">\n",
              "    <path d=\"M120-120v-720h720v720H120Zm60-500h600v-160H180v160Zm220 220h160v-160H400v160Zm0 220h160v-160H400v160ZM180-400h160v-160H180v160Zm440 0h160v-160H620v160ZM180-180h160v-160H180v160Zm440 0h160v-160H620v160Z\"/>\n",
              "  </svg>\n",
              "    </button>\n",
              "\n",
              "  <style>\n",
              "    .colab-df-container {\n",
              "      display:flex;\n",
              "      gap: 12px;\n",
              "    }\n",
              "\n",
              "    .colab-df-convert {\n",
              "      background-color: #E8F0FE;\n",
              "      border: none;\n",
              "      border-radius: 50%;\n",
              "      cursor: pointer;\n",
              "      display: none;\n",
              "      fill: #1967D2;\n",
              "      height: 32px;\n",
              "      padding: 0 0 0 0;\n",
              "      width: 32px;\n",
              "    }\n",
              "\n",
              "    .colab-df-convert:hover {\n",
              "      background-color: #E2EBFA;\n",
              "      box-shadow: 0px 1px 2px rgba(60, 64, 67, 0.3), 0px 1px 3px 1px rgba(60, 64, 67, 0.15);\n",
              "      fill: #174EA6;\n",
              "    }\n",
              "\n",
              "    .colab-df-buttons div {\n",
              "      margin-bottom: 4px;\n",
              "    }\n",
              "\n",
              "    [theme=dark] .colab-df-convert {\n",
              "      background-color: #3B4455;\n",
              "      fill: #D2E3FC;\n",
              "    }\n",
              "\n",
              "    [theme=dark] .colab-df-convert:hover {\n",
              "      background-color: #434B5C;\n",
              "      box-shadow: 0px 1px 3px 1px rgba(0, 0, 0, 0.15);\n",
              "      filter: drop-shadow(0px 1px 2px rgba(0, 0, 0, 0.3));\n",
              "      fill: #FFFFFF;\n",
              "    }\n",
              "  </style>\n",
              "\n",
              "    <script>\n",
              "      const buttonEl =\n",
              "        document.querySelector('#df-02564fd0-cfa1-4bad-bb5e-0d25056c4add button.colab-df-convert');\n",
              "      buttonEl.style.display =\n",
              "        google.colab.kernel.accessAllowed ? 'block' : 'none';\n",
              "\n",
              "      async function convertToInteractive(key) {\n",
              "        const element = document.querySelector('#df-02564fd0-cfa1-4bad-bb5e-0d25056c4add');\n",
              "        const dataTable =\n",
              "          await google.colab.kernel.invokeFunction('convertToInteractive',\n",
              "                                                    [key], {});\n",
              "        if (!dataTable) return;\n",
              "\n",
              "        const docLinkHtml = 'Like what you see? Visit the ' +\n",
              "          '<a target=\"_blank\" href=https://colab.research.google.com/notebooks/data_table.ipynb>data table notebook</a>'\n",
              "          + ' to learn more about interactive tables.';\n",
              "        element.innerHTML = '';\n",
              "        dataTable['output_type'] = 'display_data';\n",
              "        await google.colab.output.renderOutput(dataTable, element);\n",
              "        const docLink = document.createElement('div');\n",
              "        docLink.innerHTML = docLinkHtml;\n",
              "        element.appendChild(docLink);\n",
              "      }\n",
              "    </script>\n",
              "  </div>\n",
              "\n",
              "\n",
              "<div id=\"df-6d0aa759-c3bb-4c33-9235-da609d5f2f8b\">\n",
              "  <button class=\"colab-df-quickchart\" onclick=\"quickchart('df-6d0aa759-c3bb-4c33-9235-da609d5f2f8b')\"\n",
              "            title=\"Suggest charts\"\n",
              "            style=\"display:none;\">\n",
              "\n",
              "<svg xmlns=\"http://www.w3.org/2000/svg\" height=\"24px\"viewBox=\"0 0 24 24\"\n",
              "     width=\"24px\">\n",
              "    <g>\n",
              "        <path d=\"M19 3H5c-1.1 0-2 .9-2 2v14c0 1.1.9 2 2 2h14c1.1 0 2-.9 2-2V5c0-1.1-.9-2-2-2zM9 17H7v-7h2v7zm4 0h-2V7h2v10zm4 0h-2v-4h2v4z\"/>\n",
              "    </g>\n",
              "</svg>\n",
              "  </button>\n",
              "\n",
              "<style>\n",
              "  .colab-df-quickchart {\n",
              "      --bg-color: #E8F0FE;\n",
              "      --fill-color: #1967D2;\n",
              "      --hover-bg-color: #E2EBFA;\n",
              "      --hover-fill-color: #174EA6;\n",
              "      --disabled-fill-color: #AAA;\n",
              "      --disabled-bg-color: #DDD;\n",
              "  }\n",
              "\n",
              "  [theme=dark] .colab-df-quickchart {\n",
              "      --bg-color: #3B4455;\n",
              "      --fill-color: #D2E3FC;\n",
              "      --hover-bg-color: #434B5C;\n",
              "      --hover-fill-color: #FFFFFF;\n",
              "      --disabled-bg-color: #3B4455;\n",
              "      --disabled-fill-color: #666;\n",
              "  }\n",
              "\n",
              "  .colab-df-quickchart {\n",
              "    background-color: var(--bg-color);\n",
              "    border: none;\n",
              "    border-radius: 50%;\n",
              "    cursor: pointer;\n",
              "    display: none;\n",
              "    fill: var(--fill-color);\n",
              "    height: 32px;\n",
              "    padding: 0;\n",
              "    width: 32px;\n",
              "  }\n",
              "\n",
              "  .colab-df-quickchart:hover {\n",
              "    background-color: var(--hover-bg-color);\n",
              "    box-shadow: 0 1px 2px rgba(60, 64, 67, 0.3), 0 1px 3px 1px rgba(60, 64, 67, 0.15);\n",
              "    fill: var(--button-hover-fill-color);\n",
              "  }\n",
              "\n",
              "  .colab-df-quickchart-complete:disabled,\n",
              "  .colab-df-quickchart-complete:disabled:hover {\n",
              "    background-color: var(--disabled-bg-color);\n",
              "    fill: var(--disabled-fill-color);\n",
              "    box-shadow: none;\n",
              "  }\n",
              "\n",
              "  .colab-df-spinner {\n",
              "    border: 2px solid var(--fill-color);\n",
              "    border-color: transparent;\n",
              "    border-bottom-color: var(--fill-color);\n",
              "    animation:\n",
              "      spin 1s steps(1) infinite;\n",
              "  }\n",
              "\n",
              "  @keyframes spin {\n",
              "    0% {\n",
              "      border-color: transparent;\n",
              "      border-bottom-color: var(--fill-color);\n",
              "      border-left-color: var(--fill-color);\n",
              "    }\n",
              "    20% {\n",
              "      border-color: transparent;\n",
              "      border-left-color: var(--fill-color);\n",
              "      border-top-color: var(--fill-color);\n",
              "    }\n",
              "    30% {\n",
              "      border-color: transparent;\n",
              "      border-left-color: var(--fill-color);\n",
              "      border-top-color: var(--fill-color);\n",
              "      border-right-color: var(--fill-color);\n",
              "    }\n",
              "    40% {\n",
              "      border-color: transparent;\n",
              "      border-right-color: var(--fill-color);\n",
              "      border-top-color: var(--fill-color);\n",
              "    }\n",
              "    60% {\n",
              "      border-color: transparent;\n",
              "      border-right-color: var(--fill-color);\n",
              "    }\n",
              "    80% {\n",
              "      border-color: transparent;\n",
              "      border-right-color: var(--fill-color);\n",
              "      border-bottom-color: var(--fill-color);\n",
              "    }\n",
              "    90% {\n",
              "      border-color: transparent;\n",
              "      border-bottom-color: var(--fill-color);\n",
              "    }\n",
              "  }\n",
              "</style>\n",
              "\n",
              "  <script>\n",
              "    async function quickchart(key) {\n",
              "      const quickchartButtonEl =\n",
              "        document.querySelector('#' + key + ' button');\n",
              "      quickchartButtonEl.disabled = true;  // To prevent multiple clicks.\n",
              "      quickchartButtonEl.classList.add('colab-df-spinner');\n",
              "      try {\n",
              "        const charts = await google.colab.kernel.invokeFunction(\n",
              "            'suggestCharts', [key], {});\n",
              "      } catch (error) {\n",
              "        console.error('Error during call to suggestCharts:', error);\n",
              "      }\n",
              "      quickchartButtonEl.classList.remove('colab-df-spinner');\n",
              "      quickchartButtonEl.classList.add('colab-df-quickchart-complete');\n",
              "    }\n",
              "    (() => {\n",
              "      let quickchartButtonEl =\n",
              "        document.querySelector('#df-6d0aa759-c3bb-4c33-9235-da609d5f2f8b button');\n",
              "      quickchartButtonEl.style.display =\n",
              "        google.colab.kernel.accessAllowed ? 'block' : 'none';\n",
              "    })();\n",
              "  </script>\n",
              "</div>\n",
              "\n",
              "    </div>\n",
              "  </div>\n"
            ],
            "application/vnd.google.colaboratory.intrinsic+json": {
              "type": "dataframe",
              "variable_name": "df"
            }
          },
          "metadata": {},
          "execution_count": 4
        }
      ],
      "source": [
        "import pandas as pd\n",
        "df = pd.read_csv('/content/liquor sales dataset.csv')\n",
        "df.head()"
      ]
    },
    {
      "cell_type": "code",
      "execution_count": 5,
      "metadata": {
        "colab": {
          "base_uri": "https://localhost:8080/"
        },
        "id": "lGVIIyb6_Jt-",
        "outputId": "b32cb9ce-f294-4778-f838-0bcc9ca59fbb"
      },
      "outputs": [
        {
          "output_type": "stream",
          "name": "stdout",
          "text": [
            "<class 'pandas.core.frame.DataFrame'>\n",
            "RangeIndex: 1048575 entries, 0 to 1048574\n",
            "Data columns (total 24 columns):\n",
            " #   Column                 Non-Null Count    Dtype  \n",
            "---  ------                 --------------    -----  \n",
            " 0   Invoice/Item Number    1048575 non-null  object \n",
            " 1   Date                   1048575 non-null  object \n",
            " 2   Store Number           1048575 non-null  int64  \n",
            " 3   Store Name             1048575 non-null  object \n",
            " 4   Address                1047448 non-null  object \n",
            " 5   City                   1047448 non-null  object \n",
            " 6   Zip Code               1047439 non-null  object \n",
            " 7   Store Location         954963 non-null   object \n",
            " 8   County Number          1045978 non-null  float64\n",
            " 9   County                 1045978 non-null  object \n",
            " 10  Category               1048341 non-null  float64\n",
            " 11  Category Name          1048053 non-null  object \n",
            " 12  Vendor Number          1048575 non-null  int64  \n",
            " 13  Vendor Name            1048575 non-null  object \n",
            " 14  Item Number            1048575 non-null  int64  \n",
            " 15  Item Description       1048575 non-null  object \n",
            " 16  Pack                   1048575 non-null  int64  \n",
            " 17  Bottle Volume (ml)     1048575 non-null  int64  \n",
            " 18  State Bottle Cost      1048571 non-null  float64\n",
            " 19  State Bottle Retail    1048571 non-null  float64\n",
            " 20  Bottles Sold           1048575 non-null  int64  \n",
            " 21  Sale (Dollars)         1048571 non-null  float64\n",
            " 22  Volume Sold (Liters)   1048575 non-null  float64\n",
            " 23  Volume Sold (Gallons)  1048575 non-null  float64\n",
            "dtypes: float64(7), int64(6), object(11)\n",
            "memory usage: 192.0+ MB\n"
          ]
        }
      ],
      "source": [
        "df.info()"
      ]
    },
    {
      "cell_type": "code",
      "execution_count": 6,
      "metadata": {
        "id": "YXN8bI1REd8y"
      },
      "outputs": [],
      "source": [
        "#Where are these stores?\n",
        "#df.sample(50)\n",
        "#Ah, they're all in (and from all around) Iowa."
      ]
    },
    {
      "cell_type": "code",
      "execution_count": 7,
      "metadata": {
        "colab": {
          "base_uri": "https://localhost:8080/"
        },
        "id": "sfI9YlYoCfY8",
        "outputId": "d6096c85-efdc-46df-a580-7ec0e42b87e5"
      },
      "outputs": [
        {
          "output_type": "execute_result",
          "data": {
            "text/plain": [
              "(Timestamp('2012-01-03 00:00:00'), Timestamp('2018-10-08 00:00:00'))"
            ]
          },
          "metadata": {},
          "execution_count": 7
        }
      ],
      "source": [
        "#What's the date range?\n",
        "df['Date'] = pd.to_datetime(df['Date'])\n",
        "df['Date'].min(), df['Date'].max()"
      ]
    },
    {
      "cell_type": "code",
      "execution_count": 8,
      "metadata": {
        "id": "28TVWP5IHDH7",
        "colab": {
          "base_uri": "https://localhost:8080/",
          "height": 431
        },
        "outputId": "7d7ced76-5dad-4e5d-de06-f7916373befb"
      },
      "outputs": [
        {
          "output_type": "display_data",
          "data": {
            "text/plain": [
              "<Figure size 640x480 with 1 Axes>"
            ],
            "image/png": "[encoded data removed]"
          },
          "metadata": {}
        }
      ],
      "source": [
        "df['Date'].hist(bins=50);"
      ]
    },
    {
      "cell_type": "code",
      "execution_count": 9,
      "metadata": {
        "colab": {
          "base_uri": "https://localhost:8080/"
        },
        "id": "uF0I3DlKLUF1",
        "outputId": "479e0ad9-dd02-422c-8ef7-6c38804deba2"
      },
      "outputs": [
        {
          "output_type": "execute_result",
          "data": {
            "text/plain": [
              "0         2015-02-19\n",
              "1         2013-10-10\n",
              "2         2014-06-03\n",
              "3         2015-01-06\n",
              "4         2012-12-27\n",
              "             ...    \n",
              "1048570   2014-01-13\n",
              "1048571   2013-09-09\n",
              "1048572   2015-04-07\n",
              "1048573   2012-11-29\n",
              "1048574   2012-08-13\n",
              "Name: Date, Length: 1048575, dtype: datetime64[ns]"
            ]
          },
          "metadata": {},
          "execution_count": 9
        }
      ],
      "source": [
        "df['Date']"
      ]
    },
    {
      "cell_type": "markdown",
      "metadata": {
        "id": "PhHfNaceHMAV"
      },
      "source": [
        "Obviously, we'll drop the random few date entries from 2016-2018, but the real tragedy here is the missing data from the very end of 2015. I don't think it's a good idea to try and impute and time-series data here, so we'll have to drop everything from 2015 on. However, this still gives us three complete years of data, which isn't bad."
      ]
    },
    {
      "cell_type": "code",
      "execution_count": 10,
      "metadata": {
        "colab": {
          "base_uri": "https://localhost:8080/",
          "height": 466
        },
        "id": "Pq755fMLHNAc",
        "outputId": "e62dac24-bb8a-48e4-a339-f719de9355d8"
      },
      "outputs": [
        {
          "output_type": "display_data",
          "data": {
            "text/plain": [
              "<Figure size 640x480 with 1 Axes>"
            ],
            "image/png": "[encoded data removed]"
          },
          "metadata": {}
        }
      ],
      "source": [
        "trimmed_df = df[~(df['Date'] > '2015-01-03 00:00:00')]\n",
        "trimmed_df['Date'].hist(xrot=45, bins=50);"
      ]
    },
    {
      "cell_type": "markdown",
      "metadata": {
        "id": "mKoLj57CPjTO"
      },
      "source": [
        "With our time-series data sorted out, let's examine the amount of stores we have."
      ]
    },
    {
      "cell_type": "code",
      "execution_count": 11,
      "metadata": {
        "colab": {
          "base_uri": "https://localhost:8080/"
        },
        "id": "k8dG1XH2_PY1",
        "outputId": "59cbd70a-dc44-4ff8-a6a9-494d5e6a3d3e"
      },
      "outputs": [
        {
          "output_type": "execute_result",
          "data": {
            "text/plain": [
              "1451"
            ]
          },
          "metadata": {},
          "execution_count": 11
        }
      ],
      "source": [
        "#How many stores?\n",
        "unique_stores = trimmed_df['Store Number'].unique()\n",
        "len(unique_stores)"
      ]
    },
    {
      "cell_type": "code",
      "execution_count": 12,
      "metadata": {
        "colab": {
          "base_uri": "https://localhost:8080/"
        },
        "id": "No-iHxoxBYLp",
        "outputId": "feb31d09-85bb-4859-eb2c-3c97a2b67521"
      },
      "outputs": [
        {
          "output_type": "execute_result",
          "data": {
            "text/plain": [
              "1055"
            ]
          },
          "metadata": {},
          "execution_count": 12
        }
      ],
      "source": [
        "#How many with more than 100 orders in here?\n",
        "store_value_counts = trimmed_df['Store Number'].value_counts()\n",
        "hundred_order_stores = pd.DataFrame(store_value_counts)\n",
        "hundred_order_stores = hundred_order_stores[hundred_order_stores['count'] >= 100]\n",
        "len(hundred_order_stores)"
      ]
    },
    {
      "cell_type": "code",
      "execution_count": 13,
      "metadata": {
        "colab": {
          "base_uri": "https://localhost:8080/"
        },
        "id": "5ZAUh2BFH5mk",
        "outputId": "ae1381e9-3438-407b-a21a-c9a05c438f62"
      },
      "outputs": [
        {
          "output_type": "execute_result",
          "data": {
            "text/plain": [
              "228"
            ]
          },
          "metadata": {},
          "execution_count": 13
        }
      ],
      "source": [
        "#How many with more than 1000 orders in here?\n",
        "store_value_counts = trimmed_df['Store Number'].value_counts()\n",
        "thousand_order_stores = pd.DataFrame(store_value_counts)\n",
        "thousand_order_stores = thousand_order_stores[thousand_order_stores['count'] >= 1000]\n",
        "len(thousand_order_stores)"
      ]
    },
    {
      "cell_type": "markdown",
      "metadata": {
        "id": "gIGU3DnBwv8Z"
      },
      "source": [
        "That's a good amount of stores with a decent amount of rows to examine. We may wind up looking at the top ten or top 100 stores only depending on how the project goes, but maybe we can incorporate all 228.\n",
        "\n",
        "Let's also look at vendors; while stores represent a variable that we may use to *subdivide* the dataset, vendors will remain an independent variable. As a categorical variable, they may balloon out to an overwhelming number of one-hot encoded variables, so we'll alomost certainly need to find a way to limit these."
      ]
    },
    {
      "cell_type": "code",
      "execution_count": 14,
      "metadata": {
        "colab": {
          "base_uri": "https://localhost:8080/"
        },
        "id": "CH4zz1OyWjGL",
        "outputId": "b849cd28-9b37-4f54-f493-bfeb7f19ea24"
      },
      "outputs": [
        {
          "output_type": "execute_result",
          "data": {
            "text/plain": [
              "144"
            ]
          },
          "metadata": {},
          "execution_count": 14
        }
      ],
      "source": [
        "#How many vendors total?\n",
        "len(trimmed_df['Vendor Name'].unique())"
      ]
    },
    {
      "cell_type": "code",
      "execution_count": 15,
      "metadata": {
        "colab": {
          "base_uri": "https://localhost:8080/"
        },
        "id": "-SEwaTSewBiI",
        "outputId": "39dac5e0-9253-45a1-bab1-34dd4ee2b8e8"
      },
      "outputs": [
        {
          "output_type": "execute_result",
          "data": {
            "text/plain": [
              "56"
            ]
          },
          "metadata": {},
          "execution_count": 15
        }
      ],
      "source": [
        "#How many with more than 100 orders in here?\n",
        "vendor_value_counts = trimmed_df['Vendor Name'].value_counts()\n",
        "hundred_order_vendors = pd.DataFrame(vendor_value_counts)\n",
        "hundred_order_vendors = hundred_order_vendors[hundred_order_vendors['count'] >= 100]\n",
        "len(hundred_order_vendors)"
      ]
    },
    {
      "cell_type": "code",
      "execution_count": 16,
      "metadata": {
        "colab": {
          "base_uri": "https://localhost:8080/"
        },
        "id": "qq0LJDCWwBxr",
        "outputId": "35e5d329-1403-4a35-d5bc-3eaa49c914d9"
      },
      "outputs": [
        {
          "output_type": "execute_result",
          "data": {
            "text/plain": [
              "32"
            ]
          },
          "metadata": {},
          "execution_count": 16
        }
      ],
      "source": [
        "#How many with more than 1000 orders in here?\n",
        "thousand_order_vendors = pd.DataFrame(vendor_value_counts)\n",
        "thousand_order_vendors = thousand_order_vendors[thousand_order_vendors['count'] >= 1000]\n",
        "len(thousand_order_vendors)"
      ]
    },
    {
      "cell_type": "markdown",
      "metadata": {
        "id": "H4osezOQMlwX"
      },
      "source": [
        "32 vendors combined with the liqour categories and a few more continuous columns is probably still going to be too many to model without a problematic amount of noise and/or sparsity in our data. We may consider adding a limitation here to each store along the way. In other words, when we run a model on an individual store, we'll only include vendors that serviced that store with >= 1,000 orders.\n",
        "\n",
        "This is especially important when we consider that this dataset covers an entire *state* with urban, suburban, and rural stores that all move different volumes of inventory; the vendors used will almost certainly vary from one store to the next.\n",
        "\n",
        "Before we start examining stores in more detail, we need to take care of a few other things in our broader DataFrame. Specifically, we need to drop unnecessary columns and contend with what appear to be a few NaNs.\n",
        "\n",
        "Let's first examine columns so we can see which to drop. I appreciate how the data has store, location, and item names and numbers, but for our purposes, we can drop a number of these redundancies."
      ]
    },
    {
      "cell_type": "code",
      "execution_count": 17,
      "metadata": {
        "colab": {
          "base_uri": "https://localhost:8080/"
        },
        "id": "iqJE9aNpLb9q",
        "outputId": "7536df7e-9a0d-46c0-aff7-381a8c6c4af5"
      },
      "outputs": [
        {
          "output_type": "stream",
          "name": "stdout",
          "text": [
            "<class 'pandas.core.frame.DataFrame'>\n",
            "Index: 790411 entries, 1 to 1048574\n",
            "Data columns (total 7 columns):\n",
            " #   Column          Non-Null Count   Dtype         \n",
            "---  ------          --------------   -----         \n",
            " 0   Date            790411 non-null  datetime64[ns]\n",
            " 1   Store Number    790411 non-null  int64         \n",
            " 2   Category Name   790081 non-null  object        \n",
            " 3   Vendor Name     790411 non-null  object        \n",
            " 4   Pack            790411 non-null  int64         \n",
            " 5   Bottles Sold    790411 non-null  int64         \n",
            " 6   Sale (Dollars)  790407 non-null  float64       \n",
            "dtypes: datetime64[ns](1), float64(1), int64(3), object(2)\n",
            "memory usage: 48.2+ MB\n"
          ]
        }
      ],
      "source": [
        "columns_to_drop = ['Invoice/Item Number', 'Store Name', 'Address', 'City', 'Zip Code',\n",
        "                   'Store Location', 'County Number', 'County', 'Category', 'Vendor Number',\n",
        "                   'Item Number', 'Item Description', 'Bottle Volume (ml)', 'State Bottle Cost',\n",
        "                   'State Bottle Retail', 'Volume Sold (Liters)', 'Volume Sold (Gallons)']\n",
        "trimmed_df = trimmed_df.drop(columns_to_drop, axis=1)\n",
        "trimmed_df.info()"
      ]
    },
    {
      "cell_type": "markdown",
      "metadata": {
        "id": "qAfWSgMaNLBF"
      },
      "source": [
        "This may seem like just a few columns for now, but once we add the categorical columns in, this will quickly expand. Let's handle the NaN's now."
      ]
    },
    {
      "cell_type": "code",
      "execution_count": 18,
      "metadata": {
        "colab": {
          "base_uri": "https://localhost:8080/"
        },
        "id": "-IKrcl3dLcZR",
        "outputId": "90c270cb-d6f3-40b8-c02a-9913c983ecb3"
      },
      "outputs": [
        {
          "output_type": "execute_result",
          "data": {
            "text/plain": [
              "334"
            ]
          },
          "metadata": {},
          "execution_count": 18
        }
      ],
      "source": [
        "nan_rows = trimmed_df[trimmed_df.isna().any(axis=1)]\n",
        "len(nan_rows)"
      ]
    },
    {
      "cell_type": "code",
      "execution_count": 19,
      "metadata": {
        "colab": {
          "base_uri": "https://localhost:8080/"
        },
        "id": "5Ja-yJW2LcjX",
        "outputId": "2ebcd8e2-9c10-4b13-e5a2-2f5862279bd6"
      },
      "outputs": [
        {
          "output_type": "execute_result",
          "data": {
            "text/plain": [
              "0.0004225649693640397"
            ]
          },
          "metadata": {},
          "execution_count": 19
        }
      ],
      "source": [
        "len(nan_rows) / len(trimmed_df)"
      ]
    },
    {
      "cell_type": "markdown",
      "metadata": {
        "id": "_Og8qiI1OCfw"
      },
      "source": [
        "NaN's only make up 0.04% of our data, so we can afford to drop them without sarcificing much data."
      ]
    },
    {
      "cell_type": "code",
      "execution_count": 20,
      "metadata": {
        "colab": {
          "base_uri": "https://localhost:8080/"
        },
        "id": "hjzsCQJKOPGz",
        "outputId": "04b30874-44c8-4b8b-930a-3a71d9bfd72d"
      },
      "outputs": [
        {
          "output_type": "stream",
          "name": "stdout",
          "text": [
            "<class 'pandas.core.frame.DataFrame'>\n",
            "Index: 790077 entries, 1 to 1048574\n",
            "Data columns (total 7 columns):\n",
            " #   Column          Non-Null Count   Dtype         \n",
            "---  ------          --------------   -----         \n",
            " 0   Date            790077 non-null  datetime64[ns]\n",
            " 1   Store Number    790077 non-null  int64         \n",
            " 2   Category Name   790077 non-null  object        \n",
            " 3   Vendor Name     790077 non-null  object        \n",
            " 4   Pack            790077 non-null  int64         \n",
            " 5   Bottles Sold    790077 non-null  int64         \n",
            " 6   Sale (Dollars)  790077 non-null  float64       \n",
            "dtypes: datetime64[ns](1), float64(1), int64(3), object(2)\n",
            "memory usage: 48.2+ MB\n"
          ]
        }
      ],
      "source": [
        "trimmed_df.dropna(axis=0, inplace=True)\n",
        "trimmed_df.info()"
      ]
    },
    {
      "cell_type": "markdown",
      "metadata": {
        "id": "w_87Iza7Rvav"
      },
      "source": [
        "Now we can examine the categorical columns more carefully. We'll use the 'Store Number' column later on in order to subdivide the trimmed_df into stores, so let's begin with the 'Category Name' column."
      ]
    },
    {
      "cell_type": "code",
      "execution_count": 21,
      "metadata": {
        "colab": {
          "base_uri": "https://localhost:8080/"
        },
        "id": "WI9SZAEASPGN",
        "outputId": "f1dff2e6-6c72-4c4f-8464-8b93eb9afa31"
      },
      "outputs": [
        {
          "output_type": "execute_result",
          "data": {
            "text/plain": [
              "72"
            ]
          },
          "metadata": {},
          "execution_count": 21
        }
      ],
      "source": [
        "len(trimmed_df['Category Name'].value_counts())"
      ]
    },
    {
      "cell_type": "code",
      "execution_count": 22,
      "metadata": {
        "colab": {
          "base_uri": "https://localhost:8080/"
        },
        "id": "vzx1WphpRvzv",
        "outputId": "387e0ce9-9d78-4005-c46c-7de170768f86"
      },
      "outputs": [
        {
          "output_type": "stream",
          "name": "stdout",
          "text": [
            "Category Name\n",
            "VODKA 80 PROOF                        97413\n",
            "CANADIAN WHISKIES                     72761\n",
            "STRAIGHT BOURBON WHISKIES             43005\n",
            "SPICED RUM                            42352\n",
            "VODKA FLAVORED                        38880\n",
            "BLENDED WHISKIES                      36314\n",
            "TEQUILA                               33632\n",
            "PUERTO RICO & VIRGIN ISLANDS RUM      33122\n",
            "IMPORTED VODKA                        32657\n",
            "AMERICAN COCKTAILS                    23960\n",
            "WHISKEY LIQUEUR                       23649\n",
            "FLAVORED RUM                          22509\n",
            "AMERICAN DRY GINS                     21336\n",
            "IMPORTED VODKA - MISC                 21324\n",
            "MISC. IMPORTED CORDIALS & LIQUEURS    20651\n",
            "AMERICAN GRAPE BRANDIES               20030\n",
            "CREAM LIQUEURS                        19217\n",
            "TENNESSEE WHISKIES                    19051\n",
            "SCOTCH WHISKIES                       16609\n",
            "IMPORTED SCHNAPPS                     14183\n",
            "IMPORTED GRAPE BRANDIES               11628\n",
            "MISC. AMERICAN CORDIALS & LIQUEURS    11276\n",
            "PEPPERMINT SCHNAPPS                    9571\n",
            "IMPORTED DRY GINS                      9120\n",
            "100 PROOF VODKA                        8357\n",
            "SINGLE MALT SCOTCH                     6706\n",
            "IRISH WHISKIES                         6445\n",
            "COFFEE LIQUEURS                        6298\n",
            "STRAIGHT RYE WHISKIES                  5347\n",
            "PEACH SCHNAPPS                         5268\n",
            "DISTILLED SPIRITS SPECIALTY            5248\n",
            "BLACKBERRY BRANDIES                    5102\n",
            "AMERICAN AMARETTO                      4395\n",
            "TRIPLE SEC                             3689\n",
            "DECANTERS & SPECIALTY PACKAGES         3398\n",
            "APRICOT BRANDIES                       3286\n",
            "CINNAMON SCHNAPPS                      3196\n",
            "APPLE SCHNAPPS                         2986\n",
            "BUTTERSCOTCH SCHNAPPS                  2922\n",
            "MISCELLANEOUS SCHNAPPS                 2583\n",
            "AMERICAN ALCOHOL                       2158\n",
            "WATERMELON SCHNAPPS                    1484\n",
            "IMPORTED AMARETTO                      1293\n",
            "JAMAICA RUM                            1221\n",
            "CHERRY BRANDIES                        1145\n",
            "ROOT BEER SCHNAPPS                     1144\n",
            "RASPBERRY SCHNAPPS                     1116\n",
            "GRAPE SCHNAPPS                         1099\n",
            "FLAVORED GINS                          1083\n",
            "STRAWBERRY SCHNAPPS                    1062\n",
            "TROPICAL FRUIT SCHNAPPS                 927\n",
            "GREEN CREME DE MENTHE                   793\n",
            "PEACH BRANDIES                          785\n",
            "BARBADOS RUM                            707\n",
            "SINGLE BARREL BOURBON WHISKIES          665\n",
            "AMERICAN SLOE GINS                      602\n",
            "WHITE CREME DE CACAO                    600\n",
            "BOTTLED IN BOND BOURBON                 574\n",
            "DARK CREME DE CACAO                     552\n",
            "OTHER PROOF VODKA                       293\n",
            "SPEARMINT SCHNAPPS                      226\n",
            "WHITE CREME DE MENTHE                   225\n",
            "ROCK & RYE                              208\n",
            "MISCELLANEOUS  BRANDIES                 190\n",
            "LOW PROOF VODKA                         186\n",
            "ANISETTE                                132\n",
            "CREME DE ALMOND                         116\n",
            "HIGH PROOF BEER - AMERICAN                4\n",
            "AMARETTO - IMPORTED                       4\n",
            "JAPANESE WHISKY                           3\n",
            "SCHNAPPS - IMPORTED                       3\n",
            "IMPORTED VODKA - CHERRY                   1\n"
          ]
        }
      ],
      "source": [
        "print(trimmed_df['Category Name'].value_counts().to_string())"
      ]
    },
    {
      "cell_type": "markdown",
      "metadata": {
        "id": "2ojnWUzURhQS"
      },
      "source": [
        "That's too many to include all of them. Instead, we'll carefully consolidate these into more generalized categories. On one hand, we need to narrow these down for clarity and modeling purposes. On the other hand, we don't want to eliminate too many categories, especially those with a larger value count.\n",
        "\n",
        "For example, instead of just consolidating everything containing the string 'VODKA' to a general 'VODKA' category, we can at least distinguish between 'VODKA' and a new category called 'FLAVORED VODKA'. We can also do something like divide the whiskey categories into three new ones: 'BOURBON', 'SCOTCH', and 'OTHER WHISKEY'."
      ]
    },
    {
      "cell_type": "code",
      "execution_count": 23,
      "metadata": {
        "id": "K81_mnbzRfZK"
      },
      "outputs": [],
      "source": [
        "#I can use the str.contains method for some categories that are easier\n",
        "# to generalize. Let's do those first:\n",
        "trimmed_df.loc[trimmed_df['Category Name'].str.contains('BOURBON'), 'Category Name'] = 'BOURBON'\n",
        "trimmed_df.loc[trimmed_df['Category Name'].str.contains('Bourbon'), 'Category Name'] = 'BOURBON'\n",
        "trimmed_df.loc[trimmed_df['Category Name'].str.contains('RYE'), 'Category Name'] = 'BLENDED AND OTHER WHISKIES'\n",
        "trimmed_df.loc[trimmed_df['Category Name'].str.contains('Rye'), 'Category Name'] = 'BLENDED AND OTHER WHISKIES'\n",
        "trimmed_df.loc[trimmed_df['Category Name'].str.contains('Tequila'), 'Category Name'] = 'TEQUILA'\n",
        "trimmed_df.loc[trimmed_df['Category Name'].str.contains('GIN'), 'Category Name'] = 'GIN'\n",
        "trimmed_df.loc[trimmed_df['Category Name'].str.contains('Gin'), 'Category Name'] = 'GIN'\n",
        "trimmed_df.loc[trimmed_df['Category Name'].str.contains('RUM'), 'Category Name'] = 'RUM'\n",
        "trimmed_df.loc[trimmed_df['Category Name'].str.contains('Rum'), 'Category Name'] = 'RUM'\n",
        "trimmed_df.loc[trimmed_df['Category Name'].str.contains('AMARETTO'), 'Category Name'] = 'LIQUEUR'\n",
        "trimmed_df.loc[trimmed_df['Category Name'].str.contains('Amaretto'), 'Category Name'] = 'LIQUEUR'\n",
        "trimmed_df.loc[trimmed_df['Category Name'].str.contains('LIQUEUR'), 'Category Name'] = 'LIQUEUR'\n",
        "trimmed_df.loc[trimmed_df['Category Name'].str.contains('Liqueur'), 'Category Name'] = 'LIQUEUR'\n",
        "trimmed_df.loc[trimmed_df['Category Name'].str.contains('CREME DE'), 'Category Name'] = 'LIQUEUR'\n",
        "trimmed_df.loc[trimmed_df['Category Name'].str.contains('COCKTAILS'), 'Category Name'] = 'RTD COCKTAILS'\n",
        "trimmed_df.loc[trimmed_df['Category Name'].str.contains('Cocktails'), 'Category Name'] = 'RTD COCKTAILS'"
      ]
    },
    {
      "cell_type": "code",
      "execution_count": 24,
      "metadata": {
        "id": "moNA2aUrRfgk"
      },
      "outputs": [],
      "source": [
        "#Now we'll make more specific generalizations:\n",
        "\n",
        "#Whiskies\n",
        "trimmed_df.loc[trimmed_df['Category Name'] == 'Scotch', 'Category Name'] = 'SCOTCH WHISKIES'\n",
        "trimmed_df.loc[trimmed_df['Category Name'] == 'Scotch Whiskies', 'Category Name'] = 'SCOTCH WHISKIES'\n",
        "trimmed_df.loc[trimmed_df['Category Name'] == 'SINGLE MALT SCOTCH', 'Category Name'] = 'SCOTCH WHISKIES'\n",
        "trimmed_df.loc[trimmed_df['Category Name'] == 'Single Malt Scotch', 'Category Name'] = 'SCOTCH WHISKIES'\n",
        "trimmed_df.loc[trimmed_df['Category Name'] == 'Canadian Whiskies', 'Category Name'] = 'CANADIAN WHISKIES'\n",
        "trimmed_df.loc[trimmed_df['Category Name'] == 'Tennessee Whiskies', 'Category Name'] = 'TENNESSEE WHISKIES'\n",
        "trimmed_df.loc[trimmed_df['Category Name'] == 'BLENDED WHISKIES', 'Category Name'] = 'BLENDED AND OTHER WHISKIES'\n",
        "trimmed_df.loc[trimmed_df['Category Name'] == 'Blended Whiskies', 'Category Name'] = 'BLENDED AND OTHER WHISKIES'\n",
        "trimmed_df.loc[trimmed_df['Category Name'] == 'Irish Whiskies', 'Category Name'] = 'IRISH WHISKIES'\n",
        "\n",
        "#Vodka\n",
        "trimmed_df.loc[trimmed_df['Category Name'] == 'VODKA 80 PROOF', 'Category Name'] = 'VODKA'\n",
        "trimmed_df.loc[trimmed_df['Category Name'] == 'IMPORTED VODKA', 'Category Name'] = 'VODKA'\n",
        "trimmed_df.loc[trimmed_df['Category Name'] == 'IMPORTED VODKA - MISC', 'Category Name'] = 'VODKA'\n",
        "trimmed_df.loc[trimmed_df['Category Name'] == '100 PROOF VODKA', 'Category Name'] = 'VODKA'\n",
        "trimmed_df.loc[trimmed_df['Category Name'] == 'OTHER PROOF VODKA', 'Category Name'] = 'VODKA'\n",
        "trimmed_df.loc[trimmed_df['Category Name'] == 'LOW PROOF VODKA', 'Category Name'] = 'VODKA'\n",
        "\n",
        "#Brandies\n",
        "trimmed_df.loc[trimmed_df['Category Name'] == 'AMERICAN GRAPE BRANDIES', 'Category Name'] = 'GRAPE-BASED BRANDIES'\n",
        "trimmed_df.loc[trimmed_df['Category Name'] == 'IMPORTED GRAPE BRANDIES', 'Category Name'] = 'GRAPE-BASED BRANDIES'\n",
        "trimmed_df.loc[trimmed_df['Category Name'] == 'MISCELLANEOUS BRANDIES', 'Category Name'] = 'GRAPE-BASED BRANDIES'\n",
        "trimmed_df.loc[trimmed_df['Category Name'] == 'MISCELLANEOUS  BRANDIES', 'Category Name'] = 'GRAPE-BASED BRANDIES'\n",
        "trimmed_df.loc[trimmed_df['Category Name'] == 'American Brandies', 'Category Name'] = 'GRAPE-BASED BRANDIES'\n",
        "trimmed_df.loc[trimmed_df['Category Name'] == 'Imported Brandies', 'Category Name'] = 'GRAPE-BASED BRANDIES'\n",
        "trimmed_df.loc[trimmed_df['Category Name'] == 'BLACKBERRY BRANDIES', 'Category Name'] = 'OTHER FRUIT BRANDIES'\n",
        "trimmed_df.loc[trimmed_df['Category Name'] == 'APRICOT BRANDIES','Category Name'] = 'OTHER FRUIT BRANDIES'\n",
        "trimmed_df.loc[trimmed_df['Category Name'] == 'CHERRY BRANDIES', 'Category Name'] = 'OTHER FRUIT BRANDIES'\n",
        "trimmed_df.loc[trimmed_df['Category Name'] == 'PEACH BRANDIES', 'Category Name'] = 'OTHER FRUIT BRANDIES'\n",
        "\n",
        "#Schnapps\n",
        "trimmed_df.loc[trimmed_df['Category Name'] == 'IMPORTED SCHNAPPS', 'Category Name'] = 'MISCELLANEOUS SCHNAPPS'\n",
        "trimmed_df.loc[trimmed_df['Category Name'] == 'Imported Schnapps', 'Category Name'] = 'MISCELLANEOUS SCHNAPPS'\n",
        "trimmed_df.loc[trimmed_df['Category Name'] == 'American Schnapps', 'Category Name'] = 'MISCELLANEOUS SCHNAPPS'\n",
        "trimmed_df.loc[trimmed_df['Category Name'] == 'SCHNAPPS - IMPORTED', 'Category Name'] = 'MISCELLANEOUS SCHNAPPS'\n",
        "trimmed_df.loc[trimmed_df['Category Name'] == 'CINNAMON SCHNAPPS', 'Category Name'] = 'MISCELLANEOUS SCHNAPPS'\n",
        "trimmed_df.loc[trimmed_df['Category Name'] == 'BUTTERSCOTCH SCHNAPPS', 'Category Name'] = 'MISCELLANEOUS SCHNAPPS'\n",
        "trimmed_df.loc[trimmed_df['Category Name'] == 'ROOT BEER SCHNAPPS', 'Category Name'] = 'MISCELLANEOUS SCHNAPPS'\n",
        "trimmed_df.loc[trimmed_df['Category Name'] == 'SPEARMINT SCHNAPPS', 'Category Name'] = 'MISCELLANEOUS SCHNAPPS'\n",
        "trimmed_df.loc[trimmed_df['Category Name'] == 'PEACH SCHNAPPS', 'Category Name'] = 'FRUIT SCHNAPPS'\n",
        "trimmed_df.loc[trimmed_df['Category Name'] == 'APPLE SCHNAPPS', 'Category Name'] = 'FRUIT SCHNAPPS'\n",
        "trimmed_df.loc[trimmed_df['Category Name'] == 'WATERMELON SCHNAPPS', 'Category Name'] = 'FRUIT SCHNAPPS'\n",
        "trimmed_df.loc[trimmed_df['Category Name'] == 'RASPBERRY SCHNAPPS', 'Category Name'] = 'FRUIT SCHNAPPS'\n",
        "trimmed_df.loc[trimmed_df['Category Name'] == 'GRAPE SCHNAPPS','Category Name'] = 'FRUIT SCHNAPPS'\n",
        "trimmed_df.loc[trimmed_df['Category Name'] == 'STRAWBERRY SCHNAPPS','Category Name'] = 'FRUIT SCHNAPPS'\n",
        "trimmed_df.loc[trimmed_df['Category Name'] == 'TROPICAL FRUIT SCHNAPPS', 'Category Name'] = 'FRUIT SCHNAPPS'\n",
        "\n",
        "#other liqueurs\n",
        "trimmed_df.loc[trimmed_df['Category Name'] == 'TRIPLE SEC','Category Name'] = 'LIQUEUR'\n",
        "trimmed_df.loc[trimmed_df['Category Name'] == 'Triple Sec','Category Name'] = 'LIQUEUR'\n",
        "trimmed_df.loc[trimmed_df['Category Name'] == 'ANISETTE', 'Category Name'] = 'LIQUEUR'"
      ]
    },
    {
      "cell_type": "code",
      "execution_count": 26,
      "metadata": {
        "id": "vE-kzjEf--Uc"
      },
      "outputs": [],
      "source": [
        "#unhelpful categories to drop\n",
        "trimmed_df = trimmed_df.drop(trimmed_df[trimmed_df['Category Name'] == 'DISTILLED SPIRITS SPECIALTY'].index)\n",
        "trimmed_df = trimmed_df.drop(trimmed_df[trimmed_df['Category Name'] == 'DECANTERS & SPECIALTY PACKAGES'].index)\n",
        "trimmed_df = trimmed_df.drop(trimmed_df[trimmed_df['Category Name'] == 'AMERICAN ALCOHOL'].index)\n",
        "#getting rid of obscure categories with hardly any entries\n",
        "counts = trimmed_df['Category Name'].value_counts()\n",
        "trimmed_df = trimmed_df[~trimmed_df['Category Name'].isin(counts[counts < 20].index)]"
      ]
    },
    {
      "cell_type": "code",
      "execution_count": 27,
      "metadata": {
        "colab": {
          "base_uri": "https://localhost:8080/"
        },
        "id": "hJvFq3B04aOR",
        "outputId": "69abf3d0-c246-46cb-cf63-7ab2b357d4ff"
      },
      "outputs": [
        {
          "output_type": "stream",
          "name": "stdout",
          "text": [
            "Amount of Revised Liquor Categories: 18\n",
            "---------------------------------------\n",
            "Category Name\n",
            "VODKA                         160230\n",
            "LIQUEUR                        92890\n",
            "CANADIAN WHISKIES              72761\n",
            "RUM                            66789\n",
            "GIN                            65263\n",
            "BOURBON                        44244\n",
            "BLENDED AND OTHER WHISKIES     41869\n",
            "VODKA FLAVORED                 38880\n",
            "TEQUILA                        33632\n",
            "GRAPE-BASED BRANDIES           31848\n",
            "MISCELLANEOUS SCHNAPPS         24257\n",
            "RTD COCKTAILS                  23960\n",
            "SCOTCH WHISKIES                23315\n",
            "TENNESSEE WHISKIES             19051\n",
            "FRUIT SCHNAPPS                 13942\n",
            "OTHER FRUIT BRANDIES           10318\n",
            "PEPPERMINT SCHNAPPS             9571\n",
            "IRISH WHISKIES                  6445\n"
          ]
        }
      ],
      "source": [
        "print('Amount of Revised Liquor Categories:', len(trimmed_df['Category Name'].value_counts()))\n",
        "print(\"---------------------------------------\")\n",
        "print(trimmed_df['Category Name'].value_counts().to_string())"
      ]
    },
    {
      "cell_type": "markdown",
      "metadata": {
        "id": "66-1kp-ILdNI"
      },
      "source": [
        "With that process finished, let's start looking toward breaking this data down by store:"
      ]
    },
    {
      "cell_type": "code",
      "execution_count": 28,
      "metadata": {
        "colab": {
          "base_uri": "https://localhost:8080/"
        },
        "id": "FcPGR4MwMQZ_",
        "outputId": "b43a4269-e607-42b4-d1c8-67a28a81ed5d"
      },
      "outputs": [
        {
          "output_type": "execute_result",
          "data": {
            "text/plain": [
              "Store Number\n",
              "2633    6993\n",
              "2190    6600\n",
              "2512    5999\n",
              "2614    5263\n",
              "4829    4751\n",
              "2501    4307\n",
              "2515    4256\n",
              "2616    4212\n",
              "2599    4034\n",
              "Name: count, dtype: int64"
            ]
          },
          "metadata": {},
          "execution_count": 28
        }
      ],
      "source": [
        "#What do, say, the top ten stores look like in terms of sales?\n",
        "store_counts = trimmed_df['Store Number'].value_counts()\n",
        "store_counts[0:9]"
      ]
    },
    {
      "cell_type": "code",
      "execution_count": 29,
      "metadata": {
        "id": "UlEJtL1dNnt6"
      },
      "outputs": [],
      "source": [
        "#It turns out that store number '2633' is a Hy-Vee in Des Moines.\n",
        "# We'll isolate this store and save it for further EDA later.\n",
        "hy_vee_des_moines = trimmed_df[trimmed_df['Store Number'] == 2633]\n",
        "#The second-busiest is Central City Liqour, also in Des Moines.\n",
        "ccl_des_moines = trimmed_df[trimmed_df['Store Number'] == 2190]\n",
        "#The third-busiest is a Hy Vee Wine & Spirits in Iowa City.\n",
        "hy_vee_iowa_city = trimmed_df[trimmed_df['Store Number'] == 2512]"
      ]
    },
    {
      "cell_type": "code",
      "source": [
        "hy_vee_des_moines.info()"
      ],
      "metadata": {
        "colab": {
          "base_uri": "https://localhost:8080/"
        },
        "id": "ks8mVM-cvO98",
        "outputId": "b0d99eb5-3a5c-4f64-9c12-7e8d74fa13ef"
      },
      "execution_count": 32,
      "outputs": [
        {
          "output_type": "stream",
          "name": "stdout",
          "text": [
            "<class 'pandas.core.frame.DataFrame'>\n",
            "Index: 6993 entries, 1 to 1048549\n",
            "Data columns (total 7 columns):\n",
            " #   Column          Non-Null Count  Dtype         \n",
            "---  ------          --------------  -----         \n",
            " 0   Date            6993 non-null   datetime64[ns]\n",
            " 1   Store Number    6993 non-null   int64         \n",
            " 2   Category Name   6993 non-null   object        \n",
            " 3   Vendor Name     6993 non-null   object        \n",
            " 4   Pack            6993 non-null   int64         \n",
            " 5   Bottles Sold    6993 non-null   int64         \n",
            " 6   Sale (Dollars)  6993 non-null   float64       \n",
            "dtypes: datetime64[ns](1), float64(1), int64(3), object(2)\n",
            "memory usage: 437.1+ KB\n"
          ]
        }
      ]
    },
    {
      "cell_type": "markdown",
      "metadata": {
        "id": "Zm3Q5VCaQbtB"
      },
      "source": [
        "Let's delve into the single busiest store and see how its liquor sales dates are distributed."
      ]
    },
    {
      "cell_type": "code",
      "execution_count": 37,
      "metadata": {
        "colab": {
          "base_uri": "https://localhost:8080/",
          "height": 466
        },
        "id": "uZniYvkPQts-",
        "outputId": "bb5f1fe0-4063-4059-84f1-309a893ec66e"
      },
      "outputs": [
        {
          "output_type": "display_data",
          "data": {
            "text/plain": [
              "<Figure size 640x480 with 1 Axes>"
            ],
            "image/png": "[encoded data removed]"
          },
          "metadata": {}
        }
      ],
      "source": [
        "hy_vee_des_moines['Date'].hist(xrot=45, bins=50);"
      ]
    },
    {
      "cell_type": "markdown",
      "source": [
        "We can decipher a general pattern of peaks around the 4th of July, Labor Day weekend, and Thanksgiving & Christmas. There's also a noticable lull around June and October, which is interesting.\n",
        "\n",
        "Additionally, there's a slight upward trend in the data; it seems to be slowly rising throughout this timespan.\n",
        "\n",
        "All in all, we'll almost certainly need to account for this trend and seasonality by stationarizing our time-series data once we begin modeling. Before we get there, we have a little more EDA to do here at the store-level."
      ],
      "metadata": {
        "id": "rAWYbbfevkWz"
      }
    },
    {
      "cell_type": "code",
      "execution_count": null,
      "metadata": {
        "colab": {
          "base_uri": "https://localhost:8080/"
        },
        "id": "v6CTCQqIUtvt",
        "outputId": "6ea6b47e-9bb5-42f0-e2fc-7466c3095b58"
      },
      "outputs": [
        {
          "data": {
            "text/plain": [
              "Pack\n",
              "12    5828\n",
              "6     1145\n",
              "3        7\n",
              "10       5\n",
              "1        4\n",
              "24       3\n",
              "48       1\n",
              "4        1\n",
              "Name: count, dtype: int64"
            ]
          },
          "execution_count": 73,
          "metadata": {},
          "output_type": "execute_result"
        }
      ],
      "source": [
        "hy_vee_des_moines['Pack'].value_counts()"
      ]
    },
    {
      "cell_type": "markdown",
      "source": [
        "I'm not sure whether this will just add some unhelpful noise or will it contribute some helpful information. For now, we'll keep it. Let's also inspect how the vendor list looks here."
      ],
      "metadata": {
        "id": "1wPb3RoaxQFB"
      }
    },
    {
      "cell_type": "code",
      "execution_count": 33,
      "metadata": {
        "colab": {
          "base_uri": "https://localhost:8080/"
        },
        "id": "qMavKbO_WxQ-",
        "outputId": "933ece5b-3cc6-472b-f203-7d805b9c8043"
      },
      "outputs": [
        {
          "output_type": "execute_result",
          "data": {
            "text/plain": [
              "64"
            ]
          },
          "metadata": {},
          "execution_count": 33
        }
      ],
      "source": [
        "len(hy_vee_des_moines['Vendor Name'].unique())"
      ]
    },
    {
      "cell_type": "code",
      "execution_count": 39,
      "metadata": {
        "colab": {
          "base_uri": "https://localhost:8080/"
        },
        "id": "jiZ8--O0bBoT",
        "outputId": "bd7591db-78ee-4951-e181-bdbd93c5d5cb"
      },
      "outputs": [
        {
          "output_type": "execute_result",
          "data": {
            "text/plain": [
              "Vendor Name\n",
              "Jim Beam Brands                      1147\n",
              "Diageo Americas                      1110\n",
              "Luxco-St Louis                        769\n",
              "Pernod Ricard USA/Austin Nichols      452\n",
              "Bacardi U.S.A., Inc.                  425\n",
              "                                     ... \n",
              "Duggan's Distillers Products Corp       1\n",
              "Evaton, Inc.                            1\n",
              "Surville Enterprises Corp               1\n",
              "Four Roses Distillery                   1\n",
              "Tanteo Tequila                          1\n",
              "Name: count, Length: 64, dtype: int64"
            ]
          },
          "metadata": {},
          "execution_count": 39
        }
      ],
      "source": [
        "hy_vee_des_moines['Vendor Name'].value_counts()"
      ]
    },
    {
      "cell_type": "code",
      "execution_count": 40,
      "metadata": {
        "colab": {
          "base_uri": "https://localhost:8080/",
          "height": 613
        },
        "id": "D-hjZMMIasjr",
        "outputId": "8ef24b80-5993-400a-8e75-a470380369e3"
      },
      "outputs": [
        {
          "output_type": "execute_result",
          "data": {
            "text/plain": [
              "                                  count\n",
              "Vendor Name                            \n",
              "Jim Beam Brands                    1147\n",
              "Diageo Americas                    1110\n",
              "Luxco-St Louis                      769\n",
              "Pernod Ricard USA/Austin Nichols    452\n",
              "Bacardi U.S.A., Inc.                425\n",
              "Sazerac North America               367\n",
              "Phillips Beverage Company           365\n",
              "Proximo                             292\n",
              "Sazerac Co., Inc.                   267\n",
              "Campari(skyy)                       185\n",
              "Brown-Forman Corporation            170\n",
              "Constellation Wine Company, Inc.    129\n",
              "WILLIAM GRANT AND SONS, INC.        122\n",
              "Moet Hennessy USA, Inc.             120\n",
              "Mccormick Distilling Company        119\n",
              "Heaven Hill Brands                  114\n",
              "The Patron Spirits Company          105"
            ],
            "text/html": [
              "\n",
              "  <div id=\"df-7e474a33-4bba-4cd1-8481-cc9b5af24a85\" class=\"colab-df-container\">\n",
              "    <div>\n",
              "<style scoped>\n",
              "    .dataframe tbody tr th:only-of-type {\n",
              "        vertical-align: middle;\n",
              "    }\n",
              "\n",
              "    .dataframe tbody tr th {\n",
              "        vertical-align: top;\n",
              "    }\n",
              "\n",
              "    .dataframe thead th {\n",
              "        text-align: right;\n",
              "    }\n",
              "</style>\n",
              "<table border=\"1\" class=\"dataframe\">\n",
              "  <thead>\n",
              "    <tr style=\"text-align: right;\">\n",
              "      <th></th>\n",
              "      <th>count</th>\n",
              "    </tr>\n",
              "    <tr>\n",
              "      <th>Vendor Name</th>\n",
              "      <th></th>\n",
              "    </tr>\n",
              "  </thead>\n",
              "  <tbody>\n",
              "    <tr>\n",
              "      <th>Jim Beam Brands</th>\n",
              "      <td>1147</td>\n",
              "    </tr>\n",
              "    <tr>\n",
              "      <th>Diageo Americas</th>\n",
              "      <td>1110</td>\n",
              "    </tr>\n",
              "    <tr>\n",
              "      <th>Luxco-St Louis</th>\n",
              "      <td>769</td>\n",
              "    </tr>\n",
              "    <tr>\n",
              "      <th>Pernod Ricard USA/Austin Nichols</th>\n",
              "      <td>452</td>\n",
              "    </tr>\n",
              "    <tr>\n",
              "      <th>Bacardi U.S.A., Inc.</th>\n",
              "      <td>425</td>\n",
              "    </tr>\n",
              "    <tr>\n",
              "      <th>Sazerac North America</th>\n",
              "      <td>367</td>\n",
              "    </tr>\n",
              "    <tr>\n",
              "      <th>Phillips Beverage Company</th>\n",
              "      <td>365</td>\n",
              "    </tr>\n",
              "    <tr>\n",
              "      <th>Proximo</th>\n",
              "      <td>292</td>\n",
              "    </tr>\n",
              "    <tr>\n",
              "      <th>Sazerac Co., Inc.</th>\n",
              "      <td>267</td>\n",
              "    </tr>\n",
              "    <tr>\n",
              "      <th>Campari(skyy)</th>\n",
              "      <td>185</td>\n",
              "    </tr>\n",
              "    <tr>\n",
              "      <th>Brown-Forman Corporation</th>\n",
              "      <td>170</td>\n",
              "    </tr>\n",
              "    <tr>\n",
              "      <th>Constellation Wine Company, Inc.</th>\n",
              "      <td>129</td>\n",
              "    </tr>\n",
              "    <tr>\n",
              "      <th>WILLIAM GRANT AND SONS, INC.</th>\n",
              "      <td>122</td>\n",
              "    </tr>\n",
              "    <tr>\n",
              "      <th>Moet Hennessy USA, Inc.</th>\n",
              "      <td>120</td>\n",
              "    </tr>\n",
              "    <tr>\n",
              "      <th>Mccormick Distilling Company</th>\n",
              "      <td>119</td>\n",
              "    </tr>\n",
              "    <tr>\n",
              "      <th>Heaven Hill Brands</th>\n",
              "      <td>114</td>\n",
              "    </tr>\n",
              "    <tr>\n",
              "      <th>The Patron Spirits Company</th>\n",
              "      <td>105</td>\n",
              "    </tr>\n",
              "  </tbody>\n",
              "</table>\n",
              "</div>\n",
              "    <div class=\"colab-df-buttons\">\n",
              "\n",
              "  <div class=\"colab-df-container\">\n",
              "    <button class=\"colab-df-convert\" onclick=\"convertToInteractive('df-7e474a33-4bba-4cd1-8481-cc9b5af24a85')\"\n",
              "            title=\"Convert this dataframe to an interactive table.\"\n",
              "            style=\"display:none;\">\n",
              "\n",
              "  <svg xmlns=\"http://www.w3.org/2000/svg\" height=\"24px\" viewBox=\"0 -960 960 960\">\n",
              "    <path d=\"M120-120v-720h720v720H120Zm60-500h600v-160H180v160Zm220 220h160v-160H400v160Zm0 220h160v-160H400v160ZM180-400h160v-160H180v160Zm440 0h160v-160H620v160ZM180-180h160v-160H180v160Zm440 0h160v-160H620v160Z\"/>\n",
              "  </svg>\n",
              "    </button>\n",
              "\n",
              "  <style>\n",
              "    .colab-df-container {\n",
              "      display:flex;\n",
              "      gap: 12px;\n",
              "    }\n",
              "\n",
              "    .colab-df-convert {\n",
              "      background-color: #E8F0FE;\n",
              "      border: none;\n",
              "      border-radius: 50%;\n",
              "      cursor: pointer;\n",
              "      display: none;\n",
              "      fill: #1967D2;\n",
              "      height: 32px;\n",
              "      padding: 0 0 0 0;\n",
              "      width: 32px;\n",
              "    }\n",
              "\n",
              "    .colab-df-convert:hover {\n",
              "      background-color: #E2EBFA;\n",
              "      box-shadow: 0px 1px 2px rgba(60, 64, 67, 0.3), 0px 1px 3px 1px rgba(60, 64, 67, 0.15);\n",
              "      fill: #174EA6;\n",
              "    }\n",
              "\n",
              "    .colab-df-buttons div {\n",
              "      margin-bottom: 4px;\n",
              "    }\n",
              "\n",
              "    [theme=dark] .colab-df-convert {\n",
              "      background-color: #3B4455;\n",
              "      fill: #D2E3FC;\n",
              "    }\n",
              "\n",
              "    [theme=dark] .colab-df-convert:hover {\n",
              "      background-color: #434B5C;\n",
              "      box-shadow: 0px 1px 3px 1px rgba(0, 0, 0, 0.15);\n",
              "      filter: drop-shadow(0px 1px 2px rgba(0, 0, 0, 0.3));\n",
              "      fill: #FFFFFF;\n",
              "    }\n",
              "  </style>\n",
              "\n",
              "    <script>\n",
              "      const buttonEl =\n",
              "        document.querySelector('#df-7e474a33-4bba-4cd1-8481-cc9b5af24a85 button.colab-df-convert');\n",
              "      buttonEl.style.display =\n",
              "        google.colab.kernel.accessAllowed ? 'block' : 'none';\n",
              "\n",
              "      async function convertToInteractive(key) {\n",
              "        const element = document.querySelector('#df-7e474a33-4bba-4cd1-8481-cc9b5af24a85');\n",
              "        const dataTable =\n",
              "          await google.colab.kernel.invokeFunction('convertToInteractive',\n",
              "                                                    [key], {});\n",
              "        if (!dataTable) return;\n",
              "\n",
              "        const docLinkHtml = 'Like what you see? Visit the ' +\n",
              "          '<a target=\"_blank\" href=https://colab.research.google.com/notebooks/data_table.ipynb>data table notebook</a>'\n",
              "          + ' to learn more about interactive tables.';\n",
              "        element.innerHTML = '';\n",
              "        dataTable['output_type'] = 'display_data';\n",
              "        await google.colab.output.renderOutput(dataTable, element);\n",
              "        const docLink = document.createElement('div');\n",
              "        docLink.innerHTML = docLinkHtml;\n",
              "        element.appendChild(docLink);\n",
              "      }\n",
              "    </script>\n",
              "  </div>\n",
              "\n",
              "\n",
              "<div id=\"df-7f7ff1f8-17c4-4978-901f-b95c31dab0ca\">\n",
              "  <button class=\"colab-df-quickchart\" onclick=\"quickchart('df-7f7ff1f8-17c4-4978-901f-b95c31dab0ca')\"\n",
              "            title=\"Suggest charts\"\n",
              "            style=\"display:none;\">\n",
              "\n",
              "<svg xmlns=\"http://www.w3.org/2000/svg\" height=\"24px\"viewBox=\"0 0 24 24\"\n",
              "     width=\"24px\">\n",
              "    <g>\n",
              "        <path d=\"M19 3H5c-1.1 0-2 .9-2 2v14c0 1.1.9 2 2 2h14c1.1 0 2-.9 2-2V5c0-1.1-.9-2-2-2zM9 17H7v-7h2v7zm4 0h-2V7h2v10zm4 0h-2v-4h2v4z\"/>\n",
              "    </g>\n",
              "</svg>\n",
              "  </button>\n",
              "\n",
              "<style>\n",
              "  .colab-df-quickchart {\n",
              "      --bg-color: #E8F0FE;\n",
              "      --fill-color: #1967D2;\n",
              "      --hover-bg-color: #E2EBFA;\n",
              "      --hover-fill-color: #174EA6;\n",
              "      --disabled-fill-color: #AAA;\n",
              "      --disabled-bg-color: #DDD;\n",
              "  }\n",
              "\n",
              "  [theme=dark] .colab-df-quickchart {\n",
              "      --bg-color: #3B4455;\n",
              "      --fill-color: #D2E3FC;\n",
              "      --hover-bg-color: #434B5C;\n",
              "      --hover-fill-color: #FFFFFF;\n",
              "      --disabled-bg-color: #3B4455;\n",
              "      --disabled-fill-color: #666;\n",
              "  }\n",
              "\n",
              "  .colab-df-quickchart {\n",
              "    background-color: var(--bg-color);\n",
              "    border: none;\n",
              "    border-radius: 50%;\n",
              "    cursor: pointer;\n",
              "    display: none;\n",
              "    fill: var(--fill-color);\n",
              "    height: 32px;\n",
              "    padding: 0;\n",
              "    width: 32px;\n",
              "  }\n",
              "\n",
              "  .colab-df-quickchart:hover {\n",
              "    background-color: var(--hover-bg-color);\n",
              "    box-shadow: 0 1px 2px rgba(60, 64, 67, 0.3), 0 1px 3px 1px rgba(60, 64, 67, 0.15);\n",
              "    fill: var(--button-hover-fill-color);\n",
              "  }\n",
              "\n",
              "  .colab-df-quickchart-complete:disabled,\n",
              "  .colab-df-quickchart-complete:disabled:hover {\n",
              "    background-color: var(--disabled-bg-color);\n",
              "    fill: var(--disabled-fill-color);\n",
              "    box-shadow: none;\n",
              "  }\n",
              "\n",
              "  .colab-df-spinner {\n",
              "    border: 2px solid var(--fill-color);\n",
              "    border-color: transparent;\n",
              "    border-bottom-color: var(--fill-color);\n",
              "    animation:\n",
              "      spin 1s steps(1) infinite;\n",
              "  }\n",
              "\n",
              "  @keyframes spin {\n",
              "    0% {\n",
              "      border-color: transparent;\n",
              "      border-bottom-color: var(--fill-color);\n",
              "      border-left-color: var(--fill-color);\n",
              "    }\n",
              "    20% {\n",
              "      border-color: transparent;\n",
              "      border-left-color: var(--fill-color);\n",
              "      border-top-color: var(--fill-color);\n",
              "    }\n",
              "    30% {\n",
              "      border-color: transparent;\n",
              "      border-left-color: var(--fill-color);\n",
              "      border-top-color: var(--fill-color);\n",
              "      border-right-color: var(--fill-color);\n",
              "    }\n",
              "    40% {\n",
              "      border-color: transparent;\n",
              "      border-right-color: var(--fill-color);\n",
              "      border-top-color: var(--fill-color);\n",
              "    }\n",
              "    60% {\n",
              "      border-color: transparent;\n",
              "      border-right-color: var(--fill-color);\n",
              "    }\n",
              "    80% {\n",
              "      border-color: transparent;\n",
              "      border-right-color: var(--fill-color);\n",
              "      border-bottom-color: var(--fill-color);\n",
              "    }\n",
              "    90% {\n",
              "      border-color: transparent;\n",
              "      border-bottom-color: var(--fill-color);\n",
              "    }\n",
              "  }\n",
              "</style>\n",
              "\n",
              "  <script>\n",
              "    async function quickchart(key) {\n",
              "      const quickchartButtonEl =\n",
              "        document.querySelector('#' + key + ' button');\n",
              "      quickchartButtonEl.disabled = true;  // To prevent multiple clicks.\n",
              "      quickchartButtonEl.classList.add('colab-df-spinner');\n",
              "      try {\n",
              "        const charts = await google.colab.kernel.invokeFunction(\n",
              "            'suggestCharts', [key], {});\n",
              "      } catch (error) {\n",
              "        console.error('Error during call to suggestCharts:', error);\n",
              "      }\n",
              "      quickchartButtonEl.classList.remove('colab-df-spinner');\n",
              "      quickchartButtonEl.classList.add('colab-df-quickchart-complete');\n",
              "    }\n",
              "    (() => {\n",
              "      let quickchartButtonEl =\n",
              "        document.querySelector('#df-7f7ff1f8-17c4-4978-901f-b95c31dab0ca button');\n",
              "      quickchartButtonEl.style.display =\n",
              "        google.colab.kernel.accessAllowed ? 'block' : 'none';\n",
              "    })();\n",
              "  </script>\n",
              "</div>\n",
              "\n",
              "  <div id=\"id_2a4bc55e-991e-4e05-b8b3-7888158e0cd2\">\n",
              "    <style>\n",
              "      .colab-df-generate {\n",
              "        background-color: #E8F0FE;\n",
              "        border: none;\n",
              "        border-radius: 50%;\n",
              "        cursor: pointer;\n",
              "        display: none;\n",
              "        fill: #1967D2;\n",
              "        height: 32px;\n",
              "        padding: 0 0 0 0;\n",
              "        width: 32px;\n",
              "      }\n",
              "\n",
              "      .colab-df-generate:hover {\n",
              "        background-color: #E2EBFA;\n",
              "        box-shadow: 0px 1px 2px rgba(60, 64, 67, 0.3), 0px 1px 3px 1px rgba(60, 64, 67, 0.15);\n",
              "        fill: #174EA6;\n",
              "      }\n",
              "\n",
              "      [theme=dark] .colab-df-generate {\n",
              "        background-color: #3B4455;\n",
              "        fill: #D2E3FC;\n",
              "      }\n",
              "\n",
              "      [theme=dark] .colab-df-generate:hover {\n",
              "        background-color: #434B5C;\n",
              "        box-shadow: 0px 1px 3px 1px rgba(0, 0, 0, 0.15);\n",
              "        filter: drop-shadow(0px 1px 2px rgba(0, 0, 0, 0.3));\n",
              "        fill: #FFFFFF;\n",
              "      }\n",
              "    </style>\n",
              "    <button class=\"colab-df-generate\" onclick=\"generateWithVariable('hvdm__100_order_vendors')\"\n",
              "            title=\"Generate code using this dataframe.\"\n",
              "            style=\"display:none;\">\n",
              "\n",
              "  <svg xmlns=\"http://www.w3.org/2000/svg\" height=\"24px\"viewBox=\"0 0 24 24\"\n",
              "       width=\"24px\">\n",
              "    <path d=\"M7,19H8.4L18.45,9,17,7.55,7,17.6ZM5,21V16.75L18.45,3.32a2,2,0,0,1,2.83,0l1.4,1.43a1.91,1.91,0,0,1,.58,1.4,1.91,1.91,0,0,1-.58,1.4L9.25,21ZM18.45,9,17,7.55Zm-12,3A5.31,5.31,0,0,0,4.9,8.1,5.31,5.31,0,0,0,1,6.5,5.31,5.31,0,0,0,4.9,4.9,5.31,5.31,0,0,0,6.5,1,5.31,5.31,0,0,0,8.1,4.9,5.31,5.31,0,0,0,12,6.5,5.46,5.46,0,0,0,6.5,12Z\"/>\n",
              "  </svg>\n",
              "    </button>\n",
              "    <script>\n",
              "      (() => {\n",
              "      const buttonEl =\n",
              "        document.querySelector('#id_2a4bc55e-991e-4e05-b8b3-7888158e0cd2 button.colab-df-generate');\n",
              "      buttonEl.style.display =\n",
              "        google.colab.kernel.accessAllowed ? 'block' : 'none';\n",
              "\n",
              "      buttonEl.onclick = () => {\n",
              "        google.colab.notebook.generateWithVariable('hvdm__100_order_vendors');\n",
              "      }\n",
              "      })();\n",
              "    </script>\n",
              "  </div>\n",
              "\n",
              "    </div>\n",
              "  </div>\n"
            ],
            "application/vnd.google.colaboratory.intrinsic+json": {
              "type": "dataframe",
              "variable_name": "hvdm__100_order_vendors",
              "summary": "{\n  \"name\": \"hvdm__100_order_vendors\",\n  \"rows\": 17,\n  \"fields\": [\n    {\n      \"column\": \"Vendor Name\",\n      \"properties\": {\n        \"dtype\": \"string\",\n        \"num_unique_values\": 17,\n        \"samples\": [\n          \"Jim Beam Brands\",\n          \"Diageo Americas\",\n          \"Sazerac North America\"\n        ],\n        \"semantic_type\": \"\",\n        \"description\": \"\"\n      }\n    },\n    {\n      \"column\": \"count\",\n      \"properties\": {\n        \"dtype\": \"number\",\n        \"std\": 334,\n        \"min\": 105,\n        \"max\": 1147,\n        \"num_unique_values\": 17,\n        \"samples\": [\n          1147,\n          1110,\n          367\n        ],\n        \"semantic_type\": \"\",\n        \"description\": \"\"\n      }\n    }\n  ]\n}"
            }
          },
          "metadata": {},
          "execution_count": 40
        }
      ],
      "source": [
        "hvdm_vendor_counts = hy_vee_des_moines['Vendor Name'].value_counts()\n",
        "hvdm__100_order_vendors = pd.DataFrame(hvdm_vendor_counts)\n",
        "hvdm__100_order_vendors = hvdm__100_order_vendors[hvdm__100_order_vendors['count']>= 100]\n",
        "hvdm__100_order_vendors"
      ]
    },
    {
      "cell_type": "code",
      "execution_count": 49,
      "metadata": {
        "colab": {
          "base_uri": "https://localhost:8080/"
        },
        "id": "z9qHkyUsass1",
        "outputId": "4d3b788f-c322-41ca-c855-d40c83e349df"
      },
      "outputs": [
        {
          "output_type": "stream",
          "name": "stdout",
          "text": [
            "Number of Vendors with at least 100 orders fulfilled: 17\n",
            "Fraction of rows lost if we drop vendors with fewer than 100 orders: 0.10510510510510518\n"
          ]
        }
      ],
      "source": [
        "print(\"Number of Vendors with at least 100 orders fulfilled:\", len(hvdm__100_order_vendors))\n",
        "print(\"Fraction of rows lost if we drop vendors with fewer than 100 orders:\", 1 - sum(hvdm__100_order_vendors['count'] / len(hy_vee_des_moines)))"
      ]
    },
    {
      "cell_type": "markdown",
      "source": [
        "So, if we drop the records pertaining to vendors with fewer orders, we lose 10.5% of the rows, but the vendor categories drop from an unwieldy 64 to a far more reasonable 17.\n",
        "\n",
        "Ultimately, that's still a lot of rows. I think that, for now, I'll keep the vendor column as-is, but I won't use it for modeling at first. If the overall goal is to take a model that optimizes time-series predictions on inventory and then apply it to numerous other stores, keeping it limited to the time-series data, liquor categories, and counts is a good starting place on its own.\n",
        "\n",
        "Once this project reaches that minimum viability point, then I may be able to come back and include vendor data.\n",
        "\n",
        "With this groundwork laid down, let's move on to modeling our time-series inventory data with a SARIMA model.\n",
        "\n",
        "## modeling\n",
        "\n"
      ],
      "metadata": {
        "id": "rsTr_W7nxpUI"
      }
    },
    {
      "cell_type": "code",
      "execution_count": null,
      "metadata": {
        "id": "l6gDOF4vas1n"
      },
      "outputs": [],
      "source": []
    },
    {
      "cell_type": "code",
      "execution_count": null,
      "metadata": {
        "id": "dXdhS2h_efbk"
      },
      "outputs": [],
      "source": []
    }
  ],
  "metadata": {
    "colab": {
      "provenance": [],
      "authorship_tag": "ABX9TyPK/pYH06V0fS9fXD9RrVEa",
      "include_colab_link": true
    },
    "kernelspec": {
      "display_name": "Python 3",
      "name": "python3"
    },
    "language_info": {
      "name": "python"
    }
  },
  "nbformat": 4,
  "nbformat_minor": 0
}