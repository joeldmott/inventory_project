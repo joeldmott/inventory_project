{
  "cells": [
    {
      "cell_type": "markdown",
      "metadata": {
        "id": "view-in-github",
        "colab_type": "text"
      },
      "source": [
        "<a href=\"https://colab.research.google.com/github/joeldmott/inventory_project/blob/main/inventory_restocking_project.ipynb\" target=\"_parent\"><img src=\"https://colab.research.google.com/assets/colab-badge.svg\" alt=\"Open In Colab\"/></a>"
      ]
    },
    {
      "cell_type": "code",
      "execution_count": 1,
      "metadata": {
        "id": "CC4jPqddzEY4"
      },
      "outputs": [],
      "source": [
        "#importing packages to read in data from Kaggle host site\n",
        "import json\n",
        "import os\n",
        "from pathlib import Path\n",
        "from google.colab import userdata\n",
        "\n",
        "# api key for importing Kaggle and downloading the datasets\n",
        "os.environ[\"KAGGLE_KEY\"] = userdata.get('KAGGLE_KEY')\n",
        "os.environ[\"KAGGLE_USERNAME\"] = userdata.get('KAGGLE_USERNAME')\n",
        "\n",
        "# api key for the json object below\n",
        "api_key = userdata.get('API_KEY')\n",
        "\n",
        "# using pathlib Path\n",
        "kaggle_path = Path('/root/.kaggle')\n",
        "os.makedirs(kaggle_path, exist_ok=True)\n",
        "\n",
        "# opening file and dumps python dict to json object\n",
        "with open (kaggle_path/'kaggle.json', 'w') as handl:\n",
        "    json.dump(api_key,handl)\n",
        "\n",
        "os.chmod(kaggle_path/'kaggle.json', 600)"
      ]
    },
    {
      "cell_type": "code",
      "execution_count": 2,
      "metadata": {
        "colab": {
          "base_uri": "https://localhost:8080/"
        },
        "id": "akVHqq4j7J7R",
        "outputId": "28639d43-7cd2-4fcd-e211-141f39dd011f"
      },
      "outputs": [
        {
          "output_type": "stream",
          "name": "stdout",
          "text": [
            "Dataset URL: https://www.kaggle.com/datasets/joelmott/liquor-inventory-dataset\n",
            "License(s): MIT\n",
            "Downloading liquor-inventory-dataset.zip to /content\n",
            " 85% 57.0M/67.1M [00:01<00:00, 62.7MB/s]\n",
            "100% 67.1M/67.1M [00:01<00:00, 66.8MB/s]\n"
          ]
        }
      ],
      "source": [
        "import kaggle\n",
        "! kaggle datasets download joelmott/liquor-inventory-dataset"
      ]
    },
    {
      "cell_type": "code",
      "execution_count": 3,
      "metadata": {
        "colab": {
          "base_uri": "https://localhost:8080/"
        },
        "id": "qWOWhybu747k",
        "outputId": "2f8e1090-e7f1-4c00-fb20-92ccac5d4506"
      },
      "outputs": [
        {
          "output_type": "stream",
          "name": "stdout",
          "text": [
            "Archive:  liquor-inventory-dataset.zip\n",
            "  inflating: liquor sales dataset.csv  \n"
          ]
        }
      ],
      "source": [
        "!unzip liquor-inventory-dataset.zip"
      ]
    },
    {
      "cell_type": "code",
      "execution_count": 4,
      "metadata": {
        "colab": {
          "base_uri": "https://localhost:8080/",
          "height": 498
        },
        "id": "EWFuESJc-7Cw",
        "outputId": "5c0aff82-7e79-4a69-83e3-5e9b3785b52e"
      },
      "outputs": [
        {
          "output_type": "execute_result",
          "data": {
            "text/plain": [
              "  Invoice/Item Number        Date  Store Number  \\\n",
              "0        S24127700024   2/19/2015          3678   \n",
              "1        S15066200002  10/10/2013          2633   \n",
              "2        S19323500030    6/3/2014          2607   \n",
              "3        S23334500013    1/6/2015          4810   \n",
              "4        S09742200010  12/27/2012          4025   \n",
              "\n",
              "                             Store Name                   Address  \\\n",
              "0                       Smoke Shop, The           1918 SE 14TH ST   \n",
              "1          Hy-Vee #3 / BDI / Des Moines           3221 SE 14TH ST   \n",
              "2  Hy-Vee Wine and Spirits / Shenandoah            520 SO FREMONT   \n",
              "3                Kum & Go #518 / Ankeny  3603 NE OTTERVIEW CIRCLE   \n",
              "4               Karam Kaur Khasriya Llc               702 13TH ST   \n",
              "\n",
              "           City Zip Code                Store Location  County Number  County  \\\n",
              "0    DES MOINES    50320  POINT (-93.597011 41.570844)           77.0    Polk   \n",
              "1    DES MOINES    50320  POINT (-93.596754 41.554101)           77.0    Polk   \n",
              "2    SHENANDOAH    51601  POINT (-95.385111 40.761736)           73.0    Page   \n",
              "3        ANKENY    50021  POINT (-93.572458 41.760989)           77.0    Polk   \n",
              "4  BELLE PLAINE    52208  POINT (-92.277759 41.897052)            6.0  Benton   \n",
              "\n",
              "   ...  Item Number                 Item Description  Pack Bottle Volume (ml)  \\\n",
              "0  ...        41783     Uv Blue Raspberry Vodka Mini     6                500   \n",
              "1  ...       904969  Sabe Premiom Sake Double Barrel     6                750   \n",
              "2  ...        45277              Paramount White Rum    12               1000   \n",
              "3  ...        43121        Bacardi Superior Rum Mini    12                500   \n",
              "4  ...        11298      Crown Royal Canadian Whisky     6               1750   \n",
              "\n",
              "   State Bottle Cost State Bottle Retail  Bottles Sold  Sale (Dollars)  \\\n",
              "0               4.89                7.34             2           14.68   \n",
              "1              14.99               22.49             6          134.94   \n",
              "2               4.34                6.51            12           78.12   \n",
              "3               5.54                8.31             1            8.31   \n",
              "4              31.00               46.49             2           92.98   \n",
              "\n",
              "   Volume Sold (Liters)  Volume Sold (Gallons)  \n",
              "0                   1.0                   0.26  \n",
              "1                   4.5                   1.19  \n",
              "2                  12.0                   3.17  \n",
              "3                   0.5                   0.13  \n",
              "4                   3.5                   0.92  \n",
              "\n",
              "[5 rows x 24 columns]"
            ],
            "text/html": [
              "\n",
              "  <div id=\"df-da9b00b4-3874-44a3-9230-4df0fb9b2c8c\" class=\"colab-df-container\">\n",
              "    <div>\n",
              "<style scoped>\n",
              "    .dataframe tbody tr th:only-of-type {\n",
              "        vertical-align: middle;\n",
              "    }\n",
              "\n",
              "    .dataframe tbody tr th {\n",
              "        vertical-align: top;\n",
              "    }\n",
              "\n",
              "    .dataframe thead th {\n",
              "        text-align: right;\n",
              "    }\n",
              "</style>\n",
              "<table border=\"1\" class=\"dataframe\">\n",
              "  <thead>\n",
              "    <tr style=\"text-align: right;\">\n",
              "      <th></th>\n",
              "      <th>Invoice/Item Number</th>\n",
              "      <th>Date</th>\n",
              "      <th>Store Number</th>\n",
              "      <th>Store Name</th>\n",
              "      <th>Address</th>\n",
              "      <th>City</th>\n",
              "      <th>Zip Code</th>\n",
              "      <th>Store Location</th>\n",
              "      <th>County Number</th>\n",
              "      <th>County</th>\n",
              "      <th>...</th>\n",
              "      <th>Item Number</th>\n",
              "      <th>Item Description</th>\n",
              "      <th>Pack</th>\n",
              "      <th>Bottle Volume (ml)</th>\n",
              "      <th>State Bottle Cost</th>\n",
              "      <th>State Bottle Retail</th>\n",
              "      <th>Bottles Sold</th>\n",
              "      <th>Sale (Dollars)</th>\n",
              "      <th>Volume Sold (Liters)</th>\n",
              "      <th>Volume Sold (Gallons)</th>\n",
              "    </tr>\n",
              "  </thead>\n",
              "  <tbody>\n",
              "    <tr>\n",
              "      <th>0</th>\n",
              "      <td>S24127700024</td>\n",
              "      <td>2/19/2015</td>\n",
              "      <td>3678</td>\n",
              "      <td>Smoke Shop, The</td>\n",
              "      <td>1918 SE 14TH ST</td>\n",
              "      <td>DES MOINES</td>\n",
              "      <td>50320</td>\n",
              "      <td>POINT (-93.597011 41.570844)</td>\n",
              "      <td>77.0</td>\n",
              "      <td>Polk</td>\n",
              "      <td>...</td>\n",
              "      <td>41783</td>\n",
              "      <td>Uv Blue Raspberry Vodka Mini</td>\n",
              "      <td>6</td>\n",
              "      <td>500</td>\n",
              "      <td>4.89</td>\n",
              "      <td>7.34</td>\n",
              "      <td>2</td>\n",
              "      <td>14.68</td>\n",
              "      <td>1.0</td>\n",
              "      <td>0.26</td>\n",
              "    </tr>\n",
              "    <tr>\n",
              "      <th>1</th>\n",
              "      <td>S15066200002</td>\n",
              "      <td>10/10/2013</td>\n",
              "      <td>2633</td>\n",
              "      <td>Hy-Vee #3 / BDI / Des Moines</td>\n",
              "      <td>3221 SE 14TH ST</td>\n",
              "      <td>DES MOINES</td>\n",
              "      <td>50320</td>\n",
              "      <td>POINT (-93.596754 41.554101)</td>\n",
              "      <td>77.0</td>\n",
              "      <td>Polk</td>\n",
              "      <td>...</td>\n",
              "      <td>904969</td>\n",
              "      <td>Sabe Premiom Sake Double Barrel</td>\n",
              "      <td>6</td>\n",
              "      <td>750</td>\n",
              "      <td>14.99</td>\n",
              "      <td>22.49</td>\n",
              "      <td>6</td>\n",
              "      <td>134.94</td>\n",
              "      <td>4.5</td>\n",
              "      <td>1.19</td>\n",
              "    </tr>\n",
              "    <tr>\n",
              "      <th>2</th>\n",
              "      <td>S19323500030</td>\n",
              "      <td>6/3/2014</td>\n",
              "      <td>2607</td>\n",
              "      <td>Hy-Vee Wine and Spirits / Shenandoah</td>\n",
              "      <td>520 SO FREMONT</td>\n",
              "      <td>SHENANDOAH</td>\n",
              "      <td>51601</td>\n",
              "      <td>POINT (-95.385111 40.761736)</td>\n",
              "      <td>73.0</td>\n",
              "      <td>Page</td>\n",
              "      <td>...</td>\n",
              "      <td>45277</td>\n",
              "      <td>Paramount White Rum</td>\n",
              "      <td>12</td>\n",
              "      <td>1000</td>\n",
              "      <td>4.34</td>\n",
              "      <td>6.51</td>\n",
              "      <td>12</td>\n",
              "      <td>78.12</td>\n",
              "      <td>12.0</td>\n",
              "      <td>3.17</td>\n",
              "    </tr>\n",
              "    <tr>\n",
              "      <th>3</th>\n",
              "      <td>S23334500013</td>\n",
              "      <td>1/6/2015</td>\n",
              "      <td>4810</td>\n",
              "      <td>Kum &amp; Go #518 / Ankeny</td>\n",
              "      <td>3603 NE OTTERVIEW CIRCLE</td>\n",
              "      <td>ANKENY</td>\n",
              "      <td>50021</td>\n",
              "      <td>POINT (-93.572458 41.760989)</td>\n",
              "      <td>77.0</td>\n",
              "      <td>Polk</td>\n",
              "      <td>...</td>\n",
              "      <td>43121</td>\n",
              "      <td>Bacardi Superior Rum Mini</td>\n",
              "      <td>12</td>\n",
              "      <td>500</td>\n",
              "      <td>5.54</td>\n",
              "      <td>8.31</td>\n",
              "      <td>1</td>\n",
              "      <td>8.31</td>\n",
              "      <td>0.5</td>\n",
              "      <td>0.13</td>\n",
              "    </tr>\n",
              "    <tr>\n",
              "      <th>4</th>\n",
              "      <td>S09742200010</td>\n",
              "      <td>12/27/2012</td>\n",
              "      <td>4025</td>\n",
              "      <td>Karam Kaur Khasriya Llc</td>\n",
              "      <td>702 13TH ST</td>\n",
              "      <td>BELLE PLAINE</td>\n",
              "      <td>52208</td>\n",
              "      <td>POINT (-92.277759 41.897052)</td>\n",
              "      <td>6.0</td>\n",
              "      <td>Benton</td>\n",
              "      <td>...</td>\n",
              "      <td>11298</td>\n",
              "      <td>Crown Royal Canadian Whisky</td>\n",
              "      <td>6</td>\n",
              "      <td>1750</td>\n",
              "      <td>31.00</td>\n",
              "      <td>46.49</td>\n",
              "      <td>2</td>\n",
              "      <td>92.98</td>\n",
              "      <td>3.5</td>\n",
              "      <td>0.92</td>\n",
              "    </tr>\n",
              "  </tbody>\n",
              "</table>\n",
              "<p>5 rows × 24 columns</p>\n",
              "</div>\n",
              "    <div class=\"colab-df-buttons\">\n",
              "\n",
              "  <div class=\"colab-df-container\">\n",
              "    <button class=\"colab-df-convert\" onclick=\"convertToInteractive('df-da9b00b4-3874-44a3-9230-4df0fb9b2c8c')\"\n",
              "            title=\"Convert this dataframe to an interactive table.\"\n",
              "            style=\"display:none;\">\n",
              "\n",
              "  <svg xmlns=\"http://www.w3.org/2000/svg\" height=\"24px\" viewBox=\"0 -960 960 960\">\n",
              "    <path d=\"M120-120v-720h720v720H120Zm60-500h600v-160H180v160Zm220 220h160v-160H400v160Zm0 220h160v-160H400v160ZM180-400h160v-160H180v160Zm440 0h160v-160H620v160ZM180-180h160v-160H180v160Zm440 0h160v-160H620v160Z\"/>\n",
              "  </svg>\n",
              "    </button>\n",
              "\n",
              "  <style>\n",
              "    .colab-df-container {\n",
              "      display:flex;\n",
              "      gap: 12px;\n",
              "    }\n",
              "\n",
              "    .colab-df-convert {\n",
              "      background-color: #E8F0FE;\n",
              "      border: none;\n",
              "      border-radius: 50%;\n",
              "      cursor: pointer;\n",
              "      display: none;\n",
              "      fill: #1967D2;\n",
              "      height: 32px;\n",
              "      padding: 0 0 0 0;\n",
              "      width: 32px;\n",
              "    }\n",
              "\n",
              "    .colab-df-convert:hover {\n",
              "      background-color: #E2EBFA;\n",
              "      box-shadow: 0px 1px 2px rgba(60, 64, 67, 0.3), 0px 1px 3px 1px rgba(60, 64, 67, 0.15);\n",
              "      fill: #174EA6;\n",
              "    }\n",
              "\n",
              "    .colab-df-buttons div {\n",
              "      margin-bottom: 4px;\n",
              "    }\n",
              "\n",
              "    [theme=dark] .colab-df-convert {\n",
              "      background-color: #3B4455;\n",
              "      fill: #D2E3FC;\n",
              "    }\n",
              "\n",
              "    [theme=dark] .colab-df-convert:hover {\n",
              "      background-color: #434B5C;\n",
              "      box-shadow: 0px 1px 3px 1px rgba(0, 0, 0, 0.15);\n",
              "      filter: drop-shadow(0px 1px 2px rgba(0, 0, 0, 0.3));\n",
              "      fill: #FFFFFF;\n",
              "    }\n",
              "  </style>\n",
              "\n",
              "    <script>\n",
              "      const buttonEl =\n",
              "        document.querySelector('#df-da9b00b4-3874-44a3-9230-4df0fb9b2c8c button.colab-df-convert');\n",
              "      buttonEl.style.display =\n",
              "        google.colab.kernel.accessAllowed ? 'block' : 'none';\n",
              "\n",
              "      async function convertToInteractive(key) {\n",
              "        const element = document.querySelector('#df-da9b00b4-3874-44a3-9230-4df0fb9b2c8c');\n",
              "        const dataTable =\n",
              "          await google.colab.kernel.invokeFunction('convertToInteractive',\n",
              "                                                    [key], {});\n",
              "        if (!dataTable) return;\n",
              "\n",
              "        const docLinkHtml = 'Like what you see? Visit the ' +\n",
              "          '<a target=\"_blank\" href=https://colab.research.google.com/notebooks/data_table.ipynb>data table notebook</a>'\n",
              "          + ' to learn more about interactive tables.';\n",
              "        element.innerHTML = '';\n",
              "        dataTable['output_type'] = 'display_data';\n",
              "        await google.colab.output.renderOutput(dataTable, element);\n",
              "        const docLink = document.createElement('div');\n",
              "        docLink.innerHTML = docLinkHtml;\n",
              "        element.appendChild(docLink);\n",
              "      }\n",
              "    </script>\n",
              "  </div>\n",
              "\n",
              "\n",
              "<div id=\"df-422c139e-6476-48a4-bc1c-e2acc97dedd1\">\n",
              "  <button class=\"colab-df-quickchart\" onclick=\"quickchart('df-422c139e-6476-48a4-bc1c-e2acc97dedd1')\"\n",
              "            title=\"Suggest charts\"\n",
              "            style=\"display:none;\">\n",
              "\n",
              "<svg xmlns=\"http://www.w3.org/2000/svg\" height=\"24px\"viewBox=\"0 0 24 24\"\n",
              "     width=\"24px\">\n",
              "    <g>\n",
              "        <path d=\"M19 3H5c-1.1 0-2 .9-2 2v14c0 1.1.9 2 2 2h14c1.1 0 2-.9 2-2V5c0-1.1-.9-2-2-2zM9 17H7v-7h2v7zm4 0h-2V7h2v10zm4 0h-2v-4h2v4z\"/>\n",
              "    </g>\n",
              "</svg>\n",
              "  </button>\n",
              "\n",
              "<style>\n",
              "  .colab-df-quickchart {\n",
              "      --bg-color: #E8F0FE;\n",
              "      --fill-color: #1967D2;\n",
              "      --hover-bg-color: #E2EBFA;\n",
              "      --hover-fill-color: #174EA6;\n",
              "      --disabled-fill-color: #AAA;\n",
              "      --disabled-bg-color: #DDD;\n",
              "  }\n",
              "\n",
              "  [theme=dark] .colab-df-quickchart {\n",
              "      --bg-color: #3B4455;\n",
              "      --fill-color: #D2E3FC;\n",
              "      --hover-bg-color: #434B5C;\n",
              "      --hover-fill-color: #FFFFFF;\n",
              "      --disabled-bg-color: #3B4455;\n",
              "      --disabled-fill-color: #666;\n",
              "  }\n",
              "\n",
              "  .colab-df-quickchart {\n",
              "    background-color: var(--bg-color);\n",
              "    border: none;\n",
              "    border-radius: 50%;\n",
              "    cursor: pointer;\n",
              "    display: none;\n",
              "    fill: var(--fill-color);\n",
              "    height: 32px;\n",
              "    padding: 0;\n",
              "    width: 32px;\n",
              "  }\n",
              "\n",
              "  .colab-df-quickchart:hover {\n",
              "    background-color: var(--hover-bg-color);\n",
              "    box-shadow: 0 1px 2px rgba(60, 64, 67, 0.3), 0 1px 3px 1px rgba(60, 64, 67, 0.15);\n",
              "    fill: var(--button-hover-fill-color);\n",
              "  }\n",
              "\n",
              "  .colab-df-quickchart-complete:disabled,\n",
              "  .colab-df-quickchart-complete:disabled:hover {\n",
              "    background-color: var(--disabled-bg-color);\n",
              "    fill: var(--disabled-fill-color);\n",
              "    box-shadow: none;\n",
              "  }\n",
              "\n",
              "  .colab-df-spinner {\n",
              "    border: 2px solid var(--fill-color);\n",
              "    border-color: transparent;\n",
              "    border-bottom-color: var(--fill-color);\n",
              "    animation:\n",
              "      spin 1s steps(1) infinite;\n",
              "  }\n",
              "\n",
              "  @keyframes spin {\n",
              "    0% {\n",
              "      border-color: transparent;\n",
              "      border-bottom-color: var(--fill-color);\n",
              "      border-left-color: var(--fill-color);\n",
              "    }\n",
              "    20% {\n",
              "      border-color: transparent;\n",
              "      border-left-color: var(--fill-color);\n",
              "      border-top-color: var(--fill-color);\n",
              "    }\n",
              "    30% {\n",
              "      border-color: transparent;\n",
              "      border-left-color: var(--fill-color);\n",
              "      border-top-color: var(--fill-color);\n",
              "      border-right-color: var(--fill-color);\n",
              "    }\n",
              "    40% {\n",
              "      border-color: transparent;\n",
              "      border-right-color: var(--fill-color);\n",
              "      border-top-color: var(--fill-color);\n",
              "    }\n",
              "    60% {\n",
              "      border-color: transparent;\n",
              "      border-right-color: var(--fill-color);\n",
              "    }\n",
              "    80% {\n",
              "      border-color: transparent;\n",
              "      border-right-color: var(--fill-color);\n",
              "      border-bottom-color: var(--fill-color);\n",
              "    }\n",
              "    90% {\n",
              "      border-color: transparent;\n",
              "      border-bottom-color: var(--fill-color);\n",
              "    }\n",
              "  }\n",
              "</style>\n",
              "\n",
              "  <script>\n",
              "    async function quickchart(key) {\n",
              "      const quickchartButtonEl =\n",
              "        document.querySelector('#' + key + ' button');\n",
              "      quickchartButtonEl.disabled = true;  // To prevent multiple clicks.\n",
              "      quickchartButtonEl.classList.add('colab-df-spinner');\n",
              "      try {\n",
              "        const charts = await google.colab.kernel.invokeFunction(\n",
              "            'suggestCharts', [key], {});\n",
              "      } catch (error) {\n",
              "        console.error('Error during call to suggestCharts:', error);\n",
              "      }\n",
              "      quickchartButtonEl.classList.remove('colab-df-spinner');\n",
              "      quickchartButtonEl.classList.add('colab-df-quickchart-complete');\n",
              "    }\n",
              "    (() => {\n",
              "      let quickchartButtonEl =\n",
              "        document.querySelector('#df-422c139e-6476-48a4-bc1c-e2acc97dedd1 button');\n",
              "      quickchartButtonEl.style.display =\n",
              "        google.colab.kernel.accessAllowed ? 'block' : 'none';\n",
              "    })();\n",
              "  </script>\n",
              "</div>\n",
              "\n",
              "    </div>\n",
              "  </div>\n"
            ],
            "application/vnd.google.colaboratory.intrinsic+json": {
              "type": "dataframe",
              "variable_name": "df"
            }
          },
          "metadata": {},
          "execution_count": 4
        }
      ],
      "source": [
        "import pandas as pd\n",
        "df = pd.read_csv('/content/liquor sales dataset.csv')\n",
        "df.head()"
      ]
    },
    {
      "cell_type": "code",
      "execution_count": 5,
      "metadata": {
        "colab": {
          "base_uri": "https://localhost:8080/"
        },
        "id": "lGVIIyb6_Jt-",
        "outputId": "111b5cc4-e72d-479e-9d30-8ea690100660"
      },
      "outputs": [
        {
          "output_type": "stream",
          "name": "stdout",
          "text": [
            "<class 'pandas.core.frame.DataFrame'>\n",
            "RangeIndex: 1048575 entries, 0 to 1048574\n",
            "Data columns (total 24 columns):\n",
            " #   Column                 Non-Null Count    Dtype  \n",
            "---  ------                 --------------    -----  \n",
            " 0   Invoice/Item Number    1048575 non-null  object \n",
            " 1   Date                   1048575 non-null  object \n",
            " 2   Store Number           1048575 non-null  int64  \n",
            " 3   Store Name             1048575 non-null  object \n",
            " 4   Address                1047448 non-null  object \n",
            " 5   City                   1047448 non-null  object \n",
            " 6   Zip Code               1047439 non-null  object \n",
            " 7   Store Location         954963 non-null   object \n",
            " 8   County Number          1045978 non-null  float64\n",
            " 9   County                 1045978 non-null  object \n",
            " 10  Category               1048341 non-null  float64\n",
            " 11  Category Name          1048053 non-null  object \n",
            " 12  Vendor Number          1048575 non-null  int64  \n",
            " 13  Vendor Name            1048575 non-null  object \n",
            " 14  Item Number            1048575 non-null  int64  \n",
            " 15  Item Description       1048575 non-null  object \n",
            " 16  Pack                   1048575 non-null  int64  \n",
            " 17  Bottle Volume (ml)     1048575 non-null  int64  \n",
            " 18  State Bottle Cost      1048571 non-null  float64\n",
            " 19  State Bottle Retail    1048571 non-null  float64\n",
            " 20  Bottles Sold           1048575 non-null  int64  \n",
            " 21  Sale (Dollars)         1048571 non-null  float64\n",
            " 22  Volume Sold (Liters)   1048575 non-null  float64\n",
            " 23  Volume Sold (Gallons)  1048575 non-null  float64\n",
            "dtypes: float64(7), int64(6), object(11)\n",
            "memory usage: 192.0+ MB\n"
          ]
        }
      ],
      "source": [
        "df.info()"
      ]
    },
    {
      "cell_type": "code",
      "execution_count": 6,
      "metadata": {
        "id": "YXN8bI1REd8y"
      },
      "outputs": [],
      "source": [
        "#Where are these stores?\n",
        "#df.sample(50)\n",
        "#Ah, they're all in (and from all around) Iowa."
      ]
    },
    {
      "cell_type": "code",
      "execution_count": 7,
      "metadata": {
        "colab": {
          "base_uri": "https://localhost:8080/"
        },
        "id": "sfI9YlYoCfY8",
        "outputId": "37b127e6-ca80-4312-ede0-5ce1c4f9b8eb"
      },
      "outputs": [
        {
          "output_type": "execute_result",
          "data": {
            "text/plain": [
              "(Timestamp('2012-01-03 00:00:00'), Timestamp('2018-10-08 00:00:00'))"
            ]
          },
          "metadata": {},
          "execution_count": 7
        }
      ],
      "source": [
        "#What's the date range?\n",
        "df['Date'] = pd.to_datetime(df['Date'])\n",
        "df['Date'].min(), df['Date'].max()"
      ]
    },
    {
      "cell_type": "code",
      "source": [
        "df['Date'].hist(bins=50);"
      ],
      "metadata": {
        "colab": {
          "base_uri": "https://localhost:8080/",
          "height": 452
        },
        "id": "28TVWP5IHDH7",
        "outputId": "7589bf3a-308f-4d03-8947-91f9d580c2b5"
      },
      "execution_count": 88,
      "outputs": [
        {
          "output_type": "display_data",
          "data": {
            "text/plain": [
              "<Figure size 640x480 with 1 Axes>"
            ],
            "image/png": "[encoded data removed]"
          },
          "metadata": {}
        }
      ]
    },
    {
      "cell_type": "code",
      "source": [
        "df['Date']"
      ],
      "metadata": {
        "colab": {
          "base_uri": "https://localhost:8080/"
        },
        "id": "uF0I3DlKLUF1",
        "outputId": "306901d9-da19-482e-b293-f24608a89bf7"
      },
      "execution_count": 80,
      "outputs": [
        {
          "output_type": "execute_result",
          "data": {
            "text/plain": [
              "0         2015-02-19\n",
              "1         2013-10-10\n",
              "2         2014-06-03\n",
              "3         2015-01-06\n",
              "4         2012-12-27\n",
              "             ...    \n",
              "1048570   2014-01-13\n",
              "1048571   2013-09-09\n",
              "1048572   2015-04-07\n",
              "1048573   2012-11-29\n",
              "1048574   2012-08-13\n",
              "Name: Date, Length: 1048575, dtype: datetime64[ns]"
            ]
          },
          "metadata": {},
          "execution_count": 80
        }
      ]
    },
    {
      "cell_type": "markdown",
      "source": [
        "Obviously, we'll drop the random few date entries from 2016-2018, but the real tragedy here is the missing data from the very end of 2015. I don't think it's a good idea to try and impute and time-series data here, so we'll have to drop everything from 2015 on. However, this still gives us three complete years of data, which isn't bad."
      ],
      "metadata": {
        "id": "PhHfNaceHMAV"
      }
    },
    {
      "cell_type": "code",
      "source": [
        "trimmed_df = df[~(df['Date']>'2015-01-03 00:00:00')]\n",
        "trimmed_df['Date'].hist(xrot=45, bins=50);"
      ],
      "metadata": {
        "colab": {
          "base_uri": "https://localhost:8080/",
          "height": 501
        },
        "id": "Pq755fMLHNAc",
        "outputId": "bbc9395e-e012-43be-f71c-e16edb54fb50"
      },
      "execution_count": 87,
      "outputs": [
        {
          "output_type": "display_data",
          "data": {
            "text/plain": [
              "<Figure size 640x480 with 1 Axes>"
            ],
            "image/png": "[encoded data removed]"
          },
          "metadata": {}
        }
      ]
    },
    {
      "cell_type": "code",
      "execution_count": 8,
      "metadata": {
        "colab": {
          "base_uri": "https://localhost:8080/"
        },
        "id": "k8dG1XH2_PY1",
        "outputId": "ad660d60-2059-457b-a47c-34a72998644a"
      },
      "outputs": [
        {
          "output_type": "execute_result",
          "data": {
            "text/plain": [
              "1710"
            ]
          },
          "metadata": {},
          "execution_count": 8
        }
      ],
      "source": [
        "#How many stores?\n",
        "unique_stores = df['Store Number'].unique()\n",
        "len(unique_stores)"
      ]
    },
    {
      "cell_type": "code",
      "execution_count": 9,
      "metadata": {
        "colab": {
          "base_uri": "https://localhost:8080/"
        },
        "id": "No-iHxoxBYLp",
        "outputId": "ca45ab6f-70ff-42d4-93bf-db528add6064"
      },
      "outputs": [
        {
          "output_type": "execute_result",
          "data": {
            "text/plain": [
              "1213"
            ]
          },
          "metadata": {},
          "execution_count": 9
        }
      ],
      "source": [
        "#How many with more than 100 orders in here?\n",
        "store_value_counts = df['Store Number'].value_counts()\n",
        "hundred_order_stores = pd.DataFrame(store_value_counts)\n",
        "hundred_order_stores = hundred_order_stores[hundred_order_stores['count']>= 100]\n",
        "len(hundred_order_stores)"
      ]
    },
    {
      "cell_type": "code",
      "execution_count": 10,
      "metadata": {
        "colab": {
          "base_uri": "https://localhost:8080/"
        },
        "id": "5ZAUh2BFH5mk",
        "outputId": "8a29989b-36e1-4f4d-f9c4-58ee210311c8"
      },
      "outputs": [
        {
          "output_type": "execute_result",
          "data": {
            "text/plain": [
              "290"
            ]
          },
          "metadata": {},
          "execution_count": 10
        }
      ],
      "source": [
        "#How many with more than 1000 orders in here?\n",
        "store_value_counts = df['Store Number'].value_counts()\n",
        "thousand_order_stores = pd.DataFrame(store_value_counts)\n",
        "thousand_order_stores = thousand_order_stores[thousand_order_stores['count']>= 1000]\n",
        "len(thousand_order_stores)"
      ]
    },
    {
      "cell_type": "markdown",
      "source": [
        "That's a good amount of stores with a decent amount of rows to examine. We may wind up looking at the top ten or top 100 stores only depending on how the project goes, but maybe we can incorporate all 290.\n",
        "\n",
        "Let's also look at vendors; while stores represent a variable that we may use to *subdivide* the dataset, vendors will remain an independent variable. As a categorical variable, they may balloon out to an overwhelming number of one-hot encoded variables, so we'll alomost certainly need to find a way to limit these."
      ],
      "metadata": {
        "id": "gIGU3DnBwv8Z"
      }
    },
    {
      "cell_type": "code",
      "source": [
        "#How many vendors total?\n",
        "len(df['Vendor Name'].unique())"
      ],
      "metadata": {
        "colab": {
          "base_uri": "https://localhost:8080/"
        },
        "id": "CH4zz1OyWjGL",
        "outputId": "7bf4c32a-dae0-4bfa-a040-f85f7f59860d"
      },
      "execution_count": 11,
      "outputs": [
        {
          "output_type": "execute_result",
          "data": {
            "text/plain": [
              "224"
            ]
          },
          "metadata": {},
          "execution_count": 11
        }
      ]
    },
    {
      "cell_type": "code",
      "source": [
        "#How many with more than 100 orders in here?\n",
        "vendor_value_counts = df['Vendor Name'].value_counts()\n",
        "hundred_order_vendors = pd.DataFrame(vendor_value_counts)\n",
        "hundred_order_vendors = hundred_order_vendors[hundred_order_vendors['count'] >= 100]\n",
        "len(hundred_order_vendors)"
      ],
      "metadata": {
        "colab": {
          "base_uri": "https://localhost:8080/"
        },
        "id": "-SEwaTSewBiI",
        "outputId": "63943922-041c-44e9-bbc6-06056f579270"
      },
      "execution_count": 12,
      "outputs": [
        {
          "output_type": "execute_result",
          "data": {
            "text/plain": [
              "77"
            ]
          },
          "metadata": {},
          "execution_count": 12
        }
      ]
    },
    {
      "cell_type": "code",
      "source": [
        "#How many with more than 1000 orders in here?\n",
        "thousand_order_vendors = pd.DataFrame(vendor_value_counts)\n",
        "thousand_order_vendors = thousand_order_vendors[thousand_order_vendors['count'] >= 1000]\n",
        "len(thousand_order_vendors)"
      ],
      "metadata": {
        "colab": {
          "base_uri": "https://localhost:8080/"
        },
        "id": "qq0LJDCWwBxr",
        "outputId": "cd8aac2b-1471-4632-d158-6bd7145f198f"
      },
      "execution_count": 13,
      "outputs": [
        {
          "output_type": "execute_result",
          "data": {
            "text/plain": [
              "35"
            ]
          },
          "metadata": {},
          "execution_count": 13
        }
      ]
    },
    {
      "cell_type": "markdown",
      "metadata": {
        "id": "H4osezOQMlwX"
      },
      "source": [
        "35 vendors combined with the liqour categories and a few more continuous columns is probably still going to be too many to model without a problematic amount of noise and/or sparsity in our data. We may consider adding a limitation here to each store along the way. In other words, when we run a model on an individual store, we'll only include vendors that serviced that store with >= 1,000 orders.\n",
        "\n",
        "This is especially important when we consider that this dataset covers an entire *state* with urban, suburban, and rural stores that all move different volumes of inventory; the vendors used will almost certainly vary from one store to the next.\n",
        "\n",
        "Before we start examining stores in more detail, we need to take care of a few other things in our broader DataFrame. Specifically, we need to drop unnecessary columns and contend with what appear to be a few NaNs.\n",
        "\n",
        "Let's first examine columns so we can see which to drop. I appreciate how the data has store, location, and item names and numbers, but for our purposes, we can drop a number of these redundancies."
      ]
    },
    {
      "cell_type": "code",
      "source": [
        "columns_to_drop = ['Invoice/Item Number', 'Store Name', 'Address', 'City', 'Zip Code',\n",
        "                   'Store Location', 'County Number', 'County', 'Category', 'Vendor Number',\n",
        "                   'Item Number', 'Item Description', 'Bottle Volume (ml)', 'State Bottle Cost',\n",
        "                   'State Bottle Retail', 'Volume Sold (Liters)', 'Volume Sold (Gallons)']\n",
        "trimmed_df = df.drop(columns_to_drop, axis=1)\n",
        "trimmed_df.info()"
      ],
      "metadata": {
        "colab": {
          "base_uri": "https://localhost:8080/"
        },
        "id": "iqJE9aNpLb9q",
        "outputId": "00723229-42fe-4fd1-e2eb-ba3018ef7897"
      },
      "execution_count": 46,
      "outputs": [
        {
          "output_type": "stream",
          "name": "stdout",
          "text": [
            "<class 'pandas.core.frame.DataFrame'>\n",
            "RangeIndex: 1048575 entries, 0 to 1048574\n",
            "Data columns (total 7 columns):\n",
            " #   Column          Non-Null Count    Dtype         \n",
            "---  ------          --------------    -----         \n",
            " 0   Date            1048575 non-null  datetime64[ns]\n",
            " 1   Store Number    1048575 non-null  int64         \n",
            " 2   Category Name   1048053 non-null  object        \n",
            " 3   Vendor Name     1048575 non-null  object        \n",
            " 4   Pack            1048575 non-null  int64         \n",
            " 5   Bottles Sold    1048575 non-null  int64         \n",
            " 6   Sale (Dollars)  1048571 non-null  float64       \n",
            "dtypes: datetime64[ns](1), float64(1), int64(3), object(2)\n",
            "memory usage: 56.0+ MB\n"
          ]
        }
      ]
    },
    {
      "cell_type": "markdown",
      "source": [
        "This may seem like just a few columns for now, but once we add the categorical columns in, this will quickly expand. Let's handle the NaN's now."
      ],
      "metadata": {
        "id": "qAfWSgMaNLBF"
      }
    },
    {
      "cell_type": "code",
      "source": [
        "nan_rows = trimmed_df[trimmed_df.isna().any(axis=1)]\n",
        "len(nan_rows)"
      ],
      "metadata": {
        "colab": {
          "base_uri": "https://localhost:8080/"
        },
        "id": "-IKrcl3dLcZR",
        "outputId": "dad9d26b-a71d-4b36-a1e6-fba3117ac448"
      },
      "execution_count": 47,
      "outputs": [
        {
          "output_type": "execute_result",
          "data": {
            "text/plain": [
              "526"
            ]
          },
          "metadata": {},
          "execution_count": 47
        }
      ]
    },
    {
      "cell_type": "code",
      "source": [
        "len(nan_rows) / len(trimmed_df)"
      ],
      "metadata": {
        "colab": {
          "base_uri": "https://localhost:8080/"
        },
        "id": "5Ja-yJW2LcjX",
        "outputId": "a2e096fb-5aa1-4ae1-e550-dcb03930d1ac"
      },
      "execution_count": 48,
      "outputs": [
        {
          "output_type": "execute_result",
          "data": {
            "text/plain": [
              "0.0005016331688243569"
            ]
          },
          "metadata": {},
          "execution_count": 48
        }
      ]
    },
    {
      "cell_type": "markdown",
      "source": [
        "NaN's only make up 0.05% of our data, so we can afford to drop them without sarcificing much data."
      ],
      "metadata": {
        "id": "_Og8qiI1OCfw"
      }
    },
    {
      "cell_type": "code",
      "source": [
        "trimmed_df.dropna(axis=0, inplace=True)\n",
        "trimmed_df.info()"
      ],
      "metadata": {
        "colab": {
          "base_uri": "https://localhost:8080/"
        },
        "id": "hjzsCQJKOPGz",
        "outputId": "e08fef03-953f-420d-bbfc-89f8d40de702"
      },
      "execution_count": 49,
      "outputs": [
        {
          "output_type": "stream",
          "name": "stdout",
          "text": [
            "<class 'pandas.core.frame.DataFrame'>\n",
            "Index: 1048049 entries, 0 to 1048574\n",
            "Data columns (total 7 columns):\n",
            " #   Column          Non-Null Count    Dtype         \n",
            "---  ------          --------------    -----         \n",
            " 0   Date            1048049 non-null  datetime64[ns]\n",
            " 1   Store Number    1048049 non-null  int64         \n",
            " 2   Category Name   1048049 non-null  object        \n",
            " 3   Vendor Name     1048049 non-null  object        \n",
            " 4   Pack            1048049 non-null  int64         \n",
            " 5   Bottles Sold    1048049 non-null  int64         \n",
            " 6   Sale (Dollars)  1048049 non-null  float64       \n",
            "dtypes: datetime64[ns](1), float64(1), int64(3), object(2)\n",
            "memory usage: 64.0+ MB\n"
          ]
        }
      ]
    },
    {
      "cell_type": "markdown",
      "source": [
        "Now we can examine the categorical columns more carefully. We'll use the 'Store Number' column later on in order to subdivide the trimmed_df into stores, so let's begin with the 'Category Name' column."
      ],
      "metadata": {
        "id": "w_87Iza7Rvav"
      }
    },
    {
      "cell_type": "code",
      "source": [
        "len(trimmed_df['Category Name'].value_counts())"
      ],
      "metadata": {
        "colab": {
          "base_uri": "https://localhost:8080/"
        },
        "id": "WI9SZAEASPGN",
        "outputId": "8807cfba-c734-42cf-e657-0bfa09ae0c9f"
      },
      "execution_count": 50,
      "outputs": [
        {
          "output_type": "execute_result",
          "data": {
            "text/plain": [
              "126"
            ]
          },
          "metadata": {},
          "execution_count": 50
        }
      ]
    },
    {
      "cell_type": "code",
      "source": [
        "print(trimmed_df['Category Name'].value_counts().to_string())"
      ],
      "metadata": {
        "colab": {
          "base_uri": "https://localhost:8080/"
        },
        "id": "vzx1WphpRvzv",
        "outputId": "6d6fbb11-77c1-4da3-d8f5-89d1be0f302a"
      },
      "execution_count": 51,
      "outputs": [
        {
          "output_type": "stream",
          "name": "stdout",
          "text": [
            "Category Name\n",
            "VODKA 80 PROOF                          130685\n",
            "CANADIAN WHISKIES                        97766\n",
            "STRAIGHT BOURBON WHISKIES                57021\n",
            "SPICED RUM                               55598\n",
            "VODKA FLAVORED                           52326\n",
            "BLENDED WHISKIES                         47028\n",
            "TEQUILA                                  45050\n",
            "IMPORTED VODKA                           43040\n",
            "PUERTO RICO & VIRGIN ISLANDS RUM         42680\n",
            "WHISKEY LIQUEUR                          33616\n",
            "AMERICAN COCKTAILS                       30734\n",
            "FLAVORED RUM                             29375\n",
            "AMERICAN DRY GINS                        27623\n",
            "IMPORTED VODKA - MISC                    27397\n",
            "MISC. IMPORTED CORDIALS & LIQUEURS       26579\n",
            "AMERICAN GRAPE BRANDIES                  26035\n",
            "TENNESSEE WHISKIES                       25727\n",
            "CREAM LIQUEURS                           24791\n",
            "SCOTCH WHISKIES                          21475\n",
            "IMPORTED SCHNAPPS                        18274\n",
            "IMPORTED GRAPE BRANDIES                  15988\n",
            "MISC. AMERICAN CORDIALS & LIQUEURS       14755\n",
            "PEPPERMINT SCHNAPPS                      12200\n",
            "IMPORTED DRY GINS                        12038\n",
            "100 PROOF VODKA                          11271\n",
            "IRISH WHISKIES                            8934\n",
            "SINGLE MALT SCOTCH                        8890\n",
            "COFFEE LIQUEURS                           7980\n",
            "PEACH SCHNAPPS                            6747\n",
            "STRAIGHT RYE WHISKIES                     6674\n",
            "DISTILLED SPIRITS SPECIALTY               6658\n",
            "BLACKBERRY BRANDIES                       6516\n",
            "AMERICAN AMARETTO                         5624\n",
            "TRIPLE SEC                                4842\n",
            "DECANTERS & SPECIALTY PACKAGES            4369\n",
            "APRICOT BRANDIES                          4261\n",
            "CINNAMON SCHNAPPS                         3854\n",
            "APPLE SCHNAPPS                            3791\n",
            "BUTTERSCOTCH SCHNAPPS                     3756\n",
            "MISCELLANEOUS SCHNAPPS                    3442\n",
            "AMERICAN ALCOHOL                          2721\n",
            "WATERMELON SCHNAPPS                       1914\n",
            "IMPORTED AMARETTO                         1621\n",
            "JAMAICA RUM                               1574\n",
            "ROOT BEER SCHNAPPS                        1474\n",
            "CHERRY BRANDIES                           1442\n",
            "RASPBERRY SCHNAPPS                        1417\n",
            "GRAPE SCHNAPPS                            1414\n",
            "PEACH BRANDIES                            1379\n",
            "STRAWBERRY SCHNAPPS                       1336\n",
            "FLAVORED GINS                             1334\n",
            "TROPICAL FRUIT SCHNAPPS                   1193\n",
            "BARBADOS RUM                              1112\n",
            "GREEN CREME DE MENTHE                      971\n",
            "SINGLE BARREL BOURBON WHISKIES             936\n",
            "American Vodkas                            851\n",
            "BOTTLED IN BOND BOURBON                    767\n",
            "AMERICAN SLOE GINS                         748\n",
            "WHITE CREME DE CACAO                       735\n",
            "DARK CREME DE CACAO                        713\n",
            "Canadian Whiskies                          536\n",
            "OTHER PROOF VODKA                          360\n",
            "SPEARMINT SCHNAPPS                         316\n",
            "Straight Bourbon Whiskies                  315\n",
            "WHITE CREME DE MENTHE                      308\n",
            "Spiced Rum                                 307\n",
            "ROCK & RYE                                 275\n",
            "Blended Whiskies                           268\n",
            "MISCELLANEOUS  BRANDIES                    254\n",
            "White Rum                                  236\n",
            "Whiskey Liqueur                            214\n",
            "LOW PROOF VODKA                            208\n",
            "Imported Vodkas                            195\n",
            "American Brandies                          195\n",
            "American Flavored Vodka                    194\n",
            "American Vodka                             188\n",
            "Cream Liqueurs                             183\n",
            "Flavored Rum                               176\n",
            "ANISETTE                                   168\n",
            "American Schnapps                          160\n",
            "American Dry Gins                          156\n",
            "CREME DE ALMOND                            143\n",
            "Mixto Tequila                              138\n",
            "Imported Brandies                          132\n",
            "100% Agave Tequila                         124\n",
            "Scotch Whiskies                            118\n",
            "Tennessee Whiskies                         109\n",
            "Irish Whiskies                             102\n",
            "Imported Flavored Vodka                     98\n",
            "American Cordials & Liqueur                 81\n",
            "Imported Cordials & Liqueurs                74\n",
            "Cocktails /RTD                              74\n",
            "Gold Rum                                    71\n",
            "Imported Schnapps                           65\n",
            "Imported Vodka                              63\n",
            "Imported Dry Gins                           62\n",
            "Single Malt Scotch                          46\n",
            "Triple Sec                                  36\n",
            "Cocktails / RTD                             32\n",
            "Coffee Liqueurs                             31\n",
            "Aged Dark Rum                               27\n",
            "American Cordials & Liqueurs                26\n",
            "Straight Rye Whiskies                       26\n",
            "Neutral Grain Spirits                       17\n",
            "Flavored Gin                                 9\n",
            "Temporary & Specialty Packages               8\n",
            "Iowa Distilleries                            7\n",
            "AMARETTO - IMPORTED                          7\n",
            "Corn Whiskies                                5\n",
            "American Sloe Gins                           5\n",
            "Mezcal                                       5\n",
            "CORN WHISKIES                                5\n",
            "HIGH PROOF BEER - AMERICAN                   4\n",
            "JAPANESE WHISKY                              4\n",
            "SCHNAPPS - IMPORTED                          3\n",
            "Bottled in Bond Bourbon                      3\n",
            "Delisted Items                               3\n",
            "Single Barrel Bourbon Whiskies               2\n",
            "Special Order Items                          2\n",
            "Neutral Grain Spirits Flavored               2\n",
            "Iowa Distillery Whiskies                     1\n",
            "American Distilled Spirit Specialty          1\n",
            "Imported Cordials & Liqueur                  1\n",
            "Imported Distilled Spirit Specialty          1\n",
            "American Distilled Spirits Specialty         1\n",
            "IMPORTED VODKA - CHERRY                      1\n"
          ]
        }
      ]
    },
    {
      "cell_type": "markdown",
      "source": [
        "That's too many to include all of them. Instead, we'll carefully consolidate these into more generalized categories. On one hand, we need to narrow these down for clarity and modeling purposes. On the other hand, we don't want to eliminate too many categories, especially those with a larger value count.\n",
        "\n",
        "For example, instead of just consolidating everything containing the string 'VODKA' to a general 'VODKA' category, we can at least distinguish between 'VODKA' and a new category called 'FLAVORED VODKA'. We can also do something like divide the whiskey categories into three new ones: 'BOURBON', 'SCOTCH', and 'OTHER WHISKEY'."
      ],
      "metadata": {
        "id": "2ojnWUzURhQS"
      }
    },
    {
      "cell_type": "code",
      "source": [
        "#I can use the str.contains method for some categories that are easier\n",
        "# to generalize. Let's do those first:\n",
        "trimmed_df.loc[trimmed_df['Category Name'].str.contains('BOURBON'), 'Category Name'] = 'BOURBON'\n",
        "trimmed_df.loc[trimmed_df['Category Name'].str.contains('Bourbon'), 'Category Name'] = 'BOURBON'\n",
        "trimmed_df.loc[trimmed_df['Category Name'].str.contains('RYE'), 'Category Name'] = 'BLENDED AND OTHER WHISKIES'\n",
        "trimmed_df.loc[trimmed_df['Category Name'].str.contains('Rye'), 'Category Name'] = 'BLENDED AND OTHER WHISKIES'\n",
        "trimmed_df.loc[trimmed_df['Category Name'].str.contains('Tequila'), 'Category Name'] = 'TEQUILA'\n",
        "trimmed_df.loc[trimmed_df['Category Name'].str.contains('VODKA'), 'Category Name'] = 'VODKA'\n",
        "trimmed_df.loc[trimmed_df['Category Name'].str.contains('Vodka'), 'Category Name'] = 'VODKA'\n",
        "trimmed_df.loc[trimmed_df['Category Name'].str.contains('VODKAS'), 'Category Name'] = 'VODKA'\n",
        "trimmed_df.loc[trimmed_df['Category Name'].str.contains('Vodkas'), 'Category Name'] = 'VODKA'\n",
        "trimmed_df.loc[trimmed_df['Category Name'].str.contains('GIN'), 'Category Name'] = 'GIN'\n",
        "trimmed_df.loc[trimmed_df['Category Name'].str.contains('Gin'), 'Category Name'] = 'GIN'\n",
        "trimmed_df.loc[trimmed_df['Category Name'].str.contains('RUM'), 'Category Name'] = 'RUM'\n",
        "trimmed_df.loc[trimmed_df['Category Name'].str.contains('Rum'), 'Category Name'] = 'RUM'\n",
        "trimmed_df.loc[trimmed_df['Category Name'].str.contains('AMARETTO'), 'Category Name'] = 'LIQUEUR'\n",
        "trimmed_df.loc[trimmed_df['Category Name'].str.contains('Amaretto'), 'Category Name'] = 'LIQUEUR'\n",
        "trimmed_df.loc[trimmed_df['Category Name'].str.contains('LIQUEUR'), 'Category Name'] = 'LIQUEUR'\n",
        "trimmed_df.loc[trimmed_df['Category Name'].str.contains('Liqueur'), 'Category Name'] = 'LIQUEUR'\n",
        "trimmed_df.loc[trimmed_df['Category Name'].str.contains('CREME DE'), 'Category Name'] = 'LIQUEUR'\n",
        "trimmed_df.loc[trimmed_df['Category Name'].str.contains('COCKTAILS'), 'Category Name'] = 'RTD COCKTAILS'\n",
        "trimmed_df.loc[trimmed_df['Category Name'].str.contains('Cocktails'), 'Category Name'] = 'RTD COCKTAILS'"
      ],
      "metadata": {
        "id": "K81_mnbzRfZK"
      },
      "execution_count": 52,
      "outputs": []
    },
    {
      "cell_type": "code",
      "source": [
        "#Now we'll make more specific generalizations:\n",
        "\n",
        "#Whiskies\n",
        "trimmed_df.loc[trimmed_df['Category Name'] == 'Scotch', 'Category Name'] = 'SCOTCH WHISKIES'\n",
        "trimmed_df.loc[trimmed_df['Category Name'] == 'Scotch Whiskies', 'Category Name'] = 'SCOTCH WHISKIES'\n",
        "trimmed_df.loc[trimmed_df['Category Name'] == 'SINGLE MALT SCOTCH', 'Category Name'] = 'SCOTCH WHISKIES'\n",
        "trimmed_df.loc[trimmed_df['Category Name'] == 'Single Malt Scotch', 'Category Name'] = 'SCOTCH WHISKIES'\n",
        "trimmed_df.loc[trimmed_df['Category Name'] == 'Canadian Whiskies', 'Category Name'] = 'CANADIAN WHISKIES'\n",
        "trimmed_df.loc[trimmed_df['Category Name'] == 'Tennessee Whiskies', 'Category Name'] = 'TENNESSEE WHISKIES'\n",
        "trimmed_df.loc[trimmed_df['Category Name'] == 'BLENDED WHISKIES', 'Category Name'] = 'BLENDED AND OTHER WHISKIES'\n",
        "trimmed_df.loc[trimmed_df['Category Name'] == 'Blended Whiskies', 'Category Name'] = 'BLENDED AND OTHER WHISKIES'\n",
        "trimmed_df.loc[trimmed_df['Category Name'] == 'Irish Whiskies', 'Category Name'] = 'IRISH WHISKIES'\n",
        "\n",
        "#Brandies\n",
        "trimmed_df.loc[trimmed_df['Category Name'] == 'AMERICAN GRAPE BRANDIES', 'Category Name'] = 'GRAPE-BASED BRANDIES'\n",
        "trimmed_df.loc[trimmed_df['Category Name'] == 'IMPORTED GRAPE BRANDIES', 'Category Name'] = 'GRAPE-BASED BRANDIES'\n",
        "trimmed_df.loc[trimmed_df['Category Name'] == 'MISCELLANEOUS BRANDIES', 'Category Name'] = 'GRAPE-BASED BRANDIES'\n",
        "trimmed_df.loc[trimmed_df['Category Name'] == 'MISCELLANEOUS  BRANDIES', 'Category Name'] = 'GRAPE-BASED BRANDIES'\n",
        "trimmed_df.loc[trimmed_df['Category Name'] == 'American Brandies', 'Category Name'] = 'GRAPE-BASED BRANDIES'\n",
        "trimmed_df.loc[trimmed_df['Category Name'] == 'Imported Brandies', 'Category Name'] = 'GRAPE-BASED BRANDIES'\n",
        "trimmed_df.loc[trimmed_df['Category Name'] == 'BLACKBERRY BRANDIES', 'Category Name'] = 'OTHER FRUIT BRANDIES'\n",
        "trimmed_df.loc[trimmed_df['Category Name'] == 'APRICOT BRANDIES','Category Name'] = 'OTHER FRUIT BRANDIES'\n",
        "trimmed_df.loc[trimmed_df['Category Name'] == 'CHERRY BRANDIES', 'Category Name'] = 'OTHER FRUIT BRANDIES'\n",
        "trimmed_df.loc[trimmed_df['Category Name'] == 'PEACH BRANDIES', 'Category Name'] = 'OTHER FRUIT BRANDIES'\n",
        "\n",
        "#Schnapps\n",
        "trimmed_df.loc[trimmed_df['Category Name'] == 'IMPORTED SCHNAPPS', 'Category Name'] = 'MISCELLANEOUS SCHNAPPS'\n",
        "trimmed_df.loc[trimmed_df['Category Name'] == 'Imported Schnapps', 'Category Name'] = 'MISCELLANEOUS SCHNAPPS'\n",
        "trimmed_df.loc[trimmed_df['Category Name'] == 'American Schnapps', 'Category Name'] = 'MISCELLANEOUS SCHNAPPS'\n",
        "trimmed_df.loc[trimmed_df['Category Name'] == 'SCHNAPPS - IMPORTED', 'Category Name'] = 'MISCELLANEOUS SCHNAPPS'\n",
        "trimmed_df.loc[trimmed_df['Category Name'] == 'CINNAMON SCHNAPPS', 'Category Name'] = 'MISCELLANEOUS SCHNAPPS'\n",
        "trimmed_df.loc[trimmed_df['Category Name'] == 'BUTTERSCOTCH SCHNAPPS', 'Category Name'] = 'MISCELLANEOUS SCHNAPPS'\n",
        "trimmed_df.loc[trimmed_df['Category Name'] == 'ROOT BEER SCHNAPPS', 'Category Name'] = 'MISCELLANEOUS SCHNAPPS'\n",
        "trimmed_df.loc[trimmed_df['Category Name'] == 'SPEARMINT SCHNAPPS', 'Category Name'] = 'MISCELLANEOUS SCHNAPPS'\n",
        "trimmed_df.loc[trimmed_df['Category Name'] == 'PEACH SCHNAPPS', 'Category Name'] = 'FRUIT SCHNAPPS'\n",
        "trimmed_df.loc[trimmed_df['Category Name'] == 'APPLE SCHNAPPS', 'Category Name'] = 'FRUIT SCHNAPPS'\n",
        "trimmed_df.loc[trimmed_df['Category Name'] == 'WATERMELON SCHNAPPS', 'Category Name'] = 'FRUIT SCHNAPPS'\n",
        "trimmed_df.loc[trimmed_df['Category Name'] == 'RASPBERRY SCHNAPPS', 'Category Name'] = 'FRUIT SCHNAPPS'\n",
        "trimmed_df.loc[trimmed_df['Category Name'] == 'GRAPE SCHNAPPS','Category Name'] = 'FRUIT SCHNAPPS'\n",
        "trimmed_df.loc[trimmed_df['Category Name'] == 'STRAWBERRY SCHNAPPS','Category Name'] = 'FRUIT SCHNAPPS'\n",
        "trimmed_df.loc[trimmed_df['Category Name'] == 'TROPICAL FRUIT SCHNAPPS', 'Category Name'] = 'FRUIT SCHNAPPS'\n",
        "\n",
        "#other liqueurs\n",
        "trimmed_df.loc[trimmed_df['Category Name'] == 'TRIPLE SEC','Category Name'] = 'LIQUEUR'\n",
        "trimmed_df.loc[trimmed_df['Category Name'] == 'Triple Sec','Category Name'] = 'LIQUEUR'\n",
        "trimmed_df.loc[trimmed_df['Category Name'] == 'ANISETTE', 'Category Name'] = 'LIQUEUR'"
      ],
      "metadata": {
        "id": "moNA2aUrRfgk"
      },
      "execution_count": 53,
      "outputs": []
    },
    {
      "cell_type": "code",
      "source": [
        "#unhelpful categories to drop\n",
        "trimmed_df = trimmed_df.drop(trimmed_df[trimmed_df['Category Name'] == 'DISTILLED SPIRITS SPECIALTY'].index)\n",
        "trimmed_df = trimmed_df.drop(trimmed_df[trimmed_df['Category Name'] == 'DECANTERS & SPECIALTY PACKAGES'].index)\n",
        "trimmed_df = trimmed_df.drop(trimmed_df[trimmed_df['Category Name'] == 'AMERICAN ALCOHOL'].index)\n",
        "trimmed_df = trimmed_df.drop(trimmed_df[trimmed_df['Category Name'] == 'Temporary & Specialty Packages'].index)\n",
        "#getting rid of obscure categories with hardly any entries\n",
        "counts = trimmed_df['Category Name'].value_counts()\n",
        "trimmed_df = trimmed_df[~trimmed_df['Category Name'].isin(counts[counts < 20].index)]"
      ],
      "metadata": {
        "id": "vE-kzjEf--Uc"
      },
      "execution_count": 57,
      "outputs": []
    },
    {
      "cell_type": "code",
      "source": [
        "print('Amount of Revised Liquor Categories:', len(trimmed_df['Category Name'].value_counts()))\n",
        "print(\"---------------------------------------\")\n",
        "print(trimmed_df['Category Name'].value_counts().to_string())"
      ],
      "metadata": {
        "colab": {
          "base_uri": "https://localhost:8080/"
        },
        "id": "hJvFq3B04aOR",
        "outputId": "44a903aa-e828-43d1-9476-292e4f80f617"
      },
      "execution_count": 60,
      "outputs": [
        {
          "output_type": "stream",
          "name": "stdout",
          "text": [
            "Amount of Revised Liquor Categories: 17\n",
            "-----------------------------------------\n",
            "Category Name\n",
            "VODKA                         266877\n",
            "LIQUEUR                       123499\n",
            "CANADIAN WHISKIES              98302\n",
            "RUM                            88476\n",
            "GIN                            84655\n",
            "BOURBON                        59044\n",
            "BLENDED AND OTHER WHISKIES     54271\n",
            "TEQUILA                        45312\n",
            "GRAPE-BASED BRANDIES           42604\n",
            "MISCELLANEOUS SCHNAPPS         31344\n",
            "RTD COCKTAILS                  30840\n",
            "SCOTCH WHISKIES                30529\n",
            "TENNESSEE WHISKIES             25836\n",
            "FRUIT SCHNAPPS                 17812\n",
            "OTHER FRUIT BRANDIES           13598\n",
            "PEPPERMINT SCHNAPPS            12200\n",
            "IRISH WHISKIES                  9036\n"
          ]
        }
      ]
    },
    {
      "cell_type": "markdown",
      "source": [
        "With that process finished, let's start looking toward breaking this data down by store:"
      ],
      "metadata": {
        "id": "66-1kp-ILdNI"
      }
    },
    {
      "cell_type": "code",
      "execution_count": 62,
      "metadata": {
        "colab": {
          "base_uri": "https://localhost:8080/"
        },
        "id": "FcPGR4MwMQZ_",
        "outputId": "2365c65d-be12-4373-d342-adb315d730f1"
      },
      "outputs": [
        {
          "output_type": "execute_result",
          "data": {
            "text/plain": [
              "Store Number\n",
              "2633    9258\n",
              "2190    8137\n",
              "2512    7707\n",
              "4829    6836\n",
              "2614    6502\n",
              "2501    5808\n",
              "2515    5731\n",
              "2616    5334\n",
              "2587    5282\n",
              "Name: count, dtype: int64"
            ]
          },
          "metadata": {},
          "execution_count": 62
        }
      ],
      "source": [
        "#What do, say, the top ten stores look like in terms of sales?\n",
        "store_counts = trimmed_df['Store Number'].value_counts()\n",
        "store_counts[0:9]"
      ]
    },
    {
      "cell_type": "code",
      "execution_count": 63,
      "metadata": {
        "id": "UlEJtL1dNnt6"
      },
      "outputs": [],
      "source": [
        "#It turns out that store number '2633' is a Hy-Vee in Des Moines.\n",
        "# We'll isolate this store and save it for further EDA later.\n",
        "hy_vee_des_moines = trimmed_df[trimmed_df['Store Number'] == 2633]\n",
        "#The second-busiest is Central City Liqour, also in Des Moines.\n",
        "ccl_des_moines = trimmed_df[trimmed_df['Store Number'] == 2190]\n",
        "#The third-busiest is a Hy Vee Wine & Spirits in Iowa City.\n",
        "hy_vee_iowa_city = trimmed_df[trimmed_df['Store Number'] == 2512]"
      ]
    },
    {
      "cell_type": "markdown",
      "metadata": {
        "id": "Zm3Q5VCaQbtB"
      },
      "source": [
        "Let's delve into the single busiest store and see how its liquor sales dates are distributed."
      ]
    },
    {
      "cell_type": "code",
      "execution_count": 64,
      "metadata": {
        "colab": {
          "base_uri": "https://localhost:8080/"
        },
        "id": "C78Uk-7UQOKr",
        "outputId": "8c75a952-a0d7-488a-d807-9311399316fb"
      },
      "outputs": [
        {
          "output_type": "execute_result",
          "data": {
            "text/plain": [
              "(Timestamp('2012-01-03 00:00:00'), Timestamp('2018-01-29 00:00:00'))"
            ]
          },
          "metadata": {},
          "execution_count": 64
        }
      ],
      "source": [
        "hy_vee_des_moines['Date'].min(), hy_vee_des_moines['Date'].max()"
      ]
    },
    {
      "cell_type": "code",
      "execution_count": 65,
      "metadata": {
        "colab": {
          "base_uri": "https://localhost:8080/",
          "height": 435
        },
        "id": "uZniYvkPQts-",
        "outputId": "77f523e9-45f5-472e-c3fd-83c4ce0f4b65"
      },
      "outputs": [
        {
          "output_type": "display_data",
          "data": {
            "text/plain": [
              "<Figure size 640x480 with 1 Axes>"
            ],
            "image/png": "[encoded data removed]"
          },
          "metadata": {}
        }
      ],
      "source": [
        "hy_vee_des_moines['Date'].hist(bins=50);"
      ]
    },
    {
      "cell_type": "markdown",
      "metadata": {
        "id": "Zv90pGkZRvnm"
      },
      "source": [
        "Ah, there are a few random sales in here from 2016-2018, but we'd really only use the sales from Janurary 2012 - November 2015."
      ]
    },
    {
      "cell_type": "code",
      "execution_count": null,
      "metadata": {
        "colab": {
          "base_uri": "https://localhost:8080/"
        },
        "id": "ZWNFsDI4RqXW",
        "outputId": "b551b427-35ca-4cc2-cb77-3fc04eb34bd5"
      },
      "outputs": [
        {
          "output_type": "execute_result",
          "data": {
            "text/plain": [
              "Timestamp('2015-11-30 00:00:00')"
            ]
          },
          "metadata": {},
          "execution_count": 92
        }
      ],
      "source": [
        "hy_vee_des_moines = hy_vee_des_moines[hy_vee_des_moines['Date'] < '2015-12-31']\n",
        "hy_vee_des_moines['Date'].max()"
      ]
    },
    {
      "cell_type": "markdown",
      "metadata": {
        "id": "0mRM3EyTeHey"
      },
      "source": [
        "It's too bad it doesn't contain sales from December 2015 to help round out that year. That means we only have three *complete* years of data (2012, 2013, and 2014)."
      ]
    },
    {
      "cell_type": "code",
      "execution_count": 66,
      "metadata": {
        "colab": {
          "base_uri": "https://localhost:8080/"
        },
        "id": "uKyGfpShc_av",
        "outputId": "32644a50-2447-4a3b-b7ad-5a9e69a95dbf"
      },
      "outputs": [
        {
          "output_type": "execute_result",
          "data": {
            "text/plain": [
              "(6994, 7)"
            ]
          },
          "metadata": {},
          "execution_count": 66
        }
      ],
      "source": [
        "hy_vee_des_moines = hy_vee_des_moines[hy_vee_des_moines['Date'] < '2014-12-31']\n",
        "hy_vee_des_moines.shape"
      ]
    },
    {
      "cell_type": "code",
      "execution_count": 67,
      "metadata": {
        "colab": {
          "base_uri": "https://localhost:8080/",
          "height": 143
        },
        "id": "EuP0NvNVefGR",
        "outputId": "52353ece-4927-4301-8616-154c2a2c5400"
      },
      "outputs": [
        {
          "output_type": "execute_result",
          "data": {
            "text/plain": [
              "         Date  Store Number Category Name                Vendor Name  Pack  \\\n",
              "1  2013-10-10          2633       LIQUEUR                    MHW Ltd     6   \n",
              "20 2012-04-19          2633         VODKA  Phillips Beverage Company    12   \n",
              "95 2014-11-13          2633         VODKA  Phillips Beverage Company     6   \n",
              "\n",
              "    Bottles Sold  Sale (Dollars)  \n",
              "1              6          134.94  \n",
              "20            12          135.00  \n",
              "95             1           15.99  "
            ],
            "text/html": [
              "\n",
              "  <div id=\"df-49805e2a-de16-4f44-b147-88dde3dae7c6\" class=\"colab-df-container\">\n",
              "    <div>\n",
              "<style scoped>\n",
              "    .dataframe tbody tr th:only-of-type {\n",
              "        vertical-align: middle;\n",
              "    }\n",
              "\n",
              "    .dataframe tbody tr th {\n",
              "        vertical-align: top;\n",
              "    }\n",
              "\n",
              "    .dataframe thead th {\n",
              "        text-align: right;\n",
              "    }\n",
              "</style>\n",
              "<table border=\"1\" class=\"dataframe\">\n",
              "  <thead>\n",
              "    <tr style=\"text-align: right;\">\n",
              "      <th></th>\n",
              "      <th>Date</th>\n",
              "      <th>Store Number</th>\n",
              "      <th>Category Name</th>\n",
              "      <th>Vendor Name</th>\n",
              "      <th>Pack</th>\n",
              "      <th>Bottles Sold</th>\n",
              "      <th>Sale (Dollars)</th>\n",
              "    </tr>\n",
              "  </thead>\n",
              "  <tbody>\n",
              "    <tr>\n",
              "      <th>1</th>\n",
              "      <td>2013-10-10</td>\n",
              "      <td>2633</td>\n",
              "      <td>LIQUEUR</td>\n",
              "      <td>MHW Ltd</td>\n",
              "      <td>6</td>\n",
              "      <td>6</td>\n",
              "      <td>134.94</td>\n",
              "    </tr>\n",
              "    <tr>\n",
              "      <th>20</th>\n",
              "      <td>2012-04-19</td>\n",
              "      <td>2633</td>\n",
              "      <td>VODKA</td>\n",
              "      <td>Phillips Beverage Company</td>\n",
              "      <td>12</td>\n",
              "      <td>12</td>\n",
              "      <td>135.00</td>\n",
              "    </tr>\n",
              "    <tr>\n",
              "      <th>95</th>\n",
              "      <td>2014-11-13</td>\n",
              "      <td>2633</td>\n",
              "      <td>VODKA</td>\n",
              "      <td>Phillips Beverage Company</td>\n",
              "      <td>6</td>\n",
              "      <td>1</td>\n",
              "      <td>15.99</td>\n",
              "    </tr>\n",
              "  </tbody>\n",
              "</table>\n",
              "</div>\n",
              "    <div class=\"colab-df-buttons\">\n",
              "\n",
              "  <div class=\"colab-df-container\">\n",
              "    <button class=\"colab-df-convert\" onclick=\"convertToInteractive('df-49805e2a-de16-4f44-b147-88dde3dae7c6')\"\n",
              "            title=\"Convert this dataframe to an interactive table.\"\n",
              "            style=\"display:none;\">\n",
              "\n",
              "  <svg xmlns=\"http://www.w3.org/2000/svg\" height=\"24px\" viewBox=\"0 -960 960 960\">\n",
              "    <path d=\"M120-120v-720h720v720H120Zm60-500h600v-160H180v160Zm220 220h160v-160H400v160Zm0 220h160v-160H400v160ZM180-400h160v-160H180v160Zm440 0h160v-160H620v160ZM180-180h160v-160H180v160Zm440 0h160v-160H620v160Z\"/>\n",
              "  </svg>\n",
              "    </button>\n",
              "\n",
              "  <style>\n",
              "    .colab-df-container {\n",
              "      display:flex;\n",
              "      gap: 12px;\n",
              "    }\n",
              "\n",
              "    .colab-df-convert {\n",
              "      background-color: #E8F0FE;\n",
              "      border: none;\n",
              "      border-radius: 50%;\n",
              "      cursor: pointer;\n",
              "      display: none;\n",
              "      fill: #1967D2;\n",
              "      height: 32px;\n",
              "      padding: 0 0 0 0;\n",
              "      width: 32px;\n",
              "    }\n",
              "\n",
              "    .colab-df-convert:hover {\n",
              "      background-color: #E2EBFA;\n",
              "      box-shadow: 0px 1px 2px rgba(60, 64, 67, 0.3), 0px 1px 3px 1px rgba(60, 64, 67, 0.15);\n",
              "      fill: #174EA6;\n",
              "    }\n",
              "\n",
              "    .colab-df-buttons div {\n",
              "      margin-bottom: 4px;\n",
              "    }\n",
              "\n",
              "    [theme=dark] .colab-df-convert {\n",
              "      background-color: #3B4455;\n",
              "      fill: #D2E3FC;\n",
              "    }\n",
              "\n",
              "    [theme=dark] .colab-df-convert:hover {\n",
              "      background-color: #434B5C;\n",
              "      box-shadow: 0px 1px 3px 1px rgba(0, 0, 0, 0.15);\n",
              "      filter: drop-shadow(0px 1px 2px rgba(0, 0, 0, 0.3));\n",
              "      fill: #FFFFFF;\n",
              "    }\n",
              "  </style>\n",
              "\n",
              "    <script>\n",
              "      const buttonEl =\n",
              "        document.querySelector('#df-49805e2a-de16-4f44-b147-88dde3dae7c6 button.colab-df-convert');\n",
              "      buttonEl.style.display =\n",
              "        google.colab.kernel.accessAllowed ? 'block' : 'none';\n",
              "\n",
              "      async function convertToInteractive(key) {\n",
              "        const element = document.querySelector('#df-49805e2a-de16-4f44-b147-88dde3dae7c6');\n",
              "        const dataTable =\n",
              "          await google.colab.kernel.invokeFunction('convertToInteractive',\n",
              "                                                    [key], {});\n",
              "        if (!dataTable) return;\n",
              "\n",
              "        const docLinkHtml = 'Like what you see? Visit the ' +\n",
              "          '<a target=\"_blank\" href=https://colab.research.google.com/notebooks/data_table.ipynb>data table notebook</a>'\n",
              "          + ' to learn more about interactive tables.';\n",
              "        element.innerHTML = '';\n",
              "        dataTable['output_type'] = 'display_data';\n",
              "        await google.colab.output.renderOutput(dataTable, element);\n",
              "        const docLink = document.createElement('div');\n",
              "        docLink.innerHTML = docLinkHtml;\n",
              "        element.appendChild(docLink);\n",
              "      }\n",
              "    </script>\n",
              "  </div>\n",
              "\n",
              "\n",
              "<div id=\"df-0459e3ff-912c-49dd-8c17-9e7c733ca46a\">\n",
              "  <button class=\"colab-df-quickchart\" onclick=\"quickchart('df-0459e3ff-912c-49dd-8c17-9e7c733ca46a')\"\n",
              "            title=\"Suggest charts\"\n",
              "            style=\"display:none;\">\n",
              "\n",
              "<svg xmlns=\"http://www.w3.org/2000/svg\" height=\"24px\"viewBox=\"0 0 24 24\"\n",
              "     width=\"24px\">\n",
              "    <g>\n",
              "        <path d=\"M19 3H5c-1.1 0-2 .9-2 2v14c0 1.1.9 2 2 2h14c1.1 0 2-.9 2-2V5c0-1.1-.9-2-2-2zM9 17H7v-7h2v7zm4 0h-2V7h2v10zm4 0h-2v-4h2v4z\"/>\n",
              "    </g>\n",
              "</svg>\n",
              "  </button>\n",
              "\n",
              "<style>\n",
              "  .colab-df-quickchart {\n",
              "      --bg-color: #E8F0FE;\n",
              "      --fill-color: #1967D2;\n",
              "      --hover-bg-color: #E2EBFA;\n",
              "      --hover-fill-color: #174EA6;\n",
              "      --disabled-fill-color: #AAA;\n",
              "      --disabled-bg-color: #DDD;\n",
              "  }\n",
              "\n",
              "  [theme=dark] .colab-df-quickchart {\n",
              "      --bg-color: #3B4455;\n",
              "      --fill-color: #D2E3FC;\n",
              "      --hover-bg-color: #434B5C;\n",
              "      --hover-fill-color: #FFFFFF;\n",
              "      --disabled-bg-color: #3B4455;\n",
              "      --disabled-fill-color: #666;\n",
              "  }\n",
              "\n",
              "  .colab-df-quickchart {\n",
              "    background-color: var(--bg-color);\n",
              "    border: none;\n",
              "    border-radius: 50%;\n",
              "    cursor: pointer;\n",
              "    display: none;\n",
              "    fill: var(--fill-color);\n",
              "    height: 32px;\n",
              "    padding: 0;\n",
              "    width: 32px;\n",
              "  }\n",
              "\n",
              "  .colab-df-quickchart:hover {\n",
              "    background-color: var(--hover-bg-color);\n",
              "    box-shadow: 0 1px 2px rgba(60, 64, 67, 0.3), 0 1px 3px 1px rgba(60, 64, 67, 0.15);\n",
              "    fill: var(--button-hover-fill-color);\n",
              "  }\n",
              "\n",
              "  .colab-df-quickchart-complete:disabled,\n",
              "  .colab-df-quickchart-complete:disabled:hover {\n",
              "    background-color: var(--disabled-bg-color);\n",
              "    fill: var(--disabled-fill-color);\n",
              "    box-shadow: none;\n",
              "  }\n",
              "\n",
              "  .colab-df-spinner {\n",
              "    border: 2px solid var(--fill-color);\n",
              "    border-color: transparent;\n",
              "    border-bottom-color: var(--fill-color);\n",
              "    animation:\n",
              "      spin 1s steps(1) infinite;\n",
              "  }\n",
              "\n",
              "  @keyframes spin {\n",
              "    0% {\n",
              "      border-color: transparent;\n",
              "      border-bottom-color: var(--fill-color);\n",
              "      border-left-color: var(--fill-color);\n",
              "    }\n",
              "    20% {\n",
              "      border-color: transparent;\n",
              "      border-left-color: var(--fill-color);\n",
              "      border-top-color: var(--fill-color);\n",
              "    }\n",
              "    30% {\n",
              "      border-color: transparent;\n",
              "      border-left-color: var(--fill-color);\n",
              "      border-top-color: var(--fill-color);\n",
              "      border-right-color: var(--fill-color);\n",
              "    }\n",
              "    40% {\n",
              "      border-color: transparent;\n",
              "      border-right-color: var(--fill-color);\n",
              "      border-top-color: var(--fill-color);\n",
              "    }\n",
              "    60% {\n",
              "      border-color: transparent;\n",
              "      border-right-color: var(--fill-color);\n",
              "    }\n",
              "    80% {\n",
              "      border-color: transparent;\n",
              "      border-right-color: var(--fill-color);\n",
              "      border-bottom-color: var(--fill-color);\n",
              "    }\n",
              "    90% {\n",
              "      border-color: transparent;\n",
              "      border-bottom-color: var(--fill-color);\n",
              "    }\n",
              "  }\n",
              "</style>\n",
              "\n",
              "  <script>\n",
              "    async function quickchart(key) {\n",
              "      const quickchartButtonEl =\n",
              "        document.querySelector('#' + key + ' button');\n",
              "      quickchartButtonEl.disabled = true;  // To prevent multiple clicks.\n",
              "      quickchartButtonEl.classList.add('colab-df-spinner');\n",
              "      try {\n",
              "        const charts = await google.colab.kernel.invokeFunction(\n",
              "            'suggestCharts', [key], {});\n",
              "      } catch (error) {\n",
              "        console.error('Error during call to suggestCharts:', error);\n",
              "      }\n",
              "      quickchartButtonEl.classList.remove('colab-df-spinner');\n",
              "      quickchartButtonEl.classList.add('colab-df-quickchart-complete');\n",
              "    }\n",
              "    (() => {\n",
              "      let quickchartButtonEl =\n",
              "        document.querySelector('#df-0459e3ff-912c-49dd-8c17-9e7c733ca46a button');\n",
              "      quickchartButtonEl.style.display =\n",
              "        google.colab.kernel.accessAllowed ? 'block' : 'none';\n",
              "    })();\n",
              "  </script>\n",
              "</div>\n",
              "\n",
              "    </div>\n",
              "  </div>\n"
            ],
            "application/vnd.google.colaboratory.intrinsic+json": {
              "type": "dataframe",
              "variable_name": "hy_vee_des_moines",
              "summary": "{\n  \"name\": \"hy_vee_des_moines\",\n  \"rows\": 6994,\n  \"fields\": [\n    {\n      \"column\": \"Date\",\n      \"properties\": {\n        \"dtype\": \"date\",\n        \"min\": \"2012-01-03 00:00:00\",\n        \"max\": \"2014-12-30 00:00:00\",\n        \"num_unique_values\": 441,\n        \"samples\": [\n          \"2012-01-16 00:00:00\",\n          \"2014-06-16 00:00:00\",\n          \"2013-03-20 00:00:00\"\n        ],\n        \"semantic_type\": \"\",\n        \"description\": \"\"\n      }\n    },\n    {\n      \"column\": \"Store Number\",\n      \"properties\": {\n        \"dtype\": \"number\",\n        \"std\": 0,\n        \"min\": 2633,\n        \"max\": 2633,\n        \"num_unique_values\": 1,\n        \"samples\": [\n          2633\n        ],\n        \"semantic_type\": \"\",\n        \"description\": \"\"\n      }\n    },\n    {\n      \"column\": \"Category Name\",\n      \"properties\": {\n        \"dtype\": \"category\",\n        \"num_unique_values\": 17,\n        \"samples\": [\n          \"LIQUEUR\"\n        ],\n        \"semantic_type\": \"\",\n        \"description\": \"\"\n      }\n    },\n    {\n      \"column\": \"Vendor Name\",\n      \"properties\": {\n        \"dtype\": \"category\",\n        \"num_unique_values\": 64,\n        \"samples\": [\n          \"Duggan's Distillers Products Corp\"\n        ],\n        \"semantic_type\": \"\",\n        \"description\": \"\"\n      }\n    },\n    {\n      \"column\": \"Pack\",\n      \"properties\": {\n        \"dtype\": \"number\",\n        \"std\": 2,\n        \"min\": 1,\n        \"max\": 48,\n        \"num_unique_values\": 8,\n        \"samples\": [\n          12\n        ],\n        \"semantic_type\": \"\",\n        \"description\": \"\"\n      }\n    },\n    {\n      \"column\": \"Bottles Sold\",\n      \"properties\": {\n        \"dtype\": \"number\",\n        \"std\": 93,\n        \"min\": 1,\n        \"max\": 1800,\n        \"num_unique_values\": 54,\n        \"samples\": [\n          540\n        ],\n        \"semantic_type\": \"\",\n        \"description\": \"\"\n      }\n    },\n    {\n      \"column\": \"Sale (Dollars)\",\n      \"properties\": {\n        \"dtype\": \"number\",\n        \"std\": 1721.1880261195586,\n        \"min\": 0.0,\n        \"max\": 41940.0,\n        \"num_unique_values\": 1683,\n        \"samples\": [\n          44.58\n        ],\n        \"semantic_type\": \"\",\n        \"description\": \"\"\n      }\n    }\n  ]\n}"
            }
          },
          "metadata": {},
          "execution_count": 67
        }
      ],
      "source": [
        "hy_vee_des_moines.head(3)"
      ]
    },
    {
      "cell_type": "markdown",
      "source": [
        "Let's carefully consolidate these into more generalized categories. On one hand, we need to narrow these down for clarity and modeling purposes. On the other hand, we don't want to eliminate too many categories, especially those with a larger value count.\n",
        "\n",
        "For example, instead of just consolidating everything containing the string 'VODKA' to a general 'VODKA' category, we can at least distinguish between 'VODKA' and a new category called 'FLAVORED VODKA'. We can also do something like divide the whiskey categories into three new ones: 'BOURBON', 'SCOTCH', and 'OTHER WHISKEY'.\n",
        "\n"
      ],
      "metadata": {
        "id": "_W6Zw-3dPzkO"
      }
    },
    {
      "cell_type": "code",
      "source": [
        "#Let's go back to the main DataFrame to refrence these categories\n",
        "# and drop from there.\n",
        "print(df['Category Name'].value_counts().to_string())"
      ],
      "metadata": {
        "colab": {
          "base_uri": "https://localhost:8080/"
        },
        "id": "LeWpSomWA6d6",
        "outputId": "8116a206-b104-487a-d4f5-c912ec072ee6"
      },
      "execution_count": null,
      "outputs": [
        {
          "output_type": "stream",
          "name": "stdout",
          "text": [
            "Category Name\n",
            "VODKA 80 PROOF                          130687\n",
            "CANADIAN WHISKIES                        97766\n",
            "STRAIGHT BOURBON WHISKIES                57021\n",
            "SPICED RUM                               55598\n",
            "VODKA FLAVORED                           52326\n",
            "BLENDED WHISKIES                         47028\n",
            "TEQUILA                                  45050\n",
            "IMPORTED VODKA                           43040\n",
            "PUERTO RICO & VIRGIN ISLANDS RUM         42680\n",
            "WHISKEY LIQUEUR                          33616\n",
            "AMERICAN COCKTAILS                       30734\n",
            "FLAVORED RUM                             29375\n",
            "AMERICAN DRY GINS                        27623\n",
            "IMPORTED VODKA - MISC                    27399\n",
            "MISC. IMPORTED CORDIALS & LIQUEURS       26579\n",
            "AMERICAN GRAPE BRANDIES                  26035\n",
            "TENNESSEE WHISKIES                       25727\n",
            "CREAM LIQUEURS                           24791\n",
            "SCOTCH WHISKIES                          21475\n",
            "IMPORTED SCHNAPPS                        18274\n",
            "IMPORTED GRAPE BRANDIES                  15988\n",
            "MISC. AMERICAN CORDIALS & LIQUEURS       14755\n",
            "PEPPERMINT SCHNAPPS                      12200\n",
            "IMPORTED DRY GINS                        12038\n",
            "100 PROOF VODKA                          11271\n",
            "IRISH WHISKIES                            8934\n",
            "SINGLE MALT SCOTCH                        8890\n",
            "COFFEE LIQUEURS                           7980\n",
            "PEACH SCHNAPPS                            6747\n",
            "STRAIGHT RYE WHISKIES                     6674\n",
            "DISTILLED SPIRITS SPECIALTY               6658\n",
            "BLACKBERRY BRANDIES                       6516\n",
            "AMERICAN AMARETTO                         5624\n",
            "TRIPLE SEC                                4842\n",
            "DECANTERS & SPECIALTY PACKAGES            4369\n",
            "APRICOT BRANDIES                          4261\n",
            "CINNAMON SCHNAPPS                         3854\n",
            "APPLE SCHNAPPS                            3791\n",
            "BUTTERSCOTCH SCHNAPPS                     3756\n",
            "MISCELLANEOUS SCHNAPPS                    3442\n",
            "AMERICAN ALCOHOL                          2721\n",
            "WATERMELON SCHNAPPS                       1914\n",
            "IMPORTED AMARETTO                         1621\n",
            "JAMAICA RUM                               1574\n",
            "ROOT BEER SCHNAPPS                        1474\n",
            "CHERRY BRANDIES                           1442\n",
            "RASPBERRY SCHNAPPS                        1417\n",
            "GRAPE SCHNAPPS                            1414\n",
            "PEACH BRANDIES                            1379\n",
            "STRAWBERRY SCHNAPPS                       1336\n",
            "FLAVORED GINS                             1334\n",
            "TROPICAL FRUIT SCHNAPPS                   1193\n",
            "BARBADOS RUM                              1112\n",
            "GREEN CREME DE MENTHE                      971\n",
            "SINGLE BARREL BOURBON WHISKIES             936\n",
            "American Vodkas                            851\n",
            "BOTTLED IN BOND BOURBON                    767\n",
            "AMERICAN SLOE GINS                         748\n",
            "WHITE CREME DE CACAO                       735\n",
            "DARK CREME DE CACAO                        713\n",
            "Canadian Whiskies                          536\n",
            "OTHER PROOF VODKA                          360\n",
            "SPEARMINT SCHNAPPS                         316\n",
            "Straight Bourbon Whiskies                  315\n",
            "WHITE CREME DE MENTHE                      308\n",
            "Spiced Rum                                 307\n",
            "ROCK & RYE                                 275\n",
            "Blended Whiskies                           268\n",
            "MISCELLANEOUS  BRANDIES                    254\n",
            "White Rum                                  236\n",
            "Whiskey Liqueur                            214\n",
            "LOW PROOF VODKA                            208\n",
            "Imported Vodkas                            195\n",
            "American Brandies                          195\n",
            "American Flavored Vodka                    194\n",
            "American Vodka                             188\n",
            "Cream Liqueurs                             183\n",
            "Flavored Rum                               176\n",
            "ANISETTE                                   168\n",
            "American Schnapps                          160\n",
            "American Dry Gins                          156\n",
            "CREME DE ALMOND                            143\n",
            "Mixto Tequila                              138\n",
            "Imported Brandies                          132\n",
            "100% Agave Tequila                         124\n",
            "Scotch Whiskies                            118\n",
            "Tennessee Whiskies                         109\n",
            "Irish Whiskies                             102\n",
            "Imported Flavored Vodka                     98\n",
            "American Cordials & Liqueur                 81\n",
            "Imported Cordials & Liqueurs                74\n",
            "Cocktails /RTD                              74\n",
            "Gold Rum                                    71\n",
            "Imported Schnapps                           65\n",
            "Imported Vodka                              63\n",
            "Imported Dry Gins                           62\n",
            "Single Malt Scotch                          46\n",
            "Triple Sec                                  36\n",
            "Cocktails / RTD                             32\n",
            "Coffee Liqueurs                             31\n",
            "Aged Dark Rum                               27\n",
            "American Cordials & Liqueurs                26\n",
            "Straight Rye Whiskies                       26\n",
            "Neutral Grain Spirits                       17\n",
            "Flavored Gin                                 9\n",
            "Temporary & Specialty Packages               8\n",
            "Iowa Distilleries                            7\n",
            "AMARETTO - IMPORTED                          7\n",
            "Corn Whiskies                                5\n",
            "American Sloe Gins                           5\n",
            "Mezcal                                       5\n",
            "CORN WHISKIES                                5\n",
            "HIGH PROOF BEER - AMERICAN                   4\n",
            "JAPANESE WHISKY                              4\n",
            "SCHNAPPS - IMPORTED                          3\n",
            "Bottled in Bond Bourbon                      3\n",
            "Delisted Items                               3\n",
            "Single Barrel Bourbon Whiskies               2\n",
            "Special Order Items                          2\n",
            "Neutral Grain Spirits Flavored               2\n",
            "Iowa Distillery Whiskies                     1\n",
            "American Distilled Spirit Specialty          1\n",
            "Imported Cordials & Liqueur                  1\n",
            "Imported Distilled Spirit Specialty          1\n",
            "American Distilled Spirits Specialty         1\n",
            "IMPORTED VODKA - CHERRY                      1\n"
          ]
        }
      ]
    },
    {
      "cell_type": "code",
      "source": [],
      "metadata": {
        "colab": {
          "base_uri": "https://localhost:8080/",
          "height": 356
        },
        "id": "aJ1agwQn28uo",
        "outputId": "405dfd31-6184-4a8b-9b5d-cc0c2b89a54e"
      },
      "execution_count": null,
      "outputs": [
        {
          "output_type": "error",
          "ename": "ValueError",
          "evalue": "Cannot mask with non-boolean array containing NA / NaN values",
          "traceback": [
            "\u001b[0;31m---------------------------------------------------------------------------\u001b[0m",
            "\u001b[0;31mValueError\u001b[0m                                Traceback (most recent call last)",
            "\u001b[0;32m<ipython-input-100-86e274ebb48e>\u001b[0m in \u001b[0;36m<cell line: 3>\u001b[0;34m()\u001b[0m\n\u001b[1;32m      1\u001b[0m \u001b[0;31m#I can use the str.contains method for some categories that are easier\u001b[0m\u001b[0;34m\u001b[0m\u001b[0;34m\u001b[0m\u001b[0m\n\u001b[1;32m      2\u001b[0m \u001b[0;31m# to generalize. Let's do those first:\u001b[0m\u001b[0;34m\u001b[0m\u001b[0;34m\u001b[0m\u001b[0m\n\u001b[0;32m----> 3\u001b[0;31m \u001b[0mdf\u001b[0m\u001b[0;34m.\u001b[0m\u001b[0mloc\u001b[0m\u001b[0;34m[\u001b[0m\u001b[0mdf\u001b[0m\u001b[0;34m[\u001b[0m\u001b[0;34m'Category Name'\u001b[0m\u001b[0;34m]\u001b[0m\u001b[0;34m.\u001b[0m\u001b[0mstr\u001b[0m\u001b[0;34m.\u001b[0m\u001b[0mcontains\u001b[0m\u001b[0;34m(\u001b[0m\u001b[0;34m'BOURBON'\u001b[0m\u001b[0;34m,\u001b[0m \u001b[0;34m'Bourbon'\u001b[0m\u001b[0;34m)\u001b[0m\u001b[0;34m,\u001b[0m \u001b[0;34m'Category Name'\u001b[0m\u001b[0;34m]\u001b[0m \u001b[0;34m=\u001b[0m \u001b[0;34m'BOURBON'\u001b[0m\u001b[0;34m\u001b[0m\u001b[0;34m\u001b[0m\u001b[0m\n\u001b[0m\u001b[1;32m      4\u001b[0m \u001b[0mdf\u001b[0m\u001b[0;34m.\u001b[0m\u001b[0mloc\u001b[0m\u001b[0;34m[\u001b[0m\u001b[0mdf\u001b[0m\u001b[0;34m[\u001b[0m\u001b[0;34m'Category Name'\u001b[0m\u001b[0;34m]\u001b[0m\u001b[0;34m.\u001b[0m\u001b[0mstr\u001b[0m\u001b[0;34m.\u001b[0m\u001b[0mcontains\u001b[0m\u001b[0;34m(\u001b[0m\u001b[0;34m'GIN'\u001b[0m\u001b[0;34m,\u001b[0m \u001b[0;34m'Gin'\u001b[0m\u001b[0;34m)\u001b[0m\u001b[0;34m,\u001b[0m \u001b[0;34m'Category Name'\u001b[0m\u001b[0;34m]\u001b[0m \u001b[0;34m=\u001b[0m \u001b[0;34m'GIN'\u001b[0m\u001b[0;34m\u001b[0m\u001b[0;34m\u001b[0m\u001b[0m\n\u001b[1;32m      5\u001b[0m \u001b[0mdf\u001b[0m\u001b[0;34m.\u001b[0m\u001b[0mloc\u001b[0m\u001b[0;34m[\u001b[0m\u001b[0mdf\u001b[0m\u001b[0;34m[\u001b[0m\u001b[0;34m'Category Name'\u001b[0m\u001b[0;34m]\u001b[0m\u001b[0;34m.\u001b[0m\u001b[0mstr\u001b[0m\u001b[0;34m.\u001b[0m\u001b[0mcontains\u001b[0m\u001b[0;34m(\u001b[0m\u001b[0;34m'RUM'\u001b[0m\u001b[0;34m,\u001b[0m \u001b[0;34m'Rum'\u001b[0m\u001b[0;34m)\u001b[0m\u001b[0;34m,\u001b[0m \u001b[0;34m'Category Name'\u001b[0m\u001b[0;34m]\u001b[0m \u001b[0;34m=\u001b[0m \u001b[0;34m'RUM'\u001b[0m\u001b[0;34m\u001b[0m\u001b[0;34m\u001b[0m\u001b[0m\n",
            "\u001b[0;32m/usr/local/lib/python3.10/dist-packages/pandas/core/indexing.py\u001b[0m in \u001b[0;36m__setitem__\u001b[0;34m(self, key, value)\u001b[0m\n\u001b[1;32m    843\u001b[0m         \u001b[0;32melse\u001b[0m\u001b[0;34m:\u001b[0m\u001b[0;34m\u001b[0m\u001b[0;34m\u001b[0m\u001b[0m\n\u001b[1;32m    844\u001b[0m             \u001b[0mkey\u001b[0m \u001b[0;34m=\u001b[0m \u001b[0mcom\u001b[0m\u001b[0;34m.\u001b[0m\u001b[0mapply_if_callable\u001b[0m\u001b[0;34m(\u001b[0m\u001b[0mkey\u001b[0m\u001b[0;34m,\u001b[0m \u001b[0mself\u001b[0m\u001b[0;34m.\u001b[0m\u001b[0mobj\u001b[0m\u001b[0;34m)\u001b[0m\u001b[0;34m\u001b[0m\u001b[0;34m\u001b[0m\u001b[0m\n\u001b[0;32m--> 845\u001b[0;31m         \u001b[0mindexer\u001b[0m \u001b[0;34m=\u001b[0m \u001b[0mself\u001b[0m\u001b[0;34m.\u001b[0m\u001b[0m_get_setitem_indexer\u001b[0m\u001b[0;34m(\u001b[0m\u001b[0mkey\u001b[0m\u001b[0;34m)\u001b[0m\u001b[0;34m\u001b[0m\u001b[0;34m\u001b[0m\u001b[0m\n\u001b[0m\u001b[1;32m    846\u001b[0m         \u001b[0mself\u001b[0m\u001b[0;34m.\u001b[0m\u001b[0m_has_valid_setitem_indexer\u001b[0m\u001b[0;34m(\u001b[0m\u001b[0mkey\u001b[0m\u001b[0;34m)\u001b[0m\u001b[0;34m\u001b[0m\u001b[0;34m\u001b[0m\u001b[0m\n\u001b[1;32m    847\u001b[0m \u001b[0;34m\u001b[0m\u001b[0m\n",
            "\u001b[0;32m/usr/local/lib/python3.10/dist-packages/pandas/core/indexing.py\u001b[0m in \u001b[0;36m_get_setitem_indexer\u001b[0;34m(self, key)\u001b[0m\n\u001b[1;32m    708\u001b[0m             \u001b[0;32mwith\u001b[0m \u001b[0msuppress\u001b[0m\u001b[0;34m(\u001b[0m\u001b[0mIndexingError\u001b[0m\u001b[0;34m)\u001b[0m\u001b[0;34m:\u001b[0m\u001b[0;34m\u001b[0m\u001b[0;34m\u001b[0m\u001b[0m\n\u001b[1;32m    709\u001b[0m                 \u001b[0;31m# suppress \"Too many indexers\"\u001b[0m\u001b[0;34m\u001b[0m\u001b[0;34m\u001b[0m\u001b[0m\n\u001b[0;32m--> 710\u001b[0;31m                 \u001b[0;32mreturn\u001b[0m \u001b[0mself\u001b[0m\u001b[0;34m.\u001b[0m\u001b[0m_convert_tuple\u001b[0m\u001b[0;34m(\u001b[0m\u001b[0mkey\u001b[0m\u001b[0;34m)\u001b[0m\u001b[0;34m\u001b[0m\u001b[0;34m\u001b[0m\u001b[0m\n\u001b[0m\u001b[1;32m    711\u001b[0m \u001b[0;34m\u001b[0m\u001b[0m\n\u001b[1;32m    712\u001b[0m         \u001b[0;32mif\u001b[0m \u001b[0misinstance\u001b[0m\u001b[0;34m(\u001b[0m\u001b[0mkey\u001b[0m\u001b[0;34m,\u001b[0m \u001b[0mrange\u001b[0m\u001b[0;34m)\u001b[0m\u001b[0;34m:\u001b[0m\u001b[0;34m\u001b[0m\u001b[0;34m\u001b[0m\u001b[0m\n",
            "\u001b[0;32m/usr/local/lib/python3.10/dist-packages/pandas/core/indexing.py\u001b[0m in \u001b[0;36m_convert_tuple\u001b[0;34m(self, key)\u001b[0m\n\u001b[1;32m    925\u001b[0m         \u001b[0;31m# Note: we assume _tupleize_axis_indexer has been called, if necessary.\u001b[0m\u001b[0;34m\u001b[0m\u001b[0;34m\u001b[0m\u001b[0m\n\u001b[1;32m    926\u001b[0m         \u001b[0mself\u001b[0m\u001b[0;34m.\u001b[0m\u001b[0m_validate_key_length\u001b[0m\u001b[0;34m(\u001b[0m\u001b[0mkey\u001b[0m\u001b[0;34m)\u001b[0m\u001b[0;34m\u001b[0m\u001b[0;34m\u001b[0m\u001b[0m\n\u001b[0;32m--> 927\u001b[0;31m         \u001b[0mkeyidx\u001b[0m \u001b[0;34m=\u001b[0m \u001b[0;34m[\u001b[0m\u001b[0mself\u001b[0m\u001b[0;34m.\u001b[0m\u001b[0m_convert_to_indexer\u001b[0m\u001b[0;34m(\u001b[0m\u001b[0mk\u001b[0m\u001b[0;34m,\u001b[0m \u001b[0maxis\u001b[0m\u001b[0;34m=\u001b[0m\u001b[0mi\u001b[0m\u001b[0;34m)\u001b[0m \u001b[0;32mfor\u001b[0m \u001b[0mi\u001b[0m\u001b[0;34m,\u001b[0m \u001b[0mk\u001b[0m \u001b[0;32min\u001b[0m \u001b[0menumerate\u001b[0m\u001b[0;34m(\u001b[0m\u001b[0mkey\u001b[0m\u001b[0;34m)\u001b[0m\u001b[0;34m]\u001b[0m\u001b[0;34m\u001b[0m\u001b[0;34m\u001b[0m\u001b[0m\n\u001b[0m\u001b[1;32m    928\u001b[0m         \u001b[0;32mreturn\u001b[0m \u001b[0mtuple\u001b[0m\u001b[0;34m(\u001b[0m\u001b[0mkeyidx\u001b[0m\u001b[0;34m)\u001b[0m\u001b[0;34m\u001b[0m\u001b[0;34m\u001b[0m\u001b[0m\n\u001b[1;32m    929\u001b[0m \u001b[0;34m\u001b[0m\u001b[0m\n",
            "\u001b[0;32m/usr/local/lib/python3.10/dist-packages/pandas/core/indexing.py\u001b[0m in \u001b[0;36m<listcomp>\u001b[0;34m(.0)\u001b[0m\n\u001b[1;32m    925\u001b[0m         \u001b[0;31m# Note: we assume _tupleize_axis_indexer has been called, if necessary.\u001b[0m\u001b[0;34m\u001b[0m\u001b[0;34m\u001b[0m\u001b[0m\n\u001b[1;32m    926\u001b[0m         \u001b[0mself\u001b[0m\u001b[0;34m.\u001b[0m\u001b[0m_validate_key_length\u001b[0m\u001b[0;34m(\u001b[0m\u001b[0mkey\u001b[0m\u001b[0;34m)\u001b[0m\u001b[0;34m\u001b[0m\u001b[0;34m\u001b[0m\u001b[0m\n\u001b[0;32m--> 927\u001b[0;31m         \u001b[0mkeyidx\u001b[0m \u001b[0;34m=\u001b[0m \u001b[0;34m[\u001b[0m\u001b[0mself\u001b[0m\u001b[0;34m.\u001b[0m\u001b[0m_convert_to_indexer\u001b[0m\u001b[0;34m(\u001b[0m\u001b[0mk\u001b[0m\u001b[0;34m,\u001b[0m \u001b[0maxis\u001b[0m\u001b[0;34m=\u001b[0m\u001b[0mi\u001b[0m\u001b[0;34m)\u001b[0m \u001b[0;32mfor\u001b[0m \u001b[0mi\u001b[0m\u001b[0;34m,\u001b[0m \u001b[0mk\u001b[0m \u001b[0;32min\u001b[0m \u001b[0menumerate\u001b[0m\u001b[0;34m(\u001b[0m\u001b[0mkey\u001b[0m\u001b[0;34m)\u001b[0m\u001b[0;34m]\u001b[0m\u001b[0;34m\u001b[0m\u001b[0;34m\u001b[0m\u001b[0m\n\u001b[0m\u001b[1;32m    928\u001b[0m         \u001b[0;32mreturn\u001b[0m \u001b[0mtuple\u001b[0m\u001b[0;34m(\u001b[0m\u001b[0mkeyidx\u001b[0m\u001b[0;34m)\u001b[0m\u001b[0;34m\u001b[0m\u001b[0;34m\u001b[0m\u001b[0m\n\u001b[1;32m    929\u001b[0m \u001b[0;34m\u001b[0m\u001b[0m\n",
            "\u001b[0;32m/usr/local/lib/python3.10/dist-packages/pandas/core/indexing.py\u001b[0m in \u001b[0;36m_convert_to_indexer\u001b[0;34m(self, key, axis)\u001b[0m\n\u001b[1;32m   1420\u001b[0m                 \u001b[0mkey\u001b[0m \u001b[0;34m=\u001b[0m \u001b[0mlist\u001b[0m\u001b[0;34m(\u001b[0m\u001b[0mkey\u001b[0m\u001b[0;34m)\u001b[0m\u001b[0;34m\u001b[0m\u001b[0;34m\u001b[0m\u001b[0m\n\u001b[1;32m   1421\u001b[0m \u001b[0;34m\u001b[0m\u001b[0m\n\u001b[0;32m-> 1422\u001b[0;31m             \u001b[0;32mif\u001b[0m \u001b[0mcom\u001b[0m\u001b[0;34m.\u001b[0m\u001b[0mis_bool_indexer\u001b[0m\u001b[0;34m(\u001b[0m\u001b[0mkey\u001b[0m\u001b[0;34m)\u001b[0m\u001b[0;34m:\u001b[0m\u001b[0;34m\u001b[0m\u001b[0;34m\u001b[0m\u001b[0m\n\u001b[0m\u001b[1;32m   1423\u001b[0m                 \u001b[0mkey\u001b[0m \u001b[0;34m=\u001b[0m \u001b[0mcheck_bool_indexer\u001b[0m\u001b[0;34m(\u001b[0m\u001b[0mlabels\u001b[0m\u001b[0;34m,\u001b[0m \u001b[0mkey\u001b[0m\u001b[0;34m)\u001b[0m\u001b[0;34m\u001b[0m\u001b[0;34m\u001b[0m\u001b[0m\n\u001b[1;32m   1424\u001b[0m                 \u001b[0;32mreturn\u001b[0m \u001b[0mkey\u001b[0m\u001b[0;34m\u001b[0m\u001b[0;34m\u001b[0m\u001b[0m\n",
            "\u001b[0;32m/usr/local/lib/python3.10/dist-packages/pandas/core/common.py\u001b[0m in \u001b[0;36mis_bool_indexer\u001b[0;34m(key)\u001b[0m\n\u001b[1;32m    132\u001b[0m                     \u001b[0;31m# Don't raise on e.g. [\"A\", \"B\", np.nan], see\u001b[0m\u001b[0;34m\u001b[0m\u001b[0;34m\u001b[0m\u001b[0m\n\u001b[1;32m    133\u001b[0m                     \u001b[0;31m#  test_loc_getitem_list_of_labels_categoricalindex_with_na\u001b[0m\u001b[0;34m\u001b[0m\u001b[0;34m\u001b[0m\u001b[0m\n\u001b[0;32m--> 134\u001b[0;31m                     \u001b[0;32mraise\u001b[0m \u001b[0mValueError\u001b[0m\u001b[0;34m(\u001b[0m\u001b[0mna_msg\u001b[0m\u001b[0;34m)\u001b[0m\u001b[0;34m\u001b[0m\u001b[0;34m\u001b[0m\u001b[0m\n\u001b[0m\u001b[1;32m    135\u001b[0m                 \u001b[0;32mreturn\u001b[0m \u001b[0;32mFalse\u001b[0m\u001b[0;34m\u001b[0m\u001b[0;34m\u001b[0m\u001b[0m\n\u001b[1;32m    136\u001b[0m             \u001b[0;32mreturn\u001b[0m \u001b[0;32mTrue\u001b[0m\u001b[0;34m\u001b[0m\u001b[0;34m\u001b[0m\u001b[0m\n",
            "\u001b[0;31mValueError\u001b[0m: Cannot mask with non-boolean array containing NA / NaN values"
          ]
        }
      ]
    },
    {
      "cell_type": "code",
      "source": [],
      "metadata": {
        "id": "QcIAH6XH29Uy"
      },
      "execution_count": null,
      "outputs": []
    },
    {
      "cell_type": "code",
      "source": [
        "hy_vee_des_moines.info()"
      ],
      "metadata": {
        "id": "i1kIiqbJTNkA"
      },
      "execution_count": null,
      "outputs": []
    },
    {
      "cell_type": "code",
      "source": [
        "hy_vee_des_moines['Pack'].value_counts()"
      ],
      "metadata": {
        "id": "v6CTCQqIUtvt"
      },
      "execution_count": null,
      "outputs": []
    },
    {
      "cell_type": "code",
      "source": [
        "len(hy_vee_des_moines['Vendor Name'].unique())"
      ],
      "metadata": {
        "id": "qMavKbO_WxQ-"
      },
      "execution_count": null,
      "outputs": []
    },
    {
      "cell_type": "code",
      "source": [
        "hy_vee_des_moines['Vendor Name'].value_counts()"
      ],
      "metadata": {
        "id": "jiZ8--O0bBoT"
      },
      "execution_count": null,
      "outputs": []
    },
    {
      "cell_type": "code",
      "source": [
        "hvdm_vendor_counts = hy_vee_des_moines['Vendor Name'].value_counts()\n",
        "hvdm__100_order_vendors = pd.DataFrame(hvdm_vendor_counts)\n",
        "hvdm__100_order_vendors = hvdm__100_order_vendors[hvdm__100_order_vendors['count']>= 100]\n",
        "hvdm__100_order_vendors"
      ],
      "metadata": {
        "id": "D-hjZMMIasjr"
      },
      "execution_count": null,
      "outputs": []
    },
    {
      "cell_type": "code",
      "source": [
        "sum(hvdm__100_order_vendors['count'])"
      ],
      "metadata": {
        "id": "z9qHkyUsass1"
      },
      "execution_count": null,
      "outputs": []
    },
    {
      "cell_type": "code",
      "source": [],
      "metadata": {
        "id": "l6gDOF4vas1n"
      },
      "execution_count": null,
      "outputs": []
    },
    {
      "cell_type": "code",
      "source": [
        "hy_vee_des_moines['State Bottle Retail'].hist(bins=30);"
      ],
      "metadata": {
        "id": "31zbCqntVU2H"
      },
      "execution_count": null,
      "outputs": []
    },
    {
      "cell_type": "code",
      "source": [
        "hy_vee_des_moines['Bottles Sold'].hist(bins=10);"
      ],
      "metadata": {
        "id": "MuL0P6ARVhc_"
      },
      "execution_count": null,
      "outputs": []
    },
    {
      "cell_type": "code",
      "source": [
        "hy_vee_des_moines['Date'].hist(bins=36);"
      ],
      "metadata": {
        "id": "eOL6t75FVrxZ"
      },
      "execution_count": null,
      "outputs": []
    },
    {
      "cell_type": "code",
      "source": [
        "rolling_hy_vee = hy_vee_des_moines['Bottles Sold'].rolling(window=6, center=False).mean()\n",
        "rolling_hy_vee.hist();"
      ],
      "metadata": {
        "id": "eRDct9w8WC7h"
      },
      "execution_count": null,
      "outputs": []
    },
    {
      "cell_type": "code",
      "source": [
        "hy_vee_des_moines.sample(50)"
      ],
      "metadata": {
        "id": "Ws-2Zh1WVofe"
      },
      "execution_count": null,
      "outputs": []
    },
    {
      "cell_type": "code",
      "source": [],
      "metadata": {
        "id": "dXdhS2h_efbk"
      },
      "execution_count": null,
      "outputs": []
    }
  ],
  "metadata": {
    "colab": {
      "provenance": [],
      "authorship_tag": "ABX9TyMa6iEkUJJyfxNUSi9cX9Bk",
      "include_colab_link": true
    },
    "kernelspec": {
      "display_name": "Python 3",
      "name": "python3"
    },
    "language_info": {
      "name": "python"
    }
  },
  "nbformat": 4,
  "nbformat_minor": 0
}