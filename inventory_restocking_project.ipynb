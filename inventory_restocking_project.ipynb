{
  "cells": [
    {
      "cell_type": "markdown",
      "metadata": {
        "id": "view-in-github",
        "colab_type": "text"
      },
      "source": [
        "<a href=\"https://colab.research.google.com/github/joeldmott/inventory_project/blob/main/inventory_restocking_project.ipynb\" target=\"_parent\"><img src=\"https://colab.research.google.com/assets/colab-badge.svg\" alt=\"Open In Colab\"/></a>"
      ]
    },
    {
      "cell_type": "code",
      "execution_count": 1,
      "metadata": {
        "id": "CC4jPqddzEY4"
      },
      "outputs": [],
      "source": [
        "#importing packages to read in data from Kaggle host site\n",
        "import json\n",
        "import os\n",
        "from pathlib import Path\n",
        "from google.colab import userdata\n",
        "\n",
        "# api key for importing Kaggle and downloading the datasets\n",
        "os.environ[\"KAGGLE_KEY\"] = userdata.get('KAGGLE_KEY')\n",
        "os.environ[\"KAGGLE_USERNAME\"] = userdata.get('KAGGLE_USERNAME')\n",
        "\n",
        "# api key for the json object below\n",
        "api_key = userdata.get('API_KEY')\n",
        "\n",
        "# using pathlib Path\n",
        "kaggle_path = Path('/root/.kaggle')\n",
        "os.makedirs(kaggle_path, exist_ok=True)\n",
        "\n",
        "# opening file and dumps python dict to json object\n",
        "with open (kaggle_path/'kaggle.json', 'w') as handl:\n",
        "    json.dump(api_key,handl)\n",
        "\n",
        "os.chmod(kaggle_path/'kaggle.json', 600)"
      ]
    },
    {
      "cell_type": "code",
      "execution_count": 2,
      "metadata": {
        "colab": {
          "base_uri": "https://localhost:8080/"
        },
        "id": "akVHqq4j7J7R",
        "outputId": "0bd6e002-13df-4f63-84dc-f1d201d345e7"
      },
      "outputs": [
        {
          "output_type": "stream",
          "name": "stdout",
          "text": [
            "Dataset URL: https://www.kaggle.com/datasets/residentmario/iowa-liquor-sales\n",
            "License(s): CC0-1.0\n",
            "Downloading iowa-liquor-sales.zip to /content\n",
            " 97% 708M/731M [00:07<00:00, 84.7MB/s]\n",
            "100% 731M/731M [00:07<00:00, 96.7MB/s]\n"
          ]
        }
      ],
      "source": [
        "import kaggle\n",
        "#! kaggle datasets download joelmott/liquor-inventory-dataset\n",
        "! kaggle datasets download residentmario/iowa-liquor-sales"
      ]
    },
    {
      "cell_type": "code",
      "execution_count": 3,
      "metadata": {
        "colab": {
          "base_uri": "https://localhost:8080/"
        },
        "id": "qWOWhybu747k",
        "outputId": "c5cc8210-392c-4464-8c4f-bf6c30c0b169"
      },
      "outputs": [
        {
          "output_type": "stream",
          "name": "stdout",
          "text": [
            "Archive:  iowa-liquor-sales.zip\n",
            "  inflating: Iowa_Liquor_Sales.csv   \n"
          ]
        }
      ],
      "source": [
        "!unzip iowa-liquor-sales.zip"
      ]
    },
    {
      "cell_type": "code",
      "execution_count": 4,
      "metadata": {
        "colab": {
          "base_uri": "https://localhost:8080/",
          "height": 637
        },
        "id": "EWFuESJc-7Cw",
        "outputId": "a253a4d6-db42-45fb-9f02-a9ae5e0d3bd9"
      },
      "outputs": [
        {
          "output_type": "stream",
          "name": "stderr",
          "text": [
            "<ipython-input-4-ee4148f6d4fc>:2: DtypeWarning: Columns (6) have mixed types. Specify dtype option on import or set low_memory=False.\n",
            "  df = pd.read_csv('/content/Iowa_Liquor_Sales.csv')\n"
          ]
        },
        {
          "output_type": "execute_result",
          "data": {
            "text/plain": [
              "  Invoice/Item Number        Date  Store Number  \\\n",
              "0        S29198800001  11/20/2015          2191   \n",
              "1        S29195400002  11/21/2015          2205   \n",
              "2        S29050300001  11/16/2015          3549   \n",
              "3        S28867700001  11/04/2015          2513   \n",
              "4        S29050800001  11/17/2015          3942   \n",
              "\n",
              "                         Store Name              Address          City  \\\n",
              "0                    Keokuk Spirits            1013 MAIN        KEOKUK   \n",
              "1            Ding's Honk And Holler     900 E WASHINGTON      CLARINDA   \n",
              "2              Quicker Liquor Store         1414 48TH ST  FORT MADISON   \n",
              "3  Hy-Vee Food Store #2 / Iowa City       812  S 1ST AVE     IOWA CITY   \n",
              "4                  Twin Town Liquor  104 HIGHWAY 30 WEST        TOLEDO   \n",
              "\n",
              "  Zip Code                                     Store Location  County Number  \\\n",
              "0    52632    1013 MAIN\\nKEOKUK 52632\\n(40.39978, -91.387531)           56.0   \n",
              "1    51632  900 E WASHINGTON\\nCLARINDA 51632\\n(40.739238, ...           73.0   \n",
              "2    52627  1414 48TH ST\\nFORT MADISON 52627\\n(40.624226, ...           56.0   \n",
              "3    52240                   812 S 1ST AVE\\nIOWA CITY 52240\\n           52.0   \n",
              "4    52342  104 HIGHWAY 30 WEST\\nTOLEDO 52342\\n(41.985887,...           86.0   \n",
              "\n",
              "    County  ...  Item Number                               Item Description  \\\n",
              "0      Lee  ...          297                          Templeton Rye w/Flask   \n",
              "1     Page  ...          297                          Templeton Rye w/Flask   \n",
              "2      Lee  ...          249  Disaronno Amaretto Cavalli Mignon 3-50ml Pack   \n",
              "3  Johnson  ...          237                 Knob Creek w/ Crystal Decanter   \n",
              "4     Tama  ...          249  Disaronno Amaretto Cavalli Mignon 3-50ml Pack   \n",
              "\n",
              "   Pack Bottle Volume (ml)  State Bottle Cost State Bottle Retail  \\\n",
              "0     6                750             $18.09              $27.14   \n",
              "1     6                750             $18.09              $27.14   \n",
              "2    20                150              $6.40               $9.60   \n",
              "3     3               1750             $35.55              $53.34   \n",
              "4    20                150              $6.40               $9.60   \n",
              "\n",
              "   Bottles Sold  Sale (Dollars) Volume Sold (Liters) Volume Sold (Gallons)  \n",
              "0             6         $162.84                 4.50                  1.19  \n",
              "1            12         $325.68                 9.00                  2.38  \n",
              "2             2          $19.20                 0.30                  0.08  \n",
              "3             3         $160.02                 5.25                  1.39  \n",
              "4             2          $19.20                 0.30                  0.08  \n",
              "\n",
              "[5 rows x 24 columns]"
            ],
            "text/html": [
              "\n",
              "  <div id=\"df-875a7208-635d-43a2-89ad-c4a2ea90e5c9\" class=\"colab-df-container\">\n",
              "    <div>\n",
              "<style scoped>\n",
              "    .dataframe tbody tr th:only-of-type {\n",
              "        vertical-align: middle;\n",
              "    }\n",
              "\n",
              "    .dataframe tbody tr th {\n",
              "        vertical-align: top;\n",
              "    }\n",
              "\n",
              "    .dataframe thead th {\n",
              "        text-align: right;\n",
              "    }\n",
              "</style>\n",
              "<table border=\"1\" class=\"dataframe\">\n",
              "  <thead>\n",
              "    <tr style=\"text-align: right;\">\n",
              "      <th></th>\n",
              "      <th>Invoice/Item Number</th>\n",
              "      <th>Date</th>\n",
              "      <th>Store Number</th>\n",
              "      <th>Store Name</th>\n",
              "      <th>Address</th>\n",
              "      <th>City</th>\n",
              "      <th>Zip Code</th>\n",
              "      <th>Store Location</th>\n",
              "      <th>County Number</th>\n",
              "      <th>County</th>\n",
              "      <th>...</th>\n",
              "      <th>Item Number</th>\n",
              "      <th>Item Description</th>\n",
              "      <th>Pack</th>\n",
              "      <th>Bottle Volume (ml)</th>\n",
              "      <th>State Bottle Cost</th>\n",
              "      <th>State Bottle Retail</th>\n",
              "      <th>Bottles Sold</th>\n",
              "      <th>Sale (Dollars)</th>\n",
              "      <th>Volume Sold (Liters)</th>\n",
              "      <th>Volume Sold (Gallons)</th>\n",
              "    </tr>\n",
              "  </thead>\n",
              "  <tbody>\n",
              "    <tr>\n",
              "      <th>0</th>\n",
              "      <td>S29198800001</td>\n",
              "      <td>11/20/2015</td>\n",
              "      <td>2191</td>\n",
              "      <td>Keokuk Spirits</td>\n",
              "      <td>1013 MAIN</td>\n",
              "      <td>KEOKUK</td>\n",
              "      <td>52632</td>\n",
              "      <td>1013 MAIN\\nKEOKUK 52632\\n(40.39978, -91.387531)</td>\n",
              "      <td>56.0</td>\n",
              "      <td>Lee</td>\n",
              "      <td>...</td>\n",
              "      <td>297</td>\n",
              "      <td>Templeton Rye w/Flask</td>\n",
              "      <td>6</td>\n",
              "      <td>750</td>\n",
              "      <td>$18.09</td>\n",
              "      <td>$27.14</td>\n",
              "      <td>6</td>\n",
              "      <td>$162.84</td>\n",
              "      <td>4.50</td>\n",
              "      <td>1.19</td>\n",
              "    </tr>\n",
              "    <tr>\n",
              "      <th>1</th>\n",
              "      <td>S29195400002</td>\n",
              "      <td>11/21/2015</td>\n",
              "      <td>2205</td>\n",
              "      <td>Ding's Honk And Holler</td>\n",
              "      <td>900 E WASHINGTON</td>\n",
              "      <td>CLARINDA</td>\n",
              "      <td>51632</td>\n",
              "      <td>900 E WASHINGTON\\nCLARINDA 51632\\n(40.739238, ...</td>\n",
              "      <td>73.0</td>\n",
              "      <td>Page</td>\n",
              "      <td>...</td>\n",
              "      <td>297</td>\n",
              "      <td>Templeton Rye w/Flask</td>\n",
              "      <td>6</td>\n",
              "      <td>750</td>\n",
              "      <td>$18.09</td>\n",
              "      <td>$27.14</td>\n",
              "      <td>12</td>\n",
              "      <td>$325.68</td>\n",
              "      <td>9.00</td>\n",
              "      <td>2.38</td>\n",
              "    </tr>\n",
              "    <tr>\n",
              "      <th>2</th>\n",
              "      <td>S29050300001</td>\n",
              "      <td>11/16/2015</td>\n",
              "      <td>3549</td>\n",
              "      <td>Quicker Liquor Store</td>\n",
              "      <td>1414 48TH ST</td>\n",
              "      <td>FORT MADISON</td>\n",
              "      <td>52627</td>\n",
              "      <td>1414 48TH ST\\nFORT MADISON 52627\\n(40.624226, ...</td>\n",
              "      <td>56.0</td>\n",
              "      <td>Lee</td>\n",
              "      <td>...</td>\n",
              "      <td>249</td>\n",
              "      <td>Disaronno Amaretto Cavalli Mignon 3-50ml Pack</td>\n",
              "      <td>20</td>\n",
              "      <td>150</td>\n",
              "      <td>$6.40</td>\n",
              "      <td>$9.60</td>\n",
              "      <td>2</td>\n",
              "      <td>$19.20</td>\n",
              "      <td>0.30</td>\n",
              "      <td>0.08</td>\n",
              "    </tr>\n",
              "    <tr>\n",
              "      <th>3</th>\n",
              "      <td>S28867700001</td>\n",
              "      <td>11/04/2015</td>\n",
              "      <td>2513</td>\n",
              "      <td>Hy-Vee Food Store #2 / Iowa City</td>\n",
              "      <td>812  S 1ST AVE</td>\n",
              "      <td>IOWA CITY</td>\n",
              "      <td>52240</td>\n",
              "      <td>812 S 1ST AVE\\nIOWA CITY 52240\\n</td>\n",
              "      <td>52.0</td>\n",
              "      <td>Johnson</td>\n",
              "      <td>...</td>\n",
              "      <td>237</td>\n",
              "      <td>Knob Creek w/ Crystal Decanter</td>\n",
              "      <td>3</td>\n",
              "      <td>1750</td>\n",
              "      <td>$35.55</td>\n",
              "      <td>$53.34</td>\n",
              "      <td>3</td>\n",
              "      <td>$160.02</td>\n",
              "      <td>5.25</td>\n",
              "      <td>1.39</td>\n",
              "    </tr>\n",
              "    <tr>\n",
              "      <th>4</th>\n",
              "      <td>S29050800001</td>\n",
              "      <td>11/17/2015</td>\n",
              "      <td>3942</td>\n",
              "      <td>Twin Town Liquor</td>\n",
              "      <td>104 HIGHWAY 30 WEST</td>\n",
              "      <td>TOLEDO</td>\n",
              "      <td>52342</td>\n",
              "      <td>104 HIGHWAY 30 WEST\\nTOLEDO 52342\\n(41.985887,...</td>\n",
              "      <td>86.0</td>\n",
              "      <td>Tama</td>\n",
              "      <td>...</td>\n",
              "      <td>249</td>\n",
              "      <td>Disaronno Amaretto Cavalli Mignon 3-50ml Pack</td>\n",
              "      <td>20</td>\n",
              "      <td>150</td>\n",
              "      <td>$6.40</td>\n",
              "      <td>$9.60</td>\n",
              "      <td>2</td>\n",
              "      <td>$19.20</td>\n",
              "      <td>0.30</td>\n",
              "      <td>0.08</td>\n",
              "    </tr>\n",
              "  </tbody>\n",
              "</table>\n",
              "<p>5 rows × 24 columns</p>\n",
              "</div>\n",
              "    <div class=\"colab-df-buttons\">\n",
              "\n",
              "  <div class=\"colab-df-container\">\n",
              "    <button class=\"colab-df-convert\" onclick=\"convertToInteractive('df-875a7208-635d-43a2-89ad-c4a2ea90e5c9')\"\n",
              "            title=\"Convert this dataframe to an interactive table.\"\n",
              "            style=\"display:none;\">\n",
              "\n",
              "  <svg xmlns=\"http://www.w3.org/2000/svg\" height=\"24px\" viewBox=\"0 -960 960 960\">\n",
              "    <path d=\"M120-120v-720h720v720H120Zm60-500h600v-160H180v160Zm220 220h160v-160H400v160Zm0 220h160v-160H400v160ZM180-400h160v-160H180v160Zm440 0h160v-160H620v160ZM180-180h160v-160H180v160Zm440 0h160v-160H620v160Z\"/>\n",
              "  </svg>\n",
              "    </button>\n",
              "\n",
              "  <style>\n",
              "    .colab-df-container {\n",
              "      display:flex;\n",
              "      gap: 12px;\n",
              "    }\n",
              "\n",
              "    .colab-df-convert {\n",
              "      background-color: #E8F0FE;\n",
              "      border: none;\n",
              "      border-radius: 50%;\n",
              "      cursor: pointer;\n",
              "      display: none;\n",
              "      fill: #1967D2;\n",
              "      height: 32px;\n",
              "      padding: 0 0 0 0;\n",
              "      width: 32px;\n",
              "    }\n",
              "\n",
              "    .colab-df-convert:hover {\n",
              "      background-color: #E2EBFA;\n",
              "      box-shadow: 0px 1px 2px rgba(60, 64, 67, 0.3), 0px 1px 3px 1px rgba(60, 64, 67, 0.15);\n",
              "      fill: #174EA6;\n",
              "    }\n",
              "\n",
              "    .colab-df-buttons div {\n",
              "      margin-bottom: 4px;\n",
              "    }\n",
              "\n",
              "    [theme=dark] .colab-df-convert {\n",
              "      background-color: #3B4455;\n",
              "      fill: #D2E3FC;\n",
              "    }\n",
              "\n",
              "    [theme=dark] .colab-df-convert:hover {\n",
              "      background-color: #434B5C;\n",
              "      box-shadow: 0px 1px 3px 1px rgba(0, 0, 0, 0.15);\n",
              "      filter: drop-shadow(0px 1px 2px rgba(0, 0, 0, 0.3));\n",
              "      fill: #FFFFFF;\n",
              "    }\n",
              "  </style>\n",
              "\n",
              "    <script>\n",
              "      const buttonEl =\n",
              "        document.querySelector('#df-875a7208-635d-43a2-89ad-c4a2ea90e5c9 button.colab-df-convert');\n",
              "      buttonEl.style.display =\n",
              "        google.colab.kernel.accessAllowed ? 'block' : 'none';\n",
              "\n",
              "      async function convertToInteractive(key) {\n",
              "        const element = document.querySelector('#df-875a7208-635d-43a2-89ad-c4a2ea90e5c9');\n",
              "        const dataTable =\n",
              "          await google.colab.kernel.invokeFunction('convertToInteractive',\n",
              "                                                    [key], {});\n",
              "        if (!dataTable) return;\n",
              "\n",
              "        const docLinkHtml = 'Like what you see? Visit the ' +\n",
              "          '<a target=\"_blank\" href=https://colab.research.google.com/notebooks/data_table.ipynb>data table notebook</a>'\n",
              "          + ' to learn more about interactive tables.';\n",
              "        element.innerHTML = '';\n",
              "        dataTable['output_type'] = 'display_data';\n",
              "        await google.colab.output.renderOutput(dataTable, element);\n",
              "        const docLink = document.createElement('div');\n",
              "        docLink.innerHTML = docLinkHtml;\n",
              "        element.appendChild(docLink);\n",
              "      }\n",
              "    </script>\n",
              "  </div>\n",
              "\n",
              "\n",
              "<div id=\"df-4acb956c-db71-4f26-8ade-19ba842f9a27\">\n",
              "  <button class=\"colab-df-quickchart\" onclick=\"quickchart('df-4acb956c-db71-4f26-8ade-19ba842f9a27')\"\n",
              "            title=\"Suggest charts\"\n",
              "            style=\"display:none;\">\n",
              "\n",
              "<svg xmlns=\"http://www.w3.org/2000/svg\" height=\"24px\"viewBox=\"0 0 24 24\"\n",
              "     width=\"24px\">\n",
              "    <g>\n",
              "        <path d=\"M19 3H5c-1.1 0-2 .9-2 2v14c0 1.1.9 2 2 2h14c1.1 0 2-.9 2-2V5c0-1.1-.9-2-2-2zM9 17H7v-7h2v7zm4 0h-2V7h2v10zm4 0h-2v-4h2v4z\"/>\n",
              "    </g>\n",
              "</svg>\n",
              "  </button>\n",
              "\n",
              "<style>\n",
              "  .colab-df-quickchart {\n",
              "      --bg-color: #E8F0FE;\n",
              "      --fill-color: #1967D2;\n",
              "      --hover-bg-color: #E2EBFA;\n",
              "      --hover-fill-color: #174EA6;\n",
              "      --disabled-fill-color: #AAA;\n",
              "      --disabled-bg-color: #DDD;\n",
              "  }\n",
              "\n",
              "  [theme=dark] .colab-df-quickchart {\n",
              "      --bg-color: #3B4455;\n",
              "      --fill-color: #D2E3FC;\n",
              "      --hover-bg-color: #434B5C;\n",
              "      --hover-fill-color: #FFFFFF;\n",
              "      --disabled-bg-color: #3B4455;\n",
              "      --disabled-fill-color: #666;\n",
              "  }\n",
              "\n",
              "  .colab-df-quickchart {\n",
              "    background-color: var(--bg-color);\n",
              "    border: none;\n",
              "    border-radius: 50%;\n",
              "    cursor: pointer;\n",
              "    display: none;\n",
              "    fill: var(--fill-color);\n",
              "    height: 32px;\n",
              "    padding: 0;\n",
              "    width: 32px;\n",
              "  }\n",
              "\n",
              "  .colab-df-quickchart:hover {\n",
              "    background-color: var(--hover-bg-color);\n",
              "    box-shadow: 0 1px 2px rgba(60, 64, 67, 0.3), 0 1px 3px 1px rgba(60, 64, 67, 0.15);\n",
              "    fill: var(--button-hover-fill-color);\n",
              "  }\n",
              "\n",
              "  .colab-df-quickchart-complete:disabled,\n",
              "  .colab-df-quickchart-complete:disabled:hover {\n",
              "    background-color: var(--disabled-bg-color);\n",
              "    fill: var(--disabled-fill-color);\n",
              "    box-shadow: none;\n",
              "  }\n",
              "\n",
              "  .colab-df-spinner {\n",
              "    border: 2px solid var(--fill-color);\n",
              "    border-color: transparent;\n",
              "    border-bottom-color: var(--fill-color);\n",
              "    animation:\n",
              "      spin 1s steps(1) infinite;\n",
              "  }\n",
              "\n",
              "  @keyframes spin {\n",
              "    0% {\n",
              "      border-color: transparent;\n",
              "      border-bottom-color: var(--fill-color);\n",
              "      border-left-color: var(--fill-color);\n",
              "    }\n",
              "    20% {\n",
              "      border-color: transparent;\n",
              "      border-left-color: var(--fill-color);\n",
              "      border-top-color: var(--fill-color);\n",
              "    }\n",
              "    30% {\n",
              "      border-color: transparent;\n",
              "      border-left-color: var(--fill-color);\n",
              "      border-top-color: var(--fill-color);\n",
              "      border-right-color: var(--fill-color);\n",
              "    }\n",
              "    40% {\n",
              "      border-color: transparent;\n",
              "      border-right-color: var(--fill-color);\n",
              "      border-top-color: var(--fill-color);\n",
              "    }\n",
              "    60% {\n",
              "      border-color: transparent;\n",
              "      border-right-color: var(--fill-color);\n",
              "    }\n",
              "    80% {\n",
              "      border-color: transparent;\n",
              "      border-right-color: var(--fill-color);\n",
              "      border-bottom-color: var(--fill-color);\n",
              "    }\n",
              "    90% {\n",
              "      border-color: transparent;\n",
              "      border-bottom-color: var(--fill-color);\n",
              "    }\n",
              "  }\n",
              "</style>\n",
              "\n",
              "  <script>\n",
              "    async function quickchart(key) {\n",
              "      const quickchartButtonEl =\n",
              "        document.querySelector('#' + key + ' button');\n",
              "      quickchartButtonEl.disabled = true;  // To prevent multiple clicks.\n",
              "      quickchartButtonEl.classList.add('colab-df-spinner');\n",
              "      try {\n",
              "        const charts = await google.colab.kernel.invokeFunction(\n",
              "            'suggestCharts', [key], {});\n",
              "      } catch (error) {\n",
              "        console.error('Error during call to suggestCharts:', error);\n",
              "      }\n",
              "      quickchartButtonEl.classList.remove('colab-df-spinner');\n",
              "      quickchartButtonEl.classList.add('colab-df-quickchart-complete');\n",
              "    }\n",
              "    (() => {\n",
              "      let quickchartButtonEl =\n",
              "        document.querySelector('#df-4acb956c-db71-4f26-8ade-19ba842f9a27 button');\n",
              "      quickchartButtonEl.style.display =\n",
              "        google.colab.kernel.accessAllowed ? 'block' : 'none';\n",
              "    })();\n",
              "  </script>\n",
              "</div>\n",
              "\n",
              "    </div>\n",
              "  </div>\n"
            ],
            "application/vnd.google.colaboratory.intrinsic+json": {
              "type": "dataframe",
              "variable_name": "df"
            }
          },
          "metadata": {},
          "execution_count": 4
        }
      ],
      "source": [
        "import pandas as pd\n",
        "df = pd.read_csv('/content/Iowa_Liquor_Sales.csv')\n",
        "df.head()"
      ]
    },
    {
      "cell_type": "code",
      "execution_count": 5,
      "metadata": {
        "colab": {
          "base_uri": "https://localhost:8080/"
        },
        "id": "lGVIIyb6_Jt-",
        "outputId": "cf18f1f3-e71f-463f-acc2-0322698fc147"
      },
      "outputs": [
        {
          "output_type": "stream",
          "name": "stdout",
          "text": [
            "<class 'pandas.core.frame.DataFrame'>\n",
            "RangeIndex: 12591077 entries, 0 to 12591076\n",
            "Data columns (total 24 columns):\n",
            " #   Column                 Dtype  \n",
            "---  ------                 -----  \n",
            " 0   Invoice/Item Number    object \n",
            " 1   Date                   object \n",
            " 2   Store Number           int64  \n",
            " 3   Store Name             object \n",
            " 4   Address                object \n",
            " 5   City                   object \n",
            " 6   Zip Code               object \n",
            " 7   Store Location         object \n",
            " 8   County Number          float64\n",
            " 9   County                 object \n",
            " 10  Category               float64\n",
            " 11  Category Name          object \n",
            " 12  Vendor Number          float64\n",
            " 13  Vendor Name            object \n",
            " 14  Item Number            int64  \n",
            " 15  Item Description       object \n",
            " 16  Pack                   int64  \n",
            " 17  Bottle Volume (ml)     int64  \n",
            " 18  State Bottle Cost      object \n",
            " 19  State Bottle Retail    object \n",
            " 20  Bottles Sold           int64  \n",
            " 21  Sale (Dollars)         object \n",
            " 22  Volume Sold (Liters)   float64\n",
            " 23  Volume Sold (Gallons)  float64\n",
            "dtypes: float64(5), int64(5), object(14)\n",
            "memory usage: 2.3+ GB\n"
          ]
        }
      ],
      "source": [
        "df.info()"
      ]
    },
    {
      "cell_type": "code",
      "execution_count": 6,
      "metadata": {
        "id": "YXN8bI1REd8y"
      },
      "outputs": [],
      "source": [
        "#Where are these stores?\n",
        "#df.sample(50)\n",
        "#Ah, they're all in (and from all around) Iowa."
      ]
    },
    {
      "cell_type": "code",
      "execution_count": 7,
      "metadata": {
        "colab": {
          "base_uri": "https://localhost:8080/"
        },
        "id": "sfI9YlYoCfY8",
        "outputId": "2b259227-355b-4f13-c7d5-cc6cba33fbd7"
      },
      "outputs": [
        {
          "output_type": "execute_result",
          "data": {
            "text/plain": [
              "(Timestamp('2012-01-03 00:00:00'), Timestamp('2017-10-31 00:00:00'))"
            ]
          },
          "metadata": {},
          "execution_count": 7
        }
      ],
      "source": [
        "#What's the date range?\n",
        "df['Date'] = pd.to_datetime(df['Date'])\n",
        "df['Date'].min(), df['Date'].max()"
      ]
    },
    {
      "cell_type": "code",
      "execution_count": 8,
      "metadata": {
        "id": "28TVWP5IHDH7",
        "colab": {
          "base_uri": "https://localhost:8080/",
          "height": 430
        },
        "outputId": "8c26ea98-9ab9-4f49-fc98-bf38ba78644a"
      },
      "outputs": [
        {
          "output_type": "display_data",
          "data": {
            "text/plain": [
              "<Figure size 640x480 with 1 Axes>"
            ],
            "image/png": "[encoded data removed]"
          },
          "metadata": {}
        }
      ],
      "source": [
        "df['Date'].hist(bins=50);"
      ]
    },
    {
      "cell_type": "markdown",
      "metadata": {
        "id": "PhHfNaceHMAV"
      },
      "source": [
        "Obviously, we'll drop the random few date entries from 2016-2018, but the real tragedy here is the missing data from the very end of 2015. I don't think it's a good idea to try and impute and time-series data here, so we'll have to drop everything after January 3rd, 2015. However, this still gives us three complete years of data, which isn't bad."
      ]
    },
    {
      "cell_type": "code",
      "execution_count": 9,
      "metadata": {
        "colab": {
          "base_uri": "https://localhost:8080/",
          "height": 430
        },
        "id": "Pq755fMLHNAc",
        "outputId": "7d5e0ac8-7f1f-44cf-f203-17a65d7dfc35"
      },
      "outputs": [
        {
          "output_type": "display_data",
          "data": {
            "text/plain": [
              "<Figure size 640x480 with 1 Axes>"
            ],
            "image/png": "[encoded data removed]"
          },
          "metadata": {}
        }
      ],
      "source": [
        "trimmed_df = df[~(df['Date'] > '2017-01-03 00:00:00')]\n",
        "trimmed_df['Date'].hist(bins=60);"
      ]
    },
    {
      "cell_type": "markdown",
      "metadata": {
        "id": "mKoLj57CPjTO"
      },
      "source": [
        "With our time-series data sorted out, let's examine the amount of stores we have."
      ]
    },
    {
      "cell_type": "code",
      "execution_count": 10,
      "metadata": {
        "colab": {
          "base_uri": "https://localhost:8080/"
        },
        "id": "k8dG1XH2_PY1",
        "outputId": "58780a7d-8c64-482d-8871-f41296e1f89a"
      },
      "outputs": [
        {
          "output_type": "execute_result",
          "data": {
            "text/plain": [
              "1752"
            ]
          },
          "metadata": {},
          "execution_count": 10
        }
      ],
      "source": [
        "#How many stores?\n",
        "unique_stores = trimmed_df['Store Number'].unique()\n",
        "len(unique_stores)"
      ]
    },
    {
      "cell_type": "code",
      "execution_count": 11,
      "metadata": {
        "colab": {
          "base_uri": "https://localhost:8080/"
        },
        "id": "No-iHxoxBYLp",
        "outputId": "e016e36c-55f5-4aee-b8a0-95b08b6f0f51"
      },
      "outputs": [
        {
          "output_type": "execute_result",
          "data": {
            "text/plain": [
              "1679"
            ]
          },
          "metadata": {},
          "execution_count": 11
        }
      ],
      "source": [
        "#How many with more than 100 orders in here?\n",
        "store_value_counts = trimmed_df['Store Number'].value_counts()\n",
        "hundred_order_stores = pd.DataFrame(store_value_counts)\n",
        "hundred_order_stores = hundred_order_stores[hundred_order_stores['count'] >= 100]\n",
        "len(hundred_order_stores)"
      ]
    },
    {
      "cell_type": "code",
      "execution_count": 12,
      "metadata": {
        "colab": {
          "base_uri": "https://localhost:8080/"
        },
        "id": "5ZAUh2BFH5mk",
        "outputId": "848df0f3-b2ee-4558-dcd8-5ba93cb6031f"
      },
      "outputs": [
        {
          "output_type": "execute_result",
          "data": {
            "text/plain": [
              "1267"
            ]
          },
          "metadata": {},
          "execution_count": 12
        }
      ],
      "source": [
        "#How many with more than 1000 orders in here?\n",
        "store_value_counts = trimmed_df['Store Number'].value_counts()\n",
        "thousand_order_stores = pd.DataFrame(store_value_counts)\n",
        "thousand_order_stores = thousand_order_stores[thousand_order_stores['count'] >= 1000]\n",
        "len(thousand_order_stores)"
      ]
    },
    {
      "cell_type": "markdown",
      "metadata": {
        "id": "gIGU3DnBwv8Z"
      },
      "source": [
        "That's a good amount of stores with a decent amount of rows to examine. We may wind up looking at the top ten or top 100 stores only depending on how the project goes.\n",
        "\n",
        "Let's also look at vendors; while stores represent a variable that we may use to *subdivide* the dataset, vendors will remain an independent variable. As a categorical variable, they may balloon out to an overwhelming number of one-hot encoded variables, so we'll alomost certainly need to find a way to limit these."
      ]
    },
    {
      "cell_type": "code",
      "execution_count": 13,
      "metadata": {
        "colab": {
          "base_uri": "https://localhost:8080/"
        },
        "id": "CH4zz1OyWjGL",
        "outputId": "e9376a43-9ae7-4a75-9e8b-d7ed7633c1d0"
      },
      "outputs": [
        {
          "output_type": "execute_result",
          "data": {
            "text/plain": [
              "331"
            ]
          },
          "metadata": {},
          "execution_count": 13
        }
      ],
      "source": [
        "#How many vendors total?\n",
        "len(trimmed_df['Vendor Name'].unique())"
      ]
    },
    {
      "cell_type": "code",
      "execution_count": 14,
      "metadata": {
        "colab": {
          "base_uri": "https://localhost:8080/"
        },
        "id": "-SEwaTSewBiI",
        "outputId": "9e8e29eb-a8d8-4ca2-bf47-af7d125bb3eb"
      },
      "outputs": [
        {
          "output_type": "execute_result",
          "data": {
            "text/plain": [
              "168"
            ]
          },
          "metadata": {},
          "execution_count": 14
        }
      ],
      "source": [
        "#How many with more than 100 orders in here?\n",
        "vendor_value_counts = trimmed_df['Vendor Name'].value_counts()\n",
        "hundred_order_vendors = pd.DataFrame(vendor_value_counts)\n",
        "hundred_order_vendors = hundred_order_vendors[hundred_order_vendors['count'] >= 100]\n",
        "len(hundred_order_vendors)"
      ]
    },
    {
      "cell_type": "code",
      "execution_count": 15,
      "metadata": {
        "colab": {
          "base_uri": "https://localhost:8080/"
        },
        "id": "qq0LJDCWwBxr",
        "outputId": "3411924b-503a-41ed-f0ff-0e3ec5ea3b3e"
      },
      "outputs": [
        {
          "output_type": "execute_result",
          "data": {
            "text/plain": [
              "93"
            ]
          },
          "metadata": {},
          "execution_count": 15
        }
      ],
      "source": [
        "#How many with more than 1000 orders in here?\n",
        "thousand_order_vendors = pd.DataFrame(vendor_value_counts)\n",
        "thousand_order_vendors = thousand_order_vendors[thousand_order_vendors['count'] >= 1000]\n",
        "len(thousand_order_vendors)"
      ]
    },
    {
      "cell_type": "markdown",
      "metadata": {
        "id": "H4osezOQMlwX"
      },
      "source": [
        "93 vendors combined with the liqour categories and a few more continuous columns is probably still going to be too many to model without a problematic amount of noise and/or sparsity in our data. We may consider adding a limitation here to each store along the way. In other words, when we run a model on an individual store, we'll only include vendors that serviced that store with >= 1,000 orders.\n",
        "\n",
        "This is especially important when we consider that this dataset covers an entire *state* with urban, suburban, and rural stores that all move different volumes of inventory; the vendors used will almost certainly vary from one store to the next.\n",
        "\n",
        "Before we start examining stores in more detail, we need to take care of a few other things in our broader DataFrame. Specifically, we need to drop unnecessary columns and contend with what appear to be a few NaNs.\n",
        "\n",
        "Let's first examine columns so we can see which to drop. I appreciate how the data has store, location, and item names and numbers, but for our purposes, we can drop a number of these redundancies.\n",
        "\n",
        "Ultiamtely, if our goal is to predict when and how much to reorder, we can eliminate everything except date, store number, category, and bottles sold, but for now we'll still keep sales info since it's easy to include as a continuous column and we'll keep vendor names in case we want to come back and do more extensive modeling later."
      ]
    },
    {
      "cell_type": "code",
      "execution_count": 16,
      "metadata": {
        "colab": {
          "base_uri": "https://localhost:8080/"
        },
        "id": "iqJE9aNpLb9q",
        "outputId": "aa512b87-ab31-452f-d629-07e18698a220"
      },
      "outputs": [
        {
          "output_type": "stream",
          "name": "stdout",
          "text": [
            "<class 'pandas.core.frame.DataFrame'>\n",
            "Index: 10716678 entries, 0 to 10727535\n",
            "Data columns (total 6 columns):\n",
            " #   Column          Dtype         \n",
            "---  ------          -----         \n",
            " 0   Date            datetime64[ns]\n",
            " 1   Store Number    int64         \n",
            " 2   Category Name   object        \n",
            " 3   Vendor Name     object        \n",
            " 4   Bottles Sold    int64         \n",
            " 5   Sale (Dollars)  object        \n",
            "dtypes: datetime64[ns](1), int64(2), object(3)\n",
            "memory usage: 572.3+ MB\n"
          ]
        }
      ],
      "source": [
        "columns_to_drop = ['Invoice/Item Number', 'Store Name', 'Address', 'City', 'Zip Code',\n",
        "                   'Store Location', 'County Number', 'County', 'Category',\n",
        "                   'Vendor Number', 'Item Number', 'Item Description', 'Bottle Volume (ml)',\n",
        "                   'State Bottle Cost', 'State Bottle Retail', 'Pack', 'Volume Sold (Liters)',\n",
        "                   'Volume Sold (Gallons)']\n",
        "trimmed_df = trimmed_df.drop(columns_to_drop, axis=1)\n",
        "trimmed_df.info()"
      ]
    },
    {
      "cell_type": "markdown",
      "metadata": {
        "id": "qAfWSgMaNLBF"
      },
      "source": [
        "This may seem like just a few columns for now, but once we add the categorical columns in, this will quickly expand. Let's handle the NaN's now."
      ]
    },
    {
      "cell_type": "code",
      "execution_count": 17,
      "metadata": {
        "colab": {
          "base_uri": "https://localhost:8080/"
        },
        "id": "-IKrcl3dLcZR",
        "outputId": "623a26ea-327f-49ff-a410-7e6fd3963aef"
      },
      "outputs": [
        {
          "output_type": "execute_result",
          "data": {
            "text/plain": [
              "10268"
            ]
          },
          "metadata": {},
          "execution_count": 17
        }
      ],
      "source": [
        "nan_rows = trimmed_df[trimmed_df.isna().any(axis=1)]\n",
        "len(nan_rows)"
      ]
    },
    {
      "cell_type": "code",
      "execution_count": 18,
      "metadata": {
        "colab": {
          "base_uri": "https://localhost:8080/"
        },
        "id": "5Ja-yJW2LcjX",
        "outputId": "2e48cc3a-c62f-4181-b7f4-7c01f85d1775"
      },
      "outputs": [
        {
          "output_type": "execute_result",
          "data": {
            "text/plain": [
              "0.0009581327347896429"
            ]
          },
          "metadata": {},
          "execution_count": 18
        }
      ],
      "source": [
        "len(nan_rows) / len(trimmed_df)"
      ]
    },
    {
      "cell_type": "markdown",
      "metadata": {
        "id": "_Og8qiI1OCfw"
      },
      "source": [
        "NaN's only make up 0.04% of our data, so we can afford to drop them without sarcificing much data."
      ]
    },
    {
      "cell_type": "code",
      "execution_count": 19,
      "metadata": {
        "colab": {
          "base_uri": "https://localhost:8080/"
        },
        "id": "hjzsCQJKOPGz",
        "outputId": "c47f6d4b-b18a-4530-85d3-edb015998479"
      },
      "outputs": [
        {
          "output_type": "stream",
          "name": "stdout",
          "text": [
            "<class 'pandas.core.frame.DataFrame'>\n",
            "Index: 10706410 entries, 6 to 10727535\n",
            "Data columns (total 6 columns):\n",
            " #   Column          Dtype         \n",
            "---  ------          -----         \n",
            " 0   Date            datetime64[ns]\n",
            " 1   Store Number    int64         \n",
            " 2   Category Name   object        \n",
            " 3   Vendor Name     object        \n",
            " 4   Bottles Sold    int64         \n",
            " 5   Sale (Dollars)  object        \n",
            "dtypes: datetime64[ns](1), int64(2), object(3)\n",
            "memory usage: 571.8+ MB\n"
          ]
        }
      ],
      "source": [
        "trimmed_df.dropna(axis=0, inplace=True)\n",
        "trimmed_df.info()"
      ]
    },
    {
      "cell_type": "markdown",
      "metadata": {
        "id": "w_87Iza7Rvav"
      },
      "source": [
        "Now we can examine the categorical columns more carefully. We'll use the 'Store Number' column later on in order to subdivide the trimmed_df into stores, so let's begin with the 'Category Name' column."
      ]
    },
    {
      "cell_type": "code",
      "execution_count": 20,
      "metadata": {
        "colab": {
          "base_uri": "https://localhost:8080/"
        },
        "id": "WI9SZAEASPGN",
        "outputId": "d18b96b3-a52e-4225-9b3e-e71843568522"
      },
      "outputs": [
        {
          "output_type": "execute_result",
          "data": {
            "text/plain": [
              "128"
            ]
          },
          "metadata": {},
          "execution_count": 20
        }
      ],
      "source": [
        "len(trimmed_df['Category Name'].value_counts())"
      ]
    },
    {
      "cell_type": "code",
      "execution_count": 21,
      "metadata": {
        "colab": {
          "base_uri": "https://localhost:8080/"
        },
        "id": "vzx1WphpRvzv",
        "outputId": "a870af3b-84fe-4028-8a90-18ed0065054d"
      },
      "outputs": [
        {
          "output_type": "stream",
          "name": "stdout",
          "text": [
            "Category Name\n",
            "VODKA 80 PROOF                          1265967\n",
            "CANADIAN WHISKIES                        936212\n",
            "STRAIGHT BOURBON WHISKIES                543684\n",
            "SPICED RUM                               530323\n",
            "VODKA FLAVORED                           502813\n",
            "BLENDED WHISKIES                         441610\n",
            "TEQUILA                                  435298\n",
            "IMPORTED VODKA                           404048\n",
            "PUERTO RICO & VIRGIN ISLANDS RUM         395376\n",
            "WHISKEY LIQUEUR                          334572\n",
            "AMERICAN COCKTAILS                       284695\n",
            "FLAVORED RUM                             278367\n",
            "AMERICAN DRY GINS                        256386\n",
            "IMPORTED VODKA - MISC                    256238\n",
            "MISC. IMPORTED CORDIALS & LIQUEURS       246088\n",
            "TENNESSEE WHISKIES                       245162\n",
            "AMERICAN GRAPE BRANDIES                  243144\n",
            "CREAM LIQUEURS                           232844\n",
            "SCOTCH WHISKIES                          199770\n",
            "IMPORTED SCHNAPPS                        169243\n",
            "IMPORTED GRAPE BRANDIES                  155688\n",
            "MISC. AMERICAN CORDIALS & LIQUEURS       127044\n",
            "PEPPERMINT SCHNAPPS                      120504\n",
            "American Vodka                           116192\n",
            "IMPORTED DRY GINS                        113313\n",
            "100 PROOF VODKA                           99124\n",
            "IRISH WHISKIES                            88389\n",
            "Canadian Whiskies                         85636\n",
            "SINGLE MALT SCOTCH                        82675\n",
            "COFFEE LIQUEURS                           75505\n",
            "PEACH SCHNAPPS                            63400\n",
            "DISTILLED SPIRITS SPECIALTY               60228\n",
            "STRAIGHT RYE WHISKIES                     59869\n",
            "BLACKBERRY BRANDIES                       59714\n",
            "AMERICAN AMARETTO                         53417\n",
            "Straight Bourbon Whiskies                 49158\n",
            "TRIPLE SEC                                48609\n",
            "Spiced Rum                                44336\n",
            "American Flavored Vodka                   43092\n",
            "DECANTERS & SPECIALTY PACKAGES            40551\n",
            "APRICOT BRANDIES                          38509\n",
            "Whiskey Liqueur                           36811\n",
            "Blended Whiskies                          34666\n",
            "CINNAMON SCHNAPPS                         34235\n",
            "BUTTERSCOTCH SCHNAPPS                     33865\n",
            "APPLE SCHNAPPS                            33099\n",
            "Imported Vodka                            32497\n",
            "MISCELLANEOUS SCHNAPPS                    32375\n",
            "American Brandies                         32013\n",
            "American Schnapps                         29755\n",
            "AMERICAN ALCOHOL                          24351\n",
            "Tennessee Whiskies                        22995\n",
            "Cream Liqueurs                            22194\n",
            "White Rum                                 21710\n",
            "Flavored Rum                              20443\n",
            "100% Agave Tequila                        19329\n",
            "Imported Cordials & Liqueurs              19260\n",
            "American Dry Gins                         17953\n",
            "WATERMELON SCHNAPPS                       17844\n",
            "American Cordials & Liqueurs              17781\n",
            "Cocktails / RTD                           17466\n",
            "Imported Flavored Vodka                   17257\n",
            "Imported Brandies                         16890\n",
            "Mixto Tequila                             16805\n",
            "Scotch Whiskies                           15844\n",
            "JAMAICA RUM                               15288\n",
            "PEACH BRANDIES                            15070\n",
            "ROOT BEER SCHNAPPS                        13615\n",
            "Imported Schnapps                         13421\n",
            "CHERRY BRANDIES                           13216\n",
            "RASPBERRY SCHNAPPS                        13207\n",
            "GRAPE SCHNAPPS                            13044\n",
            "IMPORTED AMARETTO                         12789\n",
            "FLAVORED GINS                             12010\n",
            "STRAWBERRY SCHNAPPS                       11853\n",
            "TROPICAL FRUIT SCHNAPPS                   10644\n",
            "BARBADOS RUM                               9909\n",
            "SINGLE BARREL BOURBON WHISKIES             9268\n",
            "Irish Whiskies                             9077\n",
            "GREEN CREME DE MENTHE                      8961\n",
            "Imported Dry Gins                          8583\n",
            "Single Malt Scotch                         7964\n",
            "WHITE CREME DE CACAO                       7213\n",
            "AMERICAN SLOE GINS                         7002\n",
            "DARK CREME DE CACAO                        6591\n",
            "Gold Rum                                   6497\n",
            "BOTTLED IN BOND BOURBON                    6417\n",
            "Coffee Liqueurs                            6359\n",
            "Holiday VAP                                5550\n",
            "Straight Rye Whiskies                      4797\n",
            "MISCELLANEOUS  BRANDIES                    4214\n",
            "OTHER PROOF VODKA                          3398\n",
            "American Vodkas                            3358\n",
            "SPEARMINT SCHNAPPS                         2928\n",
            "Triple Sec                                 2922\n",
            "ROCK & RYE                                 2660\n",
            "Neutral Grain Spirits                      2479\n",
            "WHITE CREME DE MENTHE                      2459\n",
            "Aged Dark Rum                              2158\n",
            "Special Order Items                        1716\n",
            "CREME DE ALMOND                            1631\n",
            "LOW PROOF VODKA                            1565\n",
            "Neutral Grain Spirits Flavored             1472\n",
            "ANISETTE                                   1441\n",
            "Single Barrel Bourbon Whiskies             1158\n",
            "Temporary & Specialty Packages             1155\n",
            "Delisted Items                              989\n",
            "American Distilled Spirits Specialty        962\n",
            "Imported Distilled Spirits Specialty        780\n",
            "CORN WHISKIES                               752\n",
            "Iowa Distillery Whiskies                    719\n",
            "Flavored Gin                                621\n",
            "American Cordials & Liqueur                 457\n",
            "Bottled in Bond Bourbon                     350\n",
            "American Sloe Gins                          306\n",
            "JAPANESE WHISKY                             286\n",
            "Corn Whiskies                               220\n",
            "Mezcal                                      210\n",
            "American Distilled Spirit Specialty         133\n",
            "AMARETTO - IMPORTED                         102\n",
            "Imported Vodkas                              77\n",
            "Cocktails /RTD                               69\n",
            "HIGH PROOF BEER - AMERICAN                   32\n",
            "SCHNAPPS - IMPORTED                          17\n",
            "Imported Cordials & Liqueur                  17\n",
            "IMPORTED VODKA - CHERRY                      14\n",
            "Temporary &  Specialty Packages               6\n",
            "Imported Distilled Spirit Specialty           1\n"
          ]
        }
      ],
      "source": [
        "print(trimmed_df['Category Name'].value_counts().to_string())"
      ]
    },
    {
      "cell_type": "markdown",
      "metadata": {
        "id": "2ojnWUzURhQS"
      },
      "source": [
        "That's too many to include all of them. Instead, we'll carefully consolidate these into more generalized categories. On one hand, we need to narrow these down for clarity and modeling purposes. On the other hand, we don't want to eliminate too many categories, especially those with a larger value count.\n",
        "\n",
        "For example, instead of just consolidating everything containing the string 'VODKA' to a general 'VODKA' category, we can at least distinguish between 'VODKA' and a new category called 'FLAVORED VODKA'. We can also do something like divide the whiskey categories into three new ones: 'BOURBON', 'SCOTCH', and 'OTHER WHISKEY'."
      ]
    },
    {
      "cell_type": "code",
      "execution_count": 22,
      "metadata": {
        "id": "K81_mnbzRfZK"
      },
      "outputs": [],
      "source": [
        "#I can use the str.contains method for some categories that are easier\n",
        "# to generalize. Let's do those first:\n",
        "trimmed_df.loc[trimmed_df['Category Name'].str.contains('BOURBON'), 'Category Name'] = 'BOURBON'\n",
        "trimmed_df.loc[trimmed_df['Category Name'].str.contains('Bourbon'), 'Category Name'] = 'BOURBON'\n",
        "trimmed_df.loc[trimmed_df['Category Name'].str.contains('RYE'), 'Category Name'] = 'BLENDED AND OTHER WHISKIES'\n",
        "trimmed_df.loc[trimmed_df['Category Name'].str.contains('Rye'), 'Category Name'] = 'BLENDED AND OTHER WHISKIES'\n",
        "trimmed_df.loc[trimmed_df['Category Name'].str.contains('Tequila'), 'Category Name'] = 'TEQUILA'\n",
        "trimmed_df.loc[trimmed_df['Category Name'].str.contains('GIN'), 'Category Name'] = 'GIN'\n",
        "trimmed_df.loc[trimmed_df['Category Name'].str.contains('Gin'), 'Category Name'] = 'GIN'\n",
        "trimmed_df.loc[trimmed_df['Category Name'].str.contains('RUM'), 'Category Name'] = 'RUM'\n",
        "trimmed_df.loc[trimmed_df['Category Name'].str.contains('Rum'), 'Category Name'] = 'RUM'\n",
        "trimmed_df.loc[trimmed_df['Category Name'].str.contains('AMARETTO'), 'Category Name'] = 'LIQUEUR'\n",
        "trimmed_df.loc[trimmed_df['Category Name'].str.contains('Amaretto'), 'Category Name'] = 'LIQUEUR'\n",
        "trimmed_df.loc[trimmed_df['Category Name'].str.contains('LIQUEUR'), 'Category Name'] = 'LIQUEUR'\n",
        "trimmed_df.loc[trimmed_df['Category Name'].str.contains('Liqueur'), 'Category Name'] = 'LIQUEUR'\n",
        "trimmed_df.loc[trimmed_df['Category Name'].str.contains('CREME DE'), 'Category Name'] = 'LIQUEUR'\n",
        "trimmed_df.loc[trimmed_df['Category Name'].str.contains('COCKTAILS'), 'Category Name'] = 'RTD COCKTAILS'\n",
        "trimmed_df.loc[trimmed_df['Category Name'].str.contains('Cocktails'), 'Category Name'] = 'RTD COCKTAILS'\n",
        "trimmed_df.loc[trimmed_df['Category Name'].str.contains('Neutral Grain Spirits'), 'Category Name'] = 'NEUTRAL GRAIN SPIRITS'"
      ]
    },
    {
      "cell_type": "code",
      "execution_count": 23,
      "metadata": {
        "id": "moNA2aUrRfgk"
      },
      "outputs": [],
      "source": [
        "#Now we'll make more specific generalizations:\n",
        "\n",
        "#Whiskies\n",
        "trimmed_df.loc[trimmed_df['Category Name'] == 'Scotch', 'Category Name'] = 'SCOTCH WHISKIES'\n",
        "trimmed_df.loc[trimmed_df['Category Name'] == 'Scotch Whiskies', 'Category Name'] = 'SCOTCH WHISKIES'\n",
        "trimmed_df.loc[trimmed_df['Category Name'] == 'SINGLE MALT SCOTCH', 'Category Name'] = 'SCOTCH WHISKIES'\n",
        "trimmed_df.loc[trimmed_df['Category Name'] == 'Single Malt Scotch', 'Category Name'] = 'SCOTCH WHISKIES'\n",
        "trimmed_df.loc[trimmed_df['Category Name'] == 'Canadian Whiskies', 'Category Name'] = 'CANADIAN WHISKIES'\n",
        "trimmed_df.loc[trimmed_df['Category Name'] == 'Tennessee Whiskies', 'Category Name'] = 'TENNESSEE WHISKIES'\n",
        "trimmed_df.loc[trimmed_df['Category Name'] == 'BLENDED WHISKIES', 'Category Name'] = 'BLENDED AND OTHER WHISKIES'\n",
        "trimmed_df.loc[trimmed_df['Category Name'] == 'Blended Whiskies', 'Category Name'] = 'BLENDED AND OTHER WHISKIES'\n",
        "trimmed_df.loc[trimmed_df['Category Name'] == 'Irish Whiskies', 'Category Name'] = 'IRISH WHISKIES'\n",
        "\n",
        "#Vodka\n",
        "trimmed_df.loc[trimmed_df['Category Name'] == 'VODKA 80 PROOF', 'Category Name'] = 'VODKA'\n",
        "trimmed_df.loc[trimmed_df['Category Name'] == 'IMPORTED VODKA', 'Category Name'] = 'VODKA'\n",
        "trimmed_df.loc[trimmed_df['Category Name'] == 'Imported Vodka', 'Category Name'] = 'VODKA'\n",
        "trimmed_df.loc[trimmed_df['Category Name'] == 'Imported Vodkas', 'Category Name'] = 'VODKA'\n",
        "trimmed_df.loc[trimmed_df['Category Name'] == 'IMPORTED VODKA - MISC', 'Category Name'] = 'VODKA'\n",
        "trimmed_df.loc[trimmed_df['Category Name'] == '100 PROOF VODKA', 'Category Name'] = 'VODKA'\n",
        "trimmed_df.loc[trimmed_df['Category Name'] == 'OTHER PROOF VODKA', 'Category Name'] = 'VODKA'\n",
        "trimmed_df.loc[trimmed_df['Category Name'] == 'LOW PROOF VODKA', 'Category Name'] = 'VODKA'\n",
        "trimmed_df.loc[trimmed_df['Category Name'] == 'American Vodka', 'Category Name'] = 'VODKA'\n",
        "trimmed_df.loc[trimmed_df['Category Name'] == 'American Vodkas', 'Category Name'] = 'VODKA'\n",
        "trimmed_df.loc[trimmed_df['Category Name'] == 'American Flavored Vodka', 'Category Name'] = 'VODKA FLAVORED'\n",
        "trimmed_df.loc[trimmed_df['Category Name'] == 'Imported Flavored Vodka', 'Category Name'] = 'VODKA FLAVORED'\n",
        "\n",
        "#Brandies\n",
        "trimmed_df.loc[trimmed_df['Category Name'] == 'AMERICAN GRAPE BRANDIES', 'Category Name'] = 'GRAPE-BASED BRANDIES'\n",
        "trimmed_df.loc[trimmed_df['Category Name'] == 'IMPORTED GRAPE BRANDIES', 'Category Name'] = 'GRAPE-BASED BRANDIES'\n",
        "trimmed_df.loc[trimmed_df['Category Name'] == 'MISCELLANEOUS BRANDIES', 'Category Name'] = 'GRAPE-BASED BRANDIES'\n",
        "trimmed_df.loc[trimmed_df['Category Name'] == 'MISCELLANEOUS  BRANDIES', 'Category Name'] = 'GRAPE-BASED BRANDIES'\n",
        "trimmed_df.loc[trimmed_df['Category Name'] == 'American Brandies', 'Category Name'] = 'GRAPE-BASED BRANDIES'\n",
        "trimmed_df.loc[trimmed_df['Category Name'] == 'Imported Brandies', 'Category Name'] = 'GRAPE-BASED BRANDIES'\n",
        "trimmed_df.loc[trimmed_df['Category Name'] == 'BLACKBERRY BRANDIES', 'Category Name'] = 'OTHER FRUIT BRANDIES'\n",
        "trimmed_df.loc[trimmed_df['Category Name'] == 'APRICOT BRANDIES','Category Name'] = 'OTHER FRUIT BRANDIES'\n",
        "trimmed_df.loc[trimmed_df['Category Name'] == 'CHERRY BRANDIES', 'Category Name'] = 'OTHER FRUIT BRANDIES'\n",
        "trimmed_df.loc[trimmed_df['Category Name'] == 'PEACH BRANDIES', 'Category Name'] = 'OTHER FRUIT BRANDIES'\n",
        "\n",
        "#Schnapps\n",
        "trimmed_df.loc[trimmed_df['Category Name'] == 'IMPORTED SCHNAPPS', 'Category Name'] = 'MISCELLANEOUS SCHNAPPS'\n",
        "trimmed_df.loc[trimmed_df['Category Name'] == 'Imported Schnapps', 'Category Name'] = 'MISCELLANEOUS SCHNAPPS'\n",
        "trimmed_df.loc[trimmed_df['Category Name'] == 'American Schnapps', 'Category Name'] = 'MISCELLANEOUS SCHNAPPS'\n",
        "trimmed_df.loc[trimmed_df['Category Name'] == 'SCHNAPPS - IMPORTED', 'Category Name'] = 'MISCELLANEOUS SCHNAPPS'\n",
        "trimmed_df.loc[trimmed_df['Category Name'] == 'CINNAMON SCHNAPPS', 'Category Name'] = 'MISCELLANEOUS SCHNAPPS'\n",
        "trimmed_df.loc[trimmed_df['Category Name'] == 'BUTTERSCOTCH SCHNAPPS', 'Category Name'] = 'MISCELLANEOUS SCHNAPPS'\n",
        "trimmed_df.loc[trimmed_df['Category Name'] == 'ROOT BEER SCHNAPPS', 'Category Name'] = 'MISCELLANEOUS SCHNAPPS'\n",
        "trimmed_df.loc[trimmed_df['Category Name'] == 'SPEARMINT SCHNAPPS', 'Category Name'] = 'MISCELLANEOUS SCHNAPPS'\n",
        "trimmed_df.loc[trimmed_df['Category Name'] == 'PEACH SCHNAPPS', 'Category Name'] = 'FRUIT SCHNAPPS'\n",
        "trimmed_df.loc[trimmed_df['Category Name'] == 'APPLE SCHNAPPS', 'Category Name'] = 'FRUIT SCHNAPPS'\n",
        "trimmed_df.loc[trimmed_df['Category Name'] == 'WATERMELON SCHNAPPS', 'Category Name'] = 'FRUIT SCHNAPPS'\n",
        "trimmed_df.loc[trimmed_df['Category Name'] == 'RASPBERRY SCHNAPPS', 'Category Name'] = 'FRUIT SCHNAPPS'\n",
        "trimmed_df.loc[trimmed_df['Category Name'] == 'GRAPE SCHNAPPS','Category Name'] = 'FRUIT SCHNAPPS'\n",
        "trimmed_df.loc[trimmed_df['Category Name'] == 'STRAWBERRY SCHNAPPS','Category Name'] = 'FRUIT SCHNAPPS'\n",
        "trimmed_df.loc[trimmed_df['Category Name'] == 'TROPICAL FRUIT SCHNAPPS', 'Category Name'] = 'FRUIT SCHNAPPS'\n",
        "\n",
        "#other liqueurs\n",
        "trimmed_df.loc[trimmed_df['Category Name'] == 'TRIPLE SEC','Category Name'] = 'LIQUEUR'\n",
        "trimmed_df.loc[trimmed_df['Category Name'] == 'Triple Sec','Category Name'] = 'LIQUEUR'\n",
        "trimmed_df.loc[trimmed_df['Category Name'] == 'ANISETTE', 'Category Name'] = 'LIQUEUR'"
      ]
    },
    {
      "cell_type": "code",
      "execution_count": 24,
      "metadata": {
        "id": "vE-kzjEf--Uc"
      },
      "outputs": [],
      "source": [
        "#unhelpful categories to drop\n",
        "trimmed_df = trimmed_df.drop(trimmed_df[trimmed_df['Category Name'] == 'DISTILLED SPIRITS SPECIALTY'].index)\n",
        "trimmed_df = trimmed_df.drop(trimmed_df[trimmed_df['Category Name'] == 'DECANTERS & SPECIALTY PACKAGES'].index)\n",
        "trimmed_df = trimmed_df.drop(trimmed_df[trimmed_df['Category Name'] == 'AMERICAN ALCOHOL'].index)\n",
        "trimmed_df = trimmed_df.drop(trimmed_df[trimmed_df['Category Name'] == 'Temporary & Specialty Packages'].index)\n",
        "trimmed_df = trimmed_df.drop(trimmed_df[trimmed_df['Category Name'] == 'Holiday VAP'].index)\n",
        "trimmed_df = trimmed_df.drop(trimmed_df[trimmed_df['Category Name'] == 'Special Order Items'].index)\n",
        "\n",
        "#getting rid of obscure categories as trade-off for improved model performance\n",
        "counts = trimmed_df['Category Name'].value_counts()\n",
        "trimmed_df = trimmed_df[~trimmed_df['Category Name'].isin(counts[counts < 1000].index)]"
      ]
    },
    {
      "cell_type": "code",
      "execution_count": 25,
      "metadata": {
        "colab": {
          "base_uri": "https://localhost:8080/"
        },
        "id": "hJvFq3B04aOR",
        "outputId": "e559764a-da6b-4052-84d2-17ae8d9795c6"
      },
      "outputs": [
        {
          "output_type": "stream",
          "name": "stdout",
          "text": [
            "Amount of Revised Liquor Categories: 19\n",
            "---------------------------------------\n",
            "Category Name\n",
            "VODKA                         2182464\n",
            "LIQUEUR                       1265067\n",
            "CANADIAN WHISKIES             1021848\n",
            "RUM                            929031\n",
            "GIN                            811550\n",
            "BOURBON                        610035\n",
            "VODKA FLAVORED                 563162\n",
            "BLENDED AND OTHER WHISKIES     543602\n",
            "TEQUILA                        471432\n",
            "GRAPE-BASED BRANDIES           451949\n",
            "MISCELLANEOUS SCHNAPPS         329454\n",
            "SCOTCH WHISKIES                306253\n",
            "RTD COCKTAILS                  302230\n",
            "TENNESSEE WHISKIES             268157\n",
            "FRUIT SCHNAPPS                 163091\n",
            "OTHER FRUIT BRANDIES           126509\n",
            "PEPPERMINT SCHNAPPS            120504\n",
            "IRISH WHISKIES                  97466\n",
            "NEUTRAL GRAIN SPIRITS            3951\n"
          ]
        }
      ],
      "source": [
        "print('Amount of Revised Liquor Categories:', len(trimmed_df['Category Name'].value_counts()))\n",
        "print(\"---------------------------------------\")\n",
        "print(trimmed_df['Category Name'].value_counts().to_string())"
      ]
    },
    {
      "cell_type": "code",
      "source": [
        "trimmed_df.info()"
      ],
      "metadata": {
        "colab": {
          "base_uri": "https://localhost:8080/"
        },
        "id": "3bPa-Kj7It76",
        "outputId": "48d8583a-cdfe-4f59-c14e-5ae23a140060"
      },
      "execution_count": 26,
      "outputs": [
        {
          "output_type": "stream",
          "name": "stdout",
          "text": [
            "<class 'pandas.core.frame.DataFrame'>\n",
            "Index: 10567755 entries, 18 to 10727534\n",
            "Data columns (total 6 columns):\n",
            " #   Column          Dtype         \n",
            "---  ------          -----         \n",
            " 0   Date            datetime64[ns]\n",
            " 1   Store Number    int64         \n",
            " 2   Category Name   object        \n",
            " 3   Vendor Name     object        \n",
            " 4   Bottles Sold    int64         \n",
            " 5   Sale (Dollars)  object        \n",
            "dtypes: datetime64[ns](1), int64(2), object(3)\n",
            "memory usage: 564.4+ MB\n"
          ]
        }
      ]
    },
    {
      "cell_type": "markdown",
      "metadata": {
        "id": "66-1kp-ILdNI"
      },
      "source": [
        "Five columns will actually result in 23 (5 + 19 -1 dropped dummy column to avoid multicollinearity) once we one-hot encode the categories. There may be a few more if we also include the 'Pack' column.\n",
        "\n",
        "## moving from the main dataset to individual stores\n",
        "\n",
        "With that larger-scale data-cleaning process finished, let's start looking toward breaking this data down by store:"
      ]
    },
    {
      "cell_type": "code",
      "execution_count": 27,
      "metadata": {
        "colab": {
          "base_uri": "https://localhost:8080/"
        },
        "id": "FcPGR4MwMQZ_",
        "outputId": "f34902a3-5b6a-4d14-ea7e-225eab2f8887"
      },
      "outputs": [
        {
          "output_type": "execute_result",
          "data": {
            "text/plain": [
              "Store Number\n",
              "2633    93705\n",
              "2190    78422\n",
              "2512    74025\n",
              "4829    73083\n",
              "2614    62946\n",
              "2515    58295\n",
              "2501    58246\n",
              "2616    53471\n",
              "2603    53396\n",
              "Name: count, dtype: int64"
            ]
          },
          "metadata": {},
          "execution_count": 27
        }
      ],
      "source": [
        "#What do, say, the top ten stores look like in terms of sales?\n",
        "store_counts = trimmed_df['Store Number'].value_counts()\n",
        "store_counts[0:9]"
      ]
    },
    {
      "cell_type": "code",
      "execution_count": 28,
      "metadata": {
        "id": "UlEJtL1dNnt6"
      },
      "outputs": [],
      "source": [
        "#It turns out that store number '2633' is a Hy-Vee in Des Moines.\n",
        "# We'll isolate this store and save it for further EDA later.\n",
        "hy_vee_des_moines = trimmed_df[trimmed_df['Store Number'] == 2633]\n",
        "#The second-busiest is Central City Liqour, also in Des Moines.\n",
        "ccl_des_moines = trimmed_df[trimmed_df['Store Number'] == 2190]\n",
        "#The third-busiest is a Hy Vee Wine & Spirits in Iowa City.\n",
        "hy_vee_iowa_city = trimmed_df[trimmed_df['Store Number'] == 2512]"
      ]
    },
    {
      "cell_type": "code",
      "source": [
        "hy_vee_des_moines.info()"
      ],
      "metadata": {
        "colab": {
          "base_uri": "https://localhost:8080/"
        },
        "id": "ks8mVM-cvO98",
        "outputId": "fd69104e-8578-48ef-c40e-fe656702944a"
      },
      "execution_count": 29,
      "outputs": [
        {
          "output_type": "stream",
          "name": "stdout",
          "text": [
            "<class 'pandas.core.frame.DataFrame'>\n",
            "Index: 93705 entries, 190 to 10716551\n",
            "Data columns (total 6 columns):\n",
            " #   Column          Non-Null Count  Dtype         \n",
            "---  ------          --------------  -----         \n",
            " 0   Date            93705 non-null  datetime64[ns]\n",
            " 1   Store Number    93705 non-null  int64         \n",
            " 2   Category Name   93705 non-null  object        \n",
            " 3   Vendor Name     93705 non-null  object        \n",
            " 4   Bottles Sold    93705 non-null  int64         \n",
            " 5   Sale (Dollars)  93705 non-null  object        \n",
            "dtypes: datetime64[ns](1), int64(2), object(3)\n",
            "memory usage: 5.0+ MB\n"
          ]
        }
      ]
    },
    {
      "cell_type": "markdown",
      "metadata": {
        "id": "Zm3Q5VCaQbtB"
      },
      "source": [
        "Let's delve into the single busiest store and see how its liquor sales dates are distributed."
      ]
    },
    {
      "cell_type": "code",
      "execution_count": 30,
      "metadata": {
        "colab": {
          "base_uri": "https://localhost:8080/",
          "height": 451
        },
        "id": "uZniYvkPQts-",
        "outputId": "89e516e3-3bd6-4645-aee2-2efca52cb97e"
      },
      "outputs": [
        {
          "output_type": "display_data",
          "data": {
            "text/plain": [
              "<Figure size 640x480 with 1 Axes>"
            ],
            "image/png": "[encoded data removed]"
          },
          "metadata": {}
        }
      ],
      "source": [
        "hy_vee_des_moines['Date'].hist(xrot=45, bins=60);"
      ]
    },
    {
      "cell_type": "markdown",
      "source": [
        "It's hard to tell whether there are any strong trends or seasonaility yet, but this isn't the best graph for that.\n",
        "\n",
        "Nontheless, there is a slight upward trend in the data; it seems to be slowly rising throughout this timespan.\n",
        "\n",
        "All in all, we'll need to check for this trend and seasonality before we begin modeling. Before we get ahead of ourselves, we have a little more EDA to do here at the store-level."
      ],
      "metadata": {
        "id": "rAWYbbfevkWz"
      }
    },
    {
      "cell_type": "code",
      "execution_count": 31,
      "metadata": {
        "colab": {
          "base_uri": "https://localhost:8080/"
        },
        "id": "qMavKbO_WxQ-",
        "outputId": "76f1f74d-b813-4936-a3e3-8d6c4813e557"
      },
      "outputs": [
        {
          "output_type": "execute_result",
          "data": {
            "text/plain": [
              "161"
            ]
          },
          "metadata": {},
          "execution_count": 31
        }
      ],
      "source": [
        "len(hy_vee_des_moines['Vendor Name'].unique())"
      ]
    },
    {
      "cell_type": "code",
      "execution_count": 32,
      "metadata": {
        "colab": {
          "base_uri": "https://localhost:8080/"
        },
        "id": "jiZ8--O0bBoT",
        "outputId": "970e6af2-bfad-4ad0-d700-38d734700c2d"
      },
      "outputs": [
        {
          "output_type": "execute_result",
          "data": {
            "text/plain": [
              "Vendor Name\n",
              "Diageo Americas                         14878\n",
              "Jim Beam Brands                         14718\n",
              "Luxco-St Louis                           9228\n",
              "Pernod Ricard USA/Austin Nichols         5797\n",
              "Bacardi U.S.A., Inc.                     5072\n",
              "                                        ...  \n",
              "Aiko Importers Inc                          1\n",
              "Campari                                     1\n",
              "Park Street Imports-Philadelphia Dis        1\n",
              "Three Rangers                               1\n",
              "Tanteo Tequila                              1\n",
              "Name: count, Length: 161, dtype: int64"
            ]
          },
          "metadata": {},
          "execution_count": 32
        }
      ],
      "source": [
        "hy_vee_des_moines['Vendor Name'].value_counts()"
      ]
    },
    {
      "cell_type": "code",
      "execution_count": 33,
      "metadata": {
        "colab": {
          "base_uri": "https://localhost:8080/",
          "height": 676
        },
        "id": "D-hjZMMIasjr",
        "outputId": "b1ef18e3-bf25-444f-a4c2-2d9da95e57e0"
      },
      "outputs": [
        {
          "output_type": "execute_result",
          "data": {
            "text/plain": [
              "                                  count\n",
              "Vendor Name                            \n",
              "Diageo Americas                   14878\n",
              "Jim Beam Brands                   14718\n",
              "Luxco-St Louis                     9228\n",
              "Pernod Ricard USA/Austin Nichols   5797\n",
              "Bacardi U.S.A., Inc.               5072\n",
              "Phillips Beverage Company          4402\n",
              "Sazerac North America              4087\n",
              "Proximo                            3319\n",
              "Sazerac Co., Inc.                  3076\n",
              "Brown-Forman Corporation           2266\n",
              "Heaven Hill Brands                 2056\n",
              "Campari(skyy)                      1924\n",
              "Constellation Wine Company, Inc.   1618\n",
              "Moet Hennessy USA, Inc.            1586\n",
              "WILLIAM GRANT AND SONS, INC.       1467\n",
              "DIAGEO AMERICAS                    1294\n",
              "Stoli Group                        1205\n",
              "Mccormick Distilling Company       1189\n",
              "MHW Ltd                            1186"
            ],
            "text/html": [
              "\n",
              "  <div id=\"df-7d83955e-330b-40f2-91e2-5575fc7fbcd2\" class=\"colab-df-container\">\n",
              "    <div>\n",
              "<style scoped>\n",
              "    .dataframe tbody tr th:only-of-type {\n",
              "        vertical-align: middle;\n",
              "    }\n",
              "\n",
              "    .dataframe tbody tr th {\n",
              "        vertical-align: top;\n",
              "    }\n",
              "\n",
              "    .dataframe thead th {\n",
              "        text-align: right;\n",
              "    }\n",
              "</style>\n",
              "<table border=\"1\" class=\"dataframe\">\n",
              "  <thead>\n",
              "    <tr style=\"text-align: right;\">\n",
              "      <th></th>\n",
              "      <th>count</th>\n",
              "    </tr>\n",
              "    <tr>\n",
              "      <th>Vendor Name</th>\n",
              "      <th></th>\n",
              "    </tr>\n",
              "  </thead>\n",
              "  <tbody>\n",
              "    <tr>\n",
              "      <th>Diageo Americas</th>\n",
              "      <td>14878</td>\n",
              "    </tr>\n",
              "    <tr>\n",
              "      <th>Jim Beam Brands</th>\n",
              "      <td>14718</td>\n",
              "    </tr>\n",
              "    <tr>\n",
              "      <th>Luxco-St Louis</th>\n",
              "      <td>9228</td>\n",
              "    </tr>\n",
              "    <tr>\n",
              "      <th>Pernod Ricard USA/Austin Nichols</th>\n",
              "      <td>5797</td>\n",
              "    </tr>\n",
              "    <tr>\n",
              "      <th>Bacardi U.S.A., Inc.</th>\n",
              "      <td>5072</td>\n",
              "    </tr>\n",
              "    <tr>\n",
              "      <th>Phillips Beverage Company</th>\n",
              "      <td>4402</td>\n",
              "    </tr>\n",
              "    <tr>\n",
              "      <th>Sazerac North America</th>\n",
              "      <td>4087</td>\n",
              "    </tr>\n",
              "    <tr>\n",
              "      <th>Proximo</th>\n",
              "      <td>3319</td>\n",
              "    </tr>\n",
              "    <tr>\n",
              "      <th>Sazerac Co., Inc.</th>\n",
              "      <td>3076</td>\n",
              "    </tr>\n",
              "    <tr>\n",
              "      <th>Brown-Forman Corporation</th>\n",
              "      <td>2266</td>\n",
              "    </tr>\n",
              "    <tr>\n",
              "      <th>Heaven Hill Brands</th>\n",
              "      <td>2056</td>\n",
              "    </tr>\n",
              "    <tr>\n",
              "      <th>Campari(skyy)</th>\n",
              "      <td>1924</td>\n",
              "    </tr>\n",
              "    <tr>\n",
              "      <th>Constellation Wine Company, Inc.</th>\n",
              "      <td>1618</td>\n",
              "    </tr>\n",
              "    <tr>\n",
              "      <th>Moet Hennessy USA, Inc.</th>\n",
              "      <td>1586</td>\n",
              "    </tr>\n",
              "    <tr>\n",
              "      <th>WILLIAM GRANT AND SONS, INC.</th>\n",
              "      <td>1467</td>\n",
              "    </tr>\n",
              "    <tr>\n",
              "      <th>DIAGEO AMERICAS</th>\n",
              "      <td>1294</td>\n",
              "    </tr>\n",
              "    <tr>\n",
              "      <th>Stoli Group</th>\n",
              "      <td>1205</td>\n",
              "    </tr>\n",
              "    <tr>\n",
              "      <th>Mccormick Distilling Company</th>\n",
              "      <td>1189</td>\n",
              "    </tr>\n",
              "    <tr>\n",
              "      <th>MHW Ltd</th>\n",
              "      <td>1186</td>\n",
              "    </tr>\n",
              "  </tbody>\n",
              "</table>\n",
              "</div>\n",
              "    <div class=\"colab-df-buttons\">\n",
              "\n",
              "  <div class=\"colab-df-container\">\n",
              "    <button class=\"colab-df-convert\" onclick=\"convertToInteractive('df-7d83955e-330b-40f2-91e2-5575fc7fbcd2')\"\n",
              "            title=\"Convert this dataframe to an interactive table.\"\n",
              "            style=\"display:none;\">\n",
              "\n",
              "  <svg xmlns=\"http://www.w3.org/2000/svg\" height=\"24px\" viewBox=\"0 -960 960 960\">\n",
              "    <path d=\"M120-120v-720h720v720H120Zm60-500h600v-160H180v160Zm220 220h160v-160H400v160Zm0 220h160v-160H400v160ZM180-400h160v-160H180v160Zm440 0h160v-160H620v160ZM180-180h160v-160H180v160Zm440 0h160v-160H620v160Z\"/>\n",
              "  </svg>\n",
              "    </button>\n",
              "\n",
              "  <style>\n",
              "    .colab-df-container {\n",
              "      display:flex;\n",
              "      gap: 12px;\n",
              "    }\n",
              "\n",
              "    .colab-df-convert {\n",
              "      background-color: #E8F0FE;\n",
              "      border: none;\n",
              "      border-radius: 50%;\n",
              "      cursor: pointer;\n",
              "      display: none;\n",
              "      fill: #1967D2;\n",
              "      height: 32px;\n",
              "      padding: 0 0 0 0;\n",
              "      width: 32px;\n",
              "    }\n",
              "\n",
              "    .colab-df-convert:hover {\n",
              "      background-color: #E2EBFA;\n",
              "      box-shadow: 0px 1px 2px rgba(60, 64, 67, 0.3), 0px 1px 3px 1px rgba(60, 64, 67, 0.15);\n",
              "      fill: #174EA6;\n",
              "    }\n",
              "\n",
              "    .colab-df-buttons div {\n",
              "      margin-bottom: 4px;\n",
              "    }\n",
              "\n",
              "    [theme=dark] .colab-df-convert {\n",
              "      background-color: #3B4455;\n",
              "      fill: #D2E3FC;\n",
              "    }\n",
              "\n",
              "    [theme=dark] .colab-df-convert:hover {\n",
              "      background-color: #434B5C;\n",
              "      box-shadow: 0px 1px 3px 1px rgba(0, 0, 0, 0.15);\n",
              "      filter: drop-shadow(0px 1px 2px rgba(0, 0, 0, 0.3));\n",
              "      fill: #FFFFFF;\n",
              "    }\n",
              "  </style>\n",
              "\n",
              "    <script>\n",
              "      const buttonEl =\n",
              "        document.querySelector('#df-7d83955e-330b-40f2-91e2-5575fc7fbcd2 button.colab-df-convert');\n",
              "      buttonEl.style.display =\n",
              "        google.colab.kernel.accessAllowed ? 'block' : 'none';\n",
              "\n",
              "      async function convertToInteractive(key) {\n",
              "        const element = document.querySelector('#df-7d83955e-330b-40f2-91e2-5575fc7fbcd2');\n",
              "        const dataTable =\n",
              "          await google.colab.kernel.invokeFunction('convertToInteractive',\n",
              "                                                    [key], {});\n",
              "        if (!dataTable) return;\n",
              "\n",
              "        const docLinkHtml = 'Like what you see? Visit the ' +\n",
              "          '<a target=\"_blank\" href=https://colab.research.google.com/notebooks/data_table.ipynb>data table notebook</a>'\n",
              "          + ' to learn more about interactive tables.';\n",
              "        element.innerHTML = '';\n",
              "        dataTable['output_type'] = 'display_data';\n",
              "        await google.colab.output.renderOutput(dataTable, element);\n",
              "        const docLink = document.createElement('div');\n",
              "        docLink.innerHTML = docLinkHtml;\n",
              "        element.appendChild(docLink);\n",
              "      }\n",
              "    </script>\n",
              "  </div>\n",
              "\n",
              "\n",
              "<div id=\"df-90c47a9e-30a5-460a-95e8-6ba0687b7abc\">\n",
              "  <button class=\"colab-df-quickchart\" onclick=\"quickchart('df-90c47a9e-30a5-460a-95e8-6ba0687b7abc')\"\n",
              "            title=\"Suggest charts\"\n",
              "            style=\"display:none;\">\n",
              "\n",
              "<svg xmlns=\"http://www.w3.org/2000/svg\" height=\"24px\"viewBox=\"0 0 24 24\"\n",
              "     width=\"24px\">\n",
              "    <g>\n",
              "        <path d=\"M19 3H5c-1.1 0-2 .9-2 2v14c0 1.1.9 2 2 2h14c1.1 0 2-.9 2-2V5c0-1.1-.9-2-2-2zM9 17H7v-7h2v7zm4 0h-2V7h2v10zm4 0h-2v-4h2v4z\"/>\n",
              "    </g>\n",
              "</svg>\n",
              "  </button>\n",
              "\n",
              "<style>\n",
              "  .colab-df-quickchart {\n",
              "      --bg-color: #E8F0FE;\n",
              "      --fill-color: #1967D2;\n",
              "      --hover-bg-color: #E2EBFA;\n",
              "      --hover-fill-color: #174EA6;\n",
              "      --disabled-fill-color: #AAA;\n",
              "      --disabled-bg-color: #DDD;\n",
              "  }\n",
              "\n",
              "  [theme=dark] .colab-df-quickchart {\n",
              "      --bg-color: #3B4455;\n",
              "      --fill-color: #D2E3FC;\n",
              "      --hover-bg-color: #434B5C;\n",
              "      --hover-fill-color: #FFFFFF;\n",
              "      --disabled-bg-color: #3B4455;\n",
              "      --disabled-fill-color: #666;\n",
              "  }\n",
              "\n",
              "  .colab-df-quickchart {\n",
              "    background-color: var(--bg-color);\n",
              "    border: none;\n",
              "    border-radius: 50%;\n",
              "    cursor: pointer;\n",
              "    display: none;\n",
              "    fill: var(--fill-color);\n",
              "    height: 32px;\n",
              "    padding: 0;\n",
              "    width: 32px;\n",
              "  }\n",
              "\n",
              "  .colab-df-quickchart:hover {\n",
              "    background-color: var(--hover-bg-color);\n",
              "    box-shadow: 0 1px 2px rgba(60, 64, 67, 0.3), 0 1px 3px 1px rgba(60, 64, 67, 0.15);\n",
              "    fill: var(--button-hover-fill-color);\n",
              "  }\n",
              "\n",
              "  .colab-df-quickchart-complete:disabled,\n",
              "  .colab-df-quickchart-complete:disabled:hover {\n",
              "    background-color: var(--disabled-bg-color);\n",
              "    fill: var(--disabled-fill-color);\n",
              "    box-shadow: none;\n",
              "  }\n",
              "\n",
              "  .colab-df-spinner {\n",
              "    border: 2px solid var(--fill-color);\n",
              "    border-color: transparent;\n",
              "    border-bottom-color: var(--fill-color);\n",
              "    animation:\n",
              "      spin 1s steps(1) infinite;\n",
              "  }\n",
              "\n",
              "  @keyframes spin {\n",
              "    0% {\n",
              "      border-color: transparent;\n",
              "      border-bottom-color: var(--fill-color);\n",
              "      border-left-color: var(--fill-color);\n",
              "    }\n",
              "    20% {\n",
              "      border-color: transparent;\n",
              "      border-left-color: var(--fill-color);\n",
              "      border-top-color: var(--fill-color);\n",
              "    }\n",
              "    30% {\n",
              "      border-color: transparent;\n",
              "      border-left-color: var(--fill-color);\n",
              "      border-top-color: var(--fill-color);\n",
              "      border-right-color: var(--fill-color);\n",
              "    }\n",
              "    40% {\n",
              "      border-color: transparent;\n",
              "      border-right-color: var(--fill-color);\n",
              "      border-top-color: var(--fill-color);\n",
              "    }\n",
              "    60% {\n",
              "      border-color: transparent;\n",
              "      border-right-color: var(--fill-color);\n",
              "    }\n",
              "    80% {\n",
              "      border-color: transparent;\n",
              "      border-right-color: var(--fill-color);\n",
              "      border-bottom-color: var(--fill-color);\n",
              "    }\n",
              "    90% {\n",
              "      border-color: transparent;\n",
              "      border-bottom-color: var(--fill-color);\n",
              "    }\n",
              "  }\n",
              "</style>\n",
              "\n",
              "  <script>\n",
              "    async function quickchart(key) {\n",
              "      const quickchartButtonEl =\n",
              "        document.querySelector('#' + key + ' button');\n",
              "      quickchartButtonEl.disabled = true;  // To prevent multiple clicks.\n",
              "      quickchartButtonEl.classList.add('colab-df-spinner');\n",
              "      try {\n",
              "        const charts = await google.colab.kernel.invokeFunction(\n",
              "            'suggestCharts', [key], {});\n",
              "      } catch (error) {\n",
              "        console.error('Error during call to suggestCharts:', error);\n",
              "      }\n",
              "      quickchartButtonEl.classList.remove('colab-df-spinner');\n",
              "      quickchartButtonEl.classList.add('colab-df-quickchart-complete');\n",
              "    }\n",
              "    (() => {\n",
              "      let quickchartButtonEl =\n",
              "        document.querySelector('#df-90c47a9e-30a5-460a-95e8-6ba0687b7abc button');\n",
              "      quickchartButtonEl.style.display =\n",
              "        google.colab.kernel.accessAllowed ? 'block' : 'none';\n",
              "    })();\n",
              "  </script>\n",
              "</div>\n",
              "\n",
              "  <div id=\"id_55a0ac69-0df0-471b-a97f-c4994a7319f6\">\n",
              "    <style>\n",
              "      .colab-df-generate {\n",
              "        background-color: #E8F0FE;\n",
              "        border: none;\n",
              "        border-radius: 50%;\n",
              "        cursor: pointer;\n",
              "        display: none;\n",
              "        fill: #1967D2;\n",
              "        height: 32px;\n",
              "        padding: 0 0 0 0;\n",
              "        width: 32px;\n",
              "      }\n",
              "\n",
              "      .colab-df-generate:hover {\n",
              "        background-color: #E2EBFA;\n",
              "        box-shadow: 0px 1px 2px rgba(60, 64, 67, 0.3), 0px 1px 3px 1px rgba(60, 64, 67, 0.15);\n",
              "        fill: #174EA6;\n",
              "      }\n",
              "\n",
              "      [theme=dark] .colab-df-generate {\n",
              "        background-color: #3B4455;\n",
              "        fill: #D2E3FC;\n",
              "      }\n",
              "\n",
              "      [theme=dark] .colab-df-generate:hover {\n",
              "        background-color: #434B5C;\n",
              "        box-shadow: 0px 1px 3px 1px rgba(0, 0, 0, 0.15);\n",
              "        filter: drop-shadow(0px 1px 2px rgba(0, 0, 0, 0.3));\n",
              "        fill: #FFFFFF;\n",
              "      }\n",
              "    </style>\n",
              "    <button class=\"colab-df-generate\" onclick=\"generateWithVariable('hvdm__1000_order_vendors')\"\n",
              "            title=\"Generate code using this dataframe.\"\n",
              "            style=\"display:none;\">\n",
              "\n",
              "  <svg xmlns=\"http://www.w3.org/2000/svg\" height=\"24px\"viewBox=\"0 0 24 24\"\n",
              "       width=\"24px\">\n",
              "    <path d=\"M7,19H8.4L18.45,9,17,7.55,7,17.6ZM5,21V16.75L18.45,3.32a2,2,0,0,1,2.83,0l1.4,1.43a1.91,1.91,0,0,1,.58,1.4,1.91,1.91,0,0,1-.58,1.4L9.25,21ZM18.45,9,17,7.55Zm-12,3A5.31,5.31,0,0,0,4.9,8.1,5.31,5.31,0,0,0,1,6.5,5.31,5.31,0,0,0,4.9,4.9,5.31,5.31,0,0,0,6.5,1,5.31,5.31,0,0,0,8.1,4.9,5.31,5.31,0,0,0,12,6.5,5.46,5.46,0,0,0,6.5,12Z\"/>\n",
              "  </svg>\n",
              "    </button>\n",
              "    <script>\n",
              "      (() => {\n",
              "      const buttonEl =\n",
              "        document.querySelector('#id_55a0ac69-0df0-471b-a97f-c4994a7319f6 button.colab-df-generate');\n",
              "      buttonEl.style.display =\n",
              "        google.colab.kernel.accessAllowed ? 'block' : 'none';\n",
              "\n",
              "      buttonEl.onclick = () => {\n",
              "        google.colab.notebook.generateWithVariable('hvdm__1000_order_vendors');\n",
              "      }\n",
              "      })();\n",
              "    </script>\n",
              "  </div>\n",
              "\n",
              "    </div>\n",
              "  </div>\n"
            ],
            "application/vnd.google.colaboratory.intrinsic+json": {
              "type": "dataframe",
              "variable_name": "hvdm__1000_order_vendors",
              "summary": "{\n  \"name\": \"hvdm__1000_order_vendors\",\n  \"rows\": 19,\n  \"fields\": [\n    {\n      \"column\": \"Vendor Name\",\n      \"properties\": {\n        \"dtype\": \"string\",\n        \"num_unique_values\": 19,\n        \"samples\": [\n          \"Diageo Americas\",\n          \"Phillips Beverage Company\",\n          \"Campari(skyy)\"\n        ],\n        \"semantic_type\": \"\",\n        \"description\": \"\"\n      }\n    },\n    {\n      \"column\": \"count\",\n      \"properties\": {\n        \"dtype\": \"number\",\n        \"std\": 4251,\n        \"min\": 1186,\n        \"max\": 14878,\n        \"num_unique_values\": 19,\n        \"samples\": [\n          14878,\n          4402,\n          1924\n        ],\n        \"semantic_type\": \"\",\n        \"description\": \"\"\n      }\n    }\n  ]\n}"
            }
          },
          "metadata": {},
          "execution_count": 33
        }
      ],
      "source": [
        "hvdm_vendor_counts = hy_vee_des_moines['Vendor Name'].value_counts()\n",
        "hvdm__1000_order_vendors = pd.DataFrame(hvdm_vendor_counts)\n",
        "hvdm__1000_order_vendors = hvdm__1000_order_vendors[hvdm__1000_order_vendors['count']>= 1000]\n",
        "hvdm__1000_order_vendors"
      ]
    },
    {
      "cell_type": "code",
      "execution_count": 34,
      "metadata": {
        "colab": {
          "base_uri": "https://localhost:8080/"
        },
        "id": "z9qHkyUsass1",
        "outputId": "8cbec5ed-da4c-4760-e77c-72da0eb43ebf"
      },
      "outputs": [
        {
          "output_type": "stream",
          "name": "stdout",
          "text": [
            "Number of Vendors with at least 1000 orders fulfilled: 19\n",
            "Fraction of rows lost if we drop vendors with fewer than 1000 orders: 0.142329651566085\n"
          ]
        }
      ],
      "source": [
        "print(\"Number of Vendors with at least 1000 orders fulfilled:\", len(hvdm__1000_order_vendors))\n",
        "print(\"Fraction of rows lost if we drop vendors with fewer than 1000 orders:\", 1 - sum(hvdm__1000_order_vendors['count'] / len(hy_vee_des_moines)))"
      ]
    },
    {
      "cell_type": "markdown",
      "source": [
        "So, if we drop the records pertaining to vendors with fewer orders, we lose 14.2% of the rows, but the vendor categories drop from an unwieldy 161 to a far more reasonable 19.\n",
        "\n",
        "Ultimately, I'll keep the vendor column as-is, but I won't use it for modeling for now. If the overall goal is to take a model that optimizes time-series predictions on inventory and then apply it to numerous other stores, keeping it limited to the time-series data, liquor categories, and counts is a good starting place on its own.\n",
        "\n",
        "Once this project reaches that minimum viability point, then I may be able to come back and include vendor data.\n",
        "\n",
        "With this groundwork laid down, let's move on to modeling our time-series inventory data with a (S)ARIMA model.\n",
        "\n",
        "## modeling\n",
        "\n",
        "Below, I import the packages we'll need to valuate, preprocess, and evaluate the data."
      ],
      "metadata": {
        "id": "rsTr_W7nxpUI"
      }
    },
    {
      "cell_type": "code",
      "execution_count": 35,
      "metadata": {
        "id": "l6gDOF4vas1n"
      },
      "outputs": [],
      "source": [
        "import numpy as np\n",
        "\n",
        "#Scikit-Learn modules for valuation & evaluation\n",
        "from sklearn.preprocessing import OneHotEncoder\n",
        "from sklearn.metrics import mean_squared_error\n",
        "from sklearn.linear_model import LinearRegression\n",
        "from sklearn.model_selection import TimeSeriesSplit\n",
        "\n",
        "#Itertools for optimizing (S)ARIMA hyperparameters\n",
        "import itertools\n",
        "\n",
        "#StatsModels for modeling & ACF/PACF\n",
        "from statsmodels.tsa.arima.model import ARIMA\n",
        "from statsmodels.tsa.stattools import acf, pacf, adfuller\n",
        "from statsmodels.graphics.tsaplots import plot_acf, plot_pacf\n",
        "from statsmodels.tsa.statespace.sarimax import SARIMAX"
      ]
    },
    {
      "cell_type": "markdown",
      "source": [
        "Before I do anything with the data, I should perform a valuation measure to avoid data leakage. At the end of the modeling process, I'll incorporate all three years (2012-2014) in order to forecast one year ahead. However, when training the model, I'll have to isolate the first two years (2012 & 2013) as the training set and the last year (2014) as the test set.\n",
        "\n",
        "I'll also rename our busiest store (currently hy_vee_des_moines) to a more concise variable name.\n",
        "\n",
        "As a side note, it seems that a lot of time-series projects will often resample to a weekly level, but [it appears that most grocers restock every day](https://www.instacart.com/company/ideas/when-do-grocery-stores-restock/#:~:text=Most%20of%20the%20larger%20grocery,store%20has%20its%20own%20schedule.), so I'll leave the granularity at the daily level for now."
      ],
      "metadata": {
        "id": "LKzWrGygNAjD"
      }
    },
    {
      "cell_type": "code",
      "execution_count": 36,
      "metadata": {
        "id": "dXdhS2h_efbk",
        "colab": {
          "base_uri": "https://localhost:8080/",
          "height": 1000
        },
        "outputId": "760f57db-2a99-4ee3-b89a-6249a3755d1b"
      },
      "outputs": [
        {
          "output_type": "execute_result",
          "data": {
            "text/plain": [
              "            Store Number               Category Name  \\\n",
              "Date                                                   \n",
              "2015-07-27          2633              FRUIT SCHNAPPS   \n",
              "2013-06-03          2633      MISCELLANEOUS SCHNAPPS   \n",
              "2014-10-23          2633              FRUIT SCHNAPPS   \n",
              "2016-05-02          2633                         GIN   \n",
              "2013-11-04          2633      MISCELLANEOUS SCHNAPPS   \n",
              "2013-01-03          2633              VODKA FLAVORED   \n",
              "2013-11-14          2633              IRISH WHISKIES   \n",
              "2013-08-07          2633             SCOTCH WHISKIES   \n",
              "2012-06-21          2633                       VODKA   \n",
              "2016-06-27          2633                     LIQUEUR   \n",
              "2015-10-01          2633           CANADIAN WHISKIES   \n",
              "2012-09-20          2633                     LIQUEUR   \n",
              "2012-07-19          2633  BLENDED AND OTHER WHISKIES   \n",
              "2014-03-24          2633                         GIN   \n",
              "2014-12-08          2633                         GIN   \n",
              "2016-08-04          2633                       VODKA   \n",
              "2015-03-05          2633              VODKA FLAVORED   \n",
              "2012-10-25          2633                     TEQUILA   \n",
              "2014-07-07          2633                       VODKA   \n",
              "2016-12-01          2633                     LIQUEUR   \n",
              "2014-08-28          2633                     TEQUILA   \n",
              "2014-02-10          2633           CANADIAN WHISKIES   \n",
              "2016-10-10          2633                     TEQUILA   \n",
              "2013-01-21          2633        GRAPE-BASED BRANDIES   \n",
              "2012-06-11          2633                       VODKA   \n",
              "2013-11-22          2633                         GIN   \n",
              "2014-04-10          2633                     LIQUEUR   \n",
              "2014-08-14          2633             SCOTCH WHISKIES   \n",
              "2013-05-13          2633                       VODKA   \n",
              "2016-07-25          2633             SCOTCH WHISKIES   \n",
              "2015-06-08          2633                     LIQUEUR   \n",
              "2012-03-19          2633           CANADIAN WHISKIES   \n",
              "2014-12-30          2633             SCOTCH WHISKIES   \n",
              "2016-12-01          2633      MISCELLANEOUS SCHNAPPS   \n",
              "2014-01-06          2633          TENNESSEE WHISKIES   \n",
              "2012-04-09          2633                         GIN   \n",
              "2013-07-01          2633              FRUIT SCHNAPPS   \n",
              "2015-01-16          2633              FRUIT SCHNAPPS   \n",
              "2013-05-16          2633                         GIN   \n",
              "2015-07-13          2633                       VODKA   \n",
              "2015-09-03          2633                         RUM   \n",
              "2013-03-04          2633                     LIQUEUR   \n",
              "2015-10-29          2633                       VODKA   \n",
              "2012-01-16          2633                     LIQUEUR   \n",
              "2016-04-25          2633                     BOURBON   \n",
              "2014-05-01          2633                         GIN   \n",
              "2013-05-30          2633                       VODKA   \n",
              "2013-07-01          2633               RTD COCKTAILS   \n",
              "2015-01-16          2633                         RUM   \n",
              "2016-12-15          2633                         RUM   \n",
              "\n",
              "                                 Vendor Name  Bottles Sold Sale (Dollars)  \n",
              "Date                                                                       \n",
              "2015-07-27                   Jim Beam Brands            12        $137.16  \n",
              "2013-06-03             Sazerac North America            12        $171.00  \n",
              "2014-10-23                   Jim Beam Brands            48        $548.64  \n",
              "2016-05-02                   Jim Beam Brands            12        $123.00  \n",
              "2013-11-04                 Sazerac Co., Inc.            12        $198.00  \n",
              "2013-01-03                Black Rock Spirits             6        $134.94  \n",
              "2013-11-14  Pernod Ricard USA/Austin Nichols             6        $269.94  \n",
              "2013-08-07                           MHW Ltd             1         $22.74  \n",
              "2012-06-21  Pernod Ricard USA/Austin Nichols            36        $804.24  \n",
              "2016-06-27                   Jim Beam Brands            24         $84.00  \n",
              "2015-10-01                   Diageo Americas            60       $1350.00  \n",
              "2012-09-20                   Diageo Americas            24        $611.76  \n",
              "2012-07-19                   Diageo Americas            48        $539.52  \n",
              "2014-03-24              Bacardi U.S.A., Inc.            12        $316.92  \n",
              "2014-12-08                   Diageo Americas            12        $306.00  \n",
              "2016-08-04              Bacardi U.S.A., Inc.           528      $17820.00  \n",
              "2015-03-05       Hood River Distillers, Inc.             1         $19.38  \n",
              "2012-10-25                           Proximo            60       $1124.40  \n",
              "2014-07-07                           MHW Ltd             6        $136.50  \n",
              "2016-12-01                   DIAGEO AMERICAS             5        $297.00  \n",
              "2014-08-28                    Luxco-St Louis            36        $373.68  \n",
              "2014-02-10                   Jim Beam Brands             1         $19.68  \n",
              "2016-10-10                 PERNOD RICARD USA             1        $269.82  \n",
              "2013-01-21  Pernod Ricard USA/Austin Nichols            12        $134.88  \n",
              "2012-06-11                   Jim Beam Brands            12        $129.72  \n",
              "2013-11-22                   Diageo Americas            36        $809.28  \n",
              "2014-04-10                   Diageo Americas            12        $238.44  \n",
              "2014-08-14                           MHW Ltd             1         $37.49  \n",
              "2013-05-13  Pernod Ricard USA/Austin Nichols            36        $809.64  \n",
              "2016-07-25                   Diageo Americas             4        $105.00  \n",
              "2015-06-08          Brown-Forman Corporation            12        $334.08  \n",
              "2012-03-19          Brown-Forman Corporation            12        $120.60  \n",
              "2014-12-30  Pernod Ricard USA/Austin Nichols             6        $449.94  \n",
              "2016-12-01                   Jim Beam Brands             1        $103.86  \n",
              "2014-01-06          Brown-Forman Corporation            12        $341.16  \n",
              "2012-04-09                    Luxco-St Louis             6         $63.00  \n",
              "2013-07-01                   Jim Beam Brands            12        $113.40  \n",
              "2015-01-16                   Jim Beam Brands            36        $411.48  \n",
              "2013-05-16                    Luxco-St Louis            12         $69.96  \n",
              "2015-07-13         Phillips Beverage Company             6         $68.40  \n",
              "2015-09-03              Bacardi U.S.A., Inc.             1         $11.25  \n",
              "2013-03-04                    Luxco-St Louis            24        $164.64  \n",
              "2015-10-29                   Jim Beam Brands             1         $10.82  \n",
              "2012-01-16                Heaven Hill Brands             6        $105.12  \n",
              "2016-04-25                   Jim Beam Brands             6        $198.36  \n",
              "2014-05-01              Bacardi U.S.A., Inc.            36        $950.76  \n",
              "2013-05-30                     Campari(skyy)            12        $222.24  \n",
              "2013-07-01                    Luxco-St Louis            12         $81.00  \n",
              "2015-01-16              Bacardi U.S.A., Inc.             1         $12.75  \n",
              "2016-12-15                   Jim Beam Brands             1        $123.00  "
            ],
            "text/html": [
              "\n",
              "  <div id=\"df-5f1d9edd-db6b-4756-944b-95e84c84babd\" class=\"colab-df-container\">\n",
              "    <div>\n",
              "<style scoped>\n",
              "    .dataframe tbody tr th:only-of-type {\n",
              "        vertical-align: middle;\n",
              "    }\n",
              "\n",
              "    .dataframe tbody tr th {\n",
              "        vertical-align: top;\n",
              "    }\n",
              "\n",
              "    .dataframe thead th {\n",
              "        text-align: right;\n",
              "    }\n",
              "</style>\n",
              "<table border=\"1\" class=\"dataframe\">\n",
              "  <thead>\n",
              "    <tr style=\"text-align: right;\">\n",
              "      <th></th>\n",
              "      <th>Store Number</th>\n",
              "      <th>Category Name</th>\n",
              "      <th>Vendor Name</th>\n",
              "      <th>Bottles Sold</th>\n",
              "      <th>Sale (Dollars)</th>\n",
              "    </tr>\n",
              "    <tr>\n",
              "      <th>Date</th>\n",
              "      <th></th>\n",
              "      <th></th>\n",
              "      <th></th>\n",
              "      <th></th>\n",
              "      <th></th>\n",
              "    </tr>\n",
              "  </thead>\n",
              "  <tbody>\n",
              "    <tr>\n",
              "      <th>2015-07-27</th>\n",
              "      <td>2633</td>\n",
              "      <td>FRUIT SCHNAPPS</td>\n",
              "      <td>Jim Beam Brands</td>\n",
              "      <td>12</td>\n",
              "      <td>$137.16</td>\n",
              "    </tr>\n",
              "    <tr>\n",
              "      <th>2013-06-03</th>\n",
              "      <td>2633</td>\n",
              "      <td>MISCELLANEOUS SCHNAPPS</td>\n",
              "      <td>Sazerac North America</td>\n",
              "      <td>12</td>\n",
              "      <td>$171.00</td>\n",
              "    </tr>\n",
              "    <tr>\n",
              "      <th>2014-10-23</th>\n",
              "      <td>2633</td>\n",
              "      <td>FRUIT SCHNAPPS</td>\n",
              "      <td>Jim Beam Brands</td>\n",
              "      <td>48</td>\n",
              "      <td>$548.64</td>\n",
              "    </tr>\n",
              "    <tr>\n",
              "      <th>2016-05-02</th>\n",
              "      <td>2633</td>\n",
              "      <td>GIN</td>\n",
              "      <td>Jim Beam Brands</td>\n",
              "      <td>12</td>\n",
              "      <td>$123.00</td>\n",
              "    </tr>\n",
              "    <tr>\n",
              "      <th>2013-11-04</th>\n",
              "      <td>2633</td>\n",
              "      <td>MISCELLANEOUS SCHNAPPS</td>\n",
              "      <td>Sazerac Co., Inc.</td>\n",
              "      <td>12</td>\n",
              "      <td>$198.00</td>\n",
              "    </tr>\n",
              "    <tr>\n",
              "      <th>2013-01-03</th>\n",
              "      <td>2633</td>\n",
              "      <td>VODKA FLAVORED</td>\n",
              "      <td>Black Rock Spirits</td>\n",
              "      <td>6</td>\n",
              "      <td>$134.94</td>\n",
              "    </tr>\n",
              "    <tr>\n",
              "      <th>2013-11-14</th>\n",
              "      <td>2633</td>\n",
              "      <td>IRISH WHISKIES</td>\n",
              "      <td>Pernod Ricard USA/Austin Nichols</td>\n",
              "      <td>6</td>\n",
              "      <td>$269.94</td>\n",
              "    </tr>\n",
              "    <tr>\n",
              "      <th>2013-08-07</th>\n",
              "      <td>2633</td>\n",
              "      <td>SCOTCH WHISKIES</td>\n",
              "      <td>MHW Ltd</td>\n",
              "      <td>1</td>\n",
              "      <td>$22.74</td>\n",
              "    </tr>\n",
              "    <tr>\n",
              "      <th>2012-06-21</th>\n",
              "      <td>2633</td>\n",
              "      <td>VODKA</td>\n",
              "      <td>Pernod Ricard USA/Austin Nichols</td>\n",
              "      <td>36</td>\n",
              "      <td>$804.24</td>\n",
              "    </tr>\n",
              "    <tr>\n",
              "      <th>2016-06-27</th>\n",
              "      <td>2633</td>\n",
              "      <td>LIQUEUR</td>\n",
              "      <td>Jim Beam Brands</td>\n",
              "      <td>24</td>\n",
              "      <td>$84.00</td>\n",
              "    </tr>\n",
              "    <tr>\n",
              "      <th>2015-10-01</th>\n",
              "      <td>2633</td>\n",
              "      <td>CANADIAN WHISKIES</td>\n",
              "      <td>Diageo Americas</td>\n",
              "      <td>60</td>\n",
              "      <td>$1350.00</td>\n",
              "    </tr>\n",
              "    <tr>\n",
              "      <th>2012-09-20</th>\n",
              "      <td>2633</td>\n",
              "      <td>LIQUEUR</td>\n",
              "      <td>Diageo Americas</td>\n",
              "      <td>24</td>\n",
              "      <td>$611.76</td>\n",
              "    </tr>\n",
              "    <tr>\n",
              "      <th>2012-07-19</th>\n",
              "      <td>2633</td>\n",
              "      <td>BLENDED AND OTHER WHISKIES</td>\n",
              "      <td>Diageo Americas</td>\n",
              "      <td>48</td>\n",
              "      <td>$539.52</td>\n",
              "    </tr>\n",
              "    <tr>\n",
              "      <th>2014-03-24</th>\n",
              "      <td>2633</td>\n",
              "      <td>GIN</td>\n",
              "      <td>Bacardi U.S.A., Inc.</td>\n",
              "      <td>12</td>\n",
              "      <td>$316.92</td>\n",
              "    </tr>\n",
              "    <tr>\n",
              "      <th>2014-12-08</th>\n",
              "      <td>2633</td>\n",
              "      <td>GIN</td>\n",
              "      <td>Diageo Americas</td>\n",
              "      <td>12</td>\n",
              "      <td>$306.00</td>\n",
              "    </tr>\n",
              "    <tr>\n",
              "      <th>2016-08-04</th>\n",
              "      <td>2633</td>\n",
              "      <td>VODKA</td>\n",
              "      <td>Bacardi U.S.A., Inc.</td>\n",
              "      <td>528</td>\n",
              "      <td>$17820.00</td>\n",
              "    </tr>\n",
              "    <tr>\n",
              "      <th>2015-03-05</th>\n",
              "      <td>2633</td>\n",
              "      <td>VODKA FLAVORED</td>\n",
              "      <td>Hood River Distillers, Inc.</td>\n",
              "      <td>1</td>\n",
              "      <td>$19.38</td>\n",
              "    </tr>\n",
              "    <tr>\n",
              "      <th>2012-10-25</th>\n",
              "      <td>2633</td>\n",
              "      <td>TEQUILA</td>\n",
              "      <td>Proximo</td>\n",
              "      <td>60</td>\n",
              "      <td>$1124.40</td>\n",
              "    </tr>\n",
              "    <tr>\n",
              "      <th>2014-07-07</th>\n",
              "      <td>2633</td>\n",
              "      <td>VODKA</td>\n",
              "      <td>MHW Ltd</td>\n",
              "      <td>6</td>\n",
              "      <td>$136.50</td>\n",
              "    </tr>\n",
              "    <tr>\n",
              "      <th>2016-12-01</th>\n",
              "      <td>2633</td>\n",
              "      <td>LIQUEUR</td>\n",
              "      <td>DIAGEO AMERICAS</td>\n",
              "      <td>5</td>\n",
              "      <td>$297.00</td>\n",
              "    </tr>\n",
              "    <tr>\n",
              "      <th>2014-08-28</th>\n",
              "      <td>2633</td>\n",
              "      <td>TEQUILA</td>\n",
              "      <td>Luxco-St Louis</td>\n",
              "      <td>36</td>\n",
              "      <td>$373.68</td>\n",
              "    </tr>\n",
              "    <tr>\n",
              "      <th>2014-02-10</th>\n",
              "      <td>2633</td>\n",
              "      <td>CANADIAN WHISKIES</td>\n",
              "      <td>Jim Beam Brands</td>\n",
              "      <td>1</td>\n",
              "      <td>$19.68</td>\n",
              "    </tr>\n",
              "    <tr>\n",
              "      <th>2016-10-10</th>\n",
              "      <td>2633</td>\n",
              "      <td>TEQUILA</td>\n",
              "      <td>PERNOD RICARD USA</td>\n",
              "      <td>1</td>\n",
              "      <td>$269.82</td>\n",
              "    </tr>\n",
              "    <tr>\n",
              "      <th>2013-01-21</th>\n",
              "      <td>2633</td>\n",
              "      <td>GRAPE-BASED BRANDIES</td>\n",
              "      <td>Pernod Ricard USA/Austin Nichols</td>\n",
              "      <td>12</td>\n",
              "      <td>$134.88</td>\n",
              "    </tr>\n",
              "    <tr>\n",
              "      <th>2012-06-11</th>\n",
              "      <td>2633</td>\n",
              "      <td>VODKA</td>\n",
              "      <td>Jim Beam Brands</td>\n",
              "      <td>12</td>\n",
              "      <td>$129.72</td>\n",
              "    </tr>\n",
              "    <tr>\n",
              "      <th>2013-11-22</th>\n",
              "      <td>2633</td>\n",
              "      <td>GIN</td>\n",
              "      <td>Diageo Americas</td>\n",
              "      <td>36</td>\n",
              "      <td>$809.28</td>\n",
              "    </tr>\n",
              "    <tr>\n",
              "      <th>2014-04-10</th>\n",
              "      <td>2633</td>\n",
              "      <td>LIQUEUR</td>\n",
              "      <td>Diageo Americas</td>\n",
              "      <td>12</td>\n",
              "      <td>$238.44</td>\n",
              "    </tr>\n",
              "    <tr>\n",
              "      <th>2014-08-14</th>\n",
              "      <td>2633</td>\n",
              "      <td>SCOTCH WHISKIES</td>\n",
              "      <td>MHW Ltd</td>\n",
              "      <td>1</td>\n",
              "      <td>$37.49</td>\n",
              "    </tr>\n",
              "    <tr>\n",
              "      <th>2013-05-13</th>\n",
              "      <td>2633</td>\n",
              "      <td>VODKA</td>\n",
              "      <td>Pernod Ricard USA/Austin Nichols</td>\n",
              "      <td>36</td>\n",
              "      <td>$809.64</td>\n",
              "    </tr>\n",
              "    <tr>\n",
              "      <th>2016-07-25</th>\n",
              "      <td>2633</td>\n",
              "      <td>SCOTCH WHISKIES</td>\n",
              "      <td>Diageo Americas</td>\n",
              "      <td>4</td>\n",
              "      <td>$105.00</td>\n",
              "    </tr>\n",
              "    <tr>\n",
              "      <th>2015-06-08</th>\n",
              "      <td>2633</td>\n",
              "      <td>LIQUEUR</td>\n",
              "      <td>Brown-Forman Corporation</td>\n",
              "      <td>12</td>\n",
              "      <td>$334.08</td>\n",
              "    </tr>\n",
              "    <tr>\n",
              "      <th>2012-03-19</th>\n",
              "      <td>2633</td>\n",
              "      <td>CANADIAN WHISKIES</td>\n",
              "      <td>Brown-Forman Corporation</td>\n",
              "      <td>12</td>\n",
              "      <td>$120.60</td>\n",
              "    </tr>\n",
              "    <tr>\n",
              "      <th>2014-12-30</th>\n",
              "      <td>2633</td>\n",
              "      <td>SCOTCH WHISKIES</td>\n",
              "      <td>Pernod Ricard USA/Austin Nichols</td>\n",
              "      <td>6</td>\n",
              "      <td>$449.94</td>\n",
              "    </tr>\n",
              "    <tr>\n",
              "      <th>2016-12-01</th>\n",
              "      <td>2633</td>\n",
              "      <td>MISCELLANEOUS SCHNAPPS</td>\n",
              "      <td>Jim Beam Brands</td>\n",
              "      <td>1</td>\n",
              "      <td>$103.86</td>\n",
              "    </tr>\n",
              "    <tr>\n",
              "      <th>2014-01-06</th>\n",
              "      <td>2633</td>\n",
              "      <td>TENNESSEE WHISKIES</td>\n",
              "      <td>Brown-Forman Corporation</td>\n",
              "      <td>12</td>\n",
              "      <td>$341.16</td>\n",
              "    </tr>\n",
              "    <tr>\n",
              "      <th>2012-04-09</th>\n",
              "      <td>2633</td>\n",
              "      <td>GIN</td>\n",
              "      <td>Luxco-St Louis</td>\n",
              "      <td>6</td>\n",
              "      <td>$63.00</td>\n",
              "    </tr>\n",
              "    <tr>\n",
              "      <th>2013-07-01</th>\n",
              "      <td>2633</td>\n",
              "      <td>FRUIT SCHNAPPS</td>\n",
              "      <td>Jim Beam Brands</td>\n",
              "      <td>12</td>\n",
              "      <td>$113.40</td>\n",
              "    </tr>\n",
              "    <tr>\n",
              "      <th>2015-01-16</th>\n",
              "      <td>2633</td>\n",
              "      <td>FRUIT SCHNAPPS</td>\n",
              "      <td>Jim Beam Brands</td>\n",
              "      <td>36</td>\n",
              "      <td>$411.48</td>\n",
              "    </tr>\n",
              "    <tr>\n",
              "      <th>2013-05-16</th>\n",
              "      <td>2633</td>\n",
              "      <td>GIN</td>\n",
              "      <td>Luxco-St Louis</td>\n",
              "      <td>12</td>\n",
              "      <td>$69.96</td>\n",
              "    </tr>\n",
              "    <tr>\n",
              "      <th>2015-07-13</th>\n",
              "      <td>2633</td>\n",
              "      <td>VODKA</td>\n",
              "      <td>Phillips Beverage Company</td>\n",
              "      <td>6</td>\n",
              "      <td>$68.40</td>\n",
              "    </tr>\n",
              "    <tr>\n",
              "      <th>2015-09-03</th>\n",
              "      <td>2633</td>\n",
              "      <td>RUM</td>\n",
              "      <td>Bacardi U.S.A., Inc.</td>\n",
              "      <td>1</td>\n",
              "      <td>$11.25</td>\n",
              "    </tr>\n",
              "    <tr>\n",
              "      <th>2013-03-04</th>\n",
              "      <td>2633</td>\n",
              "      <td>LIQUEUR</td>\n",
              "      <td>Luxco-St Louis</td>\n",
              "      <td>24</td>\n",
              "      <td>$164.64</td>\n",
              "    </tr>\n",
              "    <tr>\n",
              "      <th>2015-10-29</th>\n",
              "      <td>2633</td>\n",
              "      <td>VODKA</td>\n",
              "      <td>Jim Beam Brands</td>\n",
              "      <td>1</td>\n",
              "      <td>$10.82</td>\n",
              "    </tr>\n",
              "    <tr>\n",
              "      <th>2012-01-16</th>\n",
              "      <td>2633</td>\n",
              "      <td>LIQUEUR</td>\n",
              "      <td>Heaven Hill Brands</td>\n",
              "      <td>6</td>\n",
              "      <td>$105.12</td>\n",
              "    </tr>\n",
              "    <tr>\n",
              "      <th>2016-04-25</th>\n",
              "      <td>2633</td>\n",
              "      <td>BOURBON</td>\n",
              "      <td>Jim Beam Brands</td>\n",
              "      <td>6</td>\n",
              "      <td>$198.36</td>\n",
              "    </tr>\n",
              "    <tr>\n",
              "      <th>2014-05-01</th>\n",
              "      <td>2633</td>\n",
              "      <td>GIN</td>\n",
              "      <td>Bacardi U.S.A., Inc.</td>\n",
              "      <td>36</td>\n",
              "      <td>$950.76</td>\n",
              "    </tr>\n",
              "    <tr>\n",
              "      <th>2013-05-30</th>\n",
              "      <td>2633</td>\n",
              "      <td>VODKA</td>\n",
              "      <td>Campari(skyy)</td>\n",
              "      <td>12</td>\n",
              "      <td>$222.24</td>\n",
              "    </tr>\n",
              "    <tr>\n",
              "      <th>2013-07-01</th>\n",
              "      <td>2633</td>\n",
              "      <td>RTD COCKTAILS</td>\n",
              "      <td>Luxco-St Louis</td>\n",
              "      <td>12</td>\n",
              "      <td>$81.00</td>\n",
              "    </tr>\n",
              "    <tr>\n",
              "      <th>2015-01-16</th>\n",
              "      <td>2633</td>\n",
              "      <td>RUM</td>\n",
              "      <td>Bacardi U.S.A., Inc.</td>\n",
              "      <td>1</td>\n",
              "      <td>$12.75</td>\n",
              "    </tr>\n",
              "    <tr>\n",
              "      <th>2016-12-15</th>\n",
              "      <td>2633</td>\n",
              "      <td>RUM</td>\n",
              "      <td>Jim Beam Brands</td>\n",
              "      <td>1</td>\n",
              "      <td>$123.00</td>\n",
              "    </tr>\n",
              "  </tbody>\n",
              "</table>\n",
              "</div>\n",
              "    <div class=\"colab-df-buttons\">\n",
              "\n",
              "  <div class=\"colab-df-container\">\n",
              "    <button class=\"colab-df-convert\" onclick=\"convertToInteractive('df-5f1d9edd-db6b-4756-944b-95e84c84babd')\"\n",
              "            title=\"Convert this dataframe to an interactive table.\"\n",
              "            style=\"display:none;\">\n",
              "\n",
              "  <svg xmlns=\"http://www.w3.org/2000/svg\" height=\"24px\" viewBox=\"0 -960 960 960\">\n",
              "    <path d=\"M120-120v-720h720v720H120Zm60-500h600v-160H180v160Zm220 220h160v-160H400v160Zm0 220h160v-160H400v160ZM180-400h160v-160H180v160Zm440 0h160v-160H620v160ZM180-180h160v-160H180v160Zm440 0h160v-160H620v160Z\"/>\n",
              "  </svg>\n",
              "    </button>\n",
              "\n",
              "  <style>\n",
              "    .colab-df-container {\n",
              "      display:flex;\n",
              "      gap: 12px;\n",
              "    }\n",
              "\n",
              "    .colab-df-convert {\n",
              "      background-color: #E8F0FE;\n",
              "      border: none;\n",
              "      border-radius: 50%;\n",
              "      cursor: pointer;\n",
              "      display: none;\n",
              "      fill: #1967D2;\n",
              "      height: 32px;\n",
              "      padding: 0 0 0 0;\n",
              "      width: 32px;\n",
              "    }\n",
              "\n",
              "    .colab-df-convert:hover {\n",
              "      background-color: #E2EBFA;\n",
              "      box-shadow: 0px 1px 2px rgba(60, 64, 67, 0.3), 0px 1px 3px 1px rgba(60, 64, 67, 0.15);\n",
              "      fill: #174EA6;\n",
              "    }\n",
              "\n",
              "    .colab-df-buttons div {\n",
              "      margin-bottom: 4px;\n",
              "    }\n",
              "\n",
              "    [theme=dark] .colab-df-convert {\n",
              "      background-color: #3B4455;\n",
              "      fill: #D2E3FC;\n",
              "    }\n",
              "\n",
              "    [theme=dark] .colab-df-convert:hover {\n",
              "      background-color: #434B5C;\n",
              "      box-shadow: 0px 1px 3px 1px rgba(0, 0, 0, 0.15);\n",
              "      filter: drop-shadow(0px 1px 2px rgba(0, 0, 0, 0.3));\n",
              "      fill: #FFFFFF;\n",
              "    }\n",
              "  </style>\n",
              "\n",
              "    <script>\n",
              "      const buttonEl =\n",
              "        document.querySelector('#df-5f1d9edd-db6b-4756-944b-95e84c84babd button.colab-df-convert');\n",
              "      buttonEl.style.display =\n",
              "        google.colab.kernel.accessAllowed ? 'block' : 'none';\n",
              "\n",
              "      async function convertToInteractive(key) {\n",
              "        const element = document.querySelector('#df-5f1d9edd-db6b-4756-944b-95e84c84babd');\n",
              "        const dataTable =\n",
              "          await google.colab.kernel.invokeFunction('convertToInteractive',\n",
              "                                                    [key], {});\n",
              "        if (!dataTable) return;\n",
              "\n",
              "        const docLinkHtml = 'Like what you see? Visit the ' +\n",
              "          '<a target=\"_blank\" href=https://colab.research.google.com/notebooks/data_table.ipynb>data table notebook</a>'\n",
              "          + ' to learn more about interactive tables.';\n",
              "        element.innerHTML = '';\n",
              "        dataTable['output_type'] = 'display_data';\n",
              "        await google.colab.output.renderOutput(dataTable, element);\n",
              "        const docLink = document.createElement('div');\n",
              "        docLink.innerHTML = docLinkHtml;\n",
              "        element.appendChild(docLink);\n",
              "      }\n",
              "    </script>\n",
              "  </div>\n",
              "\n",
              "\n",
              "<div id=\"df-4bd5f850-242b-40bb-8389-b5970da53406\">\n",
              "  <button class=\"colab-df-quickchart\" onclick=\"quickchart('df-4bd5f850-242b-40bb-8389-b5970da53406')\"\n",
              "            title=\"Suggest charts\"\n",
              "            style=\"display:none;\">\n",
              "\n",
              "<svg xmlns=\"http://www.w3.org/2000/svg\" height=\"24px\"viewBox=\"0 0 24 24\"\n",
              "     width=\"24px\">\n",
              "    <g>\n",
              "        <path d=\"M19 3H5c-1.1 0-2 .9-2 2v14c0 1.1.9 2 2 2h14c1.1 0 2-.9 2-2V5c0-1.1-.9-2-2-2zM9 17H7v-7h2v7zm4 0h-2V7h2v10zm4 0h-2v-4h2v4z\"/>\n",
              "    </g>\n",
              "</svg>\n",
              "  </button>\n",
              "\n",
              "<style>\n",
              "  .colab-df-quickchart {\n",
              "      --bg-color: #E8F0FE;\n",
              "      --fill-color: #1967D2;\n",
              "      --hover-bg-color: #E2EBFA;\n",
              "      --hover-fill-color: #174EA6;\n",
              "      --disabled-fill-color: #AAA;\n",
              "      --disabled-bg-color: #DDD;\n",
              "  }\n",
              "\n",
              "  [theme=dark] .colab-df-quickchart {\n",
              "      --bg-color: #3B4455;\n",
              "      --fill-color: #D2E3FC;\n",
              "      --hover-bg-color: #434B5C;\n",
              "      --hover-fill-color: #FFFFFF;\n",
              "      --disabled-bg-color: #3B4455;\n",
              "      --disabled-fill-color: #666;\n",
              "  }\n",
              "\n",
              "  .colab-df-quickchart {\n",
              "    background-color: var(--bg-color);\n",
              "    border: none;\n",
              "    border-radius: 50%;\n",
              "    cursor: pointer;\n",
              "    display: none;\n",
              "    fill: var(--fill-color);\n",
              "    height: 32px;\n",
              "    padding: 0;\n",
              "    width: 32px;\n",
              "  }\n",
              "\n",
              "  .colab-df-quickchart:hover {\n",
              "    background-color: var(--hover-bg-color);\n",
              "    box-shadow: 0 1px 2px rgba(60, 64, 67, 0.3), 0 1px 3px 1px rgba(60, 64, 67, 0.15);\n",
              "    fill: var(--button-hover-fill-color);\n",
              "  }\n",
              "\n",
              "  .colab-df-quickchart-complete:disabled,\n",
              "  .colab-df-quickchart-complete:disabled:hover {\n",
              "    background-color: var(--disabled-bg-color);\n",
              "    fill: var(--disabled-fill-color);\n",
              "    box-shadow: none;\n",
              "  }\n",
              "\n",
              "  .colab-df-spinner {\n",
              "    border: 2px solid var(--fill-color);\n",
              "    border-color: transparent;\n",
              "    border-bottom-color: var(--fill-color);\n",
              "    animation:\n",
              "      spin 1s steps(1) infinite;\n",
              "  }\n",
              "\n",
              "  @keyframes spin {\n",
              "    0% {\n",
              "      border-color: transparent;\n",
              "      border-bottom-color: var(--fill-color);\n",
              "      border-left-color: var(--fill-color);\n",
              "    }\n",
              "    20% {\n",
              "      border-color: transparent;\n",
              "      border-left-color: var(--fill-color);\n",
              "      border-top-color: var(--fill-color);\n",
              "    }\n",
              "    30% {\n",
              "      border-color: transparent;\n",
              "      border-left-color: var(--fill-color);\n",
              "      border-top-color: var(--fill-color);\n",
              "      border-right-color: var(--fill-color);\n",
              "    }\n",
              "    40% {\n",
              "      border-color: transparent;\n",
              "      border-right-color: var(--fill-color);\n",
              "      border-top-color: var(--fill-color);\n",
              "    }\n",
              "    60% {\n",
              "      border-color: transparent;\n",
              "      border-right-color: var(--fill-color);\n",
              "    }\n",
              "    80% {\n",
              "      border-color: transparent;\n",
              "      border-right-color: var(--fill-color);\n",
              "      border-bottom-color: var(--fill-color);\n",
              "    }\n",
              "    90% {\n",
              "      border-color: transparent;\n",
              "      border-bottom-color: var(--fill-color);\n",
              "    }\n",
              "  }\n",
              "</style>\n",
              "\n",
              "  <script>\n",
              "    async function quickchart(key) {\n",
              "      const quickchartButtonEl =\n",
              "        document.querySelector('#' + key + ' button');\n",
              "      quickchartButtonEl.disabled = true;  // To prevent multiple clicks.\n",
              "      quickchartButtonEl.classList.add('colab-df-spinner');\n",
              "      try {\n",
              "        const charts = await google.colab.kernel.invokeFunction(\n",
              "            'suggestCharts', [key], {});\n",
              "      } catch (error) {\n",
              "        console.error('Error during call to suggestCharts:', error);\n",
              "      }\n",
              "      quickchartButtonEl.classList.remove('colab-df-spinner');\n",
              "      quickchartButtonEl.classList.add('colab-df-quickchart-complete');\n",
              "    }\n",
              "    (() => {\n",
              "      let quickchartButtonEl =\n",
              "        document.querySelector('#df-4bd5f850-242b-40bb-8389-b5970da53406 button');\n",
              "      quickchartButtonEl.style.display =\n",
              "        google.colab.kernel.accessAllowed ? 'block' : 'none';\n",
              "    })();\n",
              "  </script>\n",
              "</div>\n",
              "\n",
              "    </div>\n",
              "  </div>\n"
            ],
            "application/vnd.google.colaboratory.intrinsic+json": {
              "type": "dataframe",
              "summary": "{\n  \"name\": \"hvdm\",\n  \"rows\": 50,\n  \"fields\": [\n    {\n      \"column\": \"Date\",\n      \"properties\": {\n        \"dtype\": \"date\",\n        \"min\": \"2012-01-16 00:00:00\",\n        \"max\": \"2016-12-15 00:00:00\",\n        \"num_unique_values\": 47,\n        \"samples\": [\n          \"2014-08-14 00:00:00\",\n          \"2015-09-03 00:00:00\",\n          \"2014-04-10 00:00:00\"\n        ],\n        \"semantic_type\": \"\",\n        \"description\": \"\"\n      }\n    },\n    {\n      \"column\": \"Store Number\",\n      \"properties\": {\n        \"dtype\": \"number\",\n        \"std\": 0,\n        \"min\": 2633,\n        \"max\": 2633,\n        \"num_unique_values\": 1,\n        \"samples\": [\n          2633\n        ],\n        \"semantic_type\": \"\",\n        \"description\": \"\"\n      }\n    },\n    {\n      \"column\": \"Category Name\",\n      \"properties\": {\n        \"dtype\": \"category\",\n        \"num_unique_values\": 16,\n        \"samples\": [\n          \"FRUIT SCHNAPPS\"\n        ],\n        \"semantic_type\": \"\",\n        \"description\": \"\"\n      }\n    },\n    {\n      \"column\": \"Vendor Name\",\n      \"properties\": {\n        \"dtype\": \"category\",\n        \"num_unique_values\": 17,\n        \"samples\": [\n          \"Jim Beam Brands\"\n        ],\n        \"semantic_type\": \"\",\n        \"description\": \"\"\n      }\n    },\n    {\n      \"column\": \"Bottles Sold\",\n      \"properties\": {\n        \"dtype\": \"number\",\n        \"std\": 74,\n        \"min\": 1,\n        \"max\": 528,\n        \"num_unique_values\": 10,\n        \"samples\": [\n          5\n        ],\n        \"semantic_type\": \"\",\n        \"description\": \"\"\n      }\n    },\n    {\n      \"column\": \"Sale (Dollars)\",\n      \"properties\": {\n        \"dtype\": \"string\",\n        \"num_unique_values\": 49,\n        \"samples\": [\n          \"$316.92\"\n        ],\n        \"semantic_type\": \"\",\n        \"description\": \"\"\n      }\n    }\n  ]\n}"
            }
          },
          "metadata": {},
          "execution_count": 36
        }
      ],
      "source": [
        "hvdm = hy_vee_des_moines.set_index('Date')\n",
        "hvdm = hvdm.sort_index()\n",
        "hvdm.sample(50)"
      ]
    },
    {
      "cell_type": "markdown",
      "source": [
        "Okay, looking at the 'Bottles Sold' column, I'm just now realizing that there's [some *wholesale* data in this store's records](https://bdi-wholesale.com/#:~:text=As%20a%20Hy%2DVee%20company,well%20as%20superior%20customer%20service.) alongside what seem to be *individual, in-store* sales. Nonetheless, if the primary goal of this project is to predict the inventory this store needs to restock, then this little revelation doesn't really change anything about the project, so...let's keep at it.\n",
        "\n",
        "However, this does make it clear that the 'Bottles Sold' column is the target as it ultimately reflects the amount of inventory moved more than anything else."
      ],
      "metadata": {
        "id": "R4_WAnnnR7dd"
      }
    },
    {
      "cell_type": "code",
      "source": [
        "hvdm_bottles_sold_by_date = hvdm.groupby('Date').count()['Bottles Sold']\n",
        "import matplotlib.pyplot as plt\n",
        "fig, ax = plt.subplots(figsize=(25, 8))\n",
        "ax.plot(hvdm_bottles_sold_by_date.index, hvdm_bottles_sold_by_date.values);"
      ],
      "metadata": {
        "colab": {
          "base_uri": "https://localhost:8080/",
          "height": 484
        },
        "id": "diutRxJ1Q5CW",
        "outputId": "f83cd694-fff9-478e-e48e-413891afe834"
      },
      "execution_count": 37,
      "outputs": [
        {
          "output_type": "display_data",
          "data": {
            "text/plain": [
              "<Figure size 2500x800 with 1 Axes>"
            ],
            "image/png": "[encoded data removed]"
          },
          "metadata": {}
        }
      ]
    },
    {
      "cell_type": "markdown",
      "source": [
        "Maybe do a square root plot, maybe don't and just tss now and then do the Dickey-Fuller test.\n",
        "\n",
        "Definitely go back and do this for the whole trimmed_df EDA stuff, too - I remember Mark said to do a plot as opposed to a histogram for this stuff."
      ],
      "metadata": {
        "id": "9spHmdxjcBYW"
      }
    },
    {
      "cell_type": "code",
      "source": [
        "#instantiating TimeSeriesSplit\n",
        "tss = TimeSeriesSplit(n_splits=5)\n",
        "#establishing the target & features for modeling\n",
        "X = hvdm.drop('Bottles Sold', axis=1)\n",
        "y = hvdm['Bottles Sold']\n",
        "#performing the split\n",
        "for train_index, test_index in tss.split(X):\n",
        "    X_train, X_test = X.iloc[train_index, :], X.iloc[test_index,:]\n",
        "    y_train, y_test = y.iloc[train_index], y.iloc[test_index]"
      ],
      "metadata": {
        "id": "BwQCudDKNOeg"
      },
      "execution_count": 105,
      "outputs": []
    },
    {
      "cell_type": "code",
      "source": [
        "#Checking to see that all X_train dates come before the X_test dates\n",
        "X_train"
      ],
      "metadata": {
        "colab": {
          "base_uri": "https://localhost:8080/",
          "height": 455
        },
        "id": "1sicuUloUC6b",
        "outputId": "74eb80d3-f023-406a-b365-a98d3435be8d"
      },
      "execution_count": 106,
      "outputs": [
        {
          "output_type": "execute_result",
          "data": {
            "text/plain": [
              "            Store Number      Category Name                       Vendor Name  \\\n",
              "Date                                                                            \n",
              "2012-01-03          2633            LIQUEUR                   Diageo Americas   \n",
              "2012-01-03          2633  CANADIAN WHISKIES                   Diageo Americas   \n",
              "2012-01-03          2633     IRISH WHISKIES  Pernod Ricard USA/Austin Nichols   \n",
              "2012-01-03          2633            LIQUEUR           Moet Hennessy USA, Inc.   \n",
              "2012-01-03          2633            BOURBON                   Jim Beam Brands   \n",
              "...                  ...                ...                               ...   \n",
              "2016-03-24          2633                GIN                   Diageo Americas   \n",
              "2016-03-24          2633            BOURBON         Cedar Ridge Vineyards,LLC   \n",
              "2016-03-24          2633            BOURBON                   Diageo Americas   \n",
              "2016-03-24          2633            BOURBON                    Luxco-St Louis   \n",
              "2016-03-24          2633     IRISH WHISKIES  Pernod Ricard USA/Austin Nichols   \n",
              "\n",
              "           Sale (Dollars)  \n",
              "Date                       \n",
              "2012-01-03        $295.44  \n",
              "2012-01-03        $274.44  \n",
              "2012-01-03        $969.60  \n",
              "2012-01-03        $459.72  \n",
              "2012-01-03         $22.04  \n",
              "...                   ...  \n",
              "2016-03-24       $1116.00  \n",
              "2016-03-24        $162.90  \n",
              "2016-03-24        $359.88  \n",
              "2016-03-24          $7.05  \n",
              "2016-03-24        $287.82  \n",
              "\n",
              "[78088 rows x 4 columns]"
            ],
            "text/html": [
              "\n",
              "  <div id=\"df-b1174405-cc6a-4a13-8707-2fd0d5c7517d\" class=\"colab-df-container\">\n",
              "    <div>\n",
              "<style scoped>\n",
              "    .dataframe tbody tr th:only-of-type {\n",
              "        vertical-align: middle;\n",
              "    }\n",
              "\n",
              "    .dataframe tbody tr th {\n",
              "        vertical-align: top;\n",
              "    }\n",
              "\n",
              "    .dataframe thead th {\n",
              "        text-align: right;\n",
              "    }\n",
              "</style>\n",
              "<table border=\"1\" class=\"dataframe\">\n",
              "  <thead>\n",
              "    <tr style=\"text-align: right;\">\n",
              "      <th></th>\n",
              "      <th>Store Number</th>\n",
              "      <th>Category Name</th>\n",
              "      <th>Vendor Name</th>\n",
              "      <th>Sale (Dollars)</th>\n",
              "    </tr>\n",
              "    <tr>\n",
              "      <th>Date</th>\n",
              "      <th></th>\n",
              "      <th></th>\n",
              "      <th></th>\n",
              "      <th></th>\n",
              "    </tr>\n",
              "  </thead>\n",
              "  <tbody>\n",
              "    <tr>\n",
              "      <th>2012-01-03</th>\n",
              "      <td>2633</td>\n",
              "      <td>LIQUEUR</td>\n",
              "      <td>Diageo Americas</td>\n",
              "      <td>$295.44</td>\n",
              "    </tr>\n",
              "    <tr>\n",
              "      <th>2012-01-03</th>\n",
              "      <td>2633</td>\n",
              "      <td>CANADIAN WHISKIES</td>\n",
              "      <td>Diageo Americas</td>\n",
              "      <td>$274.44</td>\n",
              "    </tr>\n",
              "    <tr>\n",
              "      <th>2012-01-03</th>\n",
              "      <td>2633</td>\n",
              "      <td>IRISH WHISKIES</td>\n",
              "      <td>Pernod Ricard USA/Austin Nichols</td>\n",
              "      <td>$969.60</td>\n",
              "    </tr>\n",
              "    <tr>\n",
              "      <th>2012-01-03</th>\n",
              "      <td>2633</td>\n",
              "      <td>LIQUEUR</td>\n",
              "      <td>Moet Hennessy USA, Inc.</td>\n",
              "      <td>$459.72</td>\n",
              "    </tr>\n",
              "    <tr>\n",
              "      <th>2012-01-03</th>\n",
              "      <td>2633</td>\n",
              "      <td>BOURBON</td>\n",
              "      <td>Jim Beam Brands</td>\n",
              "      <td>$22.04</td>\n",
              "    </tr>\n",
              "    <tr>\n",
              "      <th>...</th>\n",
              "      <td>...</td>\n",
              "      <td>...</td>\n",
              "      <td>...</td>\n",
              "      <td>...</td>\n",
              "    </tr>\n",
              "    <tr>\n",
              "      <th>2016-03-24</th>\n",
              "      <td>2633</td>\n",
              "      <td>GIN</td>\n",
              "      <td>Diageo Americas</td>\n",
              "      <td>$1116.00</td>\n",
              "    </tr>\n",
              "    <tr>\n",
              "      <th>2016-03-24</th>\n",
              "      <td>2633</td>\n",
              "      <td>BOURBON</td>\n",
              "      <td>Cedar Ridge Vineyards,LLC</td>\n",
              "      <td>$162.90</td>\n",
              "    </tr>\n",
              "    <tr>\n",
              "      <th>2016-03-24</th>\n",
              "      <td>2633</td>\n",
              "      <td>BOURBON</td>\n",
              "      <td>Diageo Americas</td>\n",
              "      <td>$359.88</td>\n",
              "    </tr>\n",
              "    <tr>\n",
              "      <th>2016-03-24</th>\n",
              "      <td>2633</td>\n",
              "      <td>BOURBON</td>\n",
              "      <td>Luxco-St Louis</td>\n",
              "      <td>$7.05</td>\n",
              "    </tr>\n",
              "    <tr>\n",
              "      <th>2016-03-24</th>\n",
              "      <td>2633</td>\n",
              "      <td>IRISH WHISKIES</td>\n",
              "      <td>Pernod Ricard USA/Austin Nichols</td>\n",
              "      <td>$287.82</td>\n",
              "    </tr>\n",
              "  </tbody>\n",
              "</table>\n",
              "<p>78088 rows × 4 columns</p>\n",
              "</div>\n",
              "    <div class=\"colab-df-buttons\">\n",
              "\n",
              "  <div class=\"colab-df-container\">\n",
              "    <button class=\"colab-df-convert\" onclick=\"convertToInteractive('df-b1174405-cc6a-4a13-8707-2fd0d5c7517d')\"\n",
              "            title=\"Convert this dataframe to an interactive table.\"\n",
              "            style=\"display:none;\">\n",
              "\n",
              "  <svg xmlns=\"http://www.w3.org/2000/svg\" height=\"24px\" viewBox=\"0 -960 960 960\">\n",
              "    <path d=\"M120-120v-720h720v720H120Zm60-500h600v-160H180v160Zm220 220h160v-160H400v160Zm0 220h160v-160H400v160ZM180-400h160v-160H180v160Zm440 0h160v-160H620v160ZM180-180h160v-160H180v160Zm440 0h160v-160H620v160Z\"/>\n",
              "  </svg>\n",
              "    </button>\n",
              "\n",
              "  <style>\n",
              "    .colab-df-container {\n",
              "      display:flex;\n",
              "      gap: 12px;\n",
              "    }\n",
              "\n",
              "    .colab-df-convert {\n",
              "      background-color: #E8F0FE;\n",
              "      border: none;\n",
              "      border-radius: 50%;\n",
              "      cursor: pointer;\n",
              "      display: none;\n",
              "      fill: #1967D2;\n",
              "      height: 32px;\n",
              "      padding: 0 0 0 0;\n",
              "      width: 32px;\n",
              "    }\n",
              "\n",
              "    .colab-df-convert:hover {\n",
              "      background-color: #E2EBFA;\n",
              "      box-shadow: 0px 1px 2px rgba(60, 64, 67, 0.3), 0px 1px 3px 1px rgba(60, 64, 67, 0.15);\n",
              "      fill: #174EA6;\n",
              "    }\n",
              "\n",
              "    .colab-df-buttons div {\n",
              "      margin-bottom: 4px;\n",
              "    }\n",
              "\n",
              "    [theme=dark] .colab-df-convert {\n",
              "      background-color: #3B4455;\n",
              "      fill: #D2E3FC;\n",
              "    }\n",
              "\n",
              "    [theme=dark] .colab-df-convert:hover {\n",
              "      background-color: #434B5C;\n",
              "      box-shadow: 0px 1px 3px 1px rgba(0, 0, 0, 0.15);\n",
              "      filter: drop-shadow(0px 1px 2px rgba(0, 0, 0, 0.3));\n",
              "      fill: #FFFFFF;\n",
              "    }\n",
              "  </style>\n",
              "\n",
              "    <script>\n",
              "      const buttonEl =\n",
              "        document.querySelector('#df-b1174405-cc6a-4a13-8707-2fd0d5c7517d button.colab-df-convert');\n",
              "      buttonEl.style.display =\n",
              "        google.colab.kernel.accessAllowed ? 'block' : 'none';\n",
              "\n",
              "      async function convertToInteractive(key) {\n",
              "        const element = document.querySelector('#df-b1174405-cc6a-4a13-8707-2fd0d5c7517d');\n",
              "        const dataTable =\n",
              "          await google.colab.kernel.invokeFunction('convertToInteractive',\n",
              "                                                    [key], {});\n",
              "        if (!dataTable) return;\n",
              "\n",
              "        const docLinkHtml = 'Like what you see? Visit the ' +\n",
              "          '<a target=\"_blank\" href=https://colab.research.google.com/notebooks/data_table.ipynb>data table notebook</a>'\n",
              "          + ' to learn more about interactive tables.';\n",
              "        element.innerHTML = '';\n",
              "        dataTable['output_type'] = 'display_data';\n",
              "        await google.colab.output.renderOutput(dataTable, element);\n",
              "        const docLink = document.createElement('div');\n",
              "        docLink.innerHTML = docLinkHtml;\n",
              "        element.appendChild(docLink);\n",
              "      }\n",
              "    </script>\n",
              "  </div>\n",
              "\n",
              "\n",
              "<div id=\"df-6e82d472-a23b-469e-a7e5-3580718ac2f6\">\n",
              "  <button class=\"colab-df-quickchart\" onclick=\"quickchart('df-6e82d472-a23b-469e-a7e5-3580718ac2f6')\"\n",
              "            title=\"Suggest charts\"\n",
              "            style=\"display:none;\">\n",
              "\n",
              "<svg xmlns=\"http://www.w3.org/2000/svg\" height=\"24px\"viewBox=\"0 0 24 24\"\n",
              "     width=\"24px\">\n",
              "    <g>\n",
              "        <path d=\"M19 3H5c-1.1 0-2 .9-2 2v14c0 1.1.9 2 2 2h14c1.1 0 2-.9 2-2V5c0-1.1-.9-2-2-2zM9 17H7v-7h2v7zm4 0h-2V7h2v10zm4 0h-2v-4h2v4z\"/>\n",
              "    </g>\n",
              "</svg>\n",
              "  </button>\n",
              "\n",
              "<style>\n",
              "  .colab-df-quickchart {\n",
              "      --bg-color: #E8F0FE;\n",
              "      --fill-color: #1967D2;\n",
              "      --hover-bg-color: #E2EBFA;\n",
              "      --hover-fill-color: #174EA6;\n",
              "      --disabled-fill-color: #AAA;\n",
              "      --disabled-bg-color: #DDD;\n",
              "  }\n",
              "\n",
              "  [theme=dark] .colab-df-quickchart {\n",
              "      --bg-color: #3B4455;\n",
              "      --fill-color: #D2E3FC;\n",
              "      --hover-bg-color: #434B5C;\n",
              "      --hover-fill-color: #FFFFFF;\n",
              "      --disabled-bg-color: #3B4455;\n",
              "      --disabled-fill-color: #666;\n",
              "  }\n",
              "\n",
              "  .colab-df-quickchart {\n",
              "    background-color: var(--bg-color);\n",
              "    border: none;\n",
              "    border-radius: 50%;\n",
              "    cursor: pointer;\n",
              "    display: none;\n",
              "    fill: var(--fill-color);\n",
              "    height: 32px;\n",
              "    padding: 0;\n",
              "    width: 32px;\n",
              "  }\n",
              "\n",
              "  .colab-df-quickchart:hover {\n",
              "    background-color: var(--hover-bg-color);\n",
              "    box-shadow: 0 1px 2px rgba(60, 64, 67, 0.3), 0 1px 3px 1px rgba(60, 64, 67, 0.15);\n",
              "    fill: var(--button-hover-fill-color);\n",
              "  }\n",
              "\n",
              "  .colab-df-quickchart-complete:disabled,\n",
              "  .colab-df-quickchart-complete:disabled:hover {\n",
              "    background-color: var(--disabled-bg-color);\n",
              "    fill: var(--disabled-fill-color);\n",
              "    box-shadow: none;\n",
              "  }\n",
              "\n",
              "  .colab-df-spinner {\n",
              "    border: 2px solid var(--fill-color);\n",
              "    border-color: transparent;\n",
              "    border-bottom-color: var(--fill-color);\n",
              "    animation:\n",
              "      spin 1s steps(1) infinite;\n",
              "  }\n",
              "\n",
              "  @keyframes spin {\n",
              "    0% {\n",
              "      border-color: transparent;\n",
              "      border-bottom-color: var(--fill-color);\n",
              "      border-left-color: var(--fill-color);\n",
              "    }\n",
              "    20% {\n",
              "      border-color: transparent;\n",
              "      border-left-color: var(--fill-color);\n",
              "      border-top-color: var(--fill-color);\n",
              "    }\n",
              "    30% {\n",
              "      border-color: transparent;\n",
              "      border-left-color: var(--fill-color);\n",
              "      border-top-color: var(--fill-color);\n",
              "      border-right-color: var(--fill-color);\n",
              "    }\n",
              "    40% {\n",
              "      border-color: transparent;\n",
              "      border-right-color: var(--fill-color);\n",
              "      border-top-color: var(--fill-color);\n",
              "    }\n",
              "    60% {\n",
              "      border-color: transparent;\n",
              "      border-right-color: var(--fill-color);\n",
              "    }\n",
              "    80% {\n",
              "      border-color: transparent;\n",
              "      border-right-color: var(--fill-color);\n",
              "      border-bottom-color: var(--fill-color);\n",
              "    }\n",
              "    90% {\n",
              "      border-color: transparent;\n",
              "      border-bottom-color: var(--fill-color);\n",
              "    }\n",
              "  }\n",
              "</style>\n",
              "\n",
              "  <script>\n",
              "    async function quickchart(key) {\n",
              "      const quickchartButtonEl =\n",
              "        document.querySelector('#' + key + ' button');\n",
              "      quickchartButtonEl.disabled = true;  // To prevent multiple clicks.\n",
              "      quickchartButtonEl.classList.add('colab-df-spinner');\n",
              "      try {\n",
              "        const charts = await google.colab.kernel.invokeFunction(\n",
              "            'suggestCharts', [key], {});\n",
              "      } catch (error) {\n",
              "        console.error('Error during call to suggestCharts:', error);\n",
              "      }\n",
              "      quickchartButtonEl.classList.remove('colab-df-spinner');\n",
              "      quickchartButtonEl.classList.add('colab-df-quickchart-complete');\n",
              "    }\n",
              "    (() => {\n",
              "      let quickchartButtonEl =\n",
              "        document.querySelector('#df-6e82d472-a23b-469e-a7e5-3580718ac2f6 button');\n",
              "      quickchartButtonEl.style.display =\n",
              "        google.colab.kernel.accessAllowed ? 'block' : 'none';\n",
              "    })();\n",
              "  </script>\n",
              "</div>\n",
              "\n",
              "  <div id=\"id_5f09f5fd-0742-4a3c-8f08-84fef420e491\">\n",
              "    <style>\n",
              "      .colab-df-generate {\n",
              "        background-color: #E8F0FE;\n",
              "        border: none;\n",
              "        border-radius: 50%;\n",
              "        cursor: pointer;\n",
              "        display: none;\n",
              "        fill: #1967D2;\n",
              "        height: 32px;\n",
              "        padding: 0 0 0 0;\n",
              "        width: 32px;\n",
              "      }\n",
              "\n",
              "      .colab-df-generate:hover {\n",
              "        background-color: #E2EBFA;\n",
              "        box-shadow: 0px 1px 2px rgba(60, 64, 67, 0.3), 0px 1px 3px 1px rgba(60, 64, 67, 0.15);\n",
              "        fill: #174EA6;\n",
              "      }\n",
              "\n",
              "      [theme=dark] .colab-df-generate {\n",
              "        background-color: #3B4455;\n",
              "        fill: #D2E3FC;\n",
              "      }\n",
              "\n",
              "      [theme=dark] .colab-df-generate:hover {\n",
              "        background-color: #434B5C;\n",
              "        box-shadow: 0px 1px 3px 1px rgba(0, 0, 0, 0.15);\n",
              "        filter: drop-shadow(0px 1px 2px rgba(0, 0, 0, 0.3));\n",
              "        fill: #FFFFFF;\n",
              "      }\n",
              "    </style>\n",
              "    <button class=\"colab-df-generate\" onclick=\"generateWithVariable('X_train')\"\n",
              "            title=\"Generate code using this dataframe.\"\n",
              "            style=\"display:none;\">\n",
              "\n",
              "  <svg xmlns=\"http://www.w3.org/2000/svg\" height=\"24px\"viewBox=\"0 0 24 24\"\n",
              "       width=\"24px\">\n",
              "    <path d=\"M7,19H8.4L18.45,9,17,7.55,7,17.6ZM5,21V16.75L18.45,3.32a2,2,0,0,1,2.83,0l1.4,1.43a1.91,1.91,0,0,1,.58,1.4,1.91,1.91,0,0,1-.58,1.4L9.25,21ZM18.45,9,17,7.55Zm-12,3A5.31,5.31,0,0,0,4.9,8.1,5.31,5.31,0,0,0,1,6.5,5.31,5.31,0,0,0,4.9,4.9,5.31,5.31,0,0,0,6.5,1,5.31,5.31,0,0,0,8.1,4.9,5.31,5.31,0,0,0,12,6.5,5.46,5.46,0,0,0,6.5,12Z\"/>\n",
              "  </svg>\n",
              "    </button>\n",
              "    <script>\n",
              "      (() => {\n",
              "      const buttonEl =\n",
              "        document.querySelector('#id_5f09f5fd-0742-4a3c-8f08-84fef420e491 button.colab-df-generate');\n",
              "      buttonEl.style.display =\n",
              "        google.colab.kernel.accessAllowed ? 'block' : 'none';\n",
              "\n",
              "      buttonEl.onclick = () => {\n",
              "        google.colab.notebook.generateWithVariable('X_train');\n",
              "      }\n",
              "      })();\n",
              "    </script>\n",
              "  </div>\n",
              "\n",
              "    </div>\n",
              "  </div>\n"
            ],
            "application/vnd.google.colaboratory.intrinsic+json": {
              "type": "dataframe",
              "variable_name": "X_train",
              "summary": "{\n  \"name\": \"X_train\",\n  \"rows\": 78088,\n  \"fields\": [\n    {\n      \"column\": \"Date\",\n      \"properties\": {\n        \"dtype\": \"date\",\n        \"min\": \"2012-01-03 00:00:00\",\n        \"max\": \"2016-03-24 00:00:00\",\n        \"num_unique_values\": 608,\n        \"samples\": [\n          \"2012-09-19 00:00:00\",\n          \"2012-01-26 00:00:00\",\n          \"2013-04-09 00:00:00\"\n        ],\n        \"semantic_type\": \"\",\n        \"description\": \"\"\n      }\n    },\n    {\n      \"column\": \"Store Number\",\n      \"properties\": {\n        \"dtype\": \"number\",\n        \"std\": 0,\n        \"min\": 2633,\n        \"max\": 2633,\n        \"num_unique_values\": 1,\n        \"samples\": [\n          2633\n        ],\n        \"semantic_type\": \"\",\n        \"description\": \"\"\n      }\n    },\n    {\n      \"column\": \"Category Name\",\n      \"properties\": {\n        \"dtype\": \"category\",\n        \"num_unique_values\": 18,\n        \"samples\": [\n          \"LIQUEUR\"\n        ],\n        \"semantic_type\": \"\",\n        \"description\": \"\"\n      }\n    },\n    {\n      \"column\": \"Vendor Name\",\n      \"properties\": {\n        \"dtype\": \"category\",\n        \"num_unique_values\": 104,\n        \"samples\": [\n          \"Quadro Group LLC\"\n        ],\n        \"semantic_type\": \"\",\n        \"description\": \"\"\n      }\n    },\n    {\n      \"column\": \"Sale (Dollars)\",\n      \"properties\": {\n        \"dtype\": \"category\",\n        \"num_unique_values\": 4089,\n        \"samples\": [\n          \"$698.88\"\n        ],\n        \"semantic_type\": \"\",\n        \"description\": \"\"\n      }\n    }\n  ]\n}"
            }
          },
          "metadata": {},
          "execution_count": 106
        }
      ]
    },
    {
      "cell_type": "code",
      "source": [
        "X_test"
      ],
      "metadata": {
        "colab": {
          "base_uri": "https://localhost:8080/",
          "height": 455
        },
        "id": "4CF5uBkmUIIn",
        "outputId": "b4718ff4-a0d1-4cd7-81ff-4bee874dd2b6"
      },
      "execution_count": 107,
      "outputs": [
        {
          "output_type": "execute_result",
          "data": {
            "text/plain": [
              "            Store Number    Category Name               Vendor Name  \\\n",
              "Date                                                                  \n",
              "2016-03-24          2633              RUM        Heaven Hill Brands   \n",
              "2016-03-24          2633   VODKA FLAVORED            Luxco-St Louis   \n",
              "2016-03-24          2633          TEQUILA  Brown-Forman Corporation   \n",
              "2016-03-24          2633  SCOTCH WHISKIES           Diageo Americas   \n",
              "2016-03-24          2633  SCOTCH WHISKIES           Diageo Americas   \n",
              "...                  ...              ...                       ...   \n",
              "2017-01-03          2633            VODKA                 LUXCO INC   \n",
              "2017-01-03          2633            VODKA           DIAGEO AMERICAS   \n",
              "2017-01-03          2633            VODKA     SAZERAC NORTH AMERICA   \n",
              "2017-01-03          2633              RUM           BACARDI USA INC   \n",
              "2017-01-03          2633          TEQUILA           Jim Beam Brands   \n",
              "\n",
              "           Sale (Dollars)  \n",
              "Date                       \n",
              "2016-03-24        $131.04  \n",
              "2016-03-24        $156.12  \n",
              "2016-03-24        $212.22  \n",
              "2016-03-24        $355.44  \n",
              "2016-03-24        $395.88  \n",
              "...                   ...  \n",
              "2017-01-03         $72.96  \n",
              "2017-01-03        $409.56  \n",
              "2017-01-03         $71.52  \n",
              "2017-01-03         $88.08  \n",
              "2017-01-03        $311.76  \n",
              "\n",
              "[15617 rows x 4 columns]"
            ],
            "text/html": [
              "\n",
              "  <div id=\"df-00583458-0738-40d6-972b-c0fcf5b97773\" class=\"colab-df-container\">\n",
              "    <div>\n",
              "<style scoped>\n",
              "    .dataframe tbody tr th:only-of-type {\n",
              "        vertical-align: middle;\n",
              "    }\n",
              "\n",
              "    .dataframe tbody tr th {\n",
              "        vertical-align: top;\n",
              "    }\n",
              "\n",
              "    .dataframe thead th {\n",
              "        text-align: right;\n",
              "    }\n",
              "</style>\n",
              "<table border=\"1\" class=\"dataframe\">\n",
              "  <thead>\n",
              "    <tr style=\"text-align: right;\">\n",
              "      <th></th>\n",
              "      <th>Store Number</th>\n",
              "      <th>Category Name</th>\n",
              "      <th>Vendor Name</th>\n",
              "      <th>Sale (Dollars)</th>\n",
              "    </tr>\n",
              "    <tr>\n",
              "      <th>Date</th>\n",
              "      <th></th>\n",
              "      <th></th>\n",
              "      <th></th>\n",
              "      <th></th>\n",
              "    </tr>\n",
              "  </thead>\n",
              "  <tbody>\n",
              "    <tr>\n",
              "      <th>2016-03-24</th>\n",
              "      <td>2633</td>\n",
              "      <td>RUM</td>\n",
              "      <td>Heaven Hill Brands</td>\n",
              "      <td>$131.04</td>\n",
              "    </tr>\n",
              "    <tr>\n",
              "      <th>2016-03-24</th>\n",
              "      <td>2633</td>\n",
              "      <td>VODKA FLAVORED</td>\n",
              "      <td>Luxco-St Louis</td>\n",
              "      <td>$156.12</td>\n",
              "    </tr>\n",
              "    <tr>\n",
              "      <th>2016-03-24</th>\n",
              "      <td>2633</td>\n",
              "      <td>TEQUILA</td>\n",
              "      <td>Brown-Forman Corporation</td>\n",
              "      <td>$212.22</td>\n",
              "    </tr>\n",
              "    <tr>\n",
              "      <th>2016-03-24</th>\n",
              "      <td>2633</td>\n",
              "      <td>SCOTCH WHISKIES</td>\n",
              "      <td>Diageo Americas</td>\n",
              "      <td>$355.44</td>\n",
              "    </tr>\n",
              "    <tr>\n",
              "      <th>2016-03-24</th>\n",
              "      <td>2633</td>\n",
              "      <td>SCOTCH WHISKIES</td>\n",
              "      <td>Diageo Americas</td>\n",
              "      <td>$395.88</td>\n",
              "    </tr>\n",
              "    <tr>\n",
              "      <th>...</th>\n",
              "      <td>...</td>\n",
              "      <td>...</td>\n",
              "      <td>...</td>\n",
              "      <td>...</td>\n",
              "    </tr>\n",
              "    <tr>\n",
              "      <th>2017-01-03</th>\n",
              "      <td>2633</td>\n",
              "      <td>VODKA</td>\n",
              "      <td>LUXCO INC</td>\n",
              "      <td>$72.96</td>\n",
              "    </tr>\n",
              "    <tr>\n",
              "      <th>2017-01-03</th>\n",
              "      <td>2633</td>\n",
              "      <td>VODKA</td>\n",
              "      <td>DIAGEO AMERICAS</td>\n",
              "      <td>$409.56</td>\n",
              "    </tr>\n",
              "    <tr>\n",
              "      <th>2017-01-03</th>\n",
              "      <td>2633</td>\n",
              "      <td>VODKA</td>\n",
              "      <td>SAZERAC NORTH AMERICA</td>\n",
              "      <td>$71.52</td>\n",
              "    </tr>\n",
              "    <tr>\n",
              "      <th>2017-01-03</th>\n",
              "      <td>2633</td>\n",
              "      <td>RUM</td>\n",
              "      <td>BACARDI USA INC</td>\n",
              "      <td>$88.08</td>\n",
              "    </tr>\n",
              "    <tr>\n",
              "      <th>2017-01-03</th>\n",
              "      <td>2633</td>\n",
              "      <td>TEQUILA</td>\n",
              "      <td>Jim Beam Brands</td>\n",
              "      <td>$311.76</td>\n",
              "    </tr>\n",
              "  </tbody>\n",
              "</table>\n",
              "<p>15617 rows × 4 columns</p>\n",
              "</div>\n",
              "    <div class=\"colab-df-buttons\">\n",
              "\n",
              "  <div class=\"colab-df-container\">\n",
              "    <button class=\"colab-df-convert\" onclick=\"convertToInteractive('df-00583458-0738-40d6-972b-c0fcf5b97773')\"\n",
              "            title=\"Convert this dataframe to an interactive table.\"\n",
              "            style=\"display:none;\">\n",
              "\n",
              "  <svg xmlns=\"http://www.w3.org/2000/svg\" height=\"24px\" viewBox=\"0 -960 960 960\">\n",
              "    <path d=\"M120-120v-720h720v720H120Zm60-500h600v-160H180v160Zm220 220h160v-160H400v160Zm0 220h160v-160H400v160ZM180-400h160v-160H180v160Zm440 0h160v-160H620v160ZM180-180h160v-160H180v160Zm440 0h160v-160H620v160Z\"/>\n",
              "  </svg>\n",
              "    </button>\n",
              "\n",
              "  <style>\n",
              "    .colab-df-container {\n",
              "      display:flex;\n",
              "      gap: 12px;\n",
              "    }\n",
              "\n",
              "    .colab-df-convert {\n",
              "      background-color: #E8F0FE;\n",
              "      border: none;\n",
              "      border-radius: 50%;\n",
              "      cursor: pointer;\n",
              "      display: none;\n",
              "      fill: #1967D2;\n",
              "      height: 32px;\n",
              "      padding: 0 0 0 0;\n",
              "      width: 32px;\n",
              "    }\n",
              "\n",
              "    .colab-df-convert:hover {\n",
              "      background-color: #E2EBFA;\n",
              "      box-shadow: 0px 1px 2px rgba(60, 64, 67, 0.3), 0px 1px 3px 1px rgba(60, 64, 67, 0.15);\n",
              "      fill: #174EA6;\n",
              "    }\n",
              "\n",
              "    .colab-df-buttons div {\n",
              "      margin-bottom: 4px;\n",
              "    }\n",
              "\n",
              "    [theme=dark] .colab-df-convert {\n",
              "      background-color: #3B4455;\n",
              "      fill: #D2E3FC;\n",
              "    }\n",
              "\n",
              "    [theme=dark] .colab-df-convert:hover {\n",
              "      background-color: #434B5C;\n",
              "      box-shadow: 0px 1px 3px 1px rgba(0, 0, 0, 0.15);\n",
              "      filter: drop-shadow(0px 1px 2px rgba(0, 0, 0, 0.3));\n",
              "      fill: #FFFFFF;\n",
              "    }\n",
              "  </style>\n",
              "\n",
              "    <script>\n",
              "      const buttonEl =\n",
              "        document.querySelector('#df-00583458-0738-40d6-972b-c0fcf5b97773 button.colab-df-convert');\n",
              "      buttonEl.style.display =\n",
              "        google.colab.kernel.accessAllowed ? 'block' : 'none';\n",
              "\n",
              "      async function convertToInteractive(key) {\n",
              "        const element = document.querySelector('#df-00583458-0738-40d6-972b-c0fcf5b97773');\n",
              "        const dataTable =\n",
              "          await google.colab.kernel.invokeFunction('convertToInteractive',\n",
              "                                                    [key], {});\n",
              "        if (!dataTable) return;\n",
              "\n",
              "        const docLinkHtml = 'Like what you see? Visit the ' +\n",
              "          '<a target=\"_blank\" href=https://colab.research.google.com/notebooks/data_table.ipynb>data table notebook</a>'\n",
              "          + ' to learn more about interactive tables.';\n",
              "        element.innerHTML = '';\n",
              "        dataTable['output_type'] = 'display_data';\n",
              "        await google.colab.output.renderOutput(dataTable, element);\n",
              "        const docLink = document.createElement('div');\n",
              "        docLink.innerHTML = docLinkHtml;\n",
              "        element.appendChild(docLink);\n",
              "      }\n",
              "    </script>\n",
              "  </div>\n",
              "\n",
              "\n",
              "<div id=\"df-911d914b-2a43-4112-8b01-1f795e0a5954\">\n",
              "  <button class=\"colab-df-quickchart\" onclick=\"quickchart('df-911d914b-2a43-4112-8b01-1f795e0a5954')\"\n",
              "            title=\"Suggest charts\"\n",
              "            style=\"display:none;\">\n",
              "\n",
              "<svg xmlns=\"http://www.w3.org/2000/svg\" height=\"24px\"viewBox=\"0 0 24 24\"\n",
              "     width=\"24px\">\n",
              "    <g>\n",
              "        <path d=\"M19 3H5c-1.1 0-2 .9-2 2v14c0 1.1.9 2 2 2h14c1.1 0 2-.9 2-2V5c0-1.1-.9-2-2-2zM9 17H7v-7h2v7zm4 0h-2V7h2v10zm4 0h-2v-4h2v4z\"/>\n",
              "    </g>\n",
              "</svg>\n",
              "  </button>\n",
              "\n",
              "<style>\n",
              "  .colab-df-quickchart {\n",
              "      --bg-color: #E8F0FE;\n",
              "      --fill-color: #1967D2;\n",
              "      --hover-bg-color: #E2EBFA;\n",
              "      --hover-fill-color: #174EA6;\n",
              "      --disabled-fill-color: #AAA;\n",
              "      --disabled-bg-color: #DDD;\n",
              "  }\n",
              "\n",
              "  [theme=dark] .colab-df-quickchart {\n",
              "      --bg-color: #3B4455;\n",
              "      --fill-color: #D2E3FC;\n",
              "      --hover-bg-color: #434B5C;\n",
              "      --hover-fill-color: #FFFFFF;\n",
              "      --disabled-bg-color: #3B4455;\n",
              "      --disabled-fill-color: #666;\n",
              "  }\n",
              "\n",
              "  .colab-df-quickchart {\n",
              "    background-color: var(--bg-color);\n",
              "    border: none;\n",
              "    border-radius: 50%;\n",
              "    cursor: pointer;\n",
              "    display: none;\n",
              "    fill: var(--fill-color);\n",
              "    height: 32px;\n",
              "    padding: 0;\n",
              "    width: 32px;\n",
              "  }\n",
              "\n",
              "  .colab-df-quickchart:hover {\n",
              "    background-color: var(--hover-bg-color);\n",
              "    box-shadow: 0 1px 2px rgba(60, 64, 67, 0.3), 0 1px 3px 1px rgba(60, 64, 67, 0.15);\n",
              "    fill: var(--button-hover-fill-color);\n",
              "  }\n",
              "\n",
              "  .colab-df-quickchart-complete:disabled,\n",
              "  .colab-df-quickchart-complete:disabled:hover {\n",
              "    background-color: var(--disabled-bg-color);\n",
              "    fill: var(--disabled-fill-color);\n",
              "    box-shadow: none;\n",
              "  }\n",
              "\n",
              "  .colab-df-spinner {\n",
              "    border: 2px solid var(--fill-color);\n",
              "    border-color: transparent;\n",
              "    border-bottom-color: var(--fill-color);\n",
              "    animation:\n",
              "      spin 1s steps(1) infinite;\n",
              "  }\n",
              "\n",
              "  @keyframes spin {\n",
              "    0% {\n",
              "      border-color: transparent;\n",
              "      border-bottom-color: var(--fill-color);\n",
              "      border-left-color: var(--fill-color);\n",
              "    }\n",
              "    20% {\n",
              "      border-color: transparent;\n",
              "      border-left-color: var(--fill-color);\n",
              "      border-top-color: var(--fill-color);\n",
              "    }\n",
              "    30% {\n",
              "      border-color: transparent;\n",
              "      border-left-color: var(--fill-color);\n",
              "      border-top-color: var(--fill-color);\n",
              "      border-right-color: var(--fill-color);\n",
              "    }\n",
              "    40% {\n",
              "      border-color: transparent;\n",
              "      border-right-color: var(--fill-color);\n",
              "      border-top-color: var(--fill-color);\n",
              "    }\n",
              "    60% {\n",
              "      border-color: transparent;\n",
              "      border-right-color: var(--fill-color);\n",
              "    }\n",
              "    80% {\n",
              "      border-color: transparent;\n",
              "      border-right-color: var(--fill-color);\n",
              "      border-bottom-color: var(--fill-color);\n",
              "    }\n",
              "    90% {\n",
              "      border-color: transparent;\n",
              "      border-bottom-color: var(--fill-color);\n",
              "    }\n",
              "  }\n",
              "</style>\n",
              "\n",
              "  <script>\n",
              "    async function quickchart(key) {\n",
              "      const quickchartButtonEl =\n",
              "        document.querySelector('#' + key + ' button');\n",
              "      quickchartButtonEl.disabled = true;  // To prevent multiple clicks.\n",
              "      quickchartButtonEl.classList.add('colab-df-spinner');\n",
              "      try {\n",
              "        const charts = await google.colab.kernel.invokeFunction(\n",
              "            'suggestCharts', [key], {});\n",
              "      } catch (error) {\n",
              "        console.error('Error during call to suggestCharts:', error);\n",
              "      }\n",
              "      quickchartButtonEl.classList.remove('colab-df-spinner');\n",
              "      quickchartButtonEl.classList.add('colab-df-quickchart-complete');\n",
              "    }\n",
              "    (() => {\n",
              "      let quickchartButtonEl =\n",
              "        document.querySelector('#df-911d914b-2a43-4112-8b01-1f795e0a5954 button');\n",
              "      quickchartButtonEl.style.display =\n",
              "        google.colab.kernel.accessAllowed ? 'block' : 'none';\n",
              "    })();\n",
              "  </script>\n",
              "</div>\n",
              "\n",
              "  <div id=\"id_172cd1a9-ae70-418c-b140-e96630561a63\">\n",
              "    <style>\n",
              "      .colab-df-generate {\n",
              "        background-color: #E8F0FE;\n",
              "        border: none;\n",
              "        border-radius: 50%;\n",
              "        cursor: pointer;\n",
              "        display: none;\n",
              "        fill: #1967D2;\n",
              "        height: 32px;\n",
              "        padding: 0 0 0 0;\n",
              "        width: 32px;\n",
              "      }\n",
              "\n",
              "      .colab-df-generate:hover {\n",
              "        background-color: #E2EBFA;\n",
              "        box-shadow: 0px 1px 2px rgba(60, 64, 67, 0.3), 0px 1px 3px 1px rgba(60, 64, 67, 0.15);\n",
              "        fill: #174EA6;\n",
              "      }\n",
              "\n",
              "      [theme=dark] .colab-df-generate {\n",
              "        background-color: #3B4455;\n",
              "        fill: #D2E3FC;\n",
              "      }\n",
              "\n",
              "      [theme=dark] .colab-df-generate:hover {\n",
              "        background-color: #434B5C;\n",
              "        box-shadow: 0px 1px 3px 1px rgba(0, 0, 0, 0.15);\n",
              "        filter: drop-shadow(0px 1px 2px rgba(0, 0, 0, 0.3));\n",
              "        fill: #FFFFFF;\n",
              "      }\n",
              "    </style>\n",
              "    <button class=\"colab-df-generate\" onclick=\"generateWithVariable('X_test')\"\n",
              "            title=\"Generate code using this dataframe.\"\n",
              "            style=\"display:none;\">\n",
              "\n",
              "  <svg xmlns=\"http://www.w3.org/2000/svg\" height=\"24px\"viewBox=\"0 0 24 24\"\n",
              "       width=\"24px\">\n",
              "    <path d=\"M7,19H8.4L18.45,9,17,7.55,7,17.6ZM5,21V16.75L18.45,3.32a2,2,0,0,1,2.83,0l1.4,1.43a1.91,1.91,0,0,1,.58,1.4,1.91,1.91,0,0,1-.58,1.4L9.25,21ZM18.45,9,17,7.55Zm-12,3A5.31,5.31,0,0,0,4.9,8.1,5.31,5.31,0,0,0,1,6.5,5.31,5.31,0,0,0,4.9,4.9,5.31,5.31,0,0,0,6.5,1,5.31,5.31,0,0,0,8.1,4.9,5.31,5.31,0,0,0,12,6.5,5.46,5.46,0,0,0,6.5,12Z\"/>\n",
              "  </svg>\n",
              "    </button>\n",
              "    <script>\n",
              "      (() => {\n",
              "      const buttonEl =\n",
              "        document.querySelector('#id_172cd1a9-ae70-418c-b140-e96630561a63 button.colab-df-generate');\n",
              "      buttonEl.style.display =\n",
              "        google.colab.kernel.accessAllowed ? 'block' : 'none';\n",
              "\n",
              "      buttonEl.onclick = () => {\n",
              "        google.colab.notebook.generateWithVariable('X_test');\n",
              "      }\n",
              "      })();\n",
              "    </script>\n",
              "  </div>\n",
              "\n",
              "    </div>\n",
              "  </div>\n"
            ],
            "application/vnd.google.colaboratory.intrinsic+json": {
              "type": "dataframe",
              "variable_name": "X_test",
              "summary": "{\n  \"name\": \"X_test\",\n  \"rows\": 15617,\n  \"fields\": [\n    {\n      \"column\": \"Date\",\n      \"properties\": {\n        \"dtype\": \"date\",\n        \"min\": \"2016-03-24 00:00:00\",\n        \"max\": \"2017-01-03 00:00:00\",\n        \"num_unique_values\": 103,\n        \"samples\": [\n          \"2016-06-22 00:00:00\",\n          \"2016-09-22 00:00:00\",\n          \"2016-09-08 00:00:00\"\n        ],\n        \"semantic_type\": \"\",\n        \"description\": \"\"\n      }\n    },\n    {\n      \"column\": \"Store Number\",\n      \"properties\": {\n        \"dtype\": \"number\",\n        \"std\": 0,\n        \"min\": 2633,\n        \"max\": 2633,\n        \"num_unique_values\": 1,\n        \"samples\": [\n          2633\n        ],\n        \"semantic_type\": \"\",\n        \"description\": \"\"\n      }\n    },\n    {\n      \"column\": \"Category Name\",\n      \"properties\": {\n        \"dtype\": \"category\",\n        \"num_unique_values\": 19,\n        \"samples\": [\n          \"RUM\"\n        ],\n        \"semantic_type\": \"\",\n        \"description\": \"\"\n      }\n    },\n    {\n      \"column\": \"Vendor Name\",\n      \"properties\": {\n        \"dtype\": \"category\",\n        \"num_unique_values\": 114,\n        \"samples\": [\n          \"DUNKEL CORPORATION\"\n        ],\n        \"semantic_type\": \"\",\n        \"description\": \"\"\n      }\n    },\n    {\n      \"column\": \"Sale (Dollars)\",\n      \"properties\": {\n        \"dtype\": \"category\",\n        \"num_unique_values\": 1243,\n        \"samples\": [\n          \"$1681.20\"\n        ],\n        \"semantic_type\": \"\",\n        \"description\": \"\"\n      }\n    }\n  ]\n}"
            }
          },
          "metadata": {},
          "execution_count": 107
        }
      ]
    },
    {
      "cell_type": "code",
      "source": [
        "y_train"
      ],
      "metadata": {
        "colab": {
          "base_uri": "https://localhost:8080/"
        },
        "id": "tCGqdOA9ummr",
        "outputId": "2d85df63-b0dc-4fa4-fa98-570a92dd26d7"
      },
      "execution_count": 108,
      "outputs": [
        {
          "output_type": "execute_result",
          "data": {
            "text/plain": [
              "Date\n",
              "2012-01-03    12\n",
              "2012-01-03     6\n",
              "2012-01-03    48\n",
              "2012-01-03    12\n",
              "2012-01-03     1\n",
              "              ..\n",
              "2016-03-24    48\n",
              "2016-03-24     6\n",
              "2016-03-24    12\n",
              "2016-03-24     1\n",
              "2016-03-24     6\n",
              "Name: Bottles Sold, Length: 78088, dtype: int64"
            ]
          },
          "metadata": {},
          "execution_count": 108
        }
      ]
    },
    {
      "cell_type": "code",
      "source": [],
      "metadata": {
        "id": "VQJdGlb2um56"
      },
      "execution_count": null,
      "outputs": []
    },
    {
      "cell_type": "markdown",
      "source": [
        "Great, it worked. The"
      ],
      "metadata": {
        "id": "eEAGsh39UX9u"
      }
    },
    {
      "cell_type": "code",
      "source": [
        "hvdm_category_counts = X_train['Category Name'].value_counts()\n",
        "hvdm_category_counts"
      ],
      "metadata": {
        "colab": {
          "base_uri": "https://localhost:8080/"
        },
        "id": "lOscld8QUKWV",
        "outputId": "2ef7a30e-e6ed-4f86-f2e5-b5feacdc3f2d"
      },
      "execution_count": 109,
      "outputs": [
        {
          "output_type": "execute_result",
          "data": {
            "text/plain": [
              "Category Name\n",
              "LIQUEUR                       14266\n",
              "VODKA                         13789\n",
              "GIN                            7330\n",
              "TEQUILA                        6409\n",
              "VODKA FLAVORED                 6070\n",
              "RUM                            5670\n",
              "BOURBON                        4568\n",
              "FRUIT SCHNAPPS                 3308\n",
              "MISCELLANEOUS SCHNAPPS         3175\n",
              "SCOTCH WHISKIES                3155\n",
              "CANADIAN WHISKIES              2908\n",
              "BLENDED AND OTHER WHISKIES     2869\n",
              "GRAPE-BASED BRANDIES           1431\n",
              "RTD COCKTAILS                   879\n",
              "IRISH WHISKIES                  837\n",
              "TENNESSEE WHISKIES              595\n",
              "PEPPERMINT SCHNAPPS             462\n",
              "OTHER FRUIT BRANDIES            367\n",
              "Name: count, dtype: int64"
            ]
          },
          "metadata": {},
          "execution_count": 109
        }
      ]
    },
    {
      "cell_type": "markdown",
      "source": [
        "Hold up, do I really need to drop a column? We drop them to avoid multicollinearity, but I don't think (S)ARIMA models are necessarily *linear*...or are they? Are they a kid of regression problem? Maybe I should take the median category out?"
      ],
      "metadata": {
        "id": "I8EZTn0DaMEP"
      }
    },
    {
      "cell_type": "code",
      "source": [
        "hvdm_category_counts.median()"
      ],
      "metadata": {
        "colab": {
          "base_uri": "https://localhost:8080/"
        },
        "id": "NlAO5U6rV_Nb",
        "outputId": "546da85a-99e0-429e-a84d-3819de068185"
      },
      "execution_count": 68,
      "outputs": [
        {
          "output_type": "execute_result",
          "data": {
            "text/plain": [
              "3165.0"
            ]
          },
          "metadata": {},
          "execution_count": 68
        }
      ]
    },
    {
      "cell_type": "markdown",
      "source": [
        "Okay, let's drop 'MISCELLANEOUS SCHNAPPS'"
      ],
      "metadata": {
        "id": "bRwlrG-Sd4FI"
      }
    },
    {
      "cell_type": "code",
      "source": [
        "X_train_categorical_encoded = pd.get_dummies(X_train['Category Name'], dtype=int)\n",
        "X_train_encoded = pd.concat([X_train, X_train_categorical_encoded], axis=1)\n",
        "X_train_encoded.drop(['Category Name', 'MISCELLANEOUS SCHNAPPS'], axis=1, inplace=True)\n",
        "X_train_encoded.head()"
      ],
      "metadata": {
        "colab": {
          "base_uri": "https://localhost:8080/",
          "height": 448
        },
        "id": "AhxYOiOqjajd",
        "outputId": "500c7e09-b2f1-48c2-94a6-5757e117262a"
      },
      "execution_count": 69,
      "outputs": [
        {
          "output_type": "execute_result",
          "data": {
            "text/plain": [
              "            Store Number                       Vendor Name Sale (Dollars)  \\\n",
              "Date                                                                        \n",
              "2012-01-03          2633                   Diageo Americas        $295.44   \n",
              "2012-01-03          2633                   Diageo Americas        $274.44   \n",
              "2012-01-03          2633  Pernod Ricard USA/Austin Nichols        $969.60   \n",
              "2012-01-03          2633           Moet Hennessy USA, Inc.        $459.72   \n",
              "2012-01-03          2633                   Jim Beam Brands         $22.04   \n",
              "\n",
              "            BLENDED AND OTHER WHISKIES  BOURBON  CANADIAN WHISKIES  \\\n",
              "Date                                                                 \n",
              "2012-01-03                           0        0                  0   \n",
              "2012-01-03                           0        0                  1   \n",
              "2012-01-03                           0        0                  0   \n",
              "2012-01-03                           0        0                  0   \n",
              "2012-01-03                           0        1                  0   \n",
              "\n",
              "            FRUIT SCHNAPPS  GIN  GRAPE-BASED BRANDIES  IRISH WHISKIES  \\\n",
              "Date                                                                    \n",
              "2012-01-03               0    0                     0               0   \n",
              "2012-01-03               0    0                     0               0   \n",
              "2012-01-03               0    0                     0               1   \n",
              "2012-01-03               0    0                     0               0   \n",
              "2012-01-03               0    0                     0               0   \n",
              "\n",
              "            LIQUEUR  OTHER FRUIT BRANDIES  PEPPERMINT SCHNAPPS  RTD COCKTAILS  \\\n",
              "Date                                                                            \n",
              "2012-01-03        1                     0                    0              0   \n",
              "2012-01-03        0                     0                    0              0   \n",
              "2012-01-03        0                     0                    0              0   \n",
              "2012-01-03        1                     0                    0              0   \n",
              "2012-01-03        0                     0                    0              0   \n",
              "\n",
              "            RUM  SCOTCH WHISKIES  TENNESSEE WHISKIES  TEQUILA  VODKA  \\\n",
              "Date                                                                   \n",
              "2012-01-03    0                0                   0        0      0   \n",
              "2012-01-03    0                0                   0        0      0   \n",
              "2012-01-03    0                0                   0        0      0   \n",
              "2012-01-03    0                0                   0        0      0   \n",
              "2012-01-03    0                0                   0        0      0   \n",
              "\n",
              "            VODKA FLAVORED  \n",
              "Date                        \n",
              "2012-01-03               0  \n",
              "2012-01-03               0  \n",
              "2012-01-03               0  \n",
              "2012-01-03               0  \n",
              "2012-01-03               0  "
            ],
            "text/html": [
              "\n",
              "  <div id=\"df-5521487d-a793-4f13-a090-2fdaca27df4e\" class=\"colab-df-container\">\n",
              "    <div>\n",
              "<style scoped>\n",
              "    .dataframe tbody tr th:only-of-type {\n",
              "        vertical-align: middle;\n",
              "    }\n",
              "\n",
              "    .dataframe tbody tr th {\n",
              "        vertical-align: top;\n",
              "    }\n",
              "\n",
              "    .dataframe thead th {\n",
              "        text-align: right;\n",
              "    }\n",
              "</style>\n",
              "<table border=\"1\" class=\"dataframe\">\n",
              "  <thead>\n",
              "    <tr style=\"text-align: right;\">\n",
              "      <th></th>\n",
              "      <th>Store Number</th>\n",
              "      <th>Vendor Name</th>\n",
              "      <th>Sale (Dollars)</th>\n",
              "      <th>BLENDED AND OTHER WHISKIES</th>\n",
              "      <th>BOURBON</th>\n",
              "      <th>CANADIAN WHISKIES</th>\n",
              "      <th>FRUIT SCHNAPPS</th>\n",
              "      <th>GIN</th>\n",
              "      <th>GRAPE-BASED BRANDIES</th>\n",
              "      <th>IRISH WHISKIES</th>\n",
              "      <th>LIQUEUR</th>\n",
              "      <th>OTHER FRUIT BRANDIES</th>\n",
              "      <th>PEPPERMINT SCHNAPPS</th>\n",
              "      <th>RTD COCKTAILS</th>\n",
              "      <th>RUM</th>\n",
              "      <th>SCOTCH WHISKIES</th>\n",
              "      <th>TENNESSEE WHISKIES</th>\n",
              "      <th>TEQUILA</th>\n",
              "      <th>VODKA</th>\n",
              "      <th>VODKA FLAVORED</th>\n",
              "    </tr>\n",
              "    <tr>\n",
              "      <th>Date</th>\n",
              "      <th></th>\n",
              "      <th></th>\n",
              "      <th></th>\n",
              "      <th></th>\n",
              "      <th></th>\n",
              "      <th></th>\n",
              "      <th></th>\n",
              "      <th></th>\n",
              "      <th></th>\n",
              "      <th></th>\n",
              "      <th></th>\n",
              "      <th></th>\n",
              "      <th></th>\n",
              "      <th></th>\n",
              "      <th></th>\n",
              "      <th></th>\n",
              "      <th></th>\n",
              "      <th></th>\n",
              "      <th></th>\n",
              "      <th></th>\n",
              "    </tr>\n",
              "  </thead>\n",
              "  <tbody>\n",
              "    <tr>\n",
              "      <th>2012-01-03</th>\n",
              "      <td>2633</td>\n",
              "      <td>Diageo Americas</td>\n",
              "      <td>$295.44</td>\n",
              "      <td>0</td>\n",
              "      <td>0</td>\n",
              "      <td>0</td>\n",
              "      <td>0</td>\n",
              "      <td>0</td>\n",
              "      <td>0</td>\n",
              "      <td>0</td>\n",
              "      <td>1</td>\n",
              "      <td>0</td>\n",
              "      <td>0</td>\n",
              "      <td>0</td>\n",
              "      <td>0</td>\n",
              "      <td>0</td>\n",
              "      <td>0</td>\n",
              "      <td>0</td>\n",
              "      <td>0</td>\n",
              "      <td>0</td>\n",
              "    </tr>\n",
              "    <tr>\n",
              "      <th>2012-01-03</th>\n",
              "      <td>2633</td>\n",
              "      <td>Diageo Americas</td>\n",
              "      <td>$274.44</td>\n",
              "      <td>0</td>\n",
              "      <td>0</td>\n",
              "      <td>1</td>\n",
              "      <td>0</td>\n",
              "      <td>0</td>\n",
              "      <td>0</td>\n",
              "      <td>0</td>\n",
              "      <td>0</td>\n",
              "      <td>0</td>\n",
              "      <td>0</td>\n",
              "      <td>0</td>\n",
              "      <td>0</td>\n",
              "      <td>0</td>\n",
              "      <td>0</td>\n",
              "      <td>0</td>\n",
              "      <td>0</td>\n",
              "      <td>0</td>\n",
              "    </tr>\n",
              "    <tr>\n",
              "      <th>2012-01-03</th>\n",
              "      <td>2633</td>\n",
              "      <td>Pernod Ricard USA/Austin Nichols</td>\n",
              "      <td>$969.60</td>\n",
              "      <td>0</td>\n",
              "      <td>0</td>\n",
              "      <td>0</td>\n",
              "      <td>0</td>\n",
              "      <td>0</td>\n",
              "      <td>0</td>\n",
              "      <td>1</td>\n",
              "      <td>0</td>\n",
              "      <td>0</td>\n",
              "      <td>0</td>\n",
              "      <td>0</td>\n",
              "      <td>0</td>\n",
              "      <td>0</td>\n",
              "      <td>0</td>\n",
              "      <td>0</td>\n",
              "      <td>0</td>\n",
              "      <td>0</td>\n",
              "    </tr>\n",
              "    <tr>\n",
              "      <th>2012-01-03</th>\n",
              "      <td>2633</td>\n",
              "      <td>Moet Hennessy USA, Inc.</td>\n",
              "      <td>$459.72</td>\n",
              "      <td>0</td>\n",
              "      <td>0</td>\n",
              "      <td>0</td>\n",
              "      <td>0</td>\n",
              "      <td>0</td>\n",
              "      <td>0</td>\n",
              "      <td>0</td>\n",
              "      <td>1</td>\n",
              "      <td>0</td>\n",
              "      <td>0</td>\n",
              "      <td>0</td>\n",
              "      <td>0</td>\n",
              "      <td>0</td>\n",
              "      <td>0</td>\n",
              "      <td>0</td>\n",
              "      <td>0</td>\n",
              "      <td>0</td>\n",
              "    </tr>\n",
              "    <tr>\n",
              "      <th>2012-01-03</th>\n",
              "      <td>2633</td>\n",
              "      <td>Jim Beam Brands</td>\n",
              "      <td>$22.04</td>\n",
              "      <td>0</td>\n",
              "      <td>1</td>\n",
              "      <td>0</td>\n",
              "      <td>0</td>\n",
              "      <td>0</td>\n",
              "      <td>0</td>\n",
              "      <td>0</td>\n",
              "      <td>0</td>\n",
              "      <td>0</td>\n",
              "      <td>0</td>\n",
              "      <td>0</td>\n",
              "      <td>0</td>\n",
              "      <td>0</td>\n",
              "      <td>0</td>\n",
              "      <td>0</td>\n",
              "      <td>0</td>\n",
              "      <td>0</td>\n",
              "    </tr>\n",
              "  </tbody>\n",
              "</table>\n",
              "</div>\n",
              "    <div class=\"colab-df-buttons\">\n",
              "\n",
              "  <div class=\"colab-df-container\">\n",
              "    <button class=\"colab-df-convert\" onclick=\"convertToInteractive('df-5521487d-a793-4f13-a090-2fdaca27df4e')\"\n",
              "            title=\"Convert this dataframe to an interactive table.\"\n",
              "            style=\"display:none;\">\n",
              "\n",
              "  <svg xmlns=\"http://www.w3.org/2000/svg\" height=\"24px\" viewBox=\"0 -960 960 960\">\n",
              "    <path d=\"M120-120v-720h720v720H120Zm60-500h600v-160H180v160Zm220 220h160v-160H400v160Zm0 220h160v-160H400v160ZM180-400h160v-160H180v160Zm440 0h160v-160H620v160ZM180-180h160v-160H180v160Zm440 0h160v-160H620v160Z\"/>\n",
              "  </svg>\n",
              "    </button>\n",
              "\n",
              "  <style>\n",
              "    .colab-df-container {\n",
              "      display:flex;\n",
              "      gap: 12px;\n",
              "    }\n",
              "\n",
              "    .colab-df-convert {\n",
              "      background-color: #E8F0FE;\n",
              "      border: none;\n",
              "      border-radius: 50%;\n",
              "      cursor: pointer;\n",
              "      display: none;\n",
              "      fill: #1967D2;\n",
              "      height: 32px;\n",
              "      padding: 0 0 0 0;\n",
              "      width: 32px;\n",
              "    }\n",
              "\n",
              "    .colab-df-convert:hover {\n",
              "      background-color: #E2EBFA;\n",
              "      box-shadow: 0px 1px 2px rgba(60, 64, 67, 0.3), 0px 1px 3px 1px rgba(60, 64, 67, 0.15);\n",
              "      fill: #174EA6;\n",
              "    }\n",
              "\n",
              "    .colab-df-buttons div {\n",
              "      margin-bottom: 4px;\n",
              "    }\n",
              "\n",
              "    [theme=dark] .colab-df-convert {\n",
              "      background-color: #3B4455;\n",
              "      fill: #D2E3FC;\n",
              "    }\n",
              "\n",
              "    [theme=dark] .colab-df-convert:hover {\n",
              "      background-color: #434B5C;\n",
              "      box-shadow: 0px 1px 3px 1px rgba(0, 0, 0, 0.15);\n",
              "      filter: drop-shadow(0px 1px 2px rgba(0, 0, 0, 0.3));\n",
              "      fill: #FFFFFF;\n",
              "    }\n",
              "  </style>\n",
              "\n",
              "    <script>\n",
              "      const buttonEl =\n",
              "        document.querySelector('#df-5521487d-a793-4f13-a090-2fdaca27df4e button.colab-df-convert');\n",
              "      buttonEl.style.display =\n",
              "        google.colab.kernel.accessAllowed ? 'block' : 'none';\n",
              "\n",
              "      async function convertToInteractive(key) {\n",
              "        const element = document.querySelector('#df-5521487d-a793-4f13-a090-2fdaca27df4e');\n",
              "        const dataTable =\n",
              "          await google.colab.kernel.invokeFunction('convertToInteractive',\n",
              "                                                    [key], {});\n",
              "        if (!dataTable) return;\n",
              "\n",
              "        const docLinkHtml = 'Like what you see? Visit the ' +\n",
              "          '<a target=\"_blank\" href=https://colab.research.google.com/notebooks/data_table.ipynb>data table notebook</a>'\n",
              "          + ' to learn more about interactive tables.';\n",
              "        element.innerHTML = '';\n",
              "        dataTable['output_type'] = 'display_data';\n",
              "        await google.colab.output.renderOutput(dataTable, element);\n",
              "        const docLink = document.createElement('div');\n",
              "        docLink.innerHTML = docLinkHtml;\n",
              "        element.appendChild(docLink);\n",
              "      }\n",
              "    </script>\n",
              "  </div>\n",
              "\n",
              "\n",
              "<div id=\"df-19220576-093a-4d2a-b79e-175afd7a68f1\">\n",
              "  <button class=\"colab-df-quickchart\" onclick=\"quickchart('df-19220576-093a-4d2a-b79e-175afd7a68f1')\"\n",
              "            title=\"Suggest charts\"\n",
              "            style=\"display:none;\">\n",
              "\n",
              "<svg xmlns=\"http://www.w3.org/2000/svg\" height=\"24px\"viewBox=\"0 0 24 24\"\n",
              "     width=\"24px\">\n",
              "    <g>\n",
              "        <path d=\"M19 3H5c-1.1 0-2 .9-2 2v14c0 1.1.9 2 2 2h14c1.1 0 2-.9 2-2V5c0-1.1-.9-2-2-2zM9 17H7v-7h2v7zm4 0h-2V7h2v10zm4 0h-2v-4h2v4z\"/>\n",
              "    </g>\n",
              "</svg>\n",
              "  </button>\n",
              "\n",
              "<style>\n",
              "  .colab-df-quickchart {\n",
              "      --bg-color: #E8F0FE;\n",
              "      --fill-color: #1967D2;\n",
              "      --hover-bg-color: #E2EBFA;\n",
              "      --hover-fill-color: #174EA6;\n",
              "      --disabled-fill-color: #AAA;\n",
              "      --disabled-bg-color: #DDD;\n",
              "  }\n",
              "\n",
              "  [theme=dark] .colab-df-quickchart {\n",
              "      --bg-color: #3B4455;\n",
              "      --fill-color: #D2E3FC;\n",
              "      --hover-bg-color: #434B5C;\n",
              "      --hover-fill-color: #FFFFFF;\n",
              "      --disabled-bg-color: #3B4455;\n",
              "      --disabled-fill-color: #666;\n",
              "  }\n",
              "\n",
              "  .colab-df-quickchart {\n",
              "    background-color: var(--bg-color);\n",
              "    border: none;\n",
              "    border-radius: 50%;\n",
              "    cursor: pointer;\n",
              "    display: none;\n",
              "    fill: var(--fill-color);\n",
              "    height: 32px;\n",
              "    padding: 0;\n",
              "    width: 32px;\n",
              "  }\n",
              "\n",
              "  .colab-df-quickchart:hover {\n",
              "    background-color: var(--hover-bg-color);\n",
              "    box-shadow: 0 1px 2px rgba(60, 64, 67, 0.3), 0 1px 3px 1px rgba(60, 64, 67, 0.15);\n",
              "    fill: var(--button-hover-fill-color);\n",
              "  }\n",
              "\n",
              "  .colab-df-quickchart-complete:disabled,\n",
              "  .colab-df-quickchart-complete:disabled:hover {\n",
              "    background-color: var(--disabled-bg-color);\n",
              "    fill: var(--disabled-fill-color);\n",
              "    box-shadow: none;\n",
              "  }\n",
              "\n",
              "  .colab-df-spinner {\n",
              "    border: 2px solid var(--fill-color);\n",
              "    border-color: transparent;\n",
              "    border-bottom-color: var(--fill-color);\n",
              "    animation:\n",
              "      spin 1s steps(1) infinite;\n",
              "  }\n",
              "\n",
              "  @keyframes spin {\n",
              "    0% {\n",
              "      border-color: transparent;\n",
              "      border-bottom-color: var(--fill-color);\n",
              "      border-left-color: var(--fill-color);\n",
              "    }\n",
              "    20% {\n",
              "      border-color: transparent;\n",
              "      border-left-color: var(--fill-color);\n",
              "      border-top-color: var(--fill-color);\n",
              "    }\n",
              "    30% {\n",
              "      border-color: transparent;\n",
              "      border-left-color: var(--fill-color);\n",
              "      border-top-color: var(--fill-color);\n",
              "      border-right-color: var(--fill-color);\n",
              "    }\n",
              "    40% {\n",
              "      border-color: transparent;\n",
              "      border-right-color: var(--fill-color);\n",
              "      border-top-color: var(--fill-color);\n",
              "    }\n",
              "    60% {\n",
              "      border-color: transparent;\n",
              "      border-right-color: var(--fill-color);\n",
              "    }\n",
              "    80% {\n",
              "      border-color: transparent;\n",
              "      border-right-color: var(--fill-color);\n",
              "      border-bottom-color: var(--fill-color);\n",
              "    }\n",
              "    90% {\n",
              "      border-color: transparent;\n",
              "      border-bottom-color: var(--fill-color);\n",
              "    }\n",
              "  }\n",
              "</style>\n",
              "\n",
              "  <script>\n",
              "    async function quickchart(key) {\n",
              "      const quickchartButtonEl =\n",
              "        document.querySelector('#' + key + ' button');\n",
              "      quickchartButtonEl.disabled = true;  // To prevent multiple clicks.\n",
              "      quickchartButtonEl.classList.add('colab-df-spinner');\n",
              "      try {\n",
              "        const charts = await google.colab.kernel.invokeFunction(\n",
              "            'suggestCharts', [key], {});\n",
              "      } catch (error) {\n",
              "        console.error('Error during call to suggestCharts:', error);\n",
              "      }\n",
              "      quickchartButtonEl.classList.remove('colab-df-spinner');\n",
              "      quickchartButtonEl.classList.add('colab-df-quickchart-complete');\n",
              "    }\n",
              "    (() => {\n",
              "      let quickchartButtonEl =\n",
              "        document.querySelector('#df-19220576-093a-4d2a-b79e-175afd7a68f1 button');\n",
              "      quickchartButtonEl.style.display =\n",
              "        google.colab.kernel.accessAllowed ? 'block' : 'none';\n",
              "    })();\n",
              "  </script>\n",
              "</div>\n",
              "\n",
              "    </div>\n",
              "  </div>\n"
            ],
            "application/vnd.google.colaboratory.intrinsic+json": {
              "type": "dataframe",
              "variable_name": "X_train_encoded",
              "summary": "{\n  \"name\": \"X_train_encoded\",\n  \"rows\": 78088,\n  \"fields\": [\n    {\n      \"column\": \"Date\",\n      \"properties\": {\n        \"dtype\": \"date\",\n        \"min\": \"2012-01-03 00:00:00\",\n        \"max\": \"2016-03-24 00:00:00\",\n        \"num_unique_values\": 608,\n        \"samples\": [\n          \"2012-09-19 00:00:00\",\n          \"2012-01-26 00:00:00\",\n          \"2013-04-09 00:00:00\"\n        ],\n        \"semantic_type\": \"\",\n        \"description\": \"\"\n      }\n    },\n    {\n      \"column\": \"Store Number\",\n      \"properties\": {\n        \"dtype\": \"number\",\n        \"std\": 0,\n        \"min\": 2633,\n        \"max\": 2633,\n        \"num_unique_values\": 1,\n        \"samples\": [\n          2633\n        ],\n        \"semantic_type\": \"\",\n        \"description\": \"\"\n      }\n    },\n    {\n      \"column\": \"Vendor Name\",\n      \"properties\": {\n        \"dtype\": \"category\",\n        \"num_unique_values\": 104,\n        \"samples\": [\n          \"Quadro Group LLC\"\n        ],\n        \"semantic_type\": \"\",\n        \"description\": \"\"\n      }\n    },\n    {\n      \"column\": \"Sale (Dollars)\",\n      \"properties\": {\n        \"dtype\": \"category\",\n        \"num_unique_values\": 4089,\n        \"samples\": [\n          \"$698.88\"\n        ],\n        \"semantic_type\": \"\",\n        \"description\": \"\"\n      }\n    },\n    {\n      \"column\": \"BLENDED AND OTHER WHISKIES\",\n      \"properties\": {\n        \"dtype\": \"number\",\n        \"std\": 0,\n        \"min\": 0,\n        \"max\": 1,\n        \"num_unique_values\": 2,\n        \"samples\": [\n          1\n        ],\n        \"semantic_type\": \"\",\n        \"description\": \"\"\n      }\n    },\n    {\n      \"column\": \"BOURBON\",\n      \"properties\": {\n        \"dtype\": \"number\",\n        \"std\": 0,\n        \"min\": 0,\n        \"max\": 1,\n        \"num_unique_values\": 2,\n        \"samples\": [\n          1\n        ],\n        \"semantic_type\": \"\",\n        \"description\": \"\"\n      }\n    },\n    {\n      \"column\": \"CANADIAN WHISKIES\",\n      \"properties\": {\n        \"dtype\": \"number\",\n        \"std\": 0,\n        \"min\": 0,\n        \"max\": 1,\n        \"num_unique_values\": 2,\n        \"samples\": [\n          1\n        ],\n        \"semantic_type\": \"\",\n        \"description\": \"\"\n      }\n    },\n    {\n      \"column\": \"FRUIT SCHNAPPS\",\n      \"properties\": {\n        \"dtype\": \"number\",\n        \"std\": 0,\n        \"min\": 0,\n        \"max\": 1,\n        \"num_unique_values\": 2,\n        \"samples\": [\n          1\n        ],\n        \"semantic_type\": \"\",\n        \"description\": \"\"\n      }\n    },\n    {\n      \"column\": \"GIN\",\n      \"properties\": {\n        \"dtype\": \"number\",\n        \"std\": 0,\n        \"min\": 0,\n        \"max\": 1,\n        \"num_unique_values\": 2,\n        \"samples\": [\n          1\n        ],\n        \"semantic_type\": \"\",\n        \"description\": \"\"\n      }\n    },\n    {\n      \"column\": \"GRAPE-BASED BRANDIES\",\n      \"properties\": {\n        \"dtype\": \"number\",\n        \"std\": 0,\n        \"min\": 0,\n        \"max\": 1,\n        \"num_unique_values\": 2,\n        \"samples\": [\n          1\n        ],\n        \"semantic_type\": \"\",\n        \"description\": \"\"\n      }\n    },\n    {\n      \"column\": \"IRISH WHISKIES\",\n      \"properties\": {\n        \"dtype\": \"number\",\n        \"std\": 0,\n        \"min\": 0,\n        \"max\": 1,\n        \"num_unique_values\": 2,\n        \"samples\": [\n          1\n        ],\n        \"semantic_type\": \"\",\n        \"description\": \"\"\n      }\n    },\n    {\n      \"column\": \"LIQUEUR\",\n      \"properties\": {\n        \"dtype\": \"number\",\n        \"std\": 0,\n        \"min\": 0,\n        \"max\": 1,\n        \"num_unique_values\": 2,\n        \"samples\": [\n          0\n        ],\n        \"semantic_type\": \"\",\n        \"description\": \"\"\n      }\n    },\n    {\n      \"column\": \"OTHER FRUIT BRANDIES\",\n      \"properties\": {\n        \"dtype\": \"number\",\n        \"std\": 0,\n        \"min\": 0,\n        \"max\": 1,\n        \"num_unique_values\": 2,\n        \"samples\": [\n          1\n        ],\n        \"semantic_type\": \"\",\n        \"description\": \"\"\n      }\n    },\n    {\n      \"column\": \"PEPPERMINT SCHNAPPS\",\n      \"properties\": {\n        \"dtype\": \"number\",\n        \"std\": 0,\n        \"min\": 0,\n        \"max\": 1,\n        \"num_unique_values\": 2,\n        \"samples\": [\n          1\n        ],\n        \"semantic_type\": \"\",\n        \"description\": \"\"\n      }\n    },\n    {\n      \"column\": \"RTD COCKTAILS\",\n      \"properties\": {\n        \"dtype\": \"number\",\n        \"std\": 0,\n        \"min\": 0,\n        \"max\": 1,\n        \"num_unique_values\": 2,\n        \"samples\": [\n          1\n        ],\n        \"semantic_type\": \"\",\n        \"description\": \"\"\n      }\n    },\n    {\n      \"column\": \"RUM\",\n      \"properties\": {\n        \"dtype\": \"number\",\n        \"std\": 0,\n        \"min\": 0,\n        \"max\": 1,\n        \"num_unique_values\": 2,\n        \"samples\": [\n          1\n        ],\n        \"semantic_type\": \"\",\n        \"description\": \"\"\n      }\n    },\n    {\n      \"column\": \"SCOTCH WHISKIES\",\n      \"properties\": {\n        \"dtype\": \"number\",\n        \"std\": 0,\n        \"min\": 0,\n        \"max\": 1,\n        \"num_unique_values\": 2,\n        \"samples\": [\n          1\n        ],\n        \"semantic_type\": \"\",\n        \"description\": \"\"\n      }\n    },\n    {\n      \"column\": \"TENNESSEE WHISKIES\",\n      \"properties\": {\n        \"dtype\": \"number\",\n        \"std\": 0,\n        \"min\": 0,\n        \"max\": 1,\n        \"num_unique_values\": 2,\n        \"samples\": [\n          1\n        ],\n        \"semantic_type\": \"\",\n        \"description\": \"\"\n      }\n    },\n    {\n      \"column\": \"TEQUILA\",\n      \"properties\": {\n        \"dtype\": \"number\",\n        \"std\": 0,\n        \"min\": 0,\n        \"max\": 1,\n        \"num_unique_values\": 2,\n        \"samples\": [\n          1\n        ],\n        \"semantic_type\": \"\",\n        \"description\": \"\"\n      }\n    },\n    {\n      \"column\": \"VODKA\",\n      \"properties\": {\n        \"dtype\": \"number\",\n        \"std\": 0,\n        \"min\": 0,\n        \"max\": 1,\n        \"num_unique_values\": 2,\n        \"samples\": [\n          1\n        ],\n        \"semantic_type\": \"\",\n        \"description\": \"\"\n      }\n    },\n    {\n      \"column\": \"VODKA FLAVORED\",\n      \"properties\": {\n        \"dtype\": \"number\",\n        \"std\": 0,\n        \"min\": 0,\n        \"max\": 1,\n        \"num_unique_values\": 2,\n        \"samples\": [\n          1\n        ],\n        \"semantic_type\": \"\",\n        \"description\": \"\"\n      }\n    }\n  ]\n}"
            }
          },
          "metadata": {},
          "execution_count": 69
        }
      ]
    },
    {
      "cell_type": "code",
      "source": [
        "X_train_encoded.info()"
      ],
      "metadata": {
        "colab": {
          "base_uri": "https://localhost:8080/"
        },
        "id": "HLB0nKdolQWH",
        "outputId": "01df2bdc-2310-429a-de14-4f05a804a95b"
      },
      "execution_count": 70,
      "outputs": [
        {
          "output_type": "stream",
          "name": "stdout",
          "text": [
            "<class 'pandas.core.frame.DataFrame'>\n",
            "DatetimeIndex: 78088 entries, 2012-01-03 to 2016-03-24\n",
            "Data columns (total 20 columns):\n",
            " #   Column                      Non-Null Count  Dtype \n",
            "---  ------                      --------------  ----- \n",
            " 0   Store Number                78088 non-null  int64 \n",
            " 1   Vendor Name                 78088 non-null  object\n",
            " 2   Sale (Dollars)              78088 non-null  object\n",
            " 3   BLENDED AND OTHER WHISKIES  78088 non-null  int64 \n",
            " 4   BOURBON                     78088 non-null  int64 \n",
            " 5   CANADIAN WHISKIES           78088 non-null  int64 \n",
            " 6   FRUIT SCHNAPPS              78088 non-null  int64 \n",
            " 7   GIN                         78088 non-null  int64 \n",
            " 8   GRAPE-BASED BRANDIES        78088 non-null  int64 \n",
            " 9   IRISH WHISKIES              78088 non-null  int64 \n",
            " 10  LIQUEUR                     78088 non-null  int64 \n",
            " 11  OTHER FRUIT BRANDIES        78088 non-null  int64 \n",
            " 12  PEPPERMINT SCHNAPPS         78088 non-null  int64 \n",
            " 13  RTD COCKTAILS               78088 non-null  int64 \n",
            " 14  RUM                         78088 non-null  int64 \n",
            " 15  SCOTCH WHISKIES             78088 non-null  int64 \n",
            " 16  TENNESSEE WHISKIES          78088 non-null  int64 \n",
            " 17  TEQUILA                     78088 non-null  int64 \n",
            " 18  VODKA                       78088 non-null  int64 \n",
            " 19  VODKA FLAVORED              78088 non-null  int64 \n",
            "dtypes: int64(18), object(2)\n",
            "memory usage: 12.5+ MB\n"
          ]
        }
      ]
    },
    {
      "cell_type": "code",
      "source": [
        "#Ran into problems with this:\n",
        "\n",
        "#X_train_categorical = X_train['Category Name'].values\n",
        "#ohe = OneHotEncoder()\n",
        "#X_train_categorical_ohe = ohe.fit_transform(X_train_categorical.reshape(-1,1))\n",
        "#X_train_categorical_ohe = pd.DataFrame(X_train_categorical_ohe,\n",
        "#                                       columns = ohe.get_feature_names_out(),\n",
        "#                                       index = X_train['Category Name'].index)\n",
        "#X_train_categorical_ohe.head()"
      ],
      "metadata": {
        "id": "KUvtV3sWdtkY"
      },
      "execution_count": 45,
      "outputs": []
    },
    {
      "cell_type": "markdown",
      "source": [
        "Let's check for trends in the time-series data via the Dickey-Fuller test:"
      ],
      "metadata": {
        "id": "OhMSnRoymVAv"
      }
    },
    {
      "cell_type": "code",
      "source": [
        "type(y_train)"
      ],
      "metadata": {
        "colab": {
          "base_uri": "https://localhost:8080/",
          "height": 203
        },
        "id": "OqxzVUFPkYpI",
        "outputId": "d66176c0-d18a-498d-8388-2c95fbfd7f32"
      },
      "execution_count": 85,
      "outputs": [
        {
          "output_type": "execute_result",
          "data": {
            "text/plain": [
              "pandas.core.series.Series"
            ],
            "text/html": [
              "<div style=\"max-width:800px; border: 1px solid var(--colab-border-color);\"><style>\n",
              "      pre.function-repr-contents {\n",
              "        overflow-x: auto;\n",
              "        padding: 8px 12px;\n",
              "        max-height: 500px;\n",
              "      }\n",
              "\n",
              "      pre.function-repr-contents.function-repr-contents-collapsed {\n",
              "        cursor: pointer;\n",
              "        max-height: 100px;\n",
              "      }\n",
              "    </style>\n",
              "    <pre style=\"white-space: initial; background:\n",
              "         var(--colab-secondary-surface-color); padding: 8px 12px;\n",
              "         border-bottom: 1px solid var(--colab-border-color);\"><b>pandas.core.series.Series</b><br/>def __init__(data=None, index=None, dtype: Dtype | None=None, name=None, copy: bool | None=None, fastpath: bool=False) -&gt; None</pre><pre class=\"function-repr-contents function-repr-contents-collapsed\" style=\"\"><a class=\"filepath\" style=\"display:none\" href=\"#\">/usr/local/lib/python3.10/dist-packages/pandas/core/series.py</a>One-dimensional ndarray with axis labels (including time series).\n",
              "\n",
              "Labels need not be unique but must be a hashable type. The object\n",
              "supports both integer- and label-based indexing and provides a host of\n",
              "methods for performing operations involving the index. Statistical\n",
              "methods from ndarray have been overridden to automatically exclude\n",
              "missing data (currently represented as NaN).\n",
              "\n",
              "Operations between Series (+, -, /, \\*, \\*\\*) align values based on their\n",
              "associated index values-- they need not be the same length. The result\n",
              "index will be the sorted union of the two indexes.\n",
              "\n",
              "Parameters\n",
              "----------\n",
              "data : array-like, Iterable, dict, or scalar value\n",
              "    Contains data stored in Series. If data is a dict, argument order is\n",
              "    maintained.\n",
              "index : array-like or Index (1d)\n",
              "    Values must be hashable and have the same length as `data`.\n",
              "    Non-unique index values are allowed. Will default to\n",
              "    RangeIndex (0, 1, 2, ..., n) if not provided. If data is dict-like\n",
              "    and index is None, then the keys in the data are used as the index. If the\n",
              "    index is not None, the resulting Series is reindexed with the index values.\n",
              "dtype : str, numpy.dtype, or ExtensionDtype, optional\n",
              "    Data type for the output Series. If not specified, this will be\n",
              "    inferred from `data`.\n",
              "    See the :ref:`user guide &lt;basics.dtypes&gt;` for more usages.\n",
              "name : Hashable, default None\n",
              "    The name to give to the Series.\n",
              "copy : bool, default False\n",
              "    Copy input data. Only affects Series or 1d ndarray input. See examples.\n",
              "\n",
              "Notes\n",
              "-----\n",
              "Please reference the :ref:`User Guide &lt;basics.series&gt;` for more information.\n",
              "\n",
              "Examples\n",
              "--------\n",
              "Constructing Series from a dictionary with an Index specified\n",
              "\n",
              "&gt;&gt;&gt; d = {&#x27;a&#x27;: 1, &#x27;b&#x27;: 2, &#x27;c&#x27;: 3}\n",
              "&gt;&gt;&gt; ser = pd.Series(data=d, index=[&#x27;a&#x27;, &#x27;b&#x27;, &#x27;c&#x27;])\n",
              "&gt;&gt;&gt; ser\n",
              "a   1\n",
              "b   2\n",
              "c   3\n",
              "dtype: int64\n",
              "\n",
              "The keys of the dictionary match with the Index values, hence the Index\n",
              "values have no effect.\n",
              "\n",
              "&gt;&gt;&gt; d = {&#x27;a&#x27;: 1, &#x27;b&#x27;: 2, &#x27;c&#x27;: 3}\n",
              "&gt;&gt;&gt; ser = pd.Series(data=d, index=[&#x27;x&#x27;, &#x27;y&#x27;, &#x27;z&#x27;])\n",
              "&gt;&gt;&gt; ser\n",
              "x   NaN\n",
              "y   NaN\n",
              "z   NaN\n",
              "dtype: float64\n",
              "\n",
              "Note that the Index is first build with the keys from the dictionary.\n",
              "After this the Series is reindexed with the given Index values, hence we\n",
              "get all NaN as a result.\n",
              "\n",
              "Constructing Series from a list with `copy=False`.\n",
              "\n",
              "&gt;&gt;&gt; r = [1, 2]\n",
              "&gt;&gt;&gt; ser = pd.Series(r, copy=False)\n",
              "&gt;&gt;&gt; ser.iloc[0] = 999\n",
              "&gt;&gt;&gt; r\n",
              "[1, 2]\n",
              "&gt;&gt;&gt; ser\n",
              "0    999\n",
              "1      2\n",
              "dtype: int64\n",
              "\n",
              "Due to input data type the Series has a `copy` of\n",
              "the original data even though `copy=False`, so\n",
              "the data is unchanged.\n",
              "\n",
              "Constructing Series from a 1d ndarray with `copy=False`.\n",
              "\n",
              "&gt;&gt;&gt; r = np.array([1, 2])\n",
              "&gt;&gt;&gt; ser = pd.Series(r, copy=False)\n",
              "&gt;&gt;&gt; ser.iloc[0] = 999\n",
              "&gt;&gt;&gt; r\n",
              "array([999,   2])\n",
              "&gt;&gt;&gt; ser\n",
              "0    999\n",
              "1      2\n",
              "dtype: int64\n",
              "\n",
              "Due to input data type the Series has a `view` on\n",
              "the original data, so\n",
              "the data is changed as well.</pre>\n",
              "      <script>\n",
              "      if (google.colab.kernel.accessAllowed && google.colab.files && google.colab.files.view) {\n",
              "        for (const element of document.querySelectorAll('.filepath')) {\n",
              "          element.style.display = 'block'\n",
              "          element.onclick = (event) => {\n",
              "            event.preventDefault();\n",
              "            event.stopPropagation();\n",
              "            google.colab.files.view(element.textContent, 244);\n",
              "          };\n",
              "        }\n",
              "      }\n",
              "      for (const element of document.querySelectorAll('.function-repr-contents')) {\n",
              "        element.onclick = (event) => {\n",
              "          event.preventDefault();\n",
              "          event.stopPropagation();\n",
              "          element.classList.toggle('function-repr-contents-collapsed');\n",
              "        };\n",
              "      }\n",
              "      </script>\n",
              "      </div>"
            ]
          },
          "metadata": {},
          "execution_count": 85
        }
      ]
    },
    {
      "cell_type": "code",
      "source": [
        "ts = hvdm_bottles_sold_by_date\n",
        "ts.index = pd.DatetimeIndex(ts.index, freq=ts.index.inferred_freq)\n",
        "d_f_test = adfuller(ts)\n",
        "d_f_test"
      ],
      "metadata": {
        "id": "SSN3XJVTfKS0",
        "colab": {
          "base_uri": "https://localhost:8080/"
        },
        "outputId": "d8fc78fa-d3aa-4557-b294-3a2b73e84fbd"
      },
      "execution_count": 87,
      "outputs": [
        {
          "output_type": "execute_result",
          "data": {
            "text/plain": [
              "(-6.32451285759856,\n",
              " 3.00928652861843e-08,\n",
              " 6,\n",
              " 703,\n",
              " {'1%': -3.4396861854831964,\n",
              "  '5%': -2.865660062273053,\n",
              "  '10%': -2.5689640195342456},\n",
              " 7593.758963534087)"
            ]
          },
          "metadata": {},
          "execution_count": 87
        }
      ]
    },
    {
      "cell_type": "markdown",
      "source": [
        "These results support the argument that we can reject the null hypotheses that our training data is not stationary in terms of trends, but it can't go so far as to dimiss concerns about **seasonality** without examining the data more on the monthly & weekly levels."
      ],
      "metadata": {
        "id": "vNZNFIl8-lwv"
      }
    },
    {
      "cell_type": "code",
      "source": [
        "ts_resampled_weekly = ts.resample('W').count()\n",
        "fig, ax = plt.subplots(figsize=(25, 8))\n",
        "ax.plot(ts_resampled_weekly.index, ts_resampled_weekly.values);"
      ],
      "metadata": {
        "colab": {
          "base_uri": "https://localhost:8080/",
          "height": 485
        },
        "id": "jdfxpbEGdJpO",
        "outputId": "37818e4d-7c0a-48fc-9d8b-c65e99518f23"
      },
      "execution_count": 88,
      "outputs": [
        {
          "output_type": "display_data",
          "data": {
            "text/plain": [
              "<Figure size 2500x800 with 1 Axes>"
            ],
            "image/png": "[encoded data removed]"
          },
          "metadata": {}
        }
      ]
    },
    {
      "cell_type": "code",
      "source": [
        "ts_resampled_month = ts.resample('M').count()\n",
        "#Dropping the last entry because it goes by month end and\n",
        "# the data stops on a January 3rd\n",
        "#ts_resampled_month.drop(ts_resampled_month.index[-1], inplace=True)\n",
        "fig, ax = plt.subplots(figsize=(25, 8))\n",
        "ax.plot(ts_resampled_month.index, ts_resampled_month.values);"
      ],
      "metadata": {
        "colab": {
          "base_uri": "https://localhost:8080/",
          "height": 486
        },
        "id": "0n-7zRKQYaKb",
        "outputId": "eba67521-e6db-4a72-a6f2-81996fbf35ce"
      },
      "execution_count": 89,
      "outputs": [
        {
          "output_type": "display_data",
          "data": {
            "text/plain": [
              "<Figure size 2500x800 with 1 Axes>"
            ],
            "image/png": "[encoded data removed]"
          },
          "metadata": {}
        }
      ]
    },
    {
      "cell_type": "markdown",
      "source": [
        "There doesn't appear to be any overtly obvious seasonality among the daily, weekly, or monthly time-series data. In the monthly data, we *might* be looking at peaks around the 4th of July, but these peaks' intensities vary. Ultimately, I don't think seasonality is a concern, which I was a little surprised to see.\n",
        "\n",
        "Nonetheless, there do appear to be [conflicting](https://pubmed.ncbi.nlm.nih.gov/8459709/#:~:text=Although%20the%20assessed%20seasonal%20effect,Sales%20figures%20fluctuate%20accordingly.) [accounts](https://www.uclahealth.org/news/article/alcohol-consumption-spikes-during-holiday-season#:~:text=Surveys%20into%20the%20question%20suggest,the%20rest%20of%20the%20year.) on when drinking spikes throughout the year, so this may simply not be a factor to consider for this particular dataset.\n",
        "\n",
        "To be sure, let's check the ACF & PACF to see if there are any lags in the data or if we can gain any insights into ARIMA hyperparameter-tuning."
      ],
      "metadata": {
        "id": "M9VzCIaKe_xh"
      }
    },
    {
      "cell_type": "code",
      "source": [
        "plot_acf(ts);"
      ],
      "metadata": {
        "id": "5yB47AS1brcj",
        "colab": {
          "base_uri": "https://localhost:8080/",
          "height": 452
        },
        "outputId": "ca9a3277-b4cc-46f6-f2ea-bda49b551a63"
      },
      "execution_count": 90,
      "outputs": [
        {
          "output_type": "display_data",
          "data": {
            "text/plain": [
              "<Figure size 640x480 with 1 Axes>"
            ],
            "image/png": "[encoded data removed]"
          },
          "metadata": {}
        }
      ]
    },
    {
      "cell_type": "code",
      "source": [
        "plot_pacf(ts);"
      ],
      "metadata": {
        "colab": {
          "base_uri": "https://localhost:8080/",
          "height": 452
        },
        "id": "QfZCXGwTrxdu",
        "outputId": "37d90707-cee0-46a3-81fa-54be4a714102"
      },
      "execution_count": 91,
      "outputs": [
        {
          "output_type": "display_data",
          "data": {
            "text/plain": [
              "<Figure size 640x480 with 1 Axes>"
            ],
            "image/png": "[encoded data removed]"
          },
          "metadata": {}
        }
      ]
    },
    {
      "cell_type": "markdown",
      "source": [
        "I really think these are saying the data is stationary, so let's just run a \"baseline\" ARIMA and see how it looks:"
      ],
      "metadata": {
        "id": "O9WFZjJ5htI4"
      }
    },
    {
      "cell_type": "code",
      "source": [
        "#X_train_arima = X_train_encoded.drop(['Store Number', 'Vendor Name', 'Sale (Dollars)'], axis=1)\n",
        "ar_white_noise_baseline = ARIMA(ts, order=(0,0,0)).fit()\n",
        "ar_white_noise_baseline.summary()"
      ],
      "metadata": {
        "colab": {
          "base_uri": "https://localhost:8080/",
          "height": 526
        },
        "id": "t4UzhtzPgDkG",
        "outputId": "d4fc959c-6365-4365-cfc0-6d9c5fe8b6f5"
      },
      "execution_count": 92,
      "outputs": [
        {
          "output_type": "stream",
          "name": "stderr",
          "text": [
            "/usr/local/lib/python3.10/dist-packages/statsmodels/tsa/base/tsa_model.py:473: ValueWarning: A date index has been provided, but it has no associated frequency information and so will be ignored when e.g. forecasting.\n",
            "  self._init_dates(dates, freq)\n",
            "/usr/local/lib/python3.10/dist-packages/statsmodels/tsa/base/tsa_model.py:473: ValueWarning: A date index has been provided, but it has no associated frequency information and so will be ignored when e.g. forecasting.\n",
            "  self._init_dates(dates, freq)\n",
            "/usr/local/lib/python3.10/dist-packages/statsmodels/tsa/base/tsa_model.py:473: ValueWarning: A date index has been provided, but it has no associated frequency information and so will be ignored when e.g. forecasting.\n",
            "  self._init_dates(dates, freq)\n"
          ]
        },
        {
          "output_type": "execute_result",
          "data": {
            "text/plain": [
              "<class 'statsmodels.iolib.summary.Summary'>\n",
              "\"\"\"\n",
              "                               SARIMAX Results                                \n",
              "==============================================================================\n",
              "Dep. Variable:           Bottles Sold   No. Observations:                  710\n",
              "Model:                          ARIMA   Log Likelihood               -3975.430\n",
              "Date:                Fri, 21 Jun 2024   AIC                           7954.860\n",
              "Time:                        02:54:08   BIC                           7963.991\n",
              "Sample:                             0   HQIC                          7958.388\n",
              "                                - 710                                         \n",
              "Covariance Type:                  opg                                         \n",
              "==============================================================================\n",
              "                 coef    std err          z      P>|z|      [0.025      0.975]\n",
              "------------------------------------------------------------------------------\n",
              "const        131.9789      2.917     45.252      0.000     126.263     137.695\n",
              "sigma2      4274.7888    344.661     12.403      0.000    3599.265    4950.312\n",
              "===================================================================================\n",
              "Ljung-Box (L1) (Q):                   4.54   Jarque-Bera (JB):                60.13\n",
              "Prob(Q):                              0.03   Prob(JB):                         0.00\n",
              "Heteroskedasticity (H):               1.26   Skew:                            -0.60\n",
              "Prob(H) (two-sided):                  0.07   Kurtosis:                         2.22\n",
              "===================================================================================\n",
              "\n",
              "Warnings:\n",
              "[1] Covariance matrix calculated using the outer product of gradients (complex-step).\n",
              "\"\"\""
            ],
            "text/html": [
              "<table class=\"simpletable\">\n",
              "<caption>SARIMAX Results</caption>\n",
              "<tr>\n",
              "  <th>Dep. Variable:</th>     <td>Bottles Sold</td>   <th>  No. Observations:  </th>    <td>710</td>   \n",
              "</tr>\n",
              "<tr>\n",
              "  <th>Model:</th>                 <td>ARIMA</td>      <th>  Log Likelihood     </th> <td>-3975.430</td>\n",
              "</tr>\n",
              "<tr>\n",
              "  <th>Date:</th>            <td>Fri, 21 Jun 2024</td> <th>  AIC                </th> <td>7954.860</td> \n",
              "</tr>\n",
              "<tr>\n",
              "  <th>Time:</th>                <td>02:54:08</td>     <th>  BIC                </th> <td>7963.991</td> \n",
              "</tr>\n",
              "<tr>\n",
              "  <th>Sample:</th>                  <td>0</td>        <th>  HQIC               </th> <td>7958.388</td> \n",
              "</tr>\n",
              "<tr>\n",
              "  <th></th>                      <td> - 710</td>      <th>                     </th>     <td> </td>    \n",
              "</tr>\n",
              "<tr>\n",
              "  <th>Covariance Type:</th>        <td>opg</td>       <th>                     </th>     <td> </td>    \n",
              "</tr>\n",
              "</table>\n",
              "<table class=\"simpletable\">\n",
              "<tr>\n",
              "     <td></td>       <th>coef</th>     <th>std err</th>      <th>z</th>      <th>P>|z|</th>  <th>[0.025</th>    <th>0.975]</th>  \n",
              "</tr>\n",
              "<tr>\n",
              "  <th>const</th>  <td>  131.9789</td> <td>    2.917</td> <td>   45.252</td> <td> 0.000</td> <td>  126.263</td> <td>  137.695</td>\n",
              "</tr>\n",
              "<tr>\n",
              "  <th>sigma2</th> <td> 4274.7888</td> <td>  344.661</td> <td>   12.403</td> <td> 0.000</td> <td> 3599.265</td> <td> 4950.312</td>\n",
              "</tr>\n",
              "</table>\n",
              "<table class=\"simpletable\">\n",
              "<tr>\n",
              "  <th>Ljung-Box (L1) (Q):</th>     <td>4.54</td> <th>  Jarque-Bera (JB):  </th> <td>60.13</td>\n",
              "</tr>\n",
              "<tr>\n",
              "  <th>Prob(Q):</th>                <td>0.03</td> <th>  Prob(JB):          </th> <td>0.00</td> \n",
              "</tr>\n",
              "<tr>\n",
              "  <th>Heteroskedasticity (H):</th> <td>1.26</td> <th>  Skew:              </th> <td>-0.60</td>\n",
              "</tr>\n",
              "<tr>\n",
              "  <th>Prob(H) (two-sided):</th>    <td>0.07</td> <th>  Kurtosis:          </th> <td>2.22</td> \n",
              "</tr>\n",
              "</table><br/><br/>Warnings:<br/>[1] Covariance matrix calculated using the outer product of gradients (complex-step)."
            ],
            "text/latex": "\\begin{center}\n\\begin{tabular}{lclc}\n\\toprule\n\\textbf{Dep. Variable:}          &   Bottles Sold   & \\textbf{  No. Observations:  } &    710      \\\\\n\\textbf{Model:}                  &      ARIMA       & \\textbf{  Log Likelihood     } & -3975.430   \\\\\n\\textbf{Date:}                   & Fri, 21 Jun 2024 & \\textbf{  AIC                } &  7954.860   \\\\\n\\textbf{Time:}                   &     02:54:08     & \\textbf{  BIC                } &  7963.991   \\\\\n\\textbf{Sample:}                 &        0         & \\textbf{  HQIC               } &  7958.388   \\\\\n\\textbf{}                        &       - 710      & \\textbf{                     } &             \\\\\n\\textbf{Covariance Type:}        &       opg        & \\textbf{                     } &             \\\\\n\\bottomrule\n\\end{tabular}\n\\begin{tabular}{lcccccc}\n                & \\textbf{coef} & \\textbf{std err} & \\textbf{z} & \\textbf{P$> |$z$|$} & \\textbf{[0.025} & \\textbf{0.975]}  \\\\\n\\midrule\n\\textbf{const}  &     131.9789  &        2.917     &    45.252  &         0.000        &      126.263    &      137.695     \\\\\n\\textbf{sigma2} &    4274.7888  &      344.661     &    12.403  &         0.000        &     3599.265    &     4950.312     \\\\\n\\bottomrule\n\\end{tabular}\n\\begin{tabular}{lclc}\n\\textbf{Ljung-Box (L1) (Q):}     & 4.54 & \\textbf{  Jarque-Bera (JB):  } & 60.13  \\\\\n\\textbf{Prob(Q):}                & 0.03 & \\textbf{  Prob(JB):          } &  0.00  \\\\\n\\textbf{Heteroskedasticity (H):} & 1.26 & \\textbf{  Skew:              } & -0.60  \\\\\n\\textbf{Prob(H) (two-sided):}    & 0.07 & \\textbf{  Kurtosis:          } &  2.22  \\\\\n\\bottomrule\n\\end{tabular}\n%\\caption{SARIMAX Results}\n\\end{center}\n\nWarnings: \\newline\n [1] Covariance matrix calculated using the outer product of gradients (complex-step)."
          },
          "metadata": {},
          "execution_count": 92
        }
      ]
    },
    {
      "cell_type": "markdown",
      "source": [
        "Before we try and optimize this model, it looks like we're getting a problematic error about the model's ability to forecast based on the time-series index.\n",
        "\n",
        "Let's take a closer look at that index by examining the first few entries:"
      ],
      "metadata": {
        "id": "TyL4TiP_olo3"
      }
    },
    {
      "cell_type": "code",
      "source": [
        "ts[0:30]"
      ],
      "metadata": {
        "colab": {
          "base_uri": "https://localhost:8080/"
        },
        "id": "cf_ipgkOiKd1",
        "outputId": "7f8e40ee-78b1-4183-e446-2eb62d3f8b8d"
      },
      "execution_count": 93,
      "outputs": [
        {
          "output_type": "execute_result",
          "data": {
            "text/plain": [
              "Date\n",
              "2012-01-03     14\n",
              "2012-01-04     30\n",
              "2012-01-05    184\n",
              "2012-01-09    141\n",
              "2012-01-10      1\n",
              "2012-01-12    142\n",
              "2012-01-16    136\n",
              "2012-01-19    155\n",
              "2012-01-23    164\n",
              "2012-01-24      6\n",
              "2012-01-26    176\n",
              "2012-01-30    161\n",
              "2012-02-02    199\n",
              "2012-02-06    151\n",
              "2012-02-07     13\n",
              "2012-02-09    166\n",
              "2012-02-13    175\n",
              "2012-02-15     23\n",
              "2012-02-16    170\n",
              "2012-02-20    172\n",
              "2012-02-22     35\n",
              "2012-02-23    165\n",
              "2012-02-27    157\n",
              "2012-03-01    182\n",
              "2012-03-05    171\n",
              "2012-03-06      1\n",
              "2012-03-08    170\n",
              "2012-03-12    169\n",
              "2012-03-13     11\n",
              "2012-03-14     35\n",
              "Name: Bottles Sold, dtype: int64"
            ]
          },
          "metadata": {},
          "execution_count": 93
        }
      ]
    },
    {
      "cell_type": "markdown",
      "source": [
        "I think irregularities in the dates in the form of gaps between days means the *frequency* of days isn't consistent, so it won't be able to forecast consistently.\n",
        "\n",
        "This is a little annoying because I wanted to keep the time-series data on a daily scale since major grocers restock daily, but it looks like we'll have to resample to at least the weekly basis in order for ARIMA to be able to forecast."
      ],
      "metadata": {
        "id": "hqXPfY0do_Le"
      }
    },
    {
      "cell_type": "code",
      "source": [
        "#replace our 'ts' variable with the preexisting weekly one\n",
        "ts = ts_resampled_weekly\n",
        "#retry ARIMA\n",
        "ar_white_noise_baseline = ARIMA(ts, order=(0,0,0)).fit()\n",
        "ar_white_noise_baseline.summary()"
      ],
      "metadata": {
        "colab": {
          "base_uri": "https://localhost:8080/",
          "height": 402
        },
        "id": "CbJtFWBxpBBG",
        "outputId": "e825b414-ebc1-43c1-e8f9-9192098bb77b"
      },
      "execution_count": 94,
      "outputs": [
        {
          "output_type": "execute_result",
          "data": {
            "text/plain": [
              "<class 'statsmodels.iolib.summary.Summary'>\n",
              "\"\"\"\n",
              "                               SARIMAX Results                                \n",
              "==============================================================================\n",
              "Dep. Variable:           Bottles Sold   No. Observations:                  262\n",
              "Model:                          ARIMA   Log Likelihood                -302.111\n",
              "Date:                Fri, 21 Jun 2024   AIC                            608.221\n",
              "Time:                        02:54:08   BIC                            615.358\n",
              "Sample:                    01-08-2012   HQIC                           611.090\n",
              "                         - 01-08-2017                                         \n",
              "Covariance Type:                  opg                                         \n",
              "==============================================================================\n",
              "                 coef    std err          z      P>|z|      [0.025      0.975]\n",
              "------------------------------------------------------------------------------\n",
              "const          2.7099      0.047     57.203      0.000       2.617       2.803\n",
              "sigma2         0.5876      0.052     11.381      0.000       0.486       0.689\n",
              "===================================================================================\n",
              "Ljung-Box (L1) (Q):                   2.02   Jarque-Bera (JB):                 0.06\n",
              "Prob(Q):                              0.15   Prob(JB):                         0.97\n",
              "Heteroskedasticity (H):               1.27   Skew:                             0.04\n",
              "Prob(H) (two-sided):                  0.27   Kurtosis:                         2.98\n",
              "===================================================================================\n",
              "\n",
              "Warnings:\n",
              "[1] Covariance matrix calculated using the outer product of gradients (complex-step).\n",
              "\"\"\""
            ],
            "text/html": [
              "<table class=\"simpletable\">\n",
              "<caption>SARIMAX Results</caption>\n",
              "<tr>\n",
              "  <th>Dep. Variable:</th>     <td>Bottles Sold</td>   <th>  No. Observations:  </th>    <td>262</td>  \n",
              "</tr>\n",
              "<tr>\n",
              "  <th>Model:</th>                 <td>ARIMA</td>      <th>  Log Likelihood     </th> <td>-302.111</td>\n",
              "</tr>\n",
              "<tr>\n",
              "  <th>Date:</th>            <td>Fri, 21 Jun 2024</td> <th>  AIC                </th>  <td>608.221</td>\n",
              "</tr>\n",
              "<tr>\n",
              "  <th>Time:</th>                <td>02:54:08</td>     <th>  BIC                </th>  <td>615.358</td>\n",
              "</tr>\n",
              "<tr>\n",
              "  <th>Sample:</th>             <td>01-08-2012</td>    <th>  HQIC               </th>  <td>611.090</td>\n",
              "</tr>\n",
              "<tr>\n",
              "  <th></th>                   <td>- 01-08-2017</td>   <th>                     </th>     <td> </td>   \n",
              "</tr>\n",
              "<tr>\n",
              "  <th>Covariance Type:</th>        <td>opg</td>       <th>                     </th>     <td> </td>   \n",
              "</tr>\n",
              "</table>\n",
              "<table class=\"simpletable\">\n",
              "<tr>\n",
              "     <td></td>       <th>coef</th>     <th>std err</th>      <th>z</th>      <th>P>|z|</th>  <th>[0.025</th>    <th>0.975]</th>  \n",
              "</tr>\n",
              "<tr>\n",
              "  <th>const</th>  <td>    2.7099</td> <td>    0.047</td> <td>   57.203</td> <td> 0.000</td> <td>    2.617</td> <td>    2.803</td>\n",
              "</tr>\n",
              "<tr>\n",
              "  <th>sigma2</th> <td>    0.5876</td> <td>    0.052</td> <td>   11.381</td> <td> 0.000</td> <td>    0.486</td> <td>    0.689</td>\n",
              "</tr>\n",
              "</table>\n",
              "<table class=\"simpletable\">\n",
              "<tr>\n",
              "  <th>Ljung-Box (L1) (Q):</th>     <td>2.02</td> <th>  Jarque-Bera (JB):  </th> <td>0.06</td>\n",
              "</tr>\n",
              "<tr>\n",
              "  <th>Prob(Q):</th>                <td>0.15</td> <th>  Prob(JB):          </th> <td>0.97</td>\n",
              "</tr>\n",
              "<tr>\n",
              "  <th>Heteroskedasticity (H):</th> <td>1.27</td> <th>  Skew:              </th> <td>0.04</td>\n",
              "</tr>\n",
              "<tr>\n",
              "  <th>Prob(H) (two-sided):</th>    <td>0.27</td> <th>  Kurtosis:          </th> <td>2.98</td>\n",
              "</tr>\n",
              "</table><br/><br/>Warnings:<br/>[1] Covariance matrix calculated using the outer product of gradients (complex-step)."
            ],
            "text/latex": "\\begin{center}\n\\begin{tabular}{lclc}\n\\toprule\n\\textbf{Dep. Variable:}          &   Bottles Sold   & \\textbf{  No. Observations:  } &    262      \\\\\n\\textbf{Model:}                  &      ARIMA       & \\textbf{  Log Likelihood     } &  -302.111   \\\\\n\\textbf{Date:}                   & Fri, 21 Jun 2024 & \\textbf{  AIC                } &  608.221    \\\\\n\\textbf{Time:}                   &     02:54:08     & \\textbf{  BIC                } &  615.358    \\\\\n\\textbf{Sample:}                 &    01-08-2012    & \\textbf{  HQIC               } &  611.090    \\\\\n\\textbf{}                        &   - 01-08-2017   & \\textbf{                     } &             \\\\\n\\textbf{Covariance Type:}        &       opg        & \\textbf{                     } &             \\\\\n\\bottomrule\n\\end{tabular}\n\\begin{tabular}{lcccccc}\n                & \\textbf{coef} & \\textbf{std err} & \\textbf{z} & \\textbf{P$> |$z$|$} & \\textbf{[0.025} & \\textbf{0.975]}  \\\\\n\\midrule\n\\textbf{const}  &       2.7099  &        0.047     &    57.203  &         0.000        &        2.617    &        2.803     \\\\\n\\textbf{sigma2} &       0.5876  &        0.052     &    11.381  &         0.000        &        0.486    &        0.689     \\\\\n\\bottomrule\n\\end{tabular}\n\\begin{tabular}{lclc}\n\\textbf{Ljung-Box (L1) (Q):}     & 2.02 & \\textbf{  Jarque-Bera (JB):  } & 0.06  \\\\\n\\textbf{Prob(Q):}                & 0.15 & \\textbf{  Prob(JB):          } & 0.97  \\\\\n\\textbf{Heteroskedasticity (H):} & 1.27 & \\textbf{  Skew:              } & 0.04  \\\\\n\\textbf{Prob(H) (two-sided):}    & 0.27 & \\textbf{  Kurtosis:          } & 2.98  \\\\\n\\bottomrule\n\\end{tabular}\n%\\caption{SARIMAX Results}\n\\end{center}\n\nWarnings: \\newline\n [1] Covariance matrix calculated using the outer product of gradients (complex-step)."
          },
          "metadata": {},
          "execution_count": 94
        }
      ]
    },
    {
      "cell_type": "markdown",
      "source": [
        "Looks like that solved the problem and we'll be able to forecast once we're finished optimizing the model.\n",
        "\n",
        "Looking ahead, we have an AIC score of 608 with this white noise baseline model. Let's also see how it looks with a random walk baseline:"
      ],
      "metadata": {
        "id": "0Rt2NjywqRtE"
      }
    },
    {
      "cell_type": "code",
      "source": [
        "ar_random_walk_baseline = ARIMA(ts, order=(0,1,0)).fit()\n",
        "ar_random_walk_baseline.aic"
      ],
      "metadata": {
        "colab": {
          "base_uri": "https://localhost:8080/"
        },
        "id": "R-VSPZRpiVU1",
        "outputId": "b762e6ad-5ee3-41fb-a62e-1110e810d772"
      },
      "execution_count": 95,
      "outputs": [
        {
          "output_type": "execute_result",
          "data": {
            "text/plain": [
              "759.155198695023"
            ]
          },
          "metadata": {},
          "execution_count": 95
        }
      ]
    },
    {
      "cell_type": "markdown",
      "source": [
        "Even though the ACF/PACF plots don't suggest adding any AR or MA hyperparameter changes, it wouldn't hurt to try. Below, I try them manually and while this isn't very pythonic, it does help point out some limitations I'll set on future param_grids when optimizing other store models. Specifically, setting the MA param any higher than 1 returns a 'non-invertible parameters' error."
      ],
      "metadata": {
        "id": "hq4GZDiZuteI"
      }
    },
    {
      "cell_type": "code",
      "source": [
        "ar_110 = ARIMA(ts, order=(1,1,0)).fit()\n",
        "ar_110.aic"
      ],
      "metadata": {
        "colab": {
          "base_uri": "https://localhost:8080/"
        },
        "id": "Y_KvepQVio0Z",
        "outputId": "395ca7d0-c61a-4c64-de78-4521f6e6e3d0"
      },
      "execution_count": 96,
      "outputs": [
        {
          "output_type": "execute_result",
          "data": {
            "text/plain": [
              "666.6064219375315"
            ]
          },
          "metadata": {},
          "execution_count": 96
        }
      ]
    },
    {
      "cell_type": "code",
      "source": [
        "ar_011 = ARIMA(ts, order=(0,1,1)).fit()\n",
        "ar_011.aic"
      ],
      "metadata": {
        "colab": {
          "base_uri": "https://localhost:8080/"
        },
        "id": "5SpXuI4RjMB2",
        "outputId": "effda289-b0b0-4db4-a787-2aa7b38212a9"
      },
      "execution_count": 97,
      "outputs": [
        {
          "output_type": "execute_result",
          "data": {
            "text/plain": [
              "584.7210135904083"
            ]
          },
          "metadata": {},
          "execution_count": 97
        }
      ]
    },
    {
      "cell_type": "code",
      "source": [
        "ar_111 = ARIMA(ts, order=(1,1,1)).fit()\n",
        "ar_111.aic"
      ],
      "metadata": {
        "colab": {
          "base_uri": "https://localhost:8080/"
        },
        "id": "AfRtTthojjCQ",
        "outputId": "f4cbbbe7-0649-4bc6-9883-b7fce493adf6"
      },
      "execution_count": 98,
      "outputs": [
        {
          "output_type": "execute_result",
          "data": {
            "text/plain": [
              "584.7293962307601"
            ]
          },
          "metadata": {},
          "execution_count": 98
        }
      ]
    },
    {
      "cell_type": "code",
      "source": [
        "ar_121 = ARIMA(ts, order=(1,2,1)).fit()\n",
        "ar_121.aic"
      ],
      "metadata": {
        "colab": {
          "base_uri": "https://localhost:8080/"
        },
        "id": "KZz3cJCcjo26",
        "outputId": "6c30f518-4849-4c30-cca4-30a91a6c1b06"
      },
      "execution_count": 99,
      "outputs": [
        {
          "output_type": "execute_result",
          "data": {
            "text/plain": [
              "673.505667960457"
            ]
          },
          "metadata": {},
          "execution_count": 99
        }
      ]
    },
    {
      "cell_type": "code",
      "source": [
        "ar_122 = ARIMA(ts, order=(1,2,2)).fit()\n",
        "ar_122.aic"
      ],
      "metadata": {
        "colab": {
          "base_uri": "https://localhost:8080/"
        },
        "id": "sIij5BrKjw5K",
        "outputId": "45e259de-4b67-42ab-ce75-84a4f2229349"
      },
      "execution_count": 100,
      "outputs": [
        {
          "output_type": "stream",
          "name": "stderr",
          "text": [
            "/usr/local/lib/python3.10/dist-packages/statsmodels/tsa/statespace/sarimax.py:978: UserWarning: Non-invertible starting MA parameters found. Using zeros as starting parameters.\n",
            "  warn('Non-invertible starting MA parameters found.'\n"
          ]
        },
        {
          "output_type": "execute_result",
          "data": {
            "text/plain": [
              "595.4912956733011"
            ]
          },
          "metadata": {},
          "execution_count": 100
        }
      ]
    },
    {
      "cell_type": "code",
      "source": [
        "ar_222 = ARIMA(ts, order=(2,2,2)).fit()\n",
        "ar_222.aic"
      ],
      "metadata": {
        "colab": {
          "base_uri": "https://localhost:8080/"
        },
        "id": "9nJZebZEj51k",
        "outputId": "a5b6362a-76e7-4df3-d301-25ea3637664d"
      },
      "execution_count": 101,
      "outputs": [
        {
          "output_type": "stream",
          "name": "stderr",
          "text": [
            "/usr/local/lib/python3.10/dist-packages/statsmodels/tsa/statespace/sarimax.py:978: UserWarning: Non-invertible starting MA parameters found. Using zeros as starting parameters.\n",
            "  warn('Non-invertible starting MA parameters found.'\n",
            "/usr/local/lib/python3.10/dist-packages/statsmodels/base/model.py:607: ConvergenceWarning: Maximum Likelihood optimization failed to converge. Check mle_retvals\n",
            "  warnings.warn(\"Maximum Likelihood optimization failed to \"\n"
          ]
        },
        {
          "output_type": "execute_result",
          "data": {
            "text/plain": [
              "597.4656404034821"
            ]
          },
          "metadata": {},
          "execution_count": 101
        }
      ]
    },
    {
      "cell_type": "code",
      "source": [
        "ar_221 = ARIMA(ts, order=(2,2,1)).fit()\n",
        "ar_221.aic"
      ],
      "metadata": {
        "colab": {
          "base_uri": "https://localhost:8080/"
        },
        "id": "MUHFDG6wkGMt",
        "outputId": "06835c2b-3d61-4da0-e8bb-28e597130ad8"
      },
      "execution_count": 102,
      "outputs": [
        {
          "output_type": "execute_result",
          "data": {
            "text/plain": [
              "645.4602688747418"
            ]
          },
          "metadata": {},
          "execution_count": 102
        }
      ]
    },
    {
      "cell_type": "markdown",
      "source": [
        "Interestingly enough, even though the ACF plot above doesn't really suggest an MA parameter is needed, once we set it to 1 (as opposed to 0), the AIC score drops to its lowest among these models.\n",
        "\n",
        "However helpful the AIC metric is, let's also run a cross-validated RMSE to evaluate these different ARIMA setting."
      ],
      "metadata": {
        "id": "9BVPS3LUrBoJ"
      }
    },
    {
      "cell_type": "code",
      "source": [
        "# TimeSeriesSplit\n",
        "split = TimeSeriesSplit()\n",
        "\n",
        "for train_ind, val_ind in split.split(train):\n",
        "    print(f'Train index: {train_ind}')\n",
        "    print(f'Test  index: {val_ind}')"
      ],
      "metadata": {
        "colab": {
          "base_uri": "https://localhost:8080/",
          "height": 211
        },
        "id": "5a_TFBoswvOl",
        "outputId": "cbec7e5d-d1ec-4f88-e5f4-f54c51232e5b"
      },
      "execution_count": 103,
      "outputs": [
        {
          "output_type": "error",
          "ename": "NameError",
          "evalue": "name 'train' is not defined",
          "traceback": [
            "\u001b[0;31m---------------------------------------------------------------------------\u001b[0m",
            "\u001b[0;31mNameError\u001b[0m                                 Traceback (most recent call last)",
            "\u001b[0;32m<ipython-input-103-028c33f9aa27>\u001b[0m in \u001b[0;36m<cell line: 4>\u001b[0;34m()\u001b[0m\n\u001b[1;32m      2\u001b[0m \u001b[0msplit\u001b[0m \u001b[0;34m=\u001b[0m \u001b[0mTimeSeriesSplit\u001b[0m\u001b[0;34m(\u001b[0m\u001b[0;34m)\u001b[0m\u001b[0;34m\u001b[0m\u001b[0;34m\u001b[0m\u001b[0m\n\u001b[1;32m      3\u001b[0m \u001b[0;34m\u001b[0m\u001b[0m\n\u001b[0;32m----> 4\u001b[0;31m \u001b[0;32mfor\u001b[0m \u001b[0mtrain_ind\u001b[0m\u001b[0;34m,\u001b[0m \u001b[0mval_ind\u001b[0m \u001b[0;32min\u001b[0m \u001b[0msplit\u001b[0m\u001b[0;34m.\u001b[0m\u001b[0msplit\u001b[0m\u001b[0;34m(\u001b[0m\u001b[0mtrain\u001b[0m\u001b[0;34m)\u001b[0m\u001b[0;34m:\u001b[0m\u001b[0;34m\u001b[0m\u001b[0;34m\u001b[0m\u001b[0m\n\u001b[0m\u001b[1;32m      5\u001b[0m     \u001b[0mprint\u001b[0m\u001b[0;34m(\u001b[0m\u001b[0;34mf'Train index: {train_ind}'\u001b[0m\u001b[0;34m)\u001b[0m\u001b[0;34m\u001b[0m\u001b[0;34m\u001b[0m\u001b[0m\n\u001b[1;32m      6\u001b[0m     \u001b[0mprint\u001b[0m\u001b[0;34m(\u001b[0m\u001b[0;34mf'Test  index: {val_ind}'\u001b[0m\u001b[0;34m)\u001b[0m\u001b[0;34m\u001b[0m\u001b[0;34m\u001b[0m\u001b[0m\n",
            "\u001b[0;31mNameError\u001b[0m: name 'train' is not defined"
          ]
        }
      ]
    },
    {
      "cell_type": "code",
      "source": [],
      "metadata": {
        "id": "nQwLdC8jwvov"
      },
      "execution_count": null,
      "outputs": []
    },
    {
      "cell_type": "code",
      "source": [
        "ccldm_bottles_sold_by_date = ccl_des_moines.groupby('Date').count()['Bottles Sold']\n",
        "fig, ax = plt.subplots(figsize=(25, 8))\n",
        "ax.plot(ccldm_bottles_sold_by_date.index, ccldm_bottles_sold_by_date.values);"
      ],
      "metadata": {
        "id": "rSY450KcoGl0"
      },
      "execution_count": null,
      "outputs": []
    },
    {
      "cell_type": "code",
      "source": [
        "ccldm_bottles_sold_by_date"
      ],
      "metadata": {
        "id": "5FB1n3bEvU9p"
      },
      "execution_count": null,
      "outputs": []
    },
    {
      "cell_type": "code",
      "source": [
        "ccldm_bottles_sold_by_date_resampled_weekly = ccldm_bottles_sold_by_date.resample('W').count()\n",
        "fig, ax = plt.subplots(figsize=(25, 8))\n",
        "ax.plot(ccldm_bottles_sold_by_date_resampled_weekly.index, ccldm_bottles_sold_by_date_resampled_weekly.values);"
      ],
      "metadata": {
        "id": "2coD2tdRvIp-"
      },
      "execution_count": null,
      "outputs": []
    },
    {
      "cell_type": "code",
      "source": [
        "ccldm_bottles_sold_by_date_resampled_monthly = ccldm_bottles_sold_by_date.resample('M').count()\n",
        "fig, ax = plt.subplots(figsize=(25, 8))\n",
        "ax.plot(ccldm_bottles_sold_by_date_resampled_monthly.index, ccldm_bottles_sold_by_date_resampled_monthly.values);"
      ],
      "metadata": {
        "id": "2Gs4Y1Kxvnn8"
      },
      "execution_count": null,
      "outputs": []
    },
    {
      "cell_type": "code",
      "source": [],
      "metadata": {
        "id": "FXxQ9oolvyGA"
      },
      "execution_count": null,
      "outputs": []
    }
  ],
  "metadata": {
    "colab": {
      "provenance": [],
      "authorship_tag": "ABX9TyPsNuoxLa8GCxHl5t4A41dm",
      "include_colab_link": true
    },
    "kernelspec": {
      "display_name": "Python 3",
      "name": "python3"
    },
    "language_info": {
      "name": "python"
    }
  },
  "nbformat": 4,
  "nbformat_minor": 0
}